{
 "cells": [
  {
   "cell_type": "code",
   "execution_count": 1,
   "metadata": {
    "collapsed": true
   },
   "outputs": [],
   "source": [
    "import qpms\n",
    "import numpy as np\n",
    "from numpy import newaxis as nx\n",
    "import math\n",
    "import cmath\n",
    "from scipy.constants import c, e as eV, hbar\n",
    "s2 = math.sqrt(2)\n",
    "J_scat = 3"
   ]
  },
  {
   "cell_type": "code",
   "execution_count": 2,
   "metadata": {
    "collapsed": false
   },
   "outputs": [],
   "source": [
    "epsilon_b = 2.3104\n",
    "x_period = 560e-9\n",
    "y_period = 560e-9\n",
    "cdn = c/ math.sqrt(epsilon_b)\n",
    "maxlayer=4\n",
    "\n",
    "omegalist=np.linspace(0,5e15,200)\n",
    "#omegalist=np.linspace(0,3,3.2)*eV/hbar\n",
    "#omegalist = np.array([1.5,])*eV/hbar\n",
    "\n",
    "# reciprocal lattice basis\n",
    "B1 = np.array((2*np.pi/x_period,0))\n",
    "B2 = np.array((0,2*np.pi/y_period))\n",
    "\n",
    "bz_0 = np.array((0,0,))\n",
    "bz_X1 = B1/2\n",
    "bz_X2 = B2/2\n",
    "bz_M = (B1+B2)/2"
   ]
  },
  {
   "cell_type": "code",
   "execution_count": 3,
   "metadata": {
    "collapsed": false
   },
   "outputs": [],
   "source": [
    "kdensity = 100\n",
    "k0Mlist = bz_0 + (bz_M-bz_0) * np.linspace(0,1,kdensity)[:,nx]\n",
    "kMX1list = bz_M + (bz_X1-bz_M) * np.linspace(0,1,kdensity)[:,nx]\n",
    "kX10list = bz_X1 + (bz_0-bz_X1) * np.linspace(0,1,kdensity)[:,nx]\n",
    "k0X2list = bz_0 + (bz_X2-bz_0) * np.linspace(0,1,kdensity)[:,nx]\n",
    "kX2Mlist = bz_X2 + (bz_M-bz_X2) * np.linspace(0,1,kdensity)[:,nx]\n",
    "klist = np.concatenate((k0Mlist,kMX1list,kX10list,k0X2list,kX2Mlist), axis=0)\n",
    "kxmaplist = np.concatenate((np.array([0]),np.cumsum(np.linalg.norm(np.diff(klist, axis=0), axis=-1))))"
   ]
  },
  {
   "cell_type": "code",
   "execution_count": 4,
   "metadata": {
    "collapsed": false
   },
   "outputs": [],
   "source": [
    "#centers=np.array([bz_0,B1,B2,-B1,-B2,B2-B1,-B2+B1,-B2-B1,B2+B1,-2*B1,-2*B2,-2*B2-B1,-2*B1-B2,-2*B1-2*B2])\n",
    "#centers2=qpms.generate_trianglepoints(maxlayer, v3d = False, include_origin= True)*4*np.pi/3/hexside\n",
    "#rot90 = np.array([[0,-1],[1,0]])\n",
    "#centers2=np.dot(centers2,rot90)\n",
    "centers2 = qpms.generateLattice(B1,B2, maxlayer=maxlayer, include_origin=True)\n",
    "corners = qpms.cellCornersWS(B1,B2)"
   ]
  },
  {
   "cell_type": "code",
   "execution_count": null,
   "metadata": {
    "collapsed": false
   },
   "outputs": [
    {
     "name": "stdout",
     "output_type": "stream",
     "text": [
      "[[ 5609986.88141034  5609986.88141034]\n",
      " [-5609986.88141034  5609986.88141034]\n",
      " [-5609986.88141034 -5609986.88141034]\n",
      " [ 5609986.88141034 -5609986.88141034]]\n",
      "[[        0.                 0.        ]\n",
      " [ 11219973.76282069         0.        ]\n",
      " [ 11219973.76282069  11219973.76282069]\n",
      " [ 22439947.52564138         0.        ]\n",
      " [ 11219973.76282069  22439947.52564138]\n",
      " [ 22439947.52564138  11219973.76282069]\n",
      " [ 33659921.28846207         0.        ]\n",
      " [ 11219973.76282069  33659921.28846207]\n",
      " [ 22439947.52564138  22439947.52564138]\n",
      " [ 33659921.28846207  11219973.76282069]\n",
      " [ 44879895.05128276         0.        ]\n",
      " [        0.          11219973.76282069]\n",
      " [-11219973.76282069  11219973.76282069]\n",
      " [        0.          22439947.52564138]\n",
      " [-22439947.52564138  11219973.76282069]\n",
      " [-11219973.76282069  22439947.52564138]\n",
      " [        0.          33659921.28846207]\n",
      " [-33659921.28846207  11219973.76282069]\n",
      " [-22439947.52564138  22439947.52564138]\n",
      " [-11219973.76282069  33659921.28846207]\n",
      " [        0.          44879895.05128276]\n",
      " [-11219973.76282069        -0.        ]\n",
      " [-11219973.76282069 -11219973.76282069]\n",
      " [-22439947.52564138        -0.        ]\n",
      " [-11219973.76282069 -22439947.52564138]\n",
      " [-22439947.52564138 -11219973.76282069]\n",
      " [-33659921.28846207        -0.        ]\n",
      " [-11219973.76282069 -33659921.28846207]\n",
      " [-22439947.52564138 -22439947.52564138]\n",
      " [-33659921.28846207 -11219973.76282069]\n",
      " [-44879895.05128276        -0.        ]\n",
      " [        0.         -11219973.76282069]\n",
      " [ 11219973.76282069 -11219973.76282069]\n",
      " [        0.         -22439947.52564138]\n",
      " [ 22439947.52564138 -11219973.76282069]\n",
      " [ 11219973.76282069 -22439947.52564138]\n",
      " [        0.         -33659921.28846207]\n",
      " [ 33659921.28846207 -11219973.76282069]\n",
      " [ 22439947.52564138 -22439947.52564138]\n",
      " [ 11219973.76282069 -33659921.28846207]\n",
      " [        0.         -44879895.05128276]]\n"
     ]
    }
   ],
   "source": [
    "print(corners)\n",
    "print(centers2)"
   ]
  },
  {
   "cell_type": "code",
   "execution_count": null,
   "metadata": {
    "collapsed": false
   },
   "outputs": [
    {
     "name": "stdout",
     "output_type": "stream",
     "text": [
      "0.0\n",
      "127391.31273899274\n",
      "254782.62547798548\n",
      "382173.9382169783\n",
      "509565.25095597096\n",
      "636956.5636949637\n",
      "764347.8764339566\n",
      "891739.1891729492\n",
      "1019130.5019119419\n",
      "1146521.814650935\n",
      "1273913.1273899274\n"
     ]
    }
   ],
   "source": [
    "#%matplotlib inline\n",
    "import matplotlib.pyplot as plt\n",
    "import matplotlib\n",
    "from matplotlib.path import Path\n",
    "import matplotlib.patches as patches\n",
    "cmap = matplotlib.cm.prism\n",
    "colormax = np.amax(np.linalg.norm(centers2,axis=0))\n",
    "for oi in range(omegalist.shape[0]):\n",
    "    omega = omegalist[oi]\n",
    "    f, axes = plt.subplots(1,2, figsize=(10,4.52))\n",
    "    ax = axes[0]\n",
    "    #sc = ax.scatter(k2list[:,0], k2list[:,1], c = np.clip(np.abs(minsvTElistarr[oi,...,minN]),0,1), lw=0)\n",
    "    for center in centers2:\n",
    "        circle=plt.Circle((center[0],center[1]),omega/cdn, facecolor='none', edgecolor=cmap(np.linalg.norm(center)/colormax),lw=1)\n",
    "        ax.add_artist(circle)\n",
    "    verts = [corners[i % len(corners)]  for i in range(len(corners) +1)]\n",
    "    codes = [Path.MOVETO] + [Path.LINETO]*(len(corners)-1) + [Path.CLOSEPOLY]\n",
    "    path = Path(verts, codes)\n",
    "    patch = patches.PathPatch(path, facecolor='none', edgecolor='black',  lw=1)\n",
    "    ax.add_patch(patch)\n",
    "    ax.set_xlim([-10e6,10e6])\n",
    "    ax.set_ylim([-10e6,10e6])\n",
    "    ax.set_xticks([]) \n",
    "    ax.set_yticks([]) \n",
    "    #ax.scatter(centers2[:,0], centers2[:,1])\n",
    "    print(omega/cdn)\n",
    "    #f.colorbar(sc,ax=ax)\n",
    "    \n",
    "    ax = axes[1]\n",
    "    for center in centers2:\n",
    "        ax.plot(kxmaplist, np.linalg.norm(klist-center,axis=-1)*cdn, '-', color=cmap(np.linalg.norm(center)/colormax))\n",
    "\n",
    "    #ax.set_xlim([np.min(kxmlarr),np.max(kxmlarr)])\n",
    "    #ax.set_ylim([np.min(omegalist),np.max(omegalist)])\n",
    "    xticklist = [0, kxmaplist[len(k0Mlist)-1], kxmaplist[len(k0Mlist)+len(kMX1list)-1], kxmaplist[len(k0Mlist)+len(kMX1list)+len(kX10list)-1], kxmaplist[len(k0Mlist)+len(kMX1list)+len(kX10list)+len(k0X2list)-1], kxmaplist[len(k0Mlist)+len(kMX1list)+len(kX10list)+len(k0X2list)+len(kX2Mlist)-1]]\n",
    "    ax.set_xticks(xticklist)\n",
    "    for xt in xticklist:\n",
    "        ax.axvline(xt, ls='dotted', lw=0.3,c='k')\n",
    "    ax.set_xticklabels(['Γ', 'M', 'X', 'Γ', 'X\\'','M'])\n",
    "    ax.axhline(omega, c='black')\n",
    "    ax.set_ylim([0,5e15])\n",
    "    ax2 = ax.twinx()\n",
    "    ax2.set_ylim([ax.get_ylim()[0]/eV*hbar,ax.get_ylim()[1]/eV*hbar])\n",
    "    f.savefig(\"diforder-sq-%.4f.pdf\"%(omega/eV*hbar,))\n"
   ]
  },
  {
   "cell_type": "code",
   "execution_count": null,
   "metadata": {
    "collapsed": false
   },
   "outputs": [],
   "source": [
    "import itertools\n",
    "list(itertools.chain([1, 3, i] for i in range(4)))"
   ]
  },
  {
   "cell_type": "code",
   "execution_count": null,
   "metadata": {
    "collapsed": true
   },
   "outputs": [],
   "source": []
  }
 ],
 "metadata": {
  "anaconda-cloud": {},
  "kernelspec": {
   "display_name": "Python [conda root]",
   "language": "python",
   "name": "conda-root-py"
  },
  "language_info": {
   "codemirror_mode": {
    "name": "ipython",
    "version": 3
   },
   "file_extension": ".py",
   "mimetype": "text/x-python",
   "name": "python",
   "nbconvert_exporter": "python",
   "pygments_lexer": "ipython3",
   "version": "3.5.2"
  }
 },
 "nbformat": 4,
 "nbformat_minor": 2
}
