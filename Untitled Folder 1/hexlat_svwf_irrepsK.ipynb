{
 "cells": [
  {
   "cell_type": "code",
   "execution_count": 12,
   "metadata": {
    "collapsed": true
   },
   "outputs": [],
   "source": [
    "from sympy.combinatorics import Permutation, PermutationGroup\n",
    "Permutation.print_cyclic = True"
   ]
  },
  {
   "cell_type": "code",
   "execution_count": 94,
   "metadata": {
    "collapsed": false
   },
   "outputs": [],
   "source": [
    "def grouprep_try(tdict, src, im, srcgens, imgens, immultop = None, imcmp = None):\n",
    "    tdict[src] = im\n",
    "    for i in range(len(srcgens)):\n",
    "        new_src = src * srcgens[i]\n",
    "        new_im = (im * imgens[i]) if (immultop is None) else immultop(im, imgens[i])\n",
    "        if new_src not in tdict.keys():\n",
    "            grouprep_try(tdict, new_src, new_im, srcgens, imgens, immultop, imcmp)\n",
    "        elif ((new_im != tdict[new_src]) if (imcmp is None) else (not imcmp(new_im, tdict[new_src]))): # check consistency\n",
    "            print(src)\n",
    "            print(srcgens[i])\n",
    "            print(im)\n",
    "            print(imgens[i])\n",
    "            print(new_src)\n",
    "            print(new_im)\n",
    "            print(tdict[new_src])\n",
    "            raise ValueError(\"Homomorphism inconsistency detected\")                \n",
    "    return\n",
    "\n",
    "# srcgroup is expected to be PermutationGroup and srcgens of the TODO\n",
    "# imcmp returns True if two elements of the image group are 'equal', otherwise False\n",
    "def generate_grouprep(srcgroup, im_identity, srcgens, imgens, immultop = None, imcmp = None):\n",
    "    sz = srcgens[0].size\n",
    "    for g in srcgens:\n",
    "        if g.size != sz:\n",
    "            raise ValueError('All the generators must have the same \"size\"')\n",
    "    tdict = dict()\n",
    "    grouprep_try(tdict, Permutation(sz-1), im_identity, srcgens, imgens, immultop = immultop, imcmp = imcmp)\n",
    "    if(srcgroup.order() != len(tdict.keys())): # basic check\n",
    "        raise ValueError('The supplied \"generators\" failed to generate the preimage group: ', \n",
    "                         srcgroup.order(), \" != \", len(tdict.keys()))\n",
    "    return tdict\n",
    "    "
   ]
  },
  {
   "cell_type": "code",
   "execution_count": 95,
   "metadata": {
    "collapsed": false
   },
   "outputs": [],
   "source": [
    "# Group D3h\n",
    "# Note that the size argument of permutations is necessary, otherwise e.g. c*c and  b*b would not be evaluated equal\n",
    "# N.B. the weird elements as Permutation(N) – it means identity permutation of size N+1.\n",
    "a = Permutation(0,1,2, size=5) # C3 rotation\n",
    "b = Permutation(0,2, size=5) # vertical mirror\n",
    "c = Permutation(3,4, size=5) # horizontal mirror\n",
    "g = PermutationGroup(a,b,c) # D3h"
   ]
  },
  {
   "cell_type": "code",
   "execution_count": 96,
   "metadata": {
    "collapsed": false
   },
   "outputs": [
    {
     "data": {
      "text/plain": [
       "[Permutation(4),\n",
       " Permutation(4)(0, 1, 2),\n",
       " Permutation(4)(0, 2),\n",
       " Permutation(3, 4),\n",
       " Permutation(0, 1, 2)(3, 4),\n",
       " Permutation(0, 2)(3, 4),\n",
       " Permutation(4)(1, 2),\n",
       " Permutation(4)(0, 1),\n",
       " Permutation(4)(0, 2, 1),\n",
       " Permutation(1, 2)(3, 4),\n",
       " Permutation(0, 1)(3, 4),\n",
       " Permutation(0, 2, 1)(3, 4)]"
      ]
     },
     "execution_count": 96,
     "metadata": {},
     "output_type": "execute_result"
    }
   ],
   "source": [
    "list(g.generate())"
   ]
  },
  {
   "cell_type": "code",
   "execution_count": 97,
   "metadata": {
    "collapsed": false
   },
   "outputs": [],
   "source": [
    "import numpy as np"
   ]
  },
  {
   "cell_type": "code",
   "execution_count": 98,
   "metadata": {
    "collapsed": true
   },
   "outputs": [],
   "source": [
    "from math import sqrt\n",
    "epsilon = np.eye(2)\n",
    "alif = np.array(((-1/2,-sqrt(3)/2),(sqrt(3)/2,-1/2)))\n",
    "bih = np.array(((-1/2,sqrt(3)/2),(-sqrt(3)/2,-1/2)))\n",
    "lam = np.array(((1,0),(0,-1)))\n",
    "mim =  np.array(((-1/2,-sqrt(3)/2),(-sqrt(3)/2,1/2)))\n",
    "nun =  np.array(((-1/2,sqrt(3)/2),(sqrt(3)/2,1/2)))"
   ]
  },
  {
   "cell_type": "code",
   "execution_count": 101,
   "metadata": {
    "collapsed": false
   },
   "outputs": [],
   "source": [
    "srcgens = [a,b,c]\n",
    "# Bradley, Cracknell p. 61\n",
    "E1 = generate_grouprep(g, epsilon, srcgens, [alif, lam, epsilon], immultop = np.dot, imcmp = np.allclose)\n",
    "E2 = generate_grouprep(g, epsilon, srcgens, [alif, lam, -epsilon], immultop = np.dot, imcmp = np.allclose)\n",
    "# Bradley, Cracknell p. 59\n",
    "A1p = generate_grouprep(g, 1, srcgens, [1,1,1])\n",
    "A2p = generate_grouprep(g, 1, srcgens, [1,-1,1])\n",
    "A1pp = generate_grouprep(g, 1, srcgens, [1,1,-1])\n",
    "A2pp = generate_grouprep(g, 1, srcgens, [1,-1,-1])"
   ]
  },
  {
   "cell_type": "code",
   "execution_count": 103,
   "metadata": {
    "collapsed": false
   },
   "outputs": [
    {
     "data": {
      "text/plain": [
       "{Permutation(0, 1)(3, 4): array([[-0.5      ,  0.8660254],\n",
       "        [ 0.8660254,  0.5      ]]),\n",
       " Permutation(4)(1, 2): array([[-0.5      , -0.8660254],\n",
       "        [-0.8660254,  0.5      ]]),\n",
       " Permutation(3, 4): array([[1., 0.],\n",
       "        [0., 1.]]),\n",
       " Permutation(4)(0, 2): array([[ 1.,  0.],\n",
       "        [ 0., -1.]]),\n",
       " Permutation(0, 1, 2)(3, 4): array([[-0.5      , -0.8660254],\n",
       "        [ 0.8660254, -0.5      ]]),\n",
       " Permutation(4)(0, 2, 1): array([[-0.5      ,  0.8660254],\n",
       "        [-0.8660254, -0.5      ]]),\n",
       " Permutation(1, 2)(3, 4): array([[-0.5      , -0.8660254],\n",
       "        [-0.8660254,  0.5      ]]),\n",
       " Permutation(4)(0, 1): array([[-0.5      ,  0.8660254],\n",
       "        [ 0.8660254,  0.5      ]]),\n",
       " Permutation(0, 2)(3, 4): array([[ 1.,  0.],\n",
       "        [ 0., -1.]]),\n",
       " Permutation(4): array([[1., 0.],\n",
       "        [0., 1.]]),\n",
       " Permutation(0, 2, 1)(3, 4): array([[-0.5      ,  0.8660254],\n",
       "        [-0.8660254, -0.5      ]]),\n",
       " Permutation(4)(0, 1, 2): array([[-0.5      , -0.8660254],\n",
       "        [ 0.8660254, -0.5      ]])}"
      ]
     },
     "execution_count": 103,
     "metadata": {},
     "output_type": "execute_result"
    }
   ],
   "source": [
    "E1"
   ]
  },
  {
   "cell_type": "code",
   "execution_count": null,
   "metadata": {
    "collapsed": true
   },
   "outputs": [],
   "source": []
  }
 ],
 "metadata": {
  "anaconda-cloud": {},
  "kernelspec": {
   "display_name": "Python [default]",
   "language": "python",
   "name": "python3"
  },
  "language_info": {
   "codemirror_mode": {
    "name": "ipython",
    "version": 3
   },
   "file_extension": ".py",
   "mimetype": "text/x-python",
   "name": "python",
   "nbconvert_exporter": "python",
   "pygments_lexer": "ipython3",
   "version": "3.5.2"
  }
 },
 "nbformat": 4,
 "nbformat_minor": 2
}
