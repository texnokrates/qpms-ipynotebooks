{
 "cells": [
  {
   "cell_type": "code",
   "execution_count": 24,
   "metadata": {
    "collapsed": true
   },
   "outputs": [],
   "source": [
    "from sympy.combinatorics import Permutation, PermutationGroup\n",
    "Permutation.print_cyclic = True\n",
    "import cmath\n",
    "from cmath import exp, pi"
   ]
  },
  {
   "cell_type": "code",
   "execution_count": 2,
   "metadata": {
    "collapsed": false
   },
   "outputs": [],
   "source": [
    "def grouprep_try(tdict, src, im, srcgens, imgens, immultop = None, imcmp = None):\n",
    "    tdict[src] = im\n",
    "    for i in range(len(srcgens)):\n",
    "        new_src = src * srcgens[i]\n",
    "        new_im = (im * imgens[i]) if (immultop is None) else immultop(im, imgens[i])\n",
    "        if new_src not in tdict.keys():\n",
    "            grouprep_try(tdict, new_src, new_im, srcgens, imgens, immultop, imcmp)\n",
    "        elif ((new_im != tdict[new_src]) if (imcmp is None) else (not imcmp(new_im, tdict[new_src]))): # check consistency\n",
    "            print(src, ' * ', srcgens[i], ' --> ', new_src)\n",
    "            print(im)\n",
    "            print(' * ')\n",
    "            print(imgens[i])\n",
    "            print(' --> ')\n",
    "            print(new_im)\n",
    "            print(' != ')\n",
    "            print(tdict[new_src])\n",
    "            raise ValueError(\"Homomorphism inconsistency detected\")                \n",
    "    return\n",
    "\n",
    "# srcgroup is expected to be PermutationGroup and srcgens of the TODO\n",
    "# imcmp returns True if two elements of the image group are 'equal', otherwise False\n",
    "def generate_grouprep(srcgroup, im_identity, srcgens, imgens, immultop = None, imcmp = None):\n",
    "    sz = srcgens[0].size\n",
    "    for g in srcgens:\n",
    "        if g.size != sz:\n",
    "            raise ValueError('All the generators must have the same \"size\"')\n",
    "    tdict = dict()\n",
    "    grouprep_try(tdict, Permutation(sz-1), im_identity, srcgens, imgens, immultop = immultop, imcmp = imcmp)\n",
    "    if(srcgroup.order() != len(tdict.keys())): # basic check\n",
    "        raise ValueError('The supplied \"generators\" failed to generate the preimage group: ', \n",
    "                         srcgroup.order(), \" != \", len(tdict.keys()))\n",
    "    return tdict\n",
    "    "
   ]
  },
  {
   "cell_type": "code",
   "execution_count": 3,
   "metadata": {
    "collapsed": false
   },
   "outputs": [],
   "source": [
    "# Group D3h\n",
    "# Note that the size argument of permutations is necessary, otherwise e.g. c*c and  b*b would not be evaluated equal\n",
    "# N.B. the weird elements as Permutation(N) – it means identity permutation of size N+1.\n",
    "a = Permutation(0,1,2, size=5) # C3 rotation\n",
    "b = Permutation(0,2, size=5) # vertical mirror\n",
    "c = Permutation(3,4, size=5) # horizontal mirror\n",
    "g = PermutationGroup(a,b,c) # D3h"
   ]
  },
  {
   "cell_type": "code",
   "execution_count": 4,
   "metadata": {
    "collapsed": false
   },
   "outputs": [
    {
     "data": {
      "text/plain": [
       "[Permutation(4),\n",
       " Permutation(4)(0, 1, 2),\n",
       " Permutation(4)(0, 2),\n",
       " Permutation(3, 4),\n",
       " Permutation(0, 1, 2)(3, 4),\n",
       " Permutation(0, 2)(3, 4),\n",
       " Permutation(4)(1, 2),\n",
       " Permutation(4)(0, 1),\n",
       " Permutation(4)(0, 2, 1),\n",
       " Permutation(1, 2)(3, 4),\n",
       " Permutation(0, 1)(3, 4),\n",
       " Permutation(0, 2, 1)(3, 4)]"
      ]
     },
     "execution_count": 4,
     "metadata": {},
     "output_type": "execute_result"
    }
   ],
   "source": [
    "list(g.generate())"
   ]
  },
  {
   "cell_type": "code",
   "execution_count": 5,
   "metadata": {
    "collapsed": false
   },
   "outputs": [],
   "source": [
    "import numpy as np"
   ]
  },
  {
   "cell_type": "code",
   "execution_count": 6,
   "metadata": {
    "collapsed": false
   },
   "outputs": [],
   "source": [
    "from math import sqrt, pi\n",
    "epsilon = np.eye(2)\n",
    "alif = np.array(((-1/2,-sqrt(3)/2),(sqrt(3)/2,-1/2)))\n",
    "bih = np.array(((-1/2,sqrt(3)/2),(-sqrt(3)/2,-1/2)))\n",
    "lam = np.array(((1,0),(0,-1)))\n",
    "mim =  np.array(((-1/2,-sqrt(3)/2),(-sqrt(3)/2,1/2)))\n",
    "nun =  np.array(((-1/2,sqrt(3)/2),(sqrt(3)/2,1/2)))"
   ]
  },
  {
   "cell_type": "code",
   "execution_count": 7,
   "metadata": {
    "collapsed": false
   },
   "outputs": [],
   "source": [
    "srcgens = [a,b,c]\n",
    "# Bradley, Cracknell p. 61\n",
    "E1 = generate_grouprep(g, epsilon, srcgens, [alif, lam, epsilon], immultop = np.dot, imcmp = np.allclose)\n",
    "E2 = generate_grouprep(g, epsilon, srcgens, [alif, lam, -epsilon], immultop = np.dot, imcmp = np.allclose)\n",
    "# Bradley, Cracknell p. 59\n",
    "A1p = generate_grouprep(g, 1, srcgens, [1,1,1])\n",
    "A2p = generate_grouprep(g, 1, srcgens, [1,-1,1])\n",
    "A1pp = generate_grouprep(g, 1, srcgens, [1,1,-1])\n",
    "A2pp = generate_grouprep(g, 1, srcgens, [1,-1,-1])"
   ]
  },
  {
   "cell_type": "code",
   "execution_count": 8,
   "metadata": {
    "collapsed": false
   },
   "outputs": [
    {
     "data": {
      "text/plain": [
       "{Permutation(0, 2, 1)(3, 4): array([[-0.5      ,  0.8660254],\n",
       "        [-0.8660254, -0.5      ]]),\n",
       " Permutation(4)(0, 2, 1): array([[-0.5      ,  0.8660254],\n",
       "        [-0.8660254, -0.5      ]]),\n",
       " Permutation(3, 4): array([[1., 0.],\n",
       "        [0., 1.]]),\n",
       " Permutation(1, 2)(3, 4): array([[-0.5      , -0.8660254],\n",
       "        [-0.8660254,  0.5      ]]),\n",
       " Permutation(4)(0, 2): array([[ 1.,  0.],\n",
       "        [ 0., -1.]]),\n",
       " Permutation(4)(0, 1): array([[-0.5      ,  0.8660254],\n",
       "        [ 0.8660254,  0.5      ]]),\n",
       " Permutation(4)(1, 2): array([[-0.5      , -0.8660254],\n",
       "        [-0.8660254,  0.5      ]]),\n",
       " Permutation(4)(0, 1, 2): array([[-0.5      , -0.8660254],\n",
       "        [ 0.8660254, -0.5      ]]),\n",
       " Permutation(0, 2)(3, 4): array([[ 1.,  0.],\n",
       "        [ 0., -1.]]),\n",
       " Permutation(0, 1, 2)(3, 4): array([[-0.5      , -0.8660254],\n",
       "        [ 0.8660254, -0.5      ]]),\n",
       " Permutation(4): array([[1., 0.],\n",
       "        [0., 1.]]),\n",
       " Permutation(0, 1)(3, 4): array([[-0.5      ,  0.8660254],\n",
       "        [ 0.8660254,  0.5      ]])}"
      ]
     },
     "execution_count": 8,
     "metadata": {},
     "output_type": "execute_result"
    }
   ],
   "source": [
    "E1"
   ]
  },
  {
   "cell_type": "code",
   "execution_count": 9,
   "metadata": {
    "collapsed": false
   },
   "outputs": [
    {
     "name": "stderr",
     "output_type": "stream",
     "text": [
      "/home/mmn/.local/lib/python3.4/site-packages/quaternion/numba_wrapper.py:20: UserWarning: \n",
      "\n",
      "!!!!!!!!!!!!!!!!!!!!!!!!!!!!!!!!!!!!!!!!!!!!!!!!!!!!!\n",
      "Could not import from numba, which means that some\n",
      "parts of this code may run MUCH more slowly.  You\n",
      "may wish to install numba.\n",
      "!!!!!!!!!!!!!!!!!!!!!!!!!!!!!!!!!!!!!!!!!!!!!!!!!!!!!\n",
      "\n",
      "  warnings.warn(warning_text)\n"
     ]
    }
   ],
   "source": [
    "import qpms\n",
    "import numbers"
   ]
  },
  {
   "cell_type": "code",
   "execution_count": 10,
   "metadata": {
    "collapsed": false
   },
   "outputs": [
    {
     "data": {
      "text/plain": [
       "(2, 24, 2, 24)"
      ]
     },
     "execution_count": 10,
     "metadata": {},
     "output_type": "execute_result"
    }
   ],
   "source": [
    "qpms.xflip_tyty(4).shape"
   ]
  },
  {
   "cell_type": "code",
   "execution_count": 27,
   "metadata": {
    "collapsed": false
   },
   "outputs": [
    {
     "data": {
      "text/plain": [
       "True"
      ]
     },
     "execution_count": 27,
     "metadata": {},
     "output_type": "execute_result"
    }
   ],
   "source": [
    "lMax = 1\n",
    "my, ny = qpms.get_mn_y(lMax)\n",
    "nelem = len(my)\n",
    "ň = None\n",
    "C3_yy = qpms.WignerD_yy_fromvector(lMax, np.array([0,0,2*pi/3]))\n",
    "C3_tyty = np.moveaxis(np.eye(2)[:,:,ň,ň] * C3_yy, 2,1)\n",
    "zfl_tyty = qpms.zflip_tyty(lMax)\n",
    "yfl_tyty = qpms.yflip_tyty(lMax)\n",
    "xfl_tyty = qpms.xflip_tyty(lMax)\n",
    "I_tyty = np.moveaxis(np.eye(2)[:,:,ň,ň] * np.eye(nelem), 2,1)\n",
    "def mult_tyty(a, b):\n",
    "    return(qpms.apply_ndmatrix_left(a, b, (-4,-3)))\n",
    "np.allclose(I_tyty,mult_tyty(mult_tyty(C3_tyty, C3_tyty), C3_tyty))"
   ]
  },
  {
   "cell_type": "code",
   "execution_count": 28,
   "metadata": {
    "collapsed": false,
    "scrolled": false
   },
   "outputs": [],
   "source": [
    "sphrep = generate_grouprep(g, I_tyty, srcgens, [C3_tyty, xfl_tyty, zfl_tyty], \n",
    "                           immultop = mult_tyty, imcmp = np.allclose)\n",
    "matrixrep = E2"
   ]
  },
  {
   "cell_type": "code",
   "execution_count": 29,
   "metadata": {
    "collapsed": false
   },
   "outputs": [
    {
     "data": {
      "text/plain": [
       "array([[[[[[ True,  True,  True],\n",
       "           [ True,  True,  True]],\n",
       "\n",
       "          [[ True,  True,  True],\n",
       "           [ True,  True,  True]],\n",
       "\n",
       "          [[ True,  True,  True],\n",
       "           [ True,  True,  True]]],\n",
       "\n",
       "\n",
       "         [[[ True,  True,  True],\n",
       "           [False,  True, False]],\n",
       "\n",
       "          [[ True,  True,  True],\n",
       "           [ True,  True,  True]],\n",
       "\n",
       "          [[ True,  True,  True],\n",
       "           [False,  True, False]]]],\n",
       "\n",
       "\n",
       "\n",
       "        [[[[ True,  True,  True],\n",
       "           [ True,  True,  True]],\n",
       "\n",
       "          [[ True,  True,  True],\n",
       "           [ True,  True,  True]],\n",
       "\n",
       "          [[ True,  True,  True],\n",
       "           [ True,  True,  True]]],\n",
       "\n",
       "\n",
       "         [[[ True,  True,  True],\n",
       "           [False,  True, False]],\n",
       "\n",
       "          [[ True,  True,  True],\n",
       "           [ True,  True,  True]],\n",
       "\n",
       "          [[ True,  True,  True],\n",
       "           [False,  True, False]]]]],\n",
       "\n",
       "\n",
       "\n",
       "\n",
       "       [[[[[ True,  True,  True],\n",
       "           [ True,  True,  True]],\n",
       "\n",
       "          [[ True,  True,  True],\n",
       "           [ True,  True,  True]],\n",
       "\n",
       "          [[ True,  True,  True],\n",
       "           [ True,  True,  True]]],\n",
       "\n",
       "\n",
       "         [[[ True,  True,  True],\n",
       "           [False,  True, False]],\n",
       "\n",
       "          [[ True,  True,  True],\n",
       "           [ True,  True,  True]],\n",
       "\n",
       "          [[ True,  True,  True],\n",
       "           [False,  True, False]]]],\n",
       "\n",
       "\n",
       "\n",
       "        [[[[ True,  True,  True],\n",
       "           [ True,  True,  True]],\n",
       "\n",
       "          [[ True,  True,  True],\n",
       "           [ True,  True,  True]],\n",
       "\n",
       "          [[ True,  True,  True],\n",
       "           [ True,  True,  True]]],\n",
       "\n",
       "\n",
       "         [[[ True,  True,  True],\n",
       "           [False,  True, False]],\n",
       "\n",
       "          [[ True,  True,  True],\n",
       "           [ True,  True,  True]],\n",
       "\n",
       "          [[ True,  True,  True],\n",
       "           [False,  True, False]]]]]])"
      ]
     },
     "execution_count": 29,
     "metadata": {},
     "output_type": "execute_result"
    }
   ],
   "source": [
    "order = g.order()\n",
    "arepmatrix = matrixrep[g[0]]\n",
    "if isinstance(arepmatrix, numbers.Number):\n",
    "    dim = 1\n",
    "    preprocess = lambda x: np.array([[x]])\n",
    "elif isinstance(arepmatrix, np.ndarray):\n",
    "    if(len(arepmatrix.shape) != 2 or arepmatrix.shape[0] != arepmatrix.shape[1]):\n",
    "        raise ValueError(\"Arrays representing irrep matrices must be of square shape\")\n",
    "    dim = arepmatrix.shape[0]\n",
    "    preprocess = lambda x: x\n",
    "else:\n",
    "    raise ValueError(\"Irrep is not a square array or number\")\n",
    "\n",
    "W = np.zeros((dim,dim,2,nelem,2,nelem), dtype=complex)\n",
    "for i in g.elements:\n",
    "    W += preprocess(matrixrep[i]).conj().transpose()[:,:,ň,ň,ň,ň] * sphrep[i]\n",
    "W *= dim / order\n",
    "np.isclose(W,0)"
   ]
  },
  {
   "cell_type": "code",
   "execution_count": 30,
   "metadata": {
    "collapsed": false
   },
   "outputs": [
    {
     "data": {
      "text/plain": [
       "array([[[[[[ 0.00000000e+00+0.00000000e+00j,\n",
       "             0.00000000e+00+0.00000000e+00j,\n",
       "             0.00000000e+00+0.00000000e+00j],\n",
       "           [ 0.00000000e+00+0.00000000e+00j,\n",
       "             0.00000000e+00+0.00000000e+00j,\n",
       "             0.00000000e+00+0.00000000e+00j]],\n",
       "\n",
       "          [[ 0.00000000e+00+0.00000000e+00j,\n",
       "             0.00000000e+00+0.00000000e+00j,\n",
       "             0.00000000e+00+0.00000000e+00j],\n",
       "           [ 0.00000000e+00+0.00000000e+00j,\n",
       "             0.00000000e+00+0.00000000e+00j,\n",
       "             0.00000000e+00+0.00000000e+00j]],\n",
       "\n",
       "          [[ 0.00000000e+00+0.00000000e+00j,\n",
       "             0.00000000e+00+0.00000000e+00j,\n",
       "             0.00000000e+00+0.00000000e+00j],\n",
       "           [ 0.00000000e+00+0.00000000e+00j,\n",
       "             0.00000000e+00+0.00000000e+00j,\n",
       "             0.00000000e+00+0.00000000e+00j]]],\n",
       "\n",
       "\n",
       "         [[[ 0.00000000e+00+0.00000000e+00j,\n",
       "             0.00000000e+00+0.00000000e+00j,\n",
       "             0.00000000e+00+0.00000000e+00j],\n",
       "           [ 5.00000000e-01+4.62592927e-17j,\n",
       "             0.00000000e+00+0.00000000e+00j,\n",
       "            -5.00000000e-01-5.55111512e-17j]],\n",
       "\n",
       "          [[ 0.00000000e+00+0.00000000e+00j,\n",
       "             0.00000000e+00+0.00000000e+00j,\n",
       "             0.00000000e+00+0.00000000e+00j],\n",
       "           [ 0.00000000e+00+0.00000000e+00j,\n",
       "             0.00000000e+00+0.00000000e+00j,\n",
       "             0.00000000e+00+0.00000000e+00j]],\n",
       "\n",
       "          [[ 0.00000000e+00+0.00000000e+00j,\n",
       "             0.00000000e+00+0.00000000e+00j,\n",
       "             0.00000000e+00+0.00000000e+00j],\n",
       "           [-5.00000000e-01-1.85037171e-17j,\n",
       "             0.00000000e+00+0.00000000e+00j,\n",
       "             5.00000000e-01+2.77555756e-17j]]]],\n",
       "\n",
       "\n",
       "\n",
       "        [[[[ 0.00000000e+00+0.00000000e+00j,\n",
       "             0.00000000e+00+0.00000000e+00j,\n",
       "             0.00000000e+00+0.00000000e+00j],\n",
       "           [ 0.00000000e+00+0.00000000e+00j,\n",
       "             0.00000000e+00+0.00000000e+00j,\n",
       "             0.00000000e+00+0.00000000e+00j]],\n",
       "\n",
       "          [[ 0.00000000e+00+0.00000000e+00j,\n",
       "             0.00000000e+00+0.00000000e+00j,\n",
       "             0.00000000e+00+0.00000000e+00j],\n",
       "           [ 0.00000000e+00+0.00000000e+00j,\n",
       "             0.00000000e+00+0.00000000e+00j,\n",
       "             0.00000000e+00+0.00000000e+00j]],\n",
       "\n",
       "          [[ 0.00000000e+00+0.00000000e+00j,\n",
       "             0.00000000e+00+0.00000000e+00j,\n",
       "             0.00000000e+00+0.00000000e+00j],\n",
       "           [ 0.00000000e+00+0.00000000e+00j,\n",
       "             0.00000000e+00+0.00000000e+00j,\n",
       "             0.00000000e+00+0.00000000e+00j]]],\n",
       "\n",
       "\n",
       "         [[[ 0.00000000e+00+0.00000000e+00j,\n",
       "             0.00000000e+00+0.00000000e+00j,\n",
       "             0.00000000e+00+0.00000000e+00j],\n",
       "           [ 1.85037171e-17-5.00000000e-01j,\n",
       "             0.00000000e+00+0.00000000e+00j,\n",
       "            -3.70074342e-17+5.00000000e-01j]],\n",
       "\n",
       "          [[ 0.00000000e+00+0.00000000e+00j,\n",
       "             0.00000000e+00+0.00000000e+00j,\n",
       "             0.00000000e+00+0.00000000e+00j],\n",
       "           [ 0.00000000e+00+0.00000000e+00j,\n",
       "             0.00000000e+00+0.00000000e+00j,\n",
       "             0.00000000e+00+0.00000000e+00j]],\n",
       "\n",
       "          [[ 0.00000000e+00+0.00000000e+00j,\n",
       "             0.00000000e+00+0.00000000e+00j,\n",
       "             0.00000000e+00+0.00000000e+00j],\n",
       "           [-1.85037171e-17-5.00000000e-01j,\n",
       "             0.00000000e+00+0.00000000e+00j,\n",
       "            -9.25185854e-18+5.00000000e-01j]]]]],\n",
       "\n",
       "\n",
       "\n",
       "\n",
       "       [[[[[ 0.00000000e+00+0.00000000e+00j,\n",
       "             0.00000000e+00+0.00000000e+00j,\n",
       "             0.00000000e+00+0.00000000e+00j],\n",
       "           [ 0.00000000e+00+0.00000000e+00j,\n",
       "             0.00000000e+00+0.00000000e+00j,\n",
       "             0.00000000e+00+0.00000000e+00j]],\n",
       "\n",
       "          [[ 0.00000000e+00+0.00000000e+00j,\n",
       "             0.00000000e+00+0.00000000e+00j,\n",
       "             0.00000000e+00+0.00000000e+00j],\n",
       "           [ 0.00000000e+00+0.00000000e+00j,\n",
       "             0.00000000e+00+0.00000000e+00j,\n",
       "             0.00000000e+00+0.00000000e+00j]],\n",
       "\n",
       "          [[ 0.00000000e+00+0.00000000e+00j,\n",
       "             0.00000000e+00+0.00000000e+00j,\n",
       "             0.00000000e+00+0.00000000e+00j],\n",
       "           [ 0.00000000e+00+0.00000000e+00j,\n",
       "             0.00000000e+00+0.00000000e+00j,\n",
       "             0.00000000e+00+0.00000000e+00j]]],\n",
       "\n",
       "\n",
       "         [[[ 0.00000000e+00+0.00000000e+00j,\n",
       "             0.00000000e+00+0.00000000e+00j,\n",
       "             0.00000000e+00+0.00000000e+00j],\n",
       "           [-1.85037171e-17+5.00000000e-01j,\n",
       "             0.00000000e+00+0.00000000e+00j,\n",
       "            -3.70074342e-17+5.00000000e-01j]],\n",
       "\n",
       "          [[ 0.00000000e+00+0.00000000e+00j,\n",
       "             0.00000000e+00+0.00000000e+00j,\n",
       "             0.00000000e+00+0.00000000e+00j],\n",
       "           [ 0.00000000e+00+0.00000000e+00j,\n",
       "             0.00000000e+00+0.00000000e+00j,\n",
       "             0.00000000e+00+0.00000000e+00j]],\n",
       "\n",
       "          [[ 0.00000000e+00+0.00000000e+00j,\n",
       "             0.00000000e+00+0.00000000e+00j,\n",
       "             0.00000000e+00+0.00000000e+00j],\n",
       "           [-1.85037171e-17-5.00000000e-01j,\n",
       "             0.00000000e+00+0.00000000e+00j,\n",
       "             9.25185854e-18-5.00000000e-01j]]]],\n",
       "\n",
       "\n",
       "\n",
       "        [[[[ 0.00000000e+00+0.00000000e+00j,\n",
       "             0.00000000e+00+0.00000000e+00j,\n",
       "             0.00000000e+00+0.00000000e+00j],\n",
       "           [ 0.00000000e+00+0.00000000e+00j,\n",
       "             0.00000000e+00+0.00000000e+00j,\n",
       "             0.00000000e+00+0.00000000e+00j]],\n",
       "\n",
       "          [[ 0.00000000e+00+0.00000000e+00j,\n",
       "             0.00000000e+00+0.00000000e+00j,\n",
       "             0.00000000e+00+0.00000000e+00j],\n",
       "           [ 0.00000000e+00+0.00000000e+00j,\n",
       "             0.00000000e+00+0.00000000e+00j,\n",
       "             0.00000000e+00+0.00000000e+00j]],\n",
       "\n",
       "          [[ 0.00000000e+00+0.00000000e+00j,\n",
       "             0.00000000e+00+0.00000000e+00j,\n",
       "             0.00000000e+00+0.00000000e+00j],\n",
       "           [ 0.00000000e+00+0.00000000e+00j,\n",
       "             0.00000000e+00+0.00000000e+00j,\n",
       "             0.00000000e+00+0.00000000e+00j]]],\n",
       "\n",
       "\n",
       "         [[[ 0.00000000e+00+0.00000000e+00j,\n",
       "             0.00000000e+00+0.00000000e+00j,\n",
       "             0.00000000e+00+0.00000000e+00j],\n",
       "           [ 5.00000000e-01+4.62592927e-17j,\n",
       "             0.00000000e+00+0.00000000e+00j,\n",
       "             5.00000000e-01+5.55111512e-17j]],\n",
       "\n",
       "          [[ 0.00000000e+00+0.00000000e+00j,\n",
       "             0.00000000e+00+0.00000000e+00j,\n",
       "             0.00000000e+00+0.00000000e+00j],\n",
       "           [ 0.00000000e+00+0.00000000e+00j,\n",
       "             0.00000000e+00+0.00000000e+00j,\n",
       "             0.00000000e+00+0.00000000e+00j]],\n",
       "\n",
       "          [[ 0.00000000e+00+0.00000000e+00j,\n",
       "             0.00000000e+00+0.00000000e+00j,\n",
       "             0.00000000e+00+0.00000000e+00j],\n",
       "           [ 5.00000000e-01+1.85037171e-17j,\n",
       "             0.00000000e+00+0.00000000e+00j,\n",
       "             5.00000000e-01+2.77555756e-17j]]]]]])"
      ]
     },
     "execution_count": 30,
     "metadata": {},
     "output_type": "execute_result"
    }
   ],
   "source": [
    "W[np.isclose(W,0)]=0\n",
    "W"
   ]
  },
  {
   "cell_type": "code",
   "execution_count": 46,
   "metadata": {
    "collapsed": false
   },
   "outputs": [],
   "source": [
    "# Hexagonal lattice (with two sites per unit cell)\n",
    "# The indices are now ptypty instead of tyty\n",
    "psi = +1 # +1 for K, -1 for K'\n",
    "sz = np.array([[1,0],[0,-1]])\n",
    "hex_C3_K_ptypty = np.diag([exp(-psi*1j*2*pi/3),exp(+psi*1j*2*pi/3)])[:,ň,ň,:,ň,ň] * C3_tyty[ň,:,:,ň,:,:]\n",
    "hex_zfl_ptypty = np.eye(2)[:,ň,ň,:,ň,ň] * zfl_tyty[ň,:,:,ň,:,:]\n",
    "hex_xfl_ptypty = np.array([[0,1],[1,0]])[:,ň,ň,:,ň,ň] * xfl_tyty[ň,:,:,ň,:,:]\n",
    "hex_I_ptypty = np.eye((2*2*nelem)).reshape((2,2,nelem,2,2,nelem))\n",
    "def mult_ptypty(a, b):\n",
    "    return(qpms.apply_ndmatrix_left(a, b, (-6,-5,-4)))\n"
   ]
  },
  {
   "cell_type": "code",
   "execution_count": 57,
   "metadata": {
    "collapsed": false
   },
   "outputs": [],
   "source": [
    "hex_K_sphrep = generate_grouprep(g, hex_I_ptypty, srcgens, [hex_C3_K_ptypty, hex_xfl_ptypty, hex_zfl_ptypty], \n",
    "                           immultop = mult_ptypty, imcmp = np.allclose)\n",
    "matrixrep = A1p"
   ]
  },
  {
   "cell_type": "code",
   "execution_count": 58,
   "metadata": {
    "collapsed": false
   },
   "outputs": [
    {
     "data": {
      "text/plain": [
       "array([[[[ True,  True,  True,  True,  True,  True,  True,  True,  True,  True,  True,  True],\n",
       "         [ True,  True,  True,  True,  True,  True,  True,  True,  True,  True,  True,  True],\n",
       "         [ True,  True, False,  True,  True,  True, False,  True,  True,  True,  True,  True],\n",
       "         [ True,  True,  True,  True,  True,  True,  True,  True,  True,  True,  True,  True],\n",
       "         [ True,  True,  True,  True,  True,  True,  True,  True,  True,  True,  True,  True],\n",
       "         [ True,  True,  True,  True,  True,  True,  True,  True,  True,  True,  True,  True],\n",
       "         [ True,  True, False,  True,  True,  True, False,  True,  True,  True,  True,  True],\n",
       "         [ True,  True,  True,  True,  True,  True,  True,  True,  True,  True,  True,  True],\n",
       "         [ True,  True,  True,  True,  True,  True,  True,  True,  True,  True,  True,  True],\n",
       "         [ True,  True,  True,  True,  True,  True,  True,  True,  True,  True,  True,  True],\n",
       "         [ True,  True,  True,  True,  True,  True,  True,  True,  True,  True,  True,  True],\n",
       "         [ True,  True,  True,  True,  True,  True,  True,  True,  True,  True,  True,  True]]]])"
      ]
     },
     "execution_count": 58,
     "metadata": {},
     "output_type": "execute_result"
    }
   ],
   "source": [
    "order = g.order()\n",
    "arepmatrix = matrixrep[g[0]]\n",
    "if isinstance(arepmatrix, numbers.Number):\n",
    "    dim = 1\n",
    "    preprocess = lambda x: np.array([[x]])\n",
    "elif isinstance(arepmatrix, np.ndarray):\n",
    "    if(len(arepmatrix.shape) != 2 or arepmatrix.shape[0] != arepmatrix.shape[1]):\n",
    "        raise ValueError(\"Arrays representing irrep matrices must be of square shape\")\n",
    "    dim = arepmatrix.shape[0]\n",
    "    preprocess = lambda x: x\n",
    "else:\n",
    "    raise ValueError(\"Irrep is not a square array or number\")\n",
    "\n",
    "W = np.zeros((dim,dim,2,2,nelem,2,2,nelem), dtype=complex)\n",
    "for i in g.elements:\n",
    "    W += preprocess(matrixrep[i]).conj().transpose()[:,:,ň,ň,ň,ň,ň,ň] * hex_K_sphrep[i]\n",
    "W *= dim / order\n",
    "#np.isclose(W,0)\n",
    "W[np.isclose(W,0)]=0\n",
    "np.isclose(W,0).reshape((dim,dim,4*nelem, 4*nelem))"
   ]
  },
  {
   "cell_type": "code",
   "execution_count": 22,
   "metadata": {
    "collapsed": false
   },
   "outputs": [
    {
     "data": {
      "text/plain": [
       "3.141592653589793"
      ]
     },
     "execution_count": 22,
     "metadata": {},
     "output_type": "execute_result"
    }
   ],
   "source": [
    "cmath.pi"
   ]
  },
  {
   "cell_type": "code",
   "execution_count": 54,
   "metadata": {
    "collapsed": false
   },
   "outputs": [],
   "source": [
    "np.set_printoptions(linewidth=200)\n"
   ]
  },
  {
   "cell_type": "code",
   "execution_count": null,
   "metadata": {
    "collapsed": true
   },
   "outputs": [],
   "source": []
  }
 ],
 "metadata": {
  "anaconda-cloud": {},
  "kernelspec": {
   "display_name": "Python 3",
   "language": "python",
   "name": "python3"
  },
  "language_info": {
   "codemirror_mode": {
    "name": "ipython",
    "version": 3
   },
   "file_extension": ".py",
   "mimetype": "text/x-python",
   "name": "python",
   "nbconvert_exporter": "python",
   "pygments_lexer": "ipython3",
   "version": "3.4.2"
  }
 },
 "nbformat": 4,
 "nbformat_minor": 2
}
