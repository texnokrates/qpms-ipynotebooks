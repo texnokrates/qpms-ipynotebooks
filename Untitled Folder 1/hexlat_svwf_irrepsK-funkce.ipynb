{
 "cells": [
  {
   "cell_type": "code",
   "execution_count": 1,
   "metadata": {
    "collapsed": true
   },
   "outputs": [],
   "source": [
    "from sympy.combinatorics import Permutation, PermutationGroup\n",
    "Permutation.print_cyclic = True\n",
    "import cmath\n",
    "from cmath import exp, pi\n",
    "from math import sqrt\n",
    "import numpy as np\n",
    "np.set_printoptions(linewidth=200)\n",
    "import qpms\n",
    "import numbers\n",
    "ň = None\n"
   ]
  },
  {
   "cell_type": "code",
   "execution_count": 2,
   "metadata": {
    "collapsed": false
   },
   "outputs": [],
   "source": [
    "def grouprep_try(tdict, src, im, srcgens, imgens, immultop = None, imcmp = None):\n",
    "    tdict[src] = im\n",
    "    for i in range(len(srcgens)):\n",
    "        new_src = src * srcgens[i]\n",
    "        new_im = (im * imgens[i]) if (immultop is None) else immultop(im, imgens[i])\n",
    "        if new_src not in tdict.keys():\n",
    "            grouprep_try(tdict, new_src, new_im, srcgens, imgens, immultop, imcmp)\n",
    "        elif ((new_im != tdict[new_src]) if (imcmp is None) else (not imcmp(new_im, tdict[new_src]))): # check consistency\n",
    "            print(src, ' * ', srcgens[i], ' --> ', new_src)\n",
    "            print(im)\n",
    "            print(' * ')\n",
    "            print(imgens[i])\n",
    "            print(' --> ')\n",
    "            print(new_im)\n",
    "            print(' != ')\n",
    "            print(tdict[new_src])\n",
    "            raise ValueError(\"Homomorphism inconsistency detected\")                \n",
    "    return\n",
    "\n",
    "# srcgroup is expected to be PermutationGroup and srcgens of the TODO\n",
    "# imcmp returns True if two elements of the image group are 'equal', otherwise False\n",
    "def generate_grouprep(srcgroup, im_identity, srcgens, imgens, immultop = None, imcmp = None):\n",
    "    sz = srcgens[0].size\n",
    "    for g in srcgens:\n",
    "        if g.size != sz:\n",
    "            raise ValueError('All the generators must have the same \"size\"')\n",
    "    tdict = dict()\n",
    "    grouprep_try(tdict, Permutation(sz-1), im_identity, srcgens, imgens, immultop = immultop, imcmp = imcmp)\n",
    "    if(srcgroup.order() != len(tdict.keys())): # basic check\n",
    "        raise ValueError('The supplied \"generators\" failed to generate the preimage group: ', \n",
    "                         srcgroup.order(), \" != \", len(tdict.keys()))\n",
    "    return tdict\n",
    "    "
   ]
  },
  {
   "cell_type": "code",
   "execution_count": 7,
   "metadata": {
    "collapsed": true
   },
   "outputs": [],
   "source": [
    "epsilon = np.eye(2)\n",
    "lif = np.array(((-1/2,-sqrt(3)/2),(sqrt(3)/2,-1/2)))\n",
    "bih = np.array(((-1/2,sqrt(3)/2),(-sqrt(3)/2,-1/2)))\n",
    "lam = np.array(((1,0),(0,-1)))\n",
    "mim =  np.array(((-1/2,-sqrt(3)/2),(-sqrt(3)/2,1/2)))\n",
    "nun =  np.array(((-1/2,sqrt(3)/2),(sqrt(3)/2,1/2)))"
   ]
  },
  {
   "cell_type": "code",
   "execution_count": 8,
   "metadata": {
    "collapsed": false
   },
   "outputs": [],
   "source": [
    "# Group D3h\n",
    "# Note that the size argument of permutations is necessary, otherwise e.g. c*c and  b*b would not be evaluated equal\n",
    "# N.B. the weird elements as Permutation(N) – it means identity permutation of size N+1.\n",
    "rot3_perm = Permutation(0,1,2, size=5) # C3 rotation\n",
    "xflip_perm = Permutation(0,2, size=5) # vertical mirror\n",
    "zflip_perm = Permutation(3,4, size=5) # horizontal mirror\n",
    "D3h_srcgens = [rot3_perm,xflip_perm,zflip_perm]\n",
    "D3h_permgroup = PermutationGroup(rot3_perm,xflip_perm,zflip_perm) # D3h\n",
    "\n",
    "#srcgens = [a,b,c]\n",
    "D3h_irreps = {\n",
    "    # Bradley, Cracknell p. 61\n",
    "    'E1' : generate_grouprep(D3h_permgroup, epsilon, D3h_srcgens, [alif, lam, epsilon], immultop = np.dot, imcmp = np.allclose),\n",
    "    'E2' : generate_grouprep(D3h_permgroup, epsilon, D3h_srcgens, [alif, lam, -epsilon], immultop = np.dot, imcmp = np.allclose),\n",
    "    # Bradley, Cracknell p. 59,\n",
    "    'A1p' : generate_grouprep(D3h_permgroup, 1, D3h_srcgens, [1,1,1]),\n",
    "    'A2p' : generate_grouprep(D3h_permgroup, 1, D3h_srcgens, [1,-1,1]),\n",
    "    'A1pp' : generate_grouprep(D3h_permgroup, 1, D3h_srcgens, [1,1,-1]),\n",
    "    'A2pp' : generate_grouprep(D3h_permgroup, 1, D3h_srcgens, [1,-1,-1]),\n",
    "}"
   ]
  },
  {
   "cell_type": "code",
   "execution_count": 27,
   "metadata": {
    "collapsed": false
   },
   "outputs": [],
   "source": [
    "def mmult_tyty(a, b):\n",
    "        return(qpms.apply_ndmatrix_left(a, b, (-4,-3)))\n",
    "def mmult_ptypty(a, b):\n",
    "    return(qpms.apply_ndmatrix_left(a, b, (-6,-5,-4)))\n",
    "    \n",
    "#TODO lepší název fce\n",
    "def gen_point_D3h_svwf_rep(lMax):\n",
    "    my, ny = qpms.get_mn_y(lMax)\n",
    "    nelem = len(my)\n",
    "    C3_yy = qpms.WignerD_yy_fromvector(lMax, np.array([0,0,2*pi/3]))\n",
    "    C3_tyty = np.moveaxis(np.eye(2)[:,:,ň,ň] * C3_yy, 2,1)\n",
    "    zfl_tyty = qpms.zflip_tyty(lMax)\n",
    "    yfl_tyty = qpms.yflip_tyty(lMax)\n",
    "    xfl_tyty = qpms.xflip_tyty(lMax)\n",
    "    I_tyty = np.moveaxis(np.eye(2)[:,:,ň,ň] * np.eye(nelem), 2,1)\n",
    "    order = D3h_permgroup.order()\n",
    "    sphrep_full = generate_grouprep(D3h_permgroup, I_tyty, D3h_srcgens, [C3_tyty, xfl_tyty, zfl_tyty], \n",
    "                           immultop = mmult_tyty, imcmp = np.allclose)\n",
    "    sphreps = dict()\n",
    "    for repkey, matrixrep in D3h_irreps.items():\n",
    "        arepmatrix = matrixrep[rot3_perm] # just one of the matrices to get the shape etc\n",
    "        if isinstance(arepmatrix, numbers.Number):\n",
    "            dim = 1 # repre dimension\n",
    "            preprocess = lambda x: np.array([[x]])\n",
    "        elif isinstance(arepmatrix, np.ndarray):\n",
    "            if(len(arepmatrix.shape)) != 2 or arepmatrix.shape[0] != arepmatrix.shape[1]:\n",
    "                raise ValueError(\"Arrays representing irrep matrices must be of square shape\")\n",
    "            dim = arepmatrix.shape[0]\n",
    "            preprocess = lambda x: x\n",
    "        else: \n",
    "            raise ValueError(\"Irrep is not a square array or number\")\n",
    "        sphrep = np.zeros((dim,dim,2,nelem,2,nelem), dtype=complex)\n",
    "        for i in D3h_permgroup.elements:\n",
    "            sphrep += preprocess(matrixrep[i]).conj().transpose()[:,:,ň,ň,ň,ň] * sphrep_full[i]\n",
    "        sphrep *= dim / order\n",
    "        # clean the nonexact values here \n",
    "        for x in [0, 0.5, -0.5, 0.5j, -0.5j]:\n",
    "            sphrep[np.isclose(sphrep,x)]=x\n",
    "        sphreps[repkey] = sphrep\n",
    "    return sphreps\n",
    "        \n",
    "def gen_hexlattice_Kpoint_svwf_rep(lMax, psi):\n",
    "    my, ny = qpms.get_mn_y(lMax)\n",
    "    nelem = len(my)\n",
    "    C3_yy = qpms.WignerD_yy_fromvector(lMax, np.array([0,0,2*pi/3]))\n",
    "    C3_tyty = np.moveaxis(np.eye(2)[:,:,ň,ň] * C3_yy, 2,1)\n",
    "    zfl_tyty = qpms.zflip_tyty(lMax)\n",
    "    yfl_tyty = qpms.yflip_tyty(lMax)\n",
    "    xfl_tyty = qpms.xflip_tyty(lMax)\n",
    "    I_tyty = np.moveaxis(np.eye(2)[:,:,ň,ň] * np.eye(nelem), 2,1)\n",
    "    hex_C3_K_ptypty = np.diag([exp(-psi*1j*2*pi/3),exp(+psi*1j*2*pi/3)])[:,ň,ň,:,ň,ň] * C3_tyty[ň,:,:,ň,:,:]\n",
    "    hex_zfl_ptypty = np.eye(2)[:,ň,ň,:,ň,ň] * zfl_tyty[ň,:,:,ň,:,:]\n",
    "    hex_xfl_ptypty = np.array([[0,1],[1,0]])[:,ň,ň,:,ň,ň] * xfl_tyty[ň,:,:,ň,:,:]\n",
    "    hex_I_ptypty = np.eye((2*2*nelem)).reshape((2,2,nelem,2,2,nelem))\n",
    "    order = D3h_permgroup.order()\n",
    "    hex_K_sphrep_full = generate_grouprep(D3h_permgroup, hex_I_ptypty, D3h_srcgens, [hex_C3_K_ptypty, hex_xfl_ptypty, hex_zfl_ptypty], \n",
    "                           immultop = mmult_ptypty, imcmp = np.allclose)\n",
    "    hex_K_sphreps = dict()\n",
    "    for repkey, matrixrep in D3h_irreps.items():\n",
    "        arepmatrix = matrixrep[rot3_perm] # just one of the matrices to get the shape etc\n",
    "        if isinstance(arepmatrix, numbers.Number):\n",
    "            dim = 1 # repre dimension\n",
    "            preprocess = lambda x: np.array([[x]])\n",
    "        elif isinstance(arepmatrix, np.ndarray):\n",
    "            if(len(arepmatrix.shape)) != 2 or arepmatrix.shape[0] != arepmatrix.shape[1]:\n",
    "                raise ValueError(\"Arrays representing irrep matrices must be of square shape\")\n",
    "            dim = arepmatrix.shape[0]\n",
    "            preprocess = lambda x: x\n",
    "        else: \n",
    "            raise ValueError(\"Irrep is not a square array or number\")\n",
    "        sphrep = np.zeros((dim,dim,2,2,nelem,2,2,nelem), dtype=complex)\n",
    "        for i in D3h_permgroup.elements:\n",
    "            sphrep += preprocess(matrixrep[i]).conj().transpose()[:,:,ň,ň,ň,ň,ň,ň] * hex_K_sphrep_full[i]\n",
    "        sphrep *= dim / order\n",
    "        # clean the nonexact values here \n",
    "        for x in [0, 0.5, -0.5, 0.5j, -0.5j]:\n",
    "            sphrep[np.isclose(sphrep,x)]=x\n",
    "        hex_K_sphreps[repkey] = sphrep\n",
    "    return hex_K_sphreps        \n"
   ]
  },
  {
   "cell_type": "code",
   "execution_count": 116,
   "metadata": {
    "collapsed": false
   },
   "outputs": [
    {
     "name": "stdout",
     "output_type": "stream",
     "text": [
      "(0, 0, 0, 0, 0) (1+0j)\n",
      "(0, 0, 0, 0, 5) (1+0j)\n",
      "(0, 0, 0, 0, 7) (1+0j)\n",
      "(0, 0, 0, 0, 8) (1+0j)\n",
      "(0, 0, 0, 0, 10) (1+0j)\n",
      "(0, 0, 0, 0, 14) (1+0j)\n",
      "(0, 0, 1, 0, 2) (1+0j)\n",
      "(0, 0, 1, 0, 3) (1+0j)\n",
      "(0, 0, 1, 0, 5) (1+0j)\n",
      "(0, 0, 1, 0, 8) (1+0j)\n",
      "(0, 0, 1, 0, 12) (1+0j)\n",
      "(0, 0, 1, 0, 14) (1+0j)\n",
      "(0, 1, 0, 0, 0) 1j\n",
      "(0, 1, 0, 0, 5) -1j\n",
      "(0, 1, 0, 0, 7) 1j\n",
      "(0, 1, 0, 0, 8) -1j\n",
      "(0, 1, 0, 0, 10) 1j\n",
      "(0, 1, 0, 0, 14) -1j\n",
      "(0, 1, 1, 0, 2) -1j\n",
      "(0, 1, 1, 0, 3) -1j\n",
      "(0, 1, 1, 0, 5) 1j\n",
      "(0, 1, 1, 0, 8) 1j\n",
      "(0, 1, 1, 0, 12) -1j\n",
      "(0, 1, 1, 0, 14) 1j\n",
      "(1, 0, 0, 1, 1) 1j\n",
      "(1, 0, 0, 1, 4) -1j\n",
      "(1, 0, 0, 1, 11) 1j\n",
      "(1, 0, 0, 1, 13) -1j\n",
      "(1, 0, 1, 1, 1) -1j\n",
      "(1, 0, 1, 1, 6) 1j\n",
      "(1, 0, 1, 1, 9) 1j\n",
      "(1, 0, 1, 1, 11) -1j\n",
      "(1, 1, 0, 1, 1) (1+0j)\n",
      "(1, 1, 0, 1, 4) (1+0j)\n",
      "(1, 1, 0, 1, 11) (1+0j)\n",
      "(1, 1, 0, 1, 13) (1+0j)\n",
      "(1, 1, 1, 1, 1) (1+0j)\n",
      "(1, 1, 1, 1, 6) (1+0j)\n",
      "(1, 1, 1, 1, 9) (1+0j)\n",
      "(1, 1, 1, 1, 11) (1+0j)\n"
     ]
    }
   ],
   "source": [
    "# view the irrep bases (just change the repi variable below to choose the irrep)\n",
    "repi = 'E1'\n",
    "lMax = 3\n",
    "nelem = lMax * (lMax+2)\n",
    "W = gen_hexlattice_Kpoint_svwf_rep(lMax,1)[repi]\n",
    "#v = np.zeros((2,2,nelem))\n",
    "#v[0,0,0] = 1\n",
    "v = np.ones((2,2,nelem))\n",
    "v1 = np.tensordot(W,v, axes = ([-3,-2,-1],[0,1,2]))\n",
    "\n",
    "for index, x in np.ndenumerate(v1):\n",
    "    if x!=0:\n",
    "        print(index, x)"
   ]
  },
  {
   "cell_type": "code",
   "execution_count": 57,
   "metadata": {
    "collapsed": false
   },
   "outputs": [
    {
     "data": {
      "text/plain": [
       "(2, 2, 2, 2, 3, 2, 2, 3)"
      ]
     },
     "execution_count": 57,
     "metadata": {},
     "output_type": "execute_result"
    }
   ],
   "source": [
    "W.shape"
   ]
  },
  {
   "cell_type": "code",
   "execution_count": null,
   "metadata": {
    "collapsed": true
   },
   "outputs": [],
   "source": []
  }
 ],
 "metadata": {
  "anaconda-cloud": {},
  "kernelspec": {
   "display_name": "Python [default]",
   "language": "python",
   "name": "python3"
  },
  "language_info": {
   "codemirror_mode": {
    "name": "ipython",
    "version": 3
   },
   "file_extension": ".py",
   "mimetype": "text/x-python",
   "name": "python",
   "nbconvert_exporter": "python",
   "pygments_lexer": "ipython3",
   "version": "3.5.2"
  }
 },
 "nbformat": 4,
 "nbformat_minor": 2
}
