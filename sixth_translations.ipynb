{
 "cells": [
  {
   "cell_type": "markdown",
   "metadata": {},
   "source": [
    "# Testing of qpms.hexpoints\n",
    "The hexpoints module contains functions to generate 2D triangular lattice\n",
    "points around the origin, hexagonal lattice complement to the triangular lattice,\n",
    "and a indices to select important subsets of the generated lattices, \n",
    "in order to utilize symmetries to speed up computations of the multipole \n",
    "translation operators on the lattices."
   ]
  },
  {
   "cell_type": "code",
   "execution_count": 1,
   "metadata": {
    "collapsed": true
   },
   "outputs": [],
   "source": [
    "import qpms\n",
    "from qpms import generate_trianglepoints, generate_trianglepoints_hexcomplement\n",
    "import numpy as np\n",
    "from numpy import newaxis as nx\n",
    "import math\n",
    "import cmath\n",
    "import os\n",
    "from scipy.constants import c, e as eV, hbar\n",
    "s3 = math.sqrt(3)\n",
    "J_scat = 3"
   ]
  },
  {
   "cell_type": "code",
   "execution_count": 2,
   "metadata": {
    "collapsed": false
   },
   "outputs": [
    {
     "data": {
      "text/plain": [
       "<matplotlib.collections.PathCollection at 0x7f79b103a588>"
      ]
     },
     "execution_count": 2,
     "metadata": {},
     "output_type": "execute_result"
    },
    {
     "data": {
      "image/png": "[encoded data removed]",
      "text/plain": [
       "<matplotlib.figure.Figure at 0x7f79b077c358>"
      ]
     },
     "metadata": {},
     "output_type": "display_data"
    }
   ],
   "source": [
    "%matplotlib inline\n",
    "from matplotlib import pyplot as plt\n",
    "maxlayer = 10\n",
    "ares =  generate_trianglepoints(maxlayer, circular=True, sixthindices = True, mirrorindices=True)\n",
    "si = ares['si']\n",
    "mi = ares['mi']\n",
    "nmi = ares['nmi']\n",
    "#print(si, mi, nmi)\n",
    "apoints = ares['points'][mi[1]]\n",
    "bpoints = ares['points'][mi[0]]\n",
    "cpoints = ares['points'][nmi]\n",
    "allpoints = np.concatenate((apoints, bpoints, cpoints), axis=0)\n",
    "#print(len(apoints))\n",
    "col=np.concatenate((np.full((len(apoints),),1, dtype=int),np.full((len(bpoints),),2, dtype=int), np.full((len(cpoints),),3, dtype=int)))\n",
    "plt.scatter(allpoints[:,0], allpoints[:,1], c=col, s=40\n",
    "           )"
   ]
  },
  {
   "cell_type": "code",
   "execution_count": 3,
   "metadata": {
    "collapsed": false
   },
   "outputs": [
    {
     "name": "stdout",
     "output_type": "stream",
     "text": [
      "1 loop, best of 3: 329 ms per loop\n"
     ]
    }
   ],
   "source": [
    "%timeit generate_trianglepoints(1000,include_origin=True, sixthindices=True, mirrorindices=True, circular=True)"
   ]
  },
  {
   "cell_type": "code",
   "execution_count": 4,
   "metadata": {
    "collapsed": false
   },
   "outputs": [
    {
     "name": "stdout",
     "output_type": "stream",
     "text": [
      "1 loop, best of 3: 271 ms per loop\n"
     ]
    }
   ],
   "source": [
    "%timeit generate_trianglepoints_hexcomplement(1000, thirdindices=True, mirrorindices=True, circular=False)"
   ]
  },
  {
   "cell_type": "code",
   "execution_count": 5,
   "metadata": {
    "collapsed": false
   },
   "outputs": [
    {
     "name": "stdout",
     "output_type": "stream",
     "text": [
      "23108852.258916322\n"
     ]
    }
   ],
   "source": [
    "#----------------\n",
    "\n",
    "epsilon_b = 2.3104\n",
    "hexside = 375e-9\n",
    "lMax = 3\n",
    "maxlayer = 33 \n",
    "\n",
    "omega_eV=3.\n",
    "\n",
    "my, ny = qpms.get_mn_y(lMax)\n",
    "nelem = len(my)\n",
    "\n",
    "\n",
    "\n",
    "omega = omega_eV * eV / hbar\n",
    "\n",
    "k_0 = omega * math.sqrt(epsilon_b) / c\n",
    "print(k_0)\n",
    "\n",
    "#Mie-type T-matrix\n",
    "ω_p = 9*eV/hbar\n",
    "ε_inf = 4.6\n",
    "γ_p = 0.1*eV/hbar\n",
    "part_radius = 50e-9\n",
    "epsilon_i = qpms.ε_drude(ε_inf, ω_p, γ_p, omega)\n",
    "k_i = cmath.sqrt(epsilon_i)*omega/c\n",
    "\n",
    "\n",
    "trianglepoints=generate_trianglepoints(maxlayer)\n",
    "trianglepoints_complement=generate_trianglepoints_hexcomplement(maxlayer)\n",
    "\n",
    "unitcell_translations = hexside*s3*trianglepoints\n",
    "u2d_translations= hexside*s3*trianglepoints_complement\n",
    "d2u_translations= -hexside*s3*trianglepoints_complement\n",
    "\n",
    "a_self = np.empty((unitcell_translations.shape[0],nelem, nelem), dtype=complex)\n",
    "b_self = np.empty((unitcell_translations.shape[0],nelem, nelem), dtype=complex)\n",
    "a_u2d = np.empty((u2d_translations.shape[0],nelem,nelem), dtype=complex)\n",
    "b_u2d = np.empty((u2d_translations.shape[0],nelem,nelem), dtype=complex)\n",
    "a_d2u = np.empty((u2d_translations.shape[0],nelem,nelem), dtype=complex)\n",
    "b_d2u = np.empty((u2d_translations.shape[0],nelem,nelem), dtype=complex)\n",
    "\n",
    "for j in range(a_self.shape[0]):\n",
    "    d_i2j = qpms.cart2sph(unitcell_translations[j])\n",
    "    for yi in range(nelem):\n",
    "        for yj in range(nelem):\n",
    "            #print(my[yj],ny[yj],my[yi],ny[yi],d_i2j[0]*k_0,d_i2j[1],d_i2j[2],False,J_scat)\n",
    "            a_self[j, yj, yi] = qpms.Ã(my[yj],ny[yj],my[yi],ny[yi],kdlj=d_i2j[0]*k_0,θlj=d_i2j[1],φlj=d_i2j[2],r_ge_d=False,J=J_scat)\n",
    "            b_self[j, yj, yi] = qpms.B̃(my[yj],ny[yj],my[yi],ny[yi],kdlj=d_i2j[0]*k_0,θlj=d_i2j[1],φlj=d_i2j[2],r_ge_d=False,J=J_scat)\n",
    "for j in range(a_u2d.shape[0]):\n",
    "    d_i2j = qpms.cart2sph(u2d_translations[j])\n",
    "    for yi in range(nelem):\n",
    "        for yj in range(nelem):\n",
    "            a_u2d[j, yj, yi] = qpms.Ã(my[yj],ny[yj],my[yi],ny[yi],kdlj=d_i2j[0]*k_0,θlj=d_i2j[1],φlj=d_i2j[2],r_ge_d=False,J=J_scat)\n",
    "            b_u2d[j, yj, yi] = qpms.B̃(my[yj],ny[yj],my[yi],ny[yi],kdlj=d_i2j[0]*k_0,θlj=d_i2j[1],φlj=d_i2j[2],r_ge_d=False,J=J_scat)\n",
    "for j in range(a_d2u.shape[0]):\n",
    "    d_i2j = qpms.cart2sph(d2u_translations[j])\n",
    "    for yi in range(nelem):\n",
    "        for yj in range(nelem):\n",
    "            a_d2u[j, yj, yi] = qpms.Ã(my[yj],ny[yj],my[yi],ny[yi],kdlj=d_i2j[0]*k_0,θlj=d_i2j[1],φlj=d_i2j[2],r_ge_d=False,J=J_scat)\n",
    "            b_d2u[j, yj, yi] = qpms.B̃(my[yj],ny[yj],my[yi],ny[yi],kdlj=d_i2j[0]*k_0,θlj=d_i2j[1],φlj=d_i2j[2],r_ge_d=False,J=J_scat)\n",
    "\n",
    "output_prefix = './diracpoints-data/testing/%d/' % maxlayer\n",
    "\n",
    "os.makedirs(output_prefix, exist_ok=True)\n",
    "np.savez(output_prefix+str(omega_eV),\n",
    "\tomega = omega,\n",
    "\ta_self=a_self, b_self=b_self, a_u2d=a_u2d, b_u2d=b_u2d,\ta_d2u=a_d2u, b_d2u=b_d2u,\n",
    "\tunitcell_translations=unitcell_translations,u2d_translations=u2d_translations,\n",
    "\t#u2d_translations_0=u2d_translations_0\n",
    "\t)"
   ]
  },
  {
   "cell_type": "markdown",
   "metadata": {},
   "source": [
    "# Test of the translation coefficients obtained by symmetry"
   ]
  },
  {
   "cell_type": "code",
   "execution_count": 6,
   "metadata": {
    "collapsed": true
   },
   "outputs": [],
   "source": [
    "tpdict=generate_trianglepoints(maxlayer, sixthindices=True, mirrorindices=True)\n",
    "tpdict_complement=generate_trianglepoints_hexcomplement(maxlayer, thirdindices=True, mirrorindices=True)\n",
    "ti = tpdict_complement['ti']\n",
    "si = tpdict['si']\n",
    "a_self_new = np.empty(a_self.shape, dtype=complex)\n",
    "b_self_new = np.empty(b_self.shape, dtype=complex)\n",
    "a_u2d_new = np.empty(a_u2d.shape, dtype=complex)\n",
    "b_u2d_new = np.empty(b_u2d.shape, dtype=complex)\n",
    "a_d2u_new = np.empty(a_u2d.shape, dtype=complex)\n",
    "b_d2u_new = np.empty(b_u2d.shape, dtype=complex)"
   ]
  },
  {
   "cell_type": "markdown",
   "metadata": {},
   "source": [
    "## Triangular lattices, 2π/6 rotations only"
   ]
  },
  {
   "cell_type": "code",
   "execution_count": 7,
   "metadata": {
    "collapsed": false
   },
   "outputs": [
    {
     "name": "stdout",
     "output_type": "stream",
     "text": [
      "3.67140130007e-13 3.61229347096e-13\n"
     ]
    },
    {
     "name": "stderr",
     "output_type": "stream",
     "text": [
      "/u/46/necadam1/unix/miniconda3/lib/python3.5/site-packages/ipykernel/__main__.py:6: RuntimeWarning: invalid value encountered in true_divide\n",
      "/u/46/necadam1/unix/miniconda3/lib/python3.5/site-packages/ipykernel/__main__.py:7: RuntimeWarning: invalid value encountered in true_divide\n"
     ]
    }
   ],
   "source": [
    "a_self_new[si[0]] = a_self[si[0]]\n",
    "b_self_new[si[0]] = b_self[si[0]]\n",
    "for i in range(1,6):\n",
    "    a_self_new[si[i],:,:] = a_self_new[si[0],:,:] * np.exp(1j*2*math.pi/6*i*(my[nx,:]-my[:,nx]))\n",
    "    b_self_new[si[i],:,:] = b_self_new[si[0],:,:] * np.exp(1j*2*math.pi/6*i*(my[nx,:]-my[:,nx]))\n",
    "print( np.max(np.nan_to_num(np.abs(a_self_new-a_self)/np.abs(a_self))),\n",
    "       np.max(np.nan_to_num(np.abs(b_self_new-b_self)/np.abs(b_self))),)\n",
    "       "
   ]
  },
  {
   "cell_type": "markdown",
   "metadata": {},
   "source": [
    "~ 3.6e-13 relative error. Not that bad.\n",
    "## Triangular lattices, mirror and 2π/6 rotations"
   ]
  },
  {
   "cell_type": "code",
   "execution_count": 8,
   "metadata": {
    "collapsed": false
   },
   "outputs": [
    {
     "name": "stdout",
     "output_type": "stream",
     "text": [
      "3.4467352179e-13 3.51558542283e-13\n"
     ]
    },
    {
     "name": "stderr",
     "output_type": "stream",
     "text": [
      "/u/46/necadam1/unix/miniconda3/lib/python3.5/site-packages/ipykernel/__main__.py:13: RuntimeWarning: invalid value encountered in true_divide\n",
      "/u/46/necadam1/unix/miniconda3/lib/python3.5/site-packages/ipykernel/__main__.py:14: RuntimeWarning: invalid value encountered in true_divide\n"
     ]
    }
   ],
   "source": [
    "mi = tpdict['mi']\n",
    "nmi = tpdict['nmi']\n",
    "a_self_new[nmi] = a_self[nmi]\n",
    "b_self_new[nmi] = b_self[nmi]\n",
    "a_self_new[mi[0]] = a_self[mi[0]]\n",
    "b_self_new[mi[0]] = b_self[mi[0]]\n",
    "mirrorangles = (qpms.cart2sph(unitcell_translations[mi[1]]) - qpms.cart2sph(unitcell_translations[mi[0]]))[:,2]\n",
    "a_self_new[mi[1],:,:] = a_self_new[mi[0],:,:] * np.exp(1j*mirrorangles[:,nx,nx]*(my[nx,nx,:]-my[nx,:,nx]))\n",
    "b_self_new[mi[1],:,:] = b_self_new[mi[0],:,:] * np.exp(1j*mirrorangles[:,nx,nx]*(my[nx,nx,:]-my[nx,:,nx]))\n",
    "for i in range(1,6):\n",
    "    a_self_new[si[i],:,:] = a_self_new[si[0],:,:] * np.exp(1j*2*math.pi/6*i*(my[nx,:]-my[:,nx]))\n",
    "    b_self_new[si[i],:,:] = b_self_new[si[0],:,:] * np.exp(1j*2*math.pi/6*i*(my[nx,:]-my[:,nx]))\n",
    "print( np.max(np.nan_to_num(np.abs(a_self_new-a_self)/np.abs(a_self))),\n",
    "       np.max(np.nan_to_num(np.abs(b_self_new-b_self)/np.abs(b_self))),)"
   ]
  },
  {
   "cell_type": "markdown",
   "metadata": {},
   "source": [
    "~ 3.5e-13 relative error. Again quite nice.\n",
    "## Hexagonal lattice complement, 2π/3 rotations"
   ]
  },
  {
   "cell_type": "code",
   "execution_count": 9,
   "metadata": {
    "collapsed": false
   },
   "outputs": [
    {
     "name": "stderr",
     "output_type": "stream",
     "text": [
      "/u/46/necadam1/unix/miniconda3/lib/python3.5/site-packages/ipykernel/__main__.py:6: RuntimeWarning: invalid value encountered in true_divide\n",
      "/u/46/necadam1/unix/miniconda3/lib/python3.5/site-packages/ipykernel/__main__.py:7: RuntimeWarning: invalid value encountered in true_divide\n"
     ]
    },
    {
     "name": "stdout",
     "output_type": "stream",
     "text": [
      "2.97389351153e-13 3.02264819503e-13\n"
     ]
    }
   ],
   "source": [
    "a_u2d_new[ti[0]] = a_u2d[ti[0]]\n",
    "b_u2d_new[ti[0]] = b_u2d[ti[0]]\n",
    "for i in range(1,3):\n",
    "    a_u2d_new[ti[i],:,:] = a_u2d_new[ti[0],:,:] * np.exp(1j*2*math.pi/3*i*(my[nx,:]-my[:,nx]))\n",
    "    b_u2d_new[ti[i],:,:] = b_u2d_new[ti[0],:,:] * np.exp(1j*2*math.pi/3*i*(my[nx,:]-my[:,nx]))\n",
    "print( np.max(np.nan_to_num(np.abs(a_u2d_new-a_u2d)/np.abs(a_u2d))),\n",
    "       np.max(np.nan_to_num(np.abs(b_u2d_new-b_u2d)/np.abs(b_u2d))),)"
   ]
  },
  {
   "cell_type": "markdown",
   "metadata": {},
   "source": [
    "~3e-13 relative error. Still OK!\n",
    "## Hexagonal lattice complement, mirror and 2π/3 rotations"
   ]
  },
  {
   "cell_type": "code",
   "execution_count": 10,
   "metadata": {
    "collapsed": false
   },
   "outputs": [
    {
     "name": "stderr",
     "output_type": "stream",
     "text": [
      "/u/46/necadam1/unix/miniconda3/lib/python3.5/site-packages/ipykernel/__main__.py:13: RuntimeWarning: invalid value encountered in true_divide\n"
     ]
    },
    {
     "name": "stdout",
     "output_type": "stream",
     "text": [
      "2.97389351153e-13 3.02372252736e-13\n"
     ]
    },
    {
     "name": "stderr",
     "output_type": "stream",
     "text": [
      "/u/46/necadam1/unix/miniconda3/lib/python3.5/site-packages/ipykernel/__main__.py:14: RuntimeWarning: invalid value encountered in true_divide\n"
     ]
    }
   ],
   "source": [
    "mi = tpdict_complement['mi']\n",
    "nmi = tpdict_complement['nmi']\n",
    "a_u2d_new[nmi] = a_u2d[nmi]\n",
    "b_u2d_new[nmi] = b_u2d[nmi]\n",
    "a_u2d_new[mi[0]] = a_u2d[mi[0]]\n",
    "b_u2d_new[mi[0]] = b_u2d[mi[0]]\n",
    "mirrorangles = (qpms.cart2sph(u2d_translations[mi[1]]) - qpms.cart2sph(u2d_translations[mi[0]]))[:,2]\n",
    "a_u2d_new[mi[1],:,:] = a_u2d_new[mi[0],:,:] * np.exp(1j*mirrorangles[:,nx,nx]*(my[nx,nx,:]-my[nx,:,nx]))\n",
    "b_u2d_new[mi[1],:,:] = b_u2d_new[mi[0],:,:] * np.exp(1j*mirrorangles[:,nx,nx]*(my[nx,nx,:]-my[nx,:,nx]))\n",
    "for i in range(1,3):\n",
    "    a_u2d_new[ti[i],:,:] = a_u2d_new[ti[0],:,:] * np.exp(1j*2*math.pi/3*i*(my[nx,:]-my[:,nx]))\n",
    "    b_u2d_new[ti[i],:,:] = b_u2d_new[ti[0],:,:] * np.exp(1j*2*math.pi/3*i*(my[nx,:]-my[:,nx]))\n",
    "print( np.max(np.nan_to_num(np.abs(a_u2d_new-a_u2d)/np.abs(a_u2d))),\n",
    "       np.max(np.nan_to_num(np.abs(b_u2d_new-b_u2d)/np.abs(b_u2d))),)"
   ]
  },
  {
   "cell_type": "markdown",
   "metadata": {},
   "source": [
    "~3e-13 relative error. Still OK!\n",
    "## Hexagonal lattice complement, opposite direction by π rotation"
   ]
  },
  {
   "cell_type": "code",
   "execution_count": 11,
   "metadata": {
    "collapsed": false
   },
   "outputs": [
    {
     "name": "stderr",
     "output_type": "stream",
     "text": [
      "/u/46/necadam1/unix/miniconda3/lib/python3.5/site-packages/ipykernel/__main__.py:3: RuntimeWarning: invalid value encountered in true_divide\n",
      "  app.launch_new_instance()\n"
     ]
    },
    {
     "name": "stdout",
     "output_type": "stream",
     "text": [
      "2.97389351153e-13 3.0231172602e-13\n"
     ]
    },
    {
     "name": "stderr",
     "output_type": "stream",
     "text": [
      "/u/46/necadam1/unix/miniconda3/lib/python3.5/site-packages/ipykernel/__main__.py:4: RuntimeWarning: invalid value encountered in true_divide\n"
     ]
    }
   ],
   "source": [
    "a_d2u_new[:,:,:] = a_u2d_new[:,:,:] * np.exp(1j*math.pi*(my[nx,:]-my[:,nx]))\n",
    "b_d2u_new[:,:,:] = b_u2d_new[:,:,:] * np.exp(1j*math.pi*(my[nx,:]-my[:,nx]))\n",
    "print( np.max(np.nan_to_num(np.abs(a_d2u_new-a_d2u)/np.abs(a_d2u))),\n",
    "       np.max(np.nan_to_num(np.abs(b_d2u_new-b_d2u)/np.abs(b_d2u))),)"
   ]
  },
  {
   "cell_type": "code",
   "execution_count": 12,
   "metadata": {
    "collapsed": false
   },
   "outputs": [
    {
     "name": "stdout",
     "output_type": "stream",
     "text": [
      "3.88736960405e-15 3.68907678183e-15\n"
     ]
    },
    {
     "name": "stderr",
     "output_type": "stream",
     "text": [
      "/u/46/necadam1/unix/miniconda3/lib/python3.5/site-packages/ipykernel/__main__.py:4: RuntimeWarning: invalid value encountered in true_divide\n",
      "/u/46/necadam1/unix/miniconda3/lib/python3.5/site-packages/ipykernel/__main__.py:5: RuntimeWarning: invalid value encountered in true_divide\n"
     ]
    }
   ],
   "source": [
    "#alternative way (from the original source)\n",
    "a_d2u_new[:,:,:] = a_u2d[:,:,:] * np.exp(1j*math.pi*(my[nx,:]-my[:,nx]))\n",
    "b_d2u_new[:,:,:] = b_u2d[:,:,:] * np.exp(1j*math.pi*(my[nx,:]-my[:,nx]))\n",
    "print( np.max(np.nan_to_num(np.abs(a_d2u_new-a_d2u)/np.abs(a_d2u))),\n",
    "       np.max(np.nan_to_num(np.abs(b_d2u_new-b_d2u)/np.abs(b_d2u))),)"
   ]
  },
  {
   "cell_type": "code",
   "execution_count": 13,
   "metadata": {
    "collapsed": false
   },
   "outputs": [
    {
     "name": "stdout",
     "output_type": "stream",
     "text": [
      "3.13962640051e-15 3.08816910101e-15\n"
     ]
    },
    {
     "name": "stderr",
     "output_type": "stream",
     "text": [
      "/u/46/necadam1/unix/miniconda3/lib/python3.5/site-packages/ipykernel/__main__.py:4: RuntimeWarning: invalid value encountered in true_divide\n",
      "/u/46/necadam1/unix/miniconda3/lib/python3.5/site-packages/ipykernel/__main__.py:5: RuntimeWarning: invalid value encountered in true_divide\n"
     ]
    }
   ],
   "source": [
    "#one more way (avoid complex exp)\n",
    "a_d2u_new[:,:,:] = a_u2d[:,:,:] * (-1)**(my[nx,:]-my[:,nx])\n",
    "b_d2u_new[:,:,:] = b_u2d[:,:,:] * (-1)**(my[nx,:]-my[:,nx])\n",
    "print( np.max(np.nan_to_num(np.abs(a_d2u_new-a_d2u)/np.abs(a_d2u))),\n",
    "       np.max(np.nan_to_num(np.abs(b_d2u_new-b_d2u)/np.abs(b_d2u))),)"
   ]
  },
  {
   "cell_type": "markdown",
   "metadata": {},
   "source": [
    "# Can we achieve better asymptotic complexity by calculating translation coeffs for each distance only once?\n",
    "\n",
    "In other words, with fixed centre in some (triangular) lattice point, is the density of circles intersecting \n",
    "other lattice points (more precisely, density of their radii R) proportional to R^2 or is it something better?\n",
    "\n",
    "The answer (as can be seen from numerics below) seems to be negative. So, in theory, we could \n",
    "speed things up by some constant factor, but we can not improve the time complexity this way.\n",
    "\n",
    "Btw, the relevant thing has the '_cor' suffix. Ignore the stuff without it."
   ]
  },
  {
   "cell_type": "code",
   "execution_count": 14,
   "metadata": {
    "collapsed": false
   },
   "outputs": [],
   "source": [
    "maxvertcount = 8000\n",
    "maxhorcount = int(maxvertcount*2/s3)\n",
    "\n",
    "#ignore this:\n",
    "r2s = set()\n",
    "for i in range(maxvertcount):\n",
    "    for j in range(maxhorcount):\n",
    "        r2 = i**2 + 3*j**2\n",
    "        if (r2 > maxvertcount**2):\n",
    "            break\n",
    "        r2 //= 4\n",
    "        r2s.add(r2)\n"
   ]
  },
  {
   "cell_type": "code",
   "execution_count": 15,
   "metadata": {
    "collapsed": true
   },
   "outputs": [],
   "source": [
    "# this is the correct way (evens with evens, odds with odds)\n",
    "r2s_cor = set()\n",
    "for i in range(maxvertcount//2):\n",
    "    for j in range(maxhorcount//2):\n",
    "        r2 = (2*i)**2 + (2*3*j)**2\n",
    "        if (r2 > maxvertcount**2):\n",
    "            break\n",
    "        r2 //= 4\n",
    "        r2s_cor.add(r2)\n",
    "        r2 = (2*i+1)**2 + (3*(2*j+1))**2\n",
    "        if (r2 > maxvertcount**2):\n",
    "            break\n",
    "        r2 //= 4\n",
    "        r2s_cor.add(r2)\n",
    "\n",
    "        "
   ]
  },
  {
   "cell_type": "code",
   "execution_count": 16,
   "metadata": {
    "collapsed": true
   },
   "outputs": [],
   "source": [
    "r2sa = np.array(sorted(r2s))\n",
    "r2sa_cor = np.array(sorted(r2s_cor))"
   ]
  },
  {
   "cell_type": "code",
   "execution_count": 17,
   "metadata": {
    "collapsed": false
   },
   "outputs": [],
   "source": [
    "hits = np.zeros((max(r2s)+1,), dtype=bool)\n",
    "hits[r2sa] = True\n",
    "cumhits = np.cumsum(hits)\n",
    "hits_cor = np.zeros((max(r2s)+1,), dtype=bool)\n",
    "hits_cor[r2sa_cor] = True\n",
    "cumhits_cor = np.cumsum(hits_cor)"
   ]
  },
  {
   "cell_type": "code",
   "execution_count": 18,
   "metadata": {
    "collapsed": false
   },
   "outputs": [
    {
     "data": {
      "text/plain": [
       "(0.40392400011489205, 0.20830417448098909)"
      ]
     },
     "execution_count": 18,
     "metadata": {},
     "output_type": "execute_result"
    },
    {
     "data": {
      "image/png": "[encoded data removed]",
      "text/plain": [
       "<matplotlib.figure.Figure at 0x7f79b06cd6a0>"
      ]
     },
     "metadata": {},
     "output_type": "display_data"
    }
   ],
   "source": [
    "%matplotlib inline\n",
    "from matplotlib import pyplot as plt\n",
    "plt.plot(np.arange(len(cumhits)), cumhits, 'r',\n",
    "        np.arange(len(cumhits)), np.arange(len(cumhits)), 'g',\n",
    "        np.arange(len(cumhits)), cumhits_cor, 'b')\n",
    "cumhits_cor[-1] / cumhits[-1], cumhits_cor[-1]/len(cumhits)"
   ]
  },
  {
   "cell_type": "code",
   "execution_count": null,
   "metadata": {
    "collapsed": true
   },
   "outputs": [],
   "source": []
  }
 ],
 "metadata": {
  "anaconda-cloud": {},
  "kernelspec": {
   "display_name": "Python [conda root]",
   "language": "python",
   "name": "conda-root-py"
  },
  "language_info": {
   "codemirror_mode": {
    "name": "ipython",
    "version": 3
   },
   "file_extension": ".py",
   "mimetype": "text/x-python",
   "name": "python",
   "nbconvert_exporter": "python",
   "pygments_lexer": "ipython3",
   "version": "3.5.2"
  }
 },
 "nbformat": 4,
 "nbformat_minor": 2
}
