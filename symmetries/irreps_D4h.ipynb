{
 "cells": [
  {
   "cell_type": "code",
   "execution_count": 12,
   "metadata": {},
   "outputs": [],
   "source": [
    "from qpms.cybspec import BaseSpec\n",
    "from qpms.cytmatrices import TMatrixGenerator\n",
    "from qpms.qpms_c import Particle, ScatteringSystem, FinitePointGroup\n",
    "from qpms.cymaterials import EpsMu, EpsMuGenerator\n",
    "from qpms.symmetries import point_group_info\n",
    "import numpy as np\n",
    "\n",
    "bg = EpsMu(1)\n",
    "tmgen=TMatrixGenerator.sphere(bg, EpsMu(2.0+0.1j), r=0.5, )\n",
    "\n",
    "# Create a dummy single-particle scatsystem\n",
    "bspec = BaseSpec(lMax=2)\n",
    "particles = [Particle((0,0,0), tmgen, bspec)]\n",
    "ss, ssw = ScatteringSystem.create(particles, bg, FinitePointGroup(point_group_info['D4h']),1)"
   ]
  },
  {
   "cell_type": "code",
   "execution_count": 20,
   "metadata": {},
   "outputs": [
    {
     "data": {
      "text/plain": [
       "(array([2, 2, 2, 2, 2, 2, 2, 2, 1, 1, 1, 1, 1, 1, 1, 1], dtype=int32),\n",
       " array([1, 1, 1, 2, 2, 2, 2, 2, 1, 1, 1, 2, 2, 2, 2, 2], dtype=int32),\n",
       " array([-1,  0,  1, -2, -1,  0,  1,  2, -1,  0,  1, -2, -1,  0,  1,  2], dtype=int32))"
      ]
     },
     "execution_count": 20,
     "metadata": {},
     "output_type": "execute_result"
    }
   ],
   "source": [
    "ss.saecv_sizes\n",
    "ss.irrep_names\n",
    "t, l"
   ]
  },
  {
   "cell_type": "code",
   "execution_count": 22,
   "metadata": {},
   "outputs": [
    {
     "name": "stdout",
     "output_type": "stream",
     "text": [
      "A1'\n",
      "(E 2 0) (0.8320502943378436+0.554700196225229j)\n",
      "A1''\n",
      "(M 2 0) (0.8320502943378436+0.554700196225229j)\n",
      "A2'\n",
      "(M 1 0) (0.757391958781565-0.6529605047573891j)\n",
      "A2''\n",
      "(E 1 0) (0.757391958781565-0.6529605047573891j)\n",
      "B1'\n",
      "(E 2 -2) (-0.7071067811865476+0j)\n",
      "(E 2 2) (-0.7071067811865475-7.041364024482813e-17j)\n",
      "B1''\n",
      "(M 2 -2) (-0.7071067811865476+0j)\n",
      "(M 2 2) (-0.7071067811865475-7.041364024482813e-17j)\n",
      "B2'\n",
      "(E 2 -2) (-0.7071067811865476+0j)\n",
      "(E 2 2) (0.7071067811865475+7.041364024482813e-17j)\n",
      "B2''\n",
      "(M 2 -2) (-0.7071067811865476+0j)\n",
      "(M 2 2) (0.7071067811865475+7.041364024482813e-17j)\n",
      "E'\n",
      "(E 1 -1) (-1+0j)\n",
      "(M 2 1) (-1+0j)\n",
      "(E 1 1) (-1+0j)\n",
      "(M 2 -1) (-1+0j)\n",
      "E''\n",
      "(E 2 1) (-1+0j)\n",
      "(M 1 1) (-1+0j)\n",
      "(E 2 -1) (1+0j)\n",
      "(M 1 -1) (-1+0j)\n"
     ]
    }
   ],
   "source": [
    "t, l, m = bspec.tlm()\n",
    "tc = [(\"E\" if typ == 2 else \"M\") for typ in t]\n",
    "for iri in range(ss.nirreps):\n",
    "    print(ss.irrep_names[iri])\n",
    "    sz = ss.saecv_sizes[iri]\n",
    "    for i in range(sz):\n",
    "        packed = np.zeros((sz,))\n",
    "        packed[i] = 1\n",
    "        unpacked = ss.unpack_vector(packed, iri)\n",
    "        for j in range(ss.fecv_size):\n",
    "            if abs(unpacked[j]) > 1e-4:\n",
    "                print(\"(%s %d %d)\" % (tc[j], l[j], m[j]), unpacked[j])\n",
    "            "
   ]
  },
  {
   "cell_type": "code",
   "execution_count": null,
   "metadata": {},
   "outputs": [],
   "source": []
  }
 ],
 "metadata": {
  "kernelspec": {
   "display_name": "Python 3",
   "language": "python",
   "name": "python3"
  },
  "language_info": {
   "codemirror_mode": {
    "name": "ipython",
    "version": 3
   },
   "file_extension": ".py",
   "mimetype": "text/x-python",
   "name": "python",
   "nbconvert_exporter": "python",
   "pygments_lexer": "ipython3",
   "version": "3.7.3"
  }
 },
 "nbformat": 4,
 "nbformat_minor": 2
}
