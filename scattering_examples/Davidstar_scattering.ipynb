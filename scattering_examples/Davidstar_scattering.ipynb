{
 "cells": [
  {
   "cell_type": "code",
   "execution_count": 1,
   "metadata": {},
   "outputs": [],
   "source": [
    "from qpms import Particle, CTMatrix, BaseSpec, FinitePointGroup, ScatteringSystem, TMatrixInterpolator, dbgmsg_enable, dbgmsg_disable, dbgmsg_active, BesselType,  eV, ℏ , TMatrixGenerator, c\n",
    "from qpms.symmetries import point_group_info\n",
    "from qpms.cymaterials import EpsMuGenerator, EpsMu, LorentzDrudeModel, lorentz_drude\n",
    "from qpms.cybspec import BaseSpec\n",
    "import numpy as np\n"
   ]
  },
  {
   "cell_type": "code",
   "execution_count": 33,
   "metadata": {},
   "outputs": [],
   "source": [
    "edge_len = 3.0e-6\n",
    "edge_npart = 7\n",
    "ω = 2.1*eV/ℏ # Currently, we need to set the frequency first and then repeat the whole process with another if needed\n",
    "refractive_index = 1.52 # for background medium\n",
    "\n",
    "h = 60e-9 # Edge particle height\n",
    "r = 60e-9 # Edge particle radius\n",
    "R = 150e-9 # Central particle radius\n",
    "\n",
    "medium = EpsMu(refractive_index**2) # non-lossy background medium with constant refr. index\n",
    "metal = lorentz_drude['Au']"
   ]
  },
  {
   "cell_type": "code",
   "execution_count": 34,
   "metadata": {},
   "outputs": [],
   "source": [
    "# T-matrix generators, currently used only once\n",
    "tmgen_edge = TMatrixGenerator.cylinder(medium, metal, r, h, lMax_extend=6)\n",
    "tmgen_central = TMatrixGenerator.sphere(medium, metal, R)"
   ]
  },
  {
   "cell_type": "code",
   "execution_count": 35,
   "metadata": {},
   "outputs": [],
   "source": [
    "# global symmetry group of the system\n",
    "sym = FinitePointGroup(point_group_info['D3h'])\n",
    "# cutoff for the smaller particles\n",
    "bspec_edge = BaseSpec(lMax=3)\n",
    "# let the central particle be larger, hence we need larger lMax\n",
    "bspec_central = BaseSpec(lMax=6)\n",
    "\n",
    "# T-matrices\n",
    "T_edge = tmgen_edge(bspec_edge, ω)\n",
    "T_central = tmgen_central(bspec_central, ω)\n",
    "\n",
    "# Generate the particle list:\n",
    "particles = [Particle((0, 0), T_central)]\n",
    "y = edge_len / (2*3**.5)\n",
    "for x in np.linspace(-edge_len/2,edge_len/2,edge_npart):\n",
    "    particles.append(Particle((x,y), T_edge))\n",
    "    particles.append(Particle((x,-y), T_edge))\n",
    "    \n",
    "# Ready to go\n",
    "ss = ScatteringSystem(particles, sym)"
   ]
  },
  {
   "cell_type": "code",
   "execution_count": 44,
   "metadata": {},
   "outputs": [
    {
     "data": {
      "text/plain": [
       "Text(0, 0.5, '$y/\\\\mathrm{\\\\mu m}$')"
      ]
     },
     "execution_count": 44,
     "metadata": {},
     "output_type": "execute_result"
    },
    {
     "data": {
      "image/png": "[encoded data removed]",
      "text/plain": [
       "<Figure size 432x288 with 1 Axes>"
      ]
     },
     "metadata": {
      "needs_background": "light"
     },
     "output_type": "display_data"
    }
   ],
   "source": [
    "# Check the generated positions\n",
    "%matplotlib inline\n",
    "from matplotlib import pyplot as plt\n",
    "pos = ss.positions[:,:2]\n",
    "f = plt.figure()\n",
    "ax = f.add_subplot(111)\n",
    "ax.plot(pos[:,0]/1e-6, pos[:,1]/1e-6, 'o')\n",
    "ax.set_aspect('equal')\n",
    "ax.set_xlabel('$x/\\mathrm{\\mu m}$')\n",
    "ax.set_ylabel('$y/\\mathrm{\\mu m}$');"
   ]
  },
  {
   "cell_type": "code",
   "execution_count": 37,
   "metadata": {},
   "outputs": [],
   "source": [
    "# Let's solve some scattering problems:\n",
    "wavenumber = medium.k(ω).real # Currently, ScatteringSystem does not \"remember\" frequency nor wavenumber\n",
    "\n",
    "#LU = [ss.scatter_solver(wavenumber, iri) for iri in range(ss.nirreps)]\n",
    "LU_full = ss.scatter_solver(wavenumber)\n",
    "\n",
    "# Try with y-polarised waves with incident direction \n",
    "# rotated along the y axis in the interval [-π/4, π/4]\n",
    "sinalpha_list = np.linspace(-1,1,51)\n",
    "σ_ext_list = list()\n",
    "σ_scat_list = list()\n",
    "\n",
    "for sinalpha in sinalpha_list:\n",
    "    ã = ss.planewave_full(k_cart=(sinalpha, 0, 1), E_cart=(0, 1, 0))\n",
    "    Tã = ss.apply_Tmatrices_full(ã)\n",
    "    f = LU_full(Tã)\n",
    "    translation_matrix = ss.translation_matrix_full(wavenumber, BesselType.REGULAR) + np.eye(ss.fecv_size) # ss.translation_matrix_full() does not fill the diagonal elements\n",
    "    σ_ext = -np.vdot(ã, f).real/wavenumber**2\n",
    "    σ_scat = np.vdot(f,np.dot(translation_matrix, f))/wavenumber**2\n",
    "    σ_ext_list.append(σ_ext)\n",
    "    σ_scat_list.append(σ_scat)\n",
    "σ_ext_list = np.array(σ_ext_list)\n",
    "σ_scat_list = np.array(σ_scat_list)\n",
    "σ_abs_list = σ_ext_list - σ_scat_list\n",
    "    \n"
   ]
  },
  {
   "cell_type": "code",
   "execution_count": 52,
   "metadata": {},
   "outputs": [
    {
     "name": "stderr",
     "output_type": "stream",
     "text": [
      "/u/46/necadam1/unix/.local/lib/python3.5/site-packages/numpy/core/_asarray.py:85: ComplexWarning: Casting complex values to real discards the imaginary part\n",
      "  return array(a, dtype, copy=False, order=order)\n"
     ]
    },
    {
     "data": {
      "image/png": "[encoded data removed]",
      "text/plain": [
       "<Figure size 432x288 with 1 Axes>"
      ]
     },
     "metadata": {
      "needs_background": "light"
     },
     "output_type": "display_data"
    }
   ],
   "source": [
    "f = plt.figure()\n",
    "ax = f.add_subplot(111)\n",
    "ax.plot(sinalpha_list, σ_ext_list*1e12,label='$\\sigma_\\mathrm{ext}$')\n",
    "ax.plot(sinalpha_list, σ_scat_list*1e12, label='$\\sigma_\\mathrm{scat}$')\n",
    "ax.plot(sinalpha_list, σ_abs_list*1e12, label='$\\sigma_\\mathrm{abs}$')\n",
    "ax.legend()\n",
    "ax.set_xlabel('$\\sin\\\\alpha$')\n",
    "ax.set_ylabel('$\\sigma/\\mathrm{\\mu m^2}$');"
   ]
  },
  {
   "cell_type": "code",
   "execution_count": null,
   "metadata": {},
   "outputs": [],
   "source": []
  }
 ],
 "metadata": {
  "kernelspec": {
   "display_name": "Python [default]",
   "language": "python",
   "name": "python3"
  },
  "language_info": {
   "codemirror_mode": {
    "name": "ipython",
    "version": 3
   },
   "file_extension": ".py",
   "mimetype": "text/x-python",
   "name": "python",
   "nbconvert_exporter": "python",
   "pygments_lexer": "ipython3",
   "version": "3.5.6"
  }
 },
 "nbformat": 4,
 "nbformat_minor": 1
}
