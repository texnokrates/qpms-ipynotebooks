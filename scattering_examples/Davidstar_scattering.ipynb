{
 "cells": [
  {
   "cell_type": "code",
   "execution_count": 22,
   "metadata": {},
   "outputs": [],
   "source": [
    "from qpms import Particle, CTMatrix, BaseSpec, FinitePointGroup, ScatteringSystem, TMatrixInterpolator, dbgmsg_enable, dbgmsg_disable, dbgmsg_active, BesselType,  eV, ℏ , TMatrixGenerator, c\n",
    "from qpms.symmetries import point_group_info\n",
    "from qpms.cymaterials import EpsMuGenerator, EpsMu, LorentzDrudeModel, lorentz_drude\n",
    "from qpms.cybspec import BaseSpec\n",
    "import numpy as np\n"
   ]
  },
  {
   "cell_type": "code",
   "execution_count": 17,
   "metadata": {},
   "outputs": [],
   "source": [
    "edge_len = 3.0e-6\n",
    "edge_npart = 7\n",
    "ω = 2.1*eV/ℏ # Currently, we need to set the frequency first and then repeat the whole process with another if needed\n",
    "refractive_index = 1.52 # for background medium\n",
    "\n",
    "h = 60e-9 # Edge particle height\n",
    "r = 70e-9 # Edge particle radius\n",
    "R = 150e-9 # Central particle radius\n",
    "\n",
    "medium = EpsMu(refractive_index**2) # non-lossy background medium with constant refr. index\n",
    "metal = lorentz_drude['Au']"
   ]
  },
  {
   "cell_type": "code",
   "execution_count": 18,
   "metadata": {},
   "outputs": [],
   "source": [
    "# T-matrix generators, currently used only once\n",
    "tmgen_edge = TMatrixGenerator.cylinder(medium, metal, r, h, lMax_extend=6)\n",
    "tmgen_central = TMatrixGenerator.sphere(medium, metal, R)"
   ]
  },
  {
   "cell_type": "code",
   "execution_count": 19,
   "metadata": {},
   "outputs": [],
   "source": [
    "# global symmetry group of the system\n",
    "sym = FinitePointGroup(point_group_info['D3h'])\n",
    "# cutoff for the smaller particles\n",
    "bspec_edge = BaseSpec(lMax=3)\n",
    "# let the central particle be larger, hence we need larger lMax\n",
    "bspec_central = BaseSpec(lMax=6)\n",
    "\n",
    "# T-matrices\n",
    "T_edge = tmgen_edge(bspec_edge, ω)\n",
    "T_central = tmgen_central(bspec_central, ω)\n",
    "\n",
    "# Generate the particle list:\n",
    "particles = [Particle((0, 0), T_central)]\n",
    "y = edge_len / (2*3**.5)\n",
    "for x in np.linspace(-edge_len/2,edge_len/2,edge_npart):\n",
    "    particles.append(Particle((x,y), T_edge))\n",
    "    particles.append(Particle((x,-y), T_edge))\n",
    "    \n",
    "# Ready to go\n",
    "ss = ScatteringSystem(particles, sym)"
   ]
  },
  {
   "cell_type": "code",
   "execution_count": 21,
   "metadata": {},
   "outputs": [
    {
     "data": {
      "text/plain": [
       "[<matplotlib.lines.Line2D at 0x7fbb8a23cf98>]"
      ]
     },
     "execution_count": 21,
     "metadata": {},
     "output_type": "execute_result"
    },
    {
     "data": {
      "image/png": "[encoded data removed]",
      "text/plain": [
       "<Figure size 432x288 with 1 Axes>"
      ]
     },
     "metadata": {
      "needs_background": "light"
     },
     "output_type": "display_data"
    }
   ],
   "source": [
    "# Check the generated positions\n",
    "%matplotlib inline\n",
    "from matplotlib import pyplot as plt\n",
    "pos = ss.positions[:,:2]\n",
    "plt.plot(pos[:,0], pos[:,1], 'o')"
   ]
  },
  {
   "cell_type": "code",
   "execution_count": 27,
   "metadata": {},
   "outputs": [],
   "source": [
    "# Let's solve some scattering problems:\n",
    "wavenumber = medium.k(ω).real # Currently, ScatteringSystem does not \"remember\" frequency nor wavenumber\n",
    "\n",
    "#LU = [ss.scatter_solver(wavenumber, iri) for iri in range(ss.nirreps)]\n",
    "LU_full = ss.scatter_solver(wavenumber)\n",
    "\n",
    "# Try with y-polarised waves with incident direction \n",
    "# rotated along the y axis in the interval [-π/4, π/4]\n",
    "sinalpha_list = np.linspace(-1,1,51)\n",
    "σ_ext_list = list()\n",
    "σ_scat_list = list()\n",
    "\n",
    "for sinalpha in sinalpha_list:\n",
    "    ã = ss.planewave_full(k_cart=(sinalpha, 0, 1), E_cart=(0, 1, 0))\n",
    "    f = LU_full(ã)\n",
    "    translation_matrix = ss.translation_matrix_full(wavenumber, BesselType.REGULAR)\n",
    "    σ_ext = -np.vdot(ã, f).real/wavenumber**2\n",
    "    σ_scat = -np.vdot(f,np.dot(translation_matrix, f))\n",
    "    σ_ext_list.append(σ_ext)\n",
    "    σ_scat_list.append(σ_scat)\n",
    "    \n"
   ]
  },
  {
   "cell_type": "code",
   "execution_count": 28,
   "metadata": {},
   "outputs": [
    {
     "data": {
      "text/plain": [
       "[-2.1948841804917656e-11,\n",
       " -2.1955402246511587e-11,\n",
       " -2.1959957672641152e-11,\n",
       " -2.1962247140203016e-11,\n",
       " -2.1962006975505304e-11,\n",
       " -2.1958978410586664e-11,\n",
       " -2.1952917323618097e-11,\n",
       " -2.1943606231046096e-11,\n",
       " -2.193086855348143e-11,\n",
       " -2.1914584990386037e-11,\n",
       " -2.189471158348815e-11,\n",
       " -2.187129872610645e-11,\n",
       " -2.1844509997699325e-11,\n",
       " -2.181463929922472e-11,\n",
       " -2.1782124385001952e-11,\n",
       " -2.174755460169902e-11,\n",
       " -2.1711670542802044e-11,\n",
       " -2.1675353500935292e-11,\n",
       " -2.1639603130148287e-11,\n",
       " -2.160550265521825e-11,\n",
       " -2.1574172257071482e-11,\n",
       " -2.1546712806501935e-11,\n",
       " -2.1524143704954406e-11,\n",
       " -2.1507339944767704e-11,\n",
       " -2.149697432694409e-11,\n",
       " -2.1493470829386036e-11,\n",
       " -2.149697432694409e-11,\n",
       " -2.1507339944767704e-11,\n",
       " -2.1524143704954416e-11,\n",
       " -2.1546712806501935e-11,\n",
       " -2.1574172257071486e-11,\n",
       " -2.1605502655218247e-11,\n",
       " -2.1639603130148293e-11,\n",
       " -2.167535350093529e-11,\n",
       " -2.171167054280205e-11,\n",
       " -2.1747554601699016e-11,\n",
       " -2.1782124385001955e-11,\n",
       " -2.1814639299224725e-11,\n",
       " -2.184450999769933e-11,\n",
       " -2.1871298726106448e-11,\n",
       " -2.189471158348815e-11,\n",
       " -2.1914584990386044e-11,\n",
       " -2.1930868553481433e-11,\n",
       " -2.1943606231046093e-11,\n",
       " -2.1952917323618103e-11,\n",
       " -2.1958978410586657e-11,\n",
       " -2.1962006975505304e-11,\n",
       " -2.196224714020302e-11,\n",
       " -2.1959957672641152e-11,\n",
       " -2.1955402246511583e-11,\n",
       " -2.1948841804917653e-11]"
      ]
     },
     "execution_count": 28,
     "metadata": {},
     "output_type": "execute_result"
    }
   ],
   "source": [
    "σ_ext_list"
   ]
  }
 ],
 "metadata": {
  "kernelspec": {
   "display_name": "Python [default]",
   "language": "python",
   "name": "python3"
  },
  "language_info": {
   "codemirror_mode": {
    "name": "ipython",
    "version": 3
   },
   "file_extension": ".py",
   "mimetype": "text/x-python",
   "name": "python",
   "nbconvert_exporter": "python",
   "pygments_lexer": "ipython3",
   "version": "3.5.6"
  }
 },
 "nbformat": 4,
 "nbformat_minor": 1
}
