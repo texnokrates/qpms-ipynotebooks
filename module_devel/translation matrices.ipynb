{
 "cells": [
  {
   "cell_type": "code",
   "execution_count": 1,
   "metadata": {},
   "outputs": [],
   "source": [
    "from qpms import CTMatrix, BaseSpec, trans_calculator, eV, hbar, dbgmsg_enable, dbgmsg_disable, dbgmsg_active, BesselType\n",
    "import numpy as np\n",
    "np.random.seed(666)"
   ]
  },
  {
   "cell_type": "code",
   "execution_count": 22,
   "metadata": {},
   "outputs": [
    {
     "data": {
      "text/plain": [
       "3"
      ]
     },
     "execution_count": 22,
     "metadata": {},
     "output_type": "execute_result"
    }
   ],
   "source": [
    "dbgmsg_enable(2)"
   ]
  },
  {
   "cell_type": "code",
   "execution_count": 32,
   "metadata": {},
   "outputs": [
    {
     "data": {
      "text/plain": [
       "<VSWFNorm.POWERNORM_CS: 65544>"
      ]
     },
     "execution_count": 32,
     "metadata": {},
     "output_type": "execute_result"
    }
   ],
   "source": [
    "bspec4 = BaseSpec(lMax=4)\n",
    "bspec2 = BaseSpec(lMax=2)\n",
    "bspecP = bspec2\n",
    "bspecQ = bspec4\n",
    "calc = trans_calculator(4, bspec4.norm)\n",
    "bspec4.norm"
   ]
  },
  {
   "cell_type": "code",
   "execution_count": 33,
   "metadata": {},
   "outputs": [],
   "source": [
    "# The translation in spherical coordinates\n",
    "kr, theta, phi = 1.3, 0.1, -.12"
   ]
  },
  {
   "cell_type": "code",
   "execution_count": 34,
   "metadata": {},
   "outputs": [],
   "source": [
    "# Regular translation first\n",
    "R1 = calc.get_trans_array_bspec_sph(bspecP,bspecQ, [kr, theta, phi], BesselType.REGULAR)\n",
    "R2 = calc.get_trans_array_bspec_sph(bspecQ,bspecP, [kr, -theta+np.pi, phi+np.pi], BesselType.REGULAR)"
   ]
  },
  {
   "cell_type": "code",
   "execution_count": 36,
   "metadata": {},
   "outputs": [
    {
     "name": "stdout",
     "output_type": "stream",
     "text": [
      "1.7763568394002505e-15\n",
      "PASS\n"
     ]
    }
   ],
   "source": [
    "# Test whether hermitian conjugation gives translation matrix in the opposite direction\n",
    "R1H = R1.T.conj()\n",
    "print(np.amax(np.abs(R1H-R2)))\n",
    "print(\"PASS\" if np.isclose(R1H, R2).all() else \"FAIL\")"
   ]
  },
  {
   "cell_type": "code",
   "execution_count": 37,
   "metadata": {},
   "outputs": [],
   "source": [
    "# Singular translation operators\n",
    "S1 = calc.get_trans_array_bspec_sph(bspecP,bspecQ, [kr, theta, phi], BesselType.HANKEL_PLUS)\n",
    "S2 = calc.get_trans_array_bspec_sph(bspecQ,bspecP, [kr, -theta+np.pi, phi+np.pi], BesselType.HANKEL_PLUS)\n",
    "S2_MINUS = calc.get_trans_array_bspec_sph(bspecQ,bspecP, [kr, -theta+np.pi, phi+np.pi], BesselType.HANKEL_MINUS)"
   ]
  },
  {
   "cell_type": "code",
   "execution_count": 39,
   "metadata": {},
   "outputs": [
    {
     "name": "stdout",
     "output_type": "stream",
     "text": [
      "1.652416285681344e-11\n",
      "PASS\n"
     ]
    }
   ],
   "source": [
    "# Test whether hermitian conjugation gives translation matrix in the opposite direction with the other type of Hankel function\n",
    "S1H = S1.T.conj()\n",
    "print(np.amax(np.abs(S1H-S2_MINUS)))\n",
    "print(\"PASS\" if np.isclose(S1H, S2_MINUS).all() else \"FAIL\")"
   ]
  },
  {
   "cell_type": "code",
   "execution_count": 44,
   "metadata": {},
   "outputs": [],
   "source": [
    "fP = np.random.rand(len(bspecP)) + 1j*np.random.rand(len(bspecP))\n",
    "fQ = np.random.rand(len(bspecQ)) + 1j*np.random.rand(len(bspecQ))"
   ]
  },
  {
   "cell_type": "code",
   "execution_count": 49,
   "metadata": {},
   "outputs": [
    {
     "data": {
      "text/plain": [
       "(20.94563854849821-1967.1635194105825j)"
      ]
     },
     "execution_count": 49,
     "metadata": {},
     "output_type": "execute_result"
    }
   ],
   "source": [
    "np.dot(fP.conj(), np.dot(S1,fQ)) + np.dot(fQ.conj(), np.dot(S2,fP))"
   ]
  },
  {
   "cell_type": "code",
   "execution_count": 50,
   "metadata": {},
   "outputs": [
    {
     "data": {
      "text/plain": [
       "(20.94563854849666-7.105427357601002e-15j)"
      ]
     },
     "execution_count": 50,
     "metadata": {},
     "output_type": "execute_result"
    }
   ],
   "source": [
    "np.dot(fP.conj(), np.dot(R1,fQ)) + np.dot(fQ.conj(), np.dot(R2,fP))"
   ]
  },
  {
   "cell_type": "code",
   "execution_count": null,
   "metadata": {},
   "outputs": [],
   "source": []
  }
 ],
 "metadata": {
  "kernelspec": {
   "display_name": "Python [default]",
   "language": "python",
   "name": "python3"
  },
  "language_info": {
   "codemirror_mode": {
    "name": "ipython",
    "version": 3
   },
   "file_extension": ".py",
   "mimetype": "text/x-python",
   "name": "python",
   "nbconvert_exporter": "python",
   "pygments_lexer": "ipython3",
   "version": "3.5.6"
  }
 },
 "nbformat": 4,
 "nbformat_minor": 1
}
