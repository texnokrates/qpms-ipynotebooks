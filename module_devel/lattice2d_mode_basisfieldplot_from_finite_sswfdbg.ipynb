{
 "cells": [
  {
   "cell_type": "code",
   "execution_count": 1,
   "metadata": {},
   "outputs": [],
   "source": [
    "from qpms import Particle, CTMatrix, lorentz_drude, EpsMuGenerator, TMatrixGenerator, BaseSpec, FinitePointGroup, ScatteringSystem, TMatrixInterpolator, EpsMu, dbgmsg_enable, dbgmsg_disable, dbgmsg_active, BesselType,eV, hbar, c\n",
    "from qpms.symmetries import point_group_info\n",
    "from qpms.cyewaldtest import scatsyswk_sswf_basis, scatsysw_eval_sswf\n",
    "from qpms.cycommon import get_mn_y_scalar, get_nelem_scalar\n",
    "import math\n",
    "import logging\n",
    "logging.basicConfig(format='%(asctime)s %(message)s', level=logging.INFO)\n",
    "import numpy as np\n",
    "eh = eV/hbar\n",
    "np.random.seed(666)\n",
    "from matplotlib import pyplot as plt\n",
    "from matplotlib import cm\n",
    "from matplotlib.backends.backend_pdf import PdfPages\n",
    "from matplotlib.patches import Rectangle, Circle\n",
    "from mpl_toolkits.axes_grid1 import AxesGrid\n",
    "\n",
    "def cleanarray(a, atol=1e-10, copy=True):\n",
    "    a = np.array(a, copy=copy)\n",
    "    sieve = abs(a.real) < atol\n",
    "    a[sieve] = 1j * a[sieve].imag\n",
    "    sieve = abs(a.imag) < atol\n",
    "    a[sieve] = a[sieve].real\n",
    "    return a"
   ]
  },
  {
   "cell_type": "code",
   "execution_count": 2,
   "metadata": {},
   "outputs": [
    {
     "data": {
      "text/plain": [
       "<DebugFlags.THREADS|MISC: 3>"
      ]
     },
     "execution_count": 2,
     "metadata": {},
     "output_type": "execute_result"
    }
   ],
   "source": [
    "dbgmsg_enable(2)\n",
    "#part_radius = 80e-9"
   ]
  },
  {
   "cell_type": "code",
   "execution_count": 3,
   "metadata": {
    "scrolled": true
   },
   "outputs": [
    {
     "data": {
      "text/plain": [
       "['meta',\n",
       " 'empty_freqs',\n",
       " 'ss_positions',\n",
       " 'ss_fullvec_poffsets',\n",
       " 'ss_fullvec_psizes',\n",
       " 'ss_bspecs_flat',\n",
       " 'ss_lattice_basis',\n",
       " 'ss_reciprocal_basis',\n",
       " 'eigval',\n",
       " 'eigval_inside_metric',\n",
       " 'eigvec',\n",
       " 'residuals',\n",
       " 'eigval_err',\n",
       " 'ranktest_SV',\n",
       " 'iri',\n",
       " 'blochvector',\n",
       " 'inside_contour',\n",
       " 'refractive_index_internal']"
      ]
     },
     "execution_count": 3,
     "metadata": {},
     "output_type": "execute_result"
    }
   ],
   "source": [
    "#modefile = '/u/46/necadam1/unix/repo/qpms/misc/modes_basis300nm_0nm__0nm_400nm_n1_b-2_k(0_0)um-1_cn150.npz' # PARAM!\n",
    "modefile='/l/necadam1/test_mode_fieldplots/cyl_r50nm_h50nm_p560nmx560nm_mAu_n1.52_b-2_k(0_0)um-1_L3_cn200.npz'\n",
    "#modefile = '/l/necadam1/sqlat-Tommi/sph_r80nm_p580nm_m5.0_n1.52_b-3_k(0_0)um-1_L3_cn3100.npz'\n",
    "data = np.load(modefile, allow_pickle=True)\n",
    "meta = data['meta'][()]\n",
    "list(data.keys())"
   ]
  },
  {
   "cell_type": "code",
   "execution_count": 4,
   "metadata": {},
   "outputs": [],
   "source": [
    "# initialise the medium and dummy t-matrix generators, so we can \"reconstruct\" the ScatSystem instance (only background medium is relevant here)\n",
    "medium = EpsMuGenerator(meta['background'])\n",
    "emg_dummy = EpsMuGenerator(10)\n",
    "tmg_dummy = TMatrixGenerator.sphere(medium, emg_dummy, 50e-9)\n",
    "try: default_omega = data['eigval'][0]\n",
    "except IndexError as ie:\n",
    "    raise ValueError(\"Data file contains no eigenvalues\") from ie\n",
    "    "
   ]
  },
  {
   "cell_type": "code",
   "execution_count": 5,
   "metadata": {},
   "outputs": [],
   "source": [
    "# create (periodic) ss, ssw; init wavevector to use with sswk constructor\n",
    "particles = []\n",
    "offsets = data['ss_fullvec_poffsets']\n",
    "nelems = data['ss_fullvec_psizes']\n",
    "for pi, pos in enumerate(data['ss_positions']):\n",
    "    bspec = BaseSpec(data['ss_bspecs_flat'][offsets[pi]:offsets[pi]+nelems[pi]])\n",
    "    particles.append(Particle(pos, tmg_dummy, bspec))\n",
    "ss, ssw = ScatteringSystem.create(particles, medium, default_omega, latticebasis = data['ss_lattice_basis'])\n",
    "wavevector = np.array([0., 0., 0.]) # it needs to be 3D for sswk \"constructor\", \n",
    "for i in range(len(meta['k'])):\n",
    "    wavevector[i] = meta['k'][i]\n",
    "    \n",
    "# determine the \"unit rectangle\" size for plotting\n",
    "lb = ss.lattice_basis\n",
    "xmax = max(abs(lb[0,0]), abs(lb[1,0]))\n",
    "ymax = max(abs(lb[0,1]), abs(lb[1,1]))\n",
    "if (xmax > ymax):\n",
    "    unitrect = (xmax, ss.unitcell_volume/xmax)\n",
    "else:\n",
    "    unitrect = (ss.unitcell_volume/ymax, ymax)"
   ]
  },
  {
   "cell_type": "code",
   "execution_count": 6,
   "metadata": {},
   "outputs": [],
   "source": [
    "lMax_sswf = max(bspec.l()*2+1)\n",
    "nelem_sswf = get_nelem_scalar(lMax_sswf)"
   ]
  },
  {
   "cell_type": "code",
   "execution_count": 7,
   "metadata": {},
   "outputs": [],
   "source": [
    "# Create the finite version of ss, ssw\n",
    "repeatrange = ((-20,21),(-20,21)) #PARAM\n",
    "latshifts = [np.arange(*repeatrange[i])[:, None] * ss.lattice_basis[i] for i in (0,1)]\n",
    "latpoints = latshifts[0][:,None,:] + latshifts[1][None,:,:]\n",
    "latpoints.shape = (latpoints.shape[0]*latpoints.shape[1],3)\n",
    "\n",
    "#latpoints = np.concatenate((latpoints[:220],latpoints[221:])) # DELETHE\n",
    "\n",
    "particles_finite = []\n",
    "for lp in latpoints:\n",
    "    for pi, pos in enumerate(data['ss_positions']):\n",
    "        bspec = BaseSpec(data['ss_bspecs_flat'][offsets[pi]:offsets[pi]+nelems[pi]])\n",
    "        particles_finite.append(Particle(lp+pos, tmg_dummy, bspec))\n",
    "ss_finite, ssw_finite = ScatteringSystem.create(particles_finite, medium, default_omega)\n"
   ]
  },
  {
   "cell_type": "code",
   "execution_count": 8,
   "metadata": {},
   "outputs": [],
   "source": [
    "eigval_i = 0 # PARAM!\n",
    "omega = data['eigval'][eigval_i]\n",
    "fvc = data['eigvec'][eigval_i]\n",
    "len_fvc = len(fvc)"
   ]
  },
  {
   "cell_type": "code",
   "execution_count": 9,
   "metadata": {},
   "outputs": [],
   "source": [
    "ssw = ss(omega)\n",
    "sswk = ssw._sswk(wavevector)"
   ]
  },
  {
   "cell_type": "code",
   "execution_count": 10,
   "metadata": {},
   "outputs": [],
   "source": [
    "ssw_finite = ss_finite(omega)\n",
    "fvc_finite = np.zeros((len_fvc * len(latpoints),), dtype=complex)\n",
    "\n",
    "# THIS IS NOT GENERAL, but only for gamma point single-particle case!!! TODO FIXME!\n",
    "for lpi, lp in enumerate(latpoints):\n",
    "    phasefac = 1 # TODO\n",
    "    fvc_finite[lpi*len_fvc:(lpi+1)*len_fvc] = fvc * phasefac\n"
   ]
  },
  {
   "cell_type": "code",
   "execution_count": 11,
   "metadata": {},
   "outputs": [
    {
     "data": {
      "text/plain": [
       "array([-8.4e-06, -2.8e-06,  0.0e+00])"
      ]
     },
     "execution_count": 11,
     "metadata": {},
     "output_type": "execute_result"
    }
   ],
   "source": [
    "ss_finite.positions[220]"
   ]
  },
  {
   "cell_type": "code",
   "execution_count": 12,
   "metadata": {},
   "outputs": [],
   "source": [
    "ucfactor = 2.2 # \"unit cell coverage\"; unitrect sizes will be multiplied by this# PARAM!\n",
    "zfactor = 5 # z range size / sqrt(unitcell_volume) size aspect ratio\n",
    "resolution = 60 # PARAM!\n",
    "sqrt_ucvol = math.sqrt(ss.unitcell_volume)\n",
    "gridsz = [math.ceil(resolution * unitrect[i] / sqrt_ucvol) for i in (0,1)] #x, y\n",
    "gridsz.append(math.ceil(zfactor / ucfactor * resolution)) # z\n",
    "gridextent = [[ -(ucfactor * unitrect[i])/2, (ucfactor * unitrect[i] / 2) ] for i in (0,1)]\n",
    "gridextent.append( [-(zfactor * sqrt_ucvol) / 2, (zfactor * sqrt_ucvol) / 2] )\n",
    "gridlines = [np.linspace(*gridextent[i], gridsz[i]) for i in range(3)]\n",
    "gridspacings = [gridlines[i][1]-gridlines[i][0] for i in range(3)] # should be very similar\n",
    "\n",
    "gridoffsets = [0.,0.,0.] # PARAM!\n",
    "\n",
    "xygrid = np.stack(np.meshgrid(gridlines[0], gridlines[1], gridoffsets[2], indexing='ij')).T\n",
    "xygrid.shape=xygrid.shape[1:]\n",
    "xygrid_s = xygrid - np.array([*gridspacings[:2], 0])/2 # correction of pcolormesh coordinates\n",
    "xzgrid = np.stack(np.meshgrid(gridlines[0], gridoffsets[1], gridlines[2], indexing='ij')).T\n",
    "xzgrid.shape = (gridsz[2], gridsz[0], 3)\n",
    "xzgrid_s = xzgrid - np.array([gridspacings[0], 0, gridspacings[2]])/2\n",
    "\n",
    "#for imshow\n",
    "lenscale = 1000e-9 #PARAM!\n",
    "xyextent = [gridextent[i][j]/lenscale for (i,j) in [(0,0),(0,1),(1,0),(1,1)]]\n",
    "xzextent = [gridextent[i][j]/lenscale for (i,j) in [(0,0),(0,1),(2,0),(2,1)]]"
   ]
  },
  {
   "cell_type": "code",
   "execution_count": 13,
   "metadata": {},
   "outputs": [
    {
     "data": {
      "text/plain": [
       "(11158313.604453105-3935.3064942051137j)"
      ]
     },
     "execution_count": 13,
     "metadata": {},
     "output_type": "execute_result"
    }
   ],
   "source": [
    "ssw_finite.wavenumber"
   ]
  },
  {
   "cell_type": "code",
   "execution_count": 14,
   "metadata": {},
   "outputs": [
    {
     "name": "stderr",
     "output_type": "stream",
     "text": [
      "2020-11-24 00:10:13,253 Start calculating xy field basis\n",
      "2020-11-24 00:10:46,003 Basis fields done\n"
     ]
    }
   ],
   "source": [
    "if False:\n",
    "    logging.info(\"Start calculating xy field basis\")\n",
    "    xy_basis = np.zeros(xygrid.shape[:-1] + (len(bspec), 3), dtype=np.clongdouble)\n",
    "    for pi in range(ss_finite.particle_count):\n",
    "        xy_basis += ssw_finite.scattered_field_basis(xygrid, particle=pi)\n",
    "    logging.info(\"Start calculating xz field basis\")\n",
    "    xz_basis = np.zeros(xzgrid.shape[:-1] + (len(bspec), 3), dtype=np.clongdouble)\n",
    "    for pi in range(ss_finite.particle_count):\n",
    "        xz_basis += ssw_finite.scattered_field_basis(xzgrid, particle=pi)\n",
    "else:\n",
    "    logging.info(\"Start calculating xy field basis\")\n",
    "    xy_basis = np.zeros(xygrid.shape[:-1] + (nelem_sswf,), dtype=np.clongdouble)\n",
    "    kcomp = np.zeros(xygrid.shape[:-1] + (nelem_sswf,), dtype=np.clongdouble)\n",
    "    cinp = np.zeros(xygrid.shape[:-1] + (nelem_sswf,), dtype=np.clongdouble)\n",
    "    nsum = np.zeros(xygrid.shape[:-1] + (nelem_sswf,), dtype=np.clongdouble)\n",
    "    for pi in range(ss_finite.particle_count):\n",
    "        cinp[...] = scatsysw_eval_sswf(ssw_finite, xygrid-ss_finite.positions[pi])\n",
    "        #cinp[...] = ssw_finite.scattered_field_basis(xygrid, particle=pi) - kcomp\n",
    "        nsum[...] = xy_basis + cinp\n",
    "        kcomp[...] = (nsum - xy_basis) - cinp\n",
    "        xy_basis[...] = nsum\n",
    "    #logging.info(\"Start calculating xz field basis\")\n",
    "    #xz_basis = np.zeros(xzgrid.shape[:-1] + (len(bspec), 3), dtype=np.clongdouble)\n",
    "    #kcomp = np.zeros(xzgrid.shape[:-1] + (len(bspec), 3), dtype=np.clongdouble)\n",
    "    #cinp = np.zeros(xzgrid.shape[:-1] + (len(bspec), 3), dtype=np.clongdouble)\n",
    "    #nsum = np.zeros(xzgrid.shape[:-1] + (len(bspec), 3), dtype=np.clongdouble)\n",
    "    #for pi in range(ss_finite.particle_count):\n",
    "    #    cinp[...] = ssw_finite.scattered_field_basis(xzgrid, particle=pi) - kcomp\n",
    "    #    nsum[...] = xz_basis + cinp\n",
    "    #    kcomp[...] = (nsum - xz_basis) - cinp\n",
    "    #    xz_basis[...] = nsum\n",
    "logging.info(\"Basis fields done\")\n"
   ]
  },
  {
   "cell_type": "code",
   "execution_count": 19,
   "metadata": {},
   "outputs": [],
   "source": [
    "\n",
    "xy_sswf=np.array(xy_basis, dtype=np.cdouble)\n",
    "#xz_basis=np.array(xz_basis, dtype=np.cdouble)"
   ]
  },
  {
   "cell_type": "code",
   "execution_count": 16,
   "metadata": {},
   "outputs": [],
   "source": [
    "cutoff_ratio_default = 0.03\n",
    "def cutfield(a, cutoff_ratio=cutoff_ratio_default):\n",
    "    vmin = np.nanquantile(a, cutoff_ratio)\n",
    "    vmax = np.nanquantile(a, 1-cutoff_ratio)\n",
    "    return np.clip(a, vmin, vmax)\n",
    "    "
   ]
  },
  {
   "cell_type": "code",
   "execution_count": 20,
   "metadata": {
    "scrolled": false
   },
   "outputs": [
    {
     "name": "stdout",
     "output_type": "stream",
     "text": [
      "6.0524498526083335\n",
      "4.2434506677760275\n",
      "0.0\n",
      "4.2434506677760275\n",
      "74.49131219111493\n",
      "0.0\n",
      "17.125287530925565\n",
      "0.0\n",
      "74.49131219111496\n",
      "3033.596208170187\n",
      "0.0\n",
      "291.3228792370602\n",
      "0.0\n",
      "291.3228792370604\n",
      "0.0\n",
      "3033.596208170185\n",
      "325442.9421631311\n",
      "0.0\n",
      "36367.30388638537\n",
      "0.0\n",
      "2593.363573767691\n",
      "0.0\n",
      "36367.30388638537\n",
      "0.0\n",
      "325442.94216313114\n",
      "55258511.734574094\n",
      "3.2446822675197457e-09\n",
      "4100943.9691264187\n",
      "3.0046693518433233e-10\n",
      "116965.00569788122\n",
      "0.0\n",
      "116965.0056978812\n",
      "3.0046693518433233e-10\n",
      "4100943.9691264187\n",
      "3.2446822675197457e-09\n",
      "55258511.734574094\n",
      "33211060807.16342\n",
      "8.706164186008641e-07\n",
      "584177664.3193926\n",
      "5.3957292810118145e-08\n",
      "31098454.58973242\n",
      "1.2683631739645677e-09\n",
      "1130182.3913984648\n",
      "1.2683631739645685e-09\n",
      "31098454.589732435\n",
      "5.3957292810118145e-08\n",
      "584177664.3193926\n",
      "8.706164186008643e-07\n",
      "33211060807.16345\n",
      "7360815146862.141\n",
      "0.0008115114770172084\n",
      "186387080793.09515\n",
      "1.2201637620488454e-05\n",
      "6463313293.489\n",
      "5.575428582508802e-07\n",
      "102359500.42227368\n",
      "1.449354852521083e-08\n",
      "102359500.4222737\n",
      "5.575428582508805e-07\n",
      "6463313293.488995\n",
      "1.2201637620488454e-05\n",
      "186387080793.09518\n",
      "0.000811511477017209\n",
      "7360815146862.1045\n"
     ]
    }
   ],
   "source": [
    "%matplotlib inline\n",
    "plotfile = \"/tmp/basisfields_sswf_%dx%d_kahanlong.pdf\" % (repeatrange[0][1]-repeatrange[0][0], repeatrange[1][1]-repeatrange[1][0]) # PARAM\n",
    "\n",
    "lMax_sswf = max(bspec.l()*2+1)\n",
    "nelem_sswf = get_nelem_scalar(lMax_sswf)\n",
    "m, l = get_mn_y_scalar(lMax_sswf)\n",
    "with PdfPages(plotfile) as pdf:\n",
    "  for y in range(nelem_sswf):\n",
    "    xyf = cleanarray(xy_sswf[...,y])\n",
    "    \n",
    "    f = plt.figure(figsize=(7,4))\n",
    "    f.suptitle(\"(%d, %d)\" % (l[y], m[y]))\n",
    "    grid = AxesGrid(f, 111,  # similar to subplot(111)\n",
    "                nrows_ncols=(1, 2),\n",
    "                axes_pad=(0.45, 0.65),\n",
    "                label_mode=\"L\",\n",
    "                share_all=False,\n",
    "                cbar_location=\"right\",\n",
    "                cbar_mode=\"each\",\n",
    "                cbar_size=\"7%\",\n",
    "                cbar_pad=\"2%\",\n",
    "                )\n",
    "    \n",
    "    # xy part\n",
    "    ax = grid[0:2]\n",
    "    cbax = grid.cbar_axes[0:2]\n",
    "\n",
    "    for axi in range(2):\n",
    "        ax[axi].set_xlim(xyextent[:2])\n",
    "        ax[axi].set_ylim(xyextent[2:])\n",
    "    flim = max(np.amax(cutfield(abs(xyf[...].real))), np.amax(cutfield(abs(xyf[...].imag)))) #this is stupid\n",
    "    print(flim)\n",
    "    if (flim != 0):\n",
    "        axi=0\n",
    "        c = ax[axi].imshow(cutfield(xyf[...].real), origin='lower', cmap=cm.bwr, extent=xyextent, interpolation='none', vmin = -flim, vmax=flim)#, vmin=vmin, vmax=vmax, interpolation='none')\n",
    "        cb = cbax[axi].colorbar(c)\n",
    "        axi=1\n",
    "        c = ax[axi].imshow(cutfield(xyf[...].imag), origin='lower', cmap=cm.bwr, extent=xyextent, interpolation='none', vmin = -flim, vmax=flim)#, vmin=vmin, vmax=vmax, interpolation='none')\n",
    "        cb = cbax[axi].colorbar(c)\n",
    "    \n",
    "    pdf.savefig(f)\n",
    "    plt.close(f)"
   ]
  },
  {
   "cell_type": "code",
   "execution_count": null,
   "metadata": {},
   "outputs": [],
   "source": []
  },
  {
   "cell_type": "code",
   "execution_count": null,
   "metadata": {},
   "outputs": [],
   "source": []
  },
  {
   "cell_type": "code",
   "execution_count": null,
   "metadata": {},
   "outputs": [],
   "source": []
  }
 ],
 "metadata": {
  "kernelspec": {
   "display_name": "Python 3",
   "language": "python",
   "name": "python3"
  },
  "language_info": {
   "codemirror_mode": {
    "name": "ipython",
    "version": 3
   },
   "file_extension": ".py",
   "mimetype": "text/x-python",
   "name": "python",
   "nbconvert_exporter": "python",
   "pygments_lexer": "ipython3",
   "version": "3.7.6"
  }
 },
 "nbformat": 4,
 "nbformat_minor": 1
}
