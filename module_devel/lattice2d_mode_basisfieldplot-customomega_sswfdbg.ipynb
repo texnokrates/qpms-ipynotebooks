{
 "cells": [
  {
   "cell_type": "code",
   "execution_count": 1,
   "metadata": {},
   "outputs": [
    {
     "name": "stderr",
     "output_type": "stream",
     "text": [
      "/usr/lib/python3/dist-packages/sympy/printing/str.py:362: SymPyDeprecationWarning: \n",
      "\n",
      "Permutation.print_cyclic = True has been deprecated since SymPy 1.6.\n",
      "Use init_printing(perm_cyclic=True) instead. See\n",
      "https://github.com/sympy/sympy/issues/15201 for more info.\n",
      "\n",
      "  SymPyDeprecationWarning(\n"
     ]
    }
   ],
   "source": [
    "from qpms import Particle, CTMatrix, lorentz_drude, EpsMuGenerator, TMatrixGenerator, BaseSpec, FinitePointGroup, ScatteringSystem, TMatrixInterpolator, EpsMu, dbgmsg_enable, dbgmsg_disable, dbgmsg_active, BesselType,eV, hbar, c\n",
    "from qpms.symmetries import point_group_info\n",
    "from qpms.cyewaldtest import scatsyswk_sswf_basis, scatsysw_eval_sswf\n",
    "from qpms.cycommon import get_mn_y_scalar, get_nelem_scalar\n",
    "import math\n",
    "import logging\n",
    "logging.basicConfig(format='%(asctime)s %(message)s', level=logging.INFO)\n",
    "import numpy as np\n",
    "eh = eV/hbar\n",
    "np.random.seed(666)\n",
    "from matplotlib import pyplot as plt\n",
    "from matplotlib import cm\n",
    "from matplotlib.backends.backend_pdf import PdfPages\n",
    "from matplotlib.patches import Rectangle, Circle\n",
    "from mpl_toolkits.axes_grid1 import AxesGrid\n",
    "\n",
    "def cleanarray(a, atol=1e-10, copy=True):\n",
    "    a = np.array(a, copy=copy)\n",
    "    sieve = abs(a.real) < atol\n",
    "    a[sieve] = 1j * a[sieve].imag\n",
    "    sieve = abs(a.imag) < atol\n",
    "    a[sieve] = a[sieve].real\n",
    "    return a"
   ]
  },
  {
   "cell_type": "code",
   "execution_count": 2,
   "metadata": {},
   "outputs": [
    {
     "data": {
      "text/plain": [
       "<DebugFlags.THREADS|MISC: 3>"
      ]
     },
     "execution_count": 2,
     "metadata": {},
     "output_type": "execute_result"
    }
   ],
   "source": [
    "dbgmsg_enable(2)\n",
    "#part_radius = 80e-9"
   ]
  },
  {
   "cell_type": "code",
   "execution_count": 28,
   "metadata": {
    "scrolled": true
   },
   "outputs": [
    {
     "data": {
      "text/plain": [
       "['meta',\n",
       " 'empty_freqs',\n",
       " 'ss_positions',\n",
       " 'ss_fullvec_poffsets',\n",
       " 'ss_fullvec_psizes',\n",
       " 'ss_bspecs_flat',\n",
       " 'ss_lattice_basis',\n",
       " 'ss_reciprocal_basis',\n",
       " 'eigval',\n",
       " 'eigval_inside_metric',\n",
       " 'eigvec',\n",
       " 'residuals',\n",
       " 'eigval_err',\n",
       " 'ranktest_SV',\n",
       " 'iri',\n",
       " 'blochvector',\n",
       " 'inside_contour',\n",
       " 'refractive_index_internal']"
      ]
     },
     "execution_count": 28,
     "metadata": {},
     "output_type": "execute_result"
    }
   ],
   "source": [
    "#modefile = '/u/46/necadam1/unix/repo/qpms/misc/modes_basis300nm_0nm__0nm_400nm_n1_b-2_k(0_0)um-1_cn150.npz' # PARAM!\n",
    "modefile='/l/necadam1/test_mode_fieldplots/cyl_r50nm_h50nm_p560nmx560nm_mAu_n1.52_b-2_k(0_0)um-1_L3_cn200.npz'\n",
    "#modefile = '/l/necadam1/sqlat-Tommi/sph_r80nm_p580nm_m5.0_n1.52_b-3_k(0_0)um-1_L3_cn3100.npz'\n",
    "data = np.load(modefile, allow_pickle=True)\n",
    "meta = data['meta'][()]\n",
    "list(data.keys())"
   ]
  },
  {
   "cell_type": "code",
   "execution_count": 29,
   "metadata": {},
   "outputs": [],
   "source": [
    "# initialise the medium and dummy t-matrix generators, so we can \"reconstruct\" the ScatSystem instance (only background medium is relevant here)\n",
    "medium = EpsMuGenerator(meta['background'])\n",
    "emg_dummy = EpsMuGenerator(10)\n",
    "tmg_dummy = TMatrixGenerator.sphere(medium, emg_dummy, 50e-9)\n",
    "try: default_omega = data['eigval'][0]\n",
    "except IndexError as ie:\n",
    "    raise ValueError(\"Data file contains no eigenvalues\") from ie\n",
    "    "
   ]
  },
  {
   "cell_type": "code",
   "execution_count": null,
   "metadata": {},
   "outputs": [],
   "source": []
  },
  {
   "cell_type": "code",
   "execution_count": 5,
   "metadata": {},
   "outputs": [],
   "source": [
    "# create ss, ssw; init wavevector to use with sswk constructor\n",
    "particles = []\n",
    "offsets = data['ss_fullvec_poffsets']\n",
    "nelems = data['ss_fullvec_psizes']\n",
    "for pi, pos in enumerate(data['ss_positions']):\n",
    "    bspec = BaseSpec(data['ss_bspecs_flat'][offsets[pi]:offsets[pi]+nelems[pi]])\n",
    "    particles.append(Particle(pos, tmg_dummy, bspec))\n",
    "ss, ssw = ScatteringSystem.create(particles, medium, default_omega, latticebasis = data['ss_lattice_basis'])\n",
    "wavevector = np.array([0., 0., 0.]) # it needs to be 3D for sswk \"constructor\", \n",
    "for i in range(len(meta['k'])):\n",
    "    wavevector[i] = meta['k'][i]\n",
    "    \n",
    "# determine the \"unit rectangle\" size for plotting\n",
    "lb = ss.lattice_basis\n",
    "xmax = max(abs(lb[0,0]), abs(lb[1,0]))\n",
    "ymax = max(abs(lb[0,1]), abs(lb[1,1]))\n",
    "if (xmax > ymax):\n",
    "    unitrect = (xmax, ss.unitcell_volume/xmax)\n",
    "else:\n",
    "    unitrect = (ss.unitcell_volume/ymax, ymax)"
   ]
  },
  {
   "cell_type": "code",
   "execution_count": 6,
   "metadata": {},
   "outputs": [],
   "source": [
    "eigval_i = 0 # PARAM!\n",
    "#omega = data['eigval'][eigval_i]\n",
    "omega = default_omega.real + 0.01j * default_omega.real\n",
    "fvc = data['eigvec'][eigval_i]\n",
    "len_fvc = len(fvc)"
   ]
  },
  {
   "cell_type": "code",
   "execution_count": 7,
   "metadata": {},
   "outputs": [],
   "source": [
    "ssw = ss(omega)\n",
    "sswk = ssw._sswk(wavevector)"
   ]
  },
  {
   "cell_type": "code",
   "execution_count": 8,
   "metadata": {},
   "outputs": [],
   "source": [
    "ucfactor = 2.2 # \"unit cell coverage\"; unitrect sizes will be multiplied by this# PARAM!\n",
    "zfactor = 5 # z range size / sqrt(unitcell_volume) size aspect ratio\n",
    "resolution = 60 # PARAM!\n",
    "sqrt_ucvol = math.sqrt(ss.unitcell_volume)\n",
    "gridsz = [math.ceil(resolution * unitrect[i] / sqrt_ucvol) for i in (0,1)] #x, y\n",
    "gridsz.append(math.ceil(zfactor / ucfactor * resolution)) # z\n",
    "gridextent = [[ -(ucfactor * unitrect[i])/2, (ucfactor * unitrect[i] / 2) ] for i in (0,1)]\n",
    "gridextent.append( [-(zfactor * sqrt_ucvol) / 2, (zfactor * sqrt_ucvol) / 2] )\n",
    "gridlines = [np.linspace(*gridextent[i], gridsz[i]) for i in range(3)]\n",
    "gridspacings = [gridlines[i][1]-gridlines[i][0] for i in range(3)] # should be very similar\n",
    "\n",
    "gridoffsets = [0.,0.,0.] # PARAM!\n",
    "\n",
    "xygrid = np.stack(np.meshgrid(gridlines[0], gridlines[1], gridoffsets[2], indexing='ij')).T\n",
    "xygrid.shape=xygrid.shape[1:]\n",
    "xygrid_s = xygrid - np.array([*gridspacings[:2], 0])/2 # correction of pcolormesh coordinates\n",
    "xzgrid = np.stack(np.meshgrid(gridlines[0], gridoffsets[1], gridlines[2], indexing='ij')).T\n",
    "xzgrid.shape = (gridsz[2], gridsz[0], 3)\n",
    "xzgrid_s = xzgrid - np.array([gridspacings[0], 0, gridspacings[2]])/2\n",
    "\n",
    "#for imshow\n",
    "lenscale = 1000e-9 #PARAM!\n",
    "xyextent = [gridextent[i][j]/lenscale for (i,j) in [(0,0),(0,1),(1,0),(1,1)]]\n",
    "xzextent = [gridextent[i][j]/lenscale for (i,j) in [(0,0),(0,1),(2,0),(2,1)]]"
   ]
  },
  {
   "cell_type": "code",
   "execution_count": 9,
   "metadata": {},
   "outputs": [
    {
     "name": "stderr",
     "output_type": "stream",
     "text": [
      "2020-11-23 15:36:28,486 Start calculating xy field basis\n",
      "2020-11-23 15:36:33,388 Start calculating xy sswf basis\n",
      "2020-11-23 15:36:55,995 Basis fields done\n"
     ]
    }
   ],
   "source": [
    "logging.info(\"Start calculating xy field basis\")\n",
    "xy_basis = sswk.scattered_field_basis(xygrid)\n",
    "#logging.info(\"Start calculating xz field basis\")\n",
    "#xz_basis = sswk.scattered_field_basis(xzgrid)\n",
    "xz_basis = np.zeros(((137, 60, 30, 3)), dtype=complex)\n",
    "logging.info(\"Start calculating xy sswf basis\")\n",
    "xy_sswf = scatsyswk_sswf_basis(sswk, xygrid)\n",
    "logging.info(\"Basis fields done\")"
   ]
  },
  {
   "cell_type": "code",
   "execution_count": 16,
   "metadata": {},
   "outputs": [
    {
     "data": {
      "text/plain": [
       "((60, 60, 1, 64), (60, 60, 30, 3), 3)"
      ]
     },
     "execution_count": 16,
     "metadata": {},
     "output_type": "execute_result"
    }
   ],
   "source": [
    "xy_sswf.shape, xy_basis.shape, max(bspec.l())"
   ]
  },
  {
   "cell_type": "code",
   "execution_count": 21,
   "metadata": {},
   "outputs": [],
   "source": [
    "cutoff_ratio_default = 0.03\n",
    "def cutfield(a, cutoff_ratio=cutoff_ratio_default):\n",
    "    vmin = np.nanquantile(a, cutoff_ratio)\n",
    "    vmax = np.nanquantile(a, 1-cutoff_ratio)\n",
    "    return np.clip(a, vmin, vmax)"
   ]
  },
  {
   "cell_type": "code",
   "execution_count": 25,
   "metadata": {},
   "outputs": [
    {
     "name": "stdout",
     "output_type": "stream",
     "text": [
      "4.884527577173636\n",
      "4.014299462949933\n",
      "0.0\n",
      "4.014299462949933\n",
      "76.57856549650211\n",
      "0.0\n",
      "17.66535877620432\n",
      "0.0\n",
      "76.5785654965018\n",
      "3371.402225214826\n",
      "0.0\n",
      "295.83270339528923\n",
      "0.0\n",
      "295.83270339529287\n",
      "0.0\n",
      "3371.402225214809\n",
      "316241.95080092835\n",
      "0.0\n",
      "35191.88550506751\n",
      "0.0\n",
      "2589.16826242701\n",
      "0.0\n",
      "35191.88550506758\n",
      "0.0\n",
      "316241.95080093236\n",
      "57727499.85722107\n",
      "0.0\n",
      "3935506.165849236\n",
      "0.0\n",
      "124400.97520823377\n",
      "0.0\n",
      "124400.9752082342\n",
      "0.0\n",
      "3935506.1658492414\n",
      "0.0\n",
      "57727499.857220545\n",
      "31195630727.315468\n",
      "0.0\n",
      "608531592.0212419\n",
      "0.0\n",
      "29304422.59088546\n",
      "0.0\n",
      "1127036.9451292823\n",
      "0.0\n",
      "29304422.590885572\n",
      "0.0\n",
      "608531592.0211911\n",
      "0.0\n",
      "31195630727.315468\n",
      "5233005371740.819\n",
      "0.0\n",
      "189627678209.96057\n",
      "0.0\n",
      "6407389199.400282\n",
      "0.0\n",
      "97732781.80135493\n",
      "0.0\n",
      "97732781.80135533\n",
      "0.0\n",
      "6407389199.400261\n",
      "0.0\n",
      "189627678209.9538\n",
      "0.0\n",
      "5233005371741.37\n"
     ]
    }
   ],
   "source": [
    "plotfile = \"/tmp/pokus_sswf_basis_ewald.pdf\" # PARAM\n",
    "lMax_sswf = max(bspec.l()*2+1)\n",
    "nelem = get_nelem_scalar(lMax_sswf)\n",
    "m, l = get_mn_y_scalar(lMax_sswf)\n",
    "with PdfPages(plotfile) as pdf:\n",
    "  for y in range(nelem):\n",
    "    xyf = cleanarray(xy_sswf[...,0,y])\n",
    "    \n",
    "    f = plt.figure(figsize=(7,4))\n",
    "    f.suptitle(\"(%d, %d)\" % (l[y], m[y]))\n",
    "    grid = AxesGrid(f, 111,  # similar to subplot(111)\n",
    "                nrows_ncols=(1, 2),\n",
    "                axes_pad=(0.45, 0.65),\n",
    "                label_mode=\"L\",\n",
    "                share_all=False,\n",
    "                cbar_location=\"right\",\n",
    "                cbar_mode=\"each\",\n",
    "                cbar_size=\"7%\",\n",
    "                cbar_pad=\"2%\",\n",
    "                )\n",
    "    \n",
    "    # xy part\n",
    "    ax = grid[0:2]\n",
    "    cbax = grid.cbar_axes[0:2]\n",
    "\n",
    "    for axi in range(2):\n",
    "        ax[axi].set_xlim(xyextent[:2])\n",
    "        ax[axi].set_ylim(xyextent[2:])\n",
    "    flim = max(np.amax(cutfield(abs(xyf[...].real))), np.amax(cutfield(abs(xyf[...].imag)))) #this is stupid\n",
    "    print(flim)\n",
    "    if (flim != 0):\n",
    "        axi=0\n",
    "        c = ax[axi].imshow(cutfield(xyf[...].real), origin='lower', cmap=cm.bwr, extent=xyextent, interpolation='none', vmin = -flim, vmax=flim)#, vmin=vmin, vmax=vmax, interpolation='none')\n",
    "        cb = cbax[axi].colorbar(c)\n",
    "        axi=1\n",
    "        c = ax[axi].imshow(cutfield(xyf[...].imag), origin='lower', cmap=cm.bwr, extent=xyextent, interpolation='none', vmin = -flim, vmax=flim)#, vmin=vmin, vmax=vmax, interpolation='none')\n",
    "        cb = cbax[axi].colorbar(c)\n",
    "    \n",
    "    pdf.savefig(f)\n",
    "    plt.close(f)"
   ]
  },
  {
   "cell_type": "code",
   "execution_count": null,
   "metadata": {},
   "outputs": [],
   "source": []
  }
 ],
 "metadata": {
  "kernelspec": {
   "display_name": "Python 3",
   "language": "python",
   "name": "python3"
  },
  "language_info": {
   "codemirror_mode": {
    "name": "ipython",
    "version": 3
   },
   "file_extension": ".py",
   "mimetype": "text/x-python",
   "name": "python",
   "nbconvert_exporter": "python",
   "pygments_lexer": "ipython3",
   "version": "3.9.2"
  }
 },
 "nbformat": 4,
 "nbformat_minor": 1
}
