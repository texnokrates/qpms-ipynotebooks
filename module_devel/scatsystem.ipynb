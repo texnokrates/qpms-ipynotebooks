{
 "cells": [
  {
   "cell_type": "code",
   "execution_count": 2,
   "metadata": {
    "collapsed": false
   },
   "outputs": [
    {
     "name": "stderr",
     "output_type": "stream",
     "text": [
      "/home/mmn/.local/lib/python3.4/site-packages/quaternion/numba_wrapper.py:20: UserWarning: \n",
      "\n",
      "!!!!!!!!!!!!!!!!!!!!!!!!!!!!!!!!!!!!!!!!!!!!!!!!!!!!!\n",
      "Could not import from numba, which means that some\n",
      "parts of this code may run MUCH more slowly.  You\n",
      "may wish to install numba.\n",
      "!!!!!!!!!!!!!!!!!!!!!!!!!!!!!!!!!!!!!!!!!!!!!!!!!!!!!\n",
      "\n",
      "  warnings.warn(warning_text)\n"
     ]
    }
   ],
   "source": [
    "from qpms import Particle, CTMatrix, BaseSpec, FinitePointGroup, ScatteringSystem, TMatrixInterpolator, eV, hbar\n",
    "from qpms.symmetries import point_group_info\n",
    "import numpy as np\n",
    "np.random.seed(666)"
   ]
  },
  {
   "cell_type": "code",
   "execution_count": null,
   "metadata": {
    "collapsed": false
   },
   "outputs": [],
   "source": [
    "sym = FinitePointGroup(point_group_info['D3h'])\n",
    "bspec2 = BaseSpec(lMax=2)\n",
    "bspec1 = BaseSpec(lMax=1)\n",
    "t1 = CTMatrix(bspec1, np.diag(np.random.random(len(bspec1))))\n",
    "t2 = CTMatrix(bspec2, np.diag(np.random.random(len(bspec2))))\n",
    "p1 = Particle((1,2,),t1)\n",
    "p2 = Particle((1,2,3),t1)\n",
    "p3 = Particle((0.1,2),t2)\n",
    "ss = ScatteringSystem([p1, p2, p3], sym)\n",
    "ss.particles_tmi()"
   ]
  },
  {
   "cell_type": "code",
   "execution_count": null,
   "metadata": {
    "collapsed": false
   },
   "outputs": [],
   "source": [
    "tmfile = '/home/mmn/tmp/cylinder_50nm_lMax4_cleaned.TMatrix'\n",
    "interp = TMatrixInterpolator(tmfile, bspec1)"
   ]
  },
  {
   "cell_type": "code",
   "execution_count": 1,
   "metadata": {
    "collapsed": false
   },
   "outputs": [
    {
     "ename": "NameError",
     "evalue": "name 'interp' is not defined",
     "output_type": "error",
     "traceback": [
      "\u001b[1;31m---------------------------------------------------------------------------\u001b[0m",
      "\u001b[1;31mNameError\u001b[0m                                 Traceback (most recent call last)",
      "\u001b[1;32m<ipython-input-1-50d7dd3cc949>\u001b[0m in \u001b[0;36m<module>\u001b[1;34m()\u001b[0m\n\u001b[1;32m----> 1\u001b[1;33m \u001b[0minterp\u001b[0m\u001b[1;33m\u001b[0m\u001b[0m\n\u001b[0m",
      "\u001b[1;31mNameError\u001b[0m: name 'interp' is not defined"
     ]
    }
   ],
   "source": [
    "interp"
   ]
  },
  {
   "cell_type": "code",
   "execution_count": null,
   "metadata": {
    "collapsed": false
   },
   "outputs": [],
   "source": [
    "try:\n",
    "    interp(3)\n",
    "except ValueError as e:\n",
    "    print(\"caught:\", e)"
   ]
  },
  {
   "cell_type": "code",
   "execution_count": null,
   "metadata": {
    "collapsed": false,
    "scrolled": false
   },
   "outputs": [],
   "source": [
    "interp(3e14)[...]"
   ]
  },
  {
   "cell_type": "code",
   "execution_count": null,
   "metadata": {
    "collapsed": false
   },
   "outputs": [],
   "source": [
    "%time interp2 = TMatrixInterpolator(tmfile, bspec2, symmetrise = sym, atol = 1e-19)"
   ]
  },
  {
   "cell_type": "code",
   "execution_count": 8,
   "metadata": {
    "collapsed": false
   },
   "outputs": [
    {
     "data": {
      "text/plain": [
       "array([[-5.75175232e-14+6.86394412e-05j,  0.00000000e+00+0.00000000e+00j,  0.00000000e+00+0.00000000e+00j,  0.00000000e+00+0.00000000e+00j,  0.00000000e+00+0.00000000e+00j,\n",
       "         0.00000000e+00+0.00000000e+00j],\n",
       "       [ 0.00000000e+00+0.00000000e+00j,  8.35298188e-15+6.86097097e-05j,  0.00000000e+00+0.00000000e+00j,  0.00000000e+00+0.00000000e+00j,  0.00000000e+00+0.00000000e+00j,\n",
       "         0.00000000e+00+0.00000000e+00j],\n",
       "       [ 0.00000000e+00+0.00000000e+00j,  0.00000000e+00+0.00000000e+00j, -5.75175235e-14+6.86394412e-05j,  5.12981350e-14-6.25716090e-16j,  0.00000000e+00+0.00000000e+00j,\n",
       "         0.00000000e+00+0.00000000e+00j],\n",
       "       [ 0.00000000e+00+0.00000000e+00j,  0.00000000e+00+0.00000000e+00j,  4.09698344e-12+7.10271500e-16j, -4.30117502e-17+2.82678081e-08j,  0.00000000e+00+0.00000000e+00j,\n",
       "         0.00000000e+00+0.00000000e+00j],\n",
       "       [ 0.00000000e+00+0.00000000e+00j,  0.00000000e+00+0.00000000e+00j,  0.00000000e+00+0.00000000e+00j,  0.00000000e+00+0.00000000e+00j, -8.87859971e-18+1.83380151e-08j,\n",
       "         0.00000000e+00+0.00000000e+00j],\n",
       "       [ 0.00000000e+00+0.00000000e+00j,  0.00000000e+00+0.00000000e+00j,  0.00000000e+00+0.00000000e+00j,  0.00000000e+00+0.00000000e+00j,  0.00000000e+00+0.00000000e+00j,\n",
       "         1.40341537e-17+1.50699362e-08j]])"
      ]
     },
     "execution_count": 8,
     "metadata": {},
     "output_type": "execute_result"
    }
   ],
   "source": [
    "interp2(3e14)[:6,:6]"
   ]
  },
  {
   "cell_type": "code",
   "execution_count": 9,
   "metadata": {
    "collapsed": false
   },
   "outputs": [
    {
     "data": {
      "text/plain": [
       "204"
      ]
     },
     "execution_count": 9,
     "metadata": {},
     "output_type": "execute_result"
    }
   ],
   "source": [
    "ss.fecv_size"
   ]
  },
  {
   "cell_type": "code",
   "execution_count": 10,
   "metadata": {
    "collapsed": false
   },
   "outputs": [
    {
     "data": {
      "text/plain": [
       "([17, 17, 17, 68, 68, 17], 204)"
      ]
     },
     "execution_count": 10,
     "metadata": {},
     "output_type": "execute_result"
    }
   ],
   "source": [
    "ss.saecv_sizes, sum(ss.saecv_sizes)"
   ]
  },
  {
   "cell_type": "code",
   "execution_count": 11,
   "metadata": {
    "collapsed": false
   },
   "outputs": [
    {
     "data": {
      "text/plain": [
       "6"
      ]
     },
     "execution_count": 11,
     "metadata": {},
     "output_type": "execute_result"
    }
   ],
   "source": [
    "ss.nirreps"
   ]
  },
  {
   "cell_type": "code",
   "execution_count": 12,
   "metadata": {
    "collapsed": false
   },
   "outputs": [
    {
     "data": {
      "text/plain": [
       "[\"A2''\", \"A2'\", \"A1'\", \"E'\", \"E''\", \"A1''\"]"
      ]
     },
     "execution_count": 12,
     "metadata": {},
     "output_type": "execute_result"
    }
   ],
   "source": [
    "ss.irrep_names"
   ]
  },
  {
   "cell_type": "code",
   "execution_count": 13,
   "metadata": {
    "collapsed": true
   },
   "outputs": [],
   "source": [
    "fullvector = np.random.rand(ss.fecv_size) + 1j*np.random.rand(ss.fecv_size)"
   ]
  },
  {
   "cell_type": "code",
   "execution_count": 14,
   "metadata": {
    "collapsed": false
   },
   "outputs": [],
   "source": [
    "packedvectors = [(iri, ss.pack_vector(fullvector, iri)) for iri in range(ss.nirreps)]"
   ]
  },
  {
   "cell_type": "code",
   "execution_count": 15,
   "metadata": {
    "collapsed": false
   },
   "outputs": [],
   "source": [
    "unpackedvectors = np.array([ss.unpack_vector(v[1], v[0]) for v in packedvectors])"
   ]
  },
  {
   "cell_type": "code",
   "execution_count": 16,
   "metadata": {
    "collapsed": false
   },
   "outputs": [],
   "source": [
    "rec_fullvector = np.sum(unpackedvectors, axis=0)"
   ]
  },
  {
   "cell_type": "code",
   "execution_count": 17,
   "metadata": {
    "collapsed": false
   },
   "outputs": [
    {
     "data": {
      "text/plain": [
       "8.793919525157558e-15"
      ]
     },
     "execution_count": 17,
     "metadata": {},
     "output_type": "execute_result"
    }
   ],
   "source": [
    "np.amax(abs(rec_fullvector-fullvector))"
   ]
  },
  {
   "cell_type": "code",
   "execution_count": 18,
   "metadata": {
    "collapsed": true
   },
   "outputs": [],
   "source": [
    "packedmatrices = list()\n",
    "for iri in range(ss.nirreps):\n",
    "    d = ss.saecv_sizes[iri]\n",
    "    m = np.random.rand(d,d)+1j*np.random.rand(d,d)\n",
    "    packedmatrices.append((iri,m))"
   ]
  },
  {
   "cell_type": "code",
   "execution_count": 19,
   "metadata": {
    "collapsed": true
   },
   "outputs": [],
   "source": [
    "fullmatrix = np.zeros((ss.fecv_size, ss.fecv_size), dtype=complex)\n",
    "for iri, m in packedmatrices:\n",
    "    fullmatrix += ss.unpack_matrix(m, iri)"
   ]
  },
  {
   "cell_type": "code",
   "execution_count": 20,
   "metadata": {
    "collapsed": false
   },
   "outputs": [
    {
     "name": "stdout",
     "output_type": "stream",
     "text": [
      "(17, 17)\n",
      "1.6136471996107275e-15\n",
      "(17, 17)\n",
      "2.4650951625709315e-15\n",
      "(17, 17)\n",
      "1.6091054089879258e-15\n",
      "(68, 68)\n",
      "2.449144506106989e-15\n",
      "(68, 68)\n",
      "2.914203267236168e-15\n",
      "(17, 17)\n",
      "2.60133570547882e-15\n"
     ]
    }
   ],
   "source": [
    "for iri, m in packedmatrices:\n",
    "    print (m.shape)\n",
    "    repackedmatrix = ss.pack_matrix(fullmatrix,iri)\n",
    "    print(np.amax(abs(repackedmatrix-m)))\n",
    "    "
   ]
  },
  {
   "cell_type": "code",
   "execution_count": 21,
   "metadata": {
    "collapsed": false
   },
   "outputs": [
    {
     "data": {
      "text/plain": [
       "7.105610857805792e-15"
      ]
     },
     "execution_count": 21,
     "metadata": {},
     "output_type": "execute_result"
    }
   ],
   "source": [
    "iri = 1\n",
    "d = ss.saecv_sizes[iri]\n",
    "pm = np.random.rand(d,d)\n",
    "fm = ss.unpack_matrix(pm,iri)\n",
    "pmrec = ss.pack_matrix(fm,iri)\n",
    "np.amax(abs(pm-pmrec))"
   ]
  },
  {
   "cell_type": "code",
   "execution_count": 22,
   "metadata": {
    "collapsed": false
   },
   "outputs": [
    {
     "name": "stdout",
     "output_type": "stream",
     "text": [
      "15300.102902277049\n"
     ]
    }
   ],
   "source": [
    "k = 1.7\n",
    "modematrix_full = ss.modeproblem_matrix_full(k)\n",
    "modematrix_packed_list = [(iri, ss.pack_matrix(modematrix_full,iri)) for iri in range(ss.nirreps)]\n",
    "modematrix_full_rec = np.zeros((ss.fecv_size, ss.fecv_size), dtype=complex)\n",
    "for iri, m in modematrix_packed_list:\n",
    "    modematrix_full_rec += ss.unpack_matrix(m,iri)\n",
    "print(np.amax(abs(modematrix_full-modematrix_full_rec)))"
   ]
  },
  {
   "cell_type": "code",
   "execution_count": 23,
   "metadata": {
    "collapsed": false
   },
   "outputs": [
    {
     "data": {
      "text/plain": [
       "array([[-1.00000000e+00+0.00000000e+00j,  0.00000000e+00+0.00000000e+00j,  0.00000000e+00+0.00000000e+00j, ...,  0.00000000e+00+0.00000000e+00j,  0.00000000e+00+0.00000000e+00j,\n",
       "         0.00000000e+00+0.00000000e+00j],\n",
       "       [ 0.00000000e+00+0.00000000e+00j, -1.00000000e+00+0.00000000e+00j,  0.00000000e+00+0.00000000e+00j, ...,  0.00000000e+00+0.00000000e+00j,  0.00000000e+00+0.00000000e+00j,\n",
       "         0.00000000e+00+0.00000000e+00j],\n",
       "       [ 0.00000000e+00+0.00000000e+00j,  0.00000000e+00+0.00000000e+00j, -1.00000000e+00+0.00000000e+00j, ...,  0.00000000e+00+0.00000000e+00j,  0.00000000e+00+0.00000000e+00j,\n",
       "         0.00000000e+00+0.00000000e+00j],\n",
       "       ...,\n",
       "       [ 3.02914590e-17+6.48364251e-18j,  0.00000000e+00+0.00000000e+00j,  3.02914590e-17+6.48364251e-18j, ..., -1.00000000e+00+0.00000000e+00j,  0.00000000e+00+0.00000000e+00j,\n",
       "         0.00000000e+00+0.00000000e+00j],\n",
       "       [ 9.04763542e-02+1.93657340e-02j,  7.83485469e-18+1.67698746e-18j,  9.04763542e-02+1.93657340e-02j, ...,  0.00000000e+00+0.00000000e+00j, -1.00000000e+00+0.00000000e+00j,\n",
       "         0.00000000e+00+0.00000000e+00j],\n",
       "       [ 0.00000000e+00+0.00000000e+00j,  1.30148578e-01+2.78572535e-02j, -1.12702949e-17-2.41231574e-18j, ...,  0.00000000e+00+0.00000000e+00j,  0.00000000e+00+0.00000000e+00j,\n",
       "        -1.00000000e+00+0.00000000e+00j]])"
      ]
     },
     "execution_count": 23,
     "metadata": {},
     "output_type": "execute_result"
    }
   ],
   "source": [
    "modematrix_full"
   ]
  },
  {
   "cell_type": "code",
   "execution_count": 24,
   "metadata": {
    "collapsed": false
   },
   "outputs": [
    {
     "name": "stdout",
     "output_type": "stream",
     "text": [
      "21036.24074892505\n"
     ]
    }
   ],
   "source": [
    "k = 1.7\n",
    "S_full = ss.translation_matrix_full(k)\n",
    "S_packed_list = [(iri, ss.pack_matrix(S_full,iri)) for iri in range(ss.nirreps)]\n",
    "S_full_rec = np.zeros((ss.fecv_size, ss.fecv_size), dtype=complex)\n",
    "for iri, m in S_packed_list:\n",
    "    S_full_rec += ss.unpack_matrix(m,iri)\n",
    "print(np.amax(abs(S_full-S_full_rec)))"
   ]
  },
  {
   "cell_type": "code",
   "execution_count": 25,
   "metadata": {
    "collapsed": true
   },
   "outputs": [],
   "source": [
    "modematrix_full2 = ss.modeproblem_matrix_full(k)\n"
   ]
  },
  {
   "cell_type": "code",
   "execution_count": 26,
   "metadata": {
    "collapsed": false
   },
   "outputs": [
    {
     "data": {
      "text/plain": [
       "0.0"
      ]
     },
     "execution_count": 26,
     "metadata": {},
     "output_type": "execute_result"
    }
   ],
   "source": [
    "np.amax(np.abs(modematrix_full-modematrix_full2))"
   ]
  },
  {
   "cell_type": "code",
   "execution_count": null,
   "metadata": {
    "collapsed": true
   },
   "outputs": [],
   "source": []
  },
  {
   "cell_type": "code",
   "execution_count": null,
   "metadata": {
    "collapsed": true
   },
   "outputs": [],
   "source": [
    "point_"
   ]
  },
  {
   "cell_type": "code",
   "execution_count": null,
   "metadata": {
    "collapsed": true
   },
   "outputs": [],
   "source": []
  }
 ],
 "metadata": {
  "kernelspec": {
   "display_name": "Python 3",
   "language": "python",
   "name": "python3"
  },
  "language_info": {
   "codemirror_mode": {
    "name": "ipython",
    "version": 3
   },
   "file_extension": ".py",
   "mimetype": "text/x-python",
   "name": "python",
   "nbconvert_exporter": "python",
   "pygments_lexer": "ipython3",
   "version": "3.4.2"
  }
 },
 "nbformat": 4,
 "nbformat_minor": 0
}
