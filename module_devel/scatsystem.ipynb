{
 "cells": [
  {
   "cell_type": "code",
   "execution_count": 1,
   "metadata": {},
   "outputs": [],
   "source": [
    "from qpms import Particle, CTMatrix, BaseSpec, FinitePointGroup, ScatteringSystem, TMatrixInterpolator, dbgmsg_enable, dbgmsg_disable, dbgmsg_active, BesselType\n",
    "#  eV, hbar,\n",
    "#from qpms.symmetries import point_group_info\n",
    "import numpy as np\n",
    "np.random.seed(666)"
   ]
  },
  {
   "cell_type": "code",
   "execution_count": 2,
   "metadata": {},
   "outputs": [
    {
     "data": {
      "text/plain": [
       "3"
      ]
     },
     "execution_count": 2,
     "metadata": {},
     "output_type": "execute_result"
    }
   ],
   "source": [
    "dbgmsg_enable(2)"
   ]
  },
  {
   "cell_type": "code",
   "execution_count": 3,
   "metadata": {},
   "outputs": [
    {
     "data": {
      "text/plain": [
       "[{'pos': {'x': 1.0, 'y': 2.0, 'z': 0.0}, 'tmatrix_id': 0},\n",
       " {'pos': {'x': 1.0, 'y': 2.0, 'z': 3.0}, 'tmatrix_id': 0},\n",
       " {'pos': {'x': 0.1, 'y': 2.0, 'z': 0.0}, 'tmatrix_id': 1},\n",
       " {'pos': {'x': -2.232050807568877, 'y': -0.13397459621556096, 'z': 0.0},\n",
       "  'tmatrix_id': 0},\n",
       " {'pos': {'x': 1.2320508075688765, 'y': -1.8660254037844397, 'z': 0.0},\n",
       "  'tmatrix_id': 0},\n",
       " {'pos': {'x': 2.2320508075688776, 'y': -0.13397459621556274, 'z': -0.0},\n",
       "  'tmatrix_id': 2},\n",
       " {'pos': {'x': -1.2320508075688783, 'y': -1.8660254037844384, 'z': -0.0},\n",
       "  'tmatrix_id': 2},\n",
       " {'pos': {'x': -0.9999999999999998, 'y': 2.0, 'z': -0.0}, 'tmatrix_id': 2},\n",
       " {'pos': {'x': -2.232050807568877,\n",
       "   'y': -0.13397459621556096,\n",
       "   'z': 3.0000000000000004},\n",
       "  'tmatrix_id': 0},\n",
       " {'pos': {'x': 1.2320508075688765, 'y': -1.8660254037844397, 'z': 3.0},\n",
       "  'tmatrix_id': 0},\n",
       " {'pos': {'x': 2.2320508075688776, 'y': -0.13397459621556274, 'z': 3.0},\n",
       "  'tmatrix_id': 2},\n",
       " {'pos': {'x': -1.2320508075688783,\n",
       "   'y': -1.8660254037844384,\n",
       "   'z': 3.000000000000001},\n",
       "  'tmatrix_id': 2},\n",
       " {'pos': {'x': -0.9999999999999998, 'y': 2.0, 'z': 3.0}, 'tmatrix_id': 2},\n",
       " {'pos': {'x': -0.9999999999999998, 'y': 2.0, 'z': -3.0}, 'tmatrix_id': 2},\n",
       " {'pos': {'x': 2.232050807568877,\n",
       "   'y': -0.13397459621556096,\n",
       "   'z': -3.0000000000000004},\n",
       "  'tmatrix_id': 2},\n",
       " {'pos': {'x': -1.2320508075688765, 'y': -1.8660254037844397, 'z': -3.0},\n",
       "  'tmatrix_id': 2},\n",
       " {'pos': {'x': -2.2320508075688776, 'y': -0.13397459621556274, 'z': -3.0},\n",
       "  'tmatrix_id': 0},\n",
       " {'pos': {'x': 1.2320508075688783,\n",
       "   'y': -1.8660254037844384,\n",
       "   'z': -3.000000000000001},\n",
       "  'tmatrix_id': 0},\n",
       " {'pos': {'x': 0.9999999999999998, 'y': 2.0, 'z': -3.0}, 'tmatrix_id': 0},\n",
       " {'pos': {'x': -1.7820508075688775, 'y': -0.9133974596215557, 'z': 0.0},\n",
       "  'tmatrix_id': 1},\n",
       " {'pos': {'x': 1.682050807568877, 'y': -1.086602540378445, 'z': 0.0},\n",
       "  'tmatrix_id': 1},\n",
       " {'pos': {'x': 1.782050807568877, 'y': -0.913397459621557, 'z': -0.0},\n",
       "  'tmatrix_id': 3},\n",
       " {'pos': {'x': -1.682050807568878, 'y': -1.0866025403784432, 'z': -0.0},\n",
       "  'tmatrix_id': 3},\n",
       " {'pos': {'x': -0.09999999999999978, 'y': 2.0, 'z': -0.0}, 'tmatrix_id': 3}]"
      ]
     },
     "execution_count": 3,
     "metadata": {},
     "output_type": "execute_result"
    }
   ],
   "source": [
    "sym = FinitePointGroup(point_group_info['D3h'])\n",
    "bspec2 = BaseSpec(lMax=2)\n",
    "bspec1 = BaseSpec(lMax=1)\n",
    "t1 = CTMatrix(bspec1, np.diag(np.random.random(len(bspec1))))\n",
    "t2 = CTMatrix(bspec2, np.diag(np.random.random(len(bspec2))))\n",
    "p1 = Particle((1,2,),t1)\n",
    "p2 = Particle((1,2,3),t1)\n",
    "p3 = Particle((0.1,2),t2)\n",
    "ss = ScatteringSystem([p1, p2, p3], sym)\n",
    "ss.particles_tmi()"
   ]
  },
  {
   "cell_type": "code",
   "execution_count": 4,
   "metadata": {},
   "outputs": [],
   "source": [
    "#tmfile = '/home/mmn/tmp/cylinder_50nm_lMax4_cleaned.TMatrix'\n",
    "tmfile = '/m/phys/project/qd/Marek/tmatrix-experiments/Cylinder/AaroBEC/cylinder_50nm_lMax4_longer.TMatrix'\n",
    "interp = TMatrixInterpolator(tmfile, bspec1)"
   ]
  },
  {
   "cell_type": "code",
   "execution_count": 5,
   "metadata": {},
   "outputs": [
    {
     "data": {
      "text/plain": [
       "<qpms_c.TMatrixInterpolator at 0x7f8301adf948>"
      ]
     },
     "execution_count": 5,
     "metadata": {},
     "output_type": "execute_result"
    }
   ],
   "source": [
    "interp"
   ]
  },
  {
   "cell_type": "code",
   "execution_count": 6,
   "metadata": {},
   "outputs": [
    {
     "name": "stdout",
     "output_type": "stream",
     "text": [
      "caught: input frequency 3 is outside the interpolator domain (9.75e+14, 3.3e+15)\n"
     ]
    }
   ],
   "source": [
    "try:\n",
    "    interp(3)\n",
    "except ValueError as e:\n",
    "    print(\"caught:\", e)"
   ]
  },
  {
   "cell_type": "code",
   "execution_count": 7,
   "metadata": {
    "scrolled": false
   },
   "outputs": [
    {
     "data": {
      "text/plain": [
       "array([[-3.10235527e-04+1.68596715e-02j, -1.23512865e-06+5.43095823e-07j, -4.24077746e-07-3.76915292e-06j, -9.25188389e-09+1.36062413e-09j, -4.94022253e-08-4.48036111e-08j,\n",
       "         7.33480260e-09+1.78159595e-07j],\n",
       "       [ 1.20109643e-06+6.11795537e-07j, -7.72097188e-05+8.42544980e-03j,  1.23420322e-06-5.42616907e-07j, -2.85658773e-08+1.29009695e-09j,  6.70355895e-11+1.90857434e-10j,\n",
       "        -2.94591671e-08-1.81993842e-09j],\n",
       "       [ 7.19437169e-07-3.72061280e-06j, -1.20195107e-06-6.12326114e-07j, -3.10235687e-04+1.68596715e-02j, -1.30244321e-08+1.77974806e-07j, -5.00431826e-08+4.43114547e-08j,\n",
       "         9.25817410e-09-3.11560902e-09j],\n",
       "       [-1.83975556e-09-2.29518322e-09j,  2.91569869e-08-3.74725811e-09j,  4.95889110e-09+1.93675900e-07j, -5.75289398e-05-1.79582931e-03j, -6.49471963e-08+3.64517808e-08j,\n",
       "         2.13577769e-08+4.26405118e-08j],\n",
       "       [ 5.03676284e-08-4.70207400e-08j,  8.81897940e-11-9.18363226e-10j,  4.95646083e-08+4.74657090e-08j,  7.03918895e-08+2.36566493e-08j, -1.21736518e-04-2.55267168e-03j,\n",
       "         6.48553711e-08-3.59767169e-08j],\n",
       "       [-1.21013735e-08+1.93541222e-07j,  2.79456507e-08+4.30664894e-09j,  1.74415257e-09+3.44350107e-09j, -1.51450004e-08+4.55248510e-08j, -7.06047168e-08-2.40147241e-08j,\n",
       "        -5.75298241e-05-1.79582924e-03j]])"
      ]
     },
     "execution_count": 7,
     "metadata": {},
     "output_type": "execute_result"
    }
   ],
   "source": [
    "interp(10e14)[...]"
   ]
  },
  {
   "cell_type": "code",
   "execution_count": 8,
   "metadata": {},
   "outputs": [
    {
     "name": "stdout",
     "output_type": "stream",
     "text": [
      "CPU times: user 684 ms, sys: 4 ms, total: 688 ms\n",
      "Wall time: 686 ms\n"
     ]
    }
   ],
   "source": [
    "%time interp2 = TMatrixInterpolator(tmfile, bspec2, symmetrise = sym, atol = 1e-19)"
   ]
  },
  {
   "cell_type": "code",
   "execution_count": 9,
   "metadata": {},
   "outputs": [
    {
     "data": {
      "text/plain": [
       "array([[-3.10235607e-004+1.68596715e-002j,  0.00000000e+000+0.00000000e+000j,  2.01116101e-108-2.03997129e-112j,  0.00000000e+000+0.00000000e+000j,  0.00000000e+000+0.00000000e+000j,\n",
       "         0.00000000e+000+0.00000000e+000j],\n",
       "       [ 0.00000000e+000+0.00000000e+000j, -7.72097188e-005+8.42544980e-003j,  0.00000000e+000+0.00000000e+000j,  0.00000000e+000+0.00000000e+000j,  0.00000000e+000+0.00000000e+000j,\n",
       "         0.00000000e+000+0.00000000e+000j],\n",
       "       [-3.64352065e-110-5.57222598e-117j,  0.00000000e+000+0.00000000e+000j, -3.10235607e-004+1.68596715e-002j,  2.65629514e-007+6.80123815e-009j,  0.00000000e+000+0.00000000e+000j,\n",
       "         0.00000000e+000+0.00000000e+000j],\n",
       "       [ 0.00000000e+000+0.00000000e+000j,  0.00000000e+000+0.00000000e+000j, -2.65455966e-007-6.79436900e-009j, -2.61093657e-007+5.37508582e-005j,  0.00000000e+000+0.00000000e+000j,\n",
       "         0.00000000e+000+0.00000000e+000j],\n",
       "       [ 0.00000000e+000+0.00000000e+000j,  0.00000000e+000+0.00000000e+000j,  0.00000000e+000+0.00000000e+000j,  0.00000000e+000+0.00000000e+000j, -1.35748868e-007+3.15535149e-005j,\n",
       "         0.00000000e+000+0.00000000e+000j],\n",
       "       [ 0.00000000e+000+0.00000000e+000j,  0.00000000e+000+0.00000000e+000j,  0.00000000e+000+0.00000000e+000j,  0.00000000e+000+0.00000000e+000j,  0.00000000e+000+0.00000000e+000j,\n",
       "        -4.17587519e-008+1.66811770e-005j]])"
      ]
     },
     "execution_count": 9,
     "metadata": {},
     "output_type": "execute_result"
    }
   ],
   "source": [
    "interp2(10e14)[:6,:6]"
   ]
  },
  {
   "cell_type": "code",
   "execution_count": 10,
   "metadata": {},
   "outputs": [
    {
     "data": {
      "text/plain": [
       "204"
      ]
     },
     "execution_count": 10,
     "metadata": {},
     "output_type": "execute_result"
    }
   ],
   "source": [
    "ss.fecv_size"
   ]
  },
  {
   "cell_type": "code",
   "execution_count": 11,
   "metadata": {},
   "outputs": [
    {
     "data": {
      "text/plain": [
       "([17, 17, 17, 17, 68, 68], 204)"
      ]
     },
     "execution_count": 11,
     "metadata": {},
     "output_type": "execute_result"
    }
   ],
   "source": [
    "ss.saecv_sizes, sum(ss.saecv_sizes)"
   ]
  },
  {
   "cell_type": "code",
   "execution_count": 12,
   "metadata": {},
   "outputs": [
    {
     "data": {
      "text/plain": [
       "6"
      ]
     },
     "execution_count": 12,
     "metadata": {},
     "output_type": "execute_result"
    }
   ],
   "source": [
    "ss.nirreps"
   ]
  },
  {
   "cell_type": "code",
   "execution_count": 13,
   "metadata": {},
   "outputs": [
    {
     "data": {
      "text/plain": [
       "[\"A1'\", \"A1''\", \"A2'\", \"A2''\", \"E'\", \"E''\"]"
      ]
     },
     "execution_count": 13,
     "metadata": {},
     "output_type": "execute_result"
    }
   ],
   "source": [
    "ss.irrep_names"
   ]
  },
  {
   "cell_type": "code",
   "execution_count": 14,
   "metadata": {},
   "outputs": [],
   "source": [
    "fullvector = np.random.rand(ss.fecv_size) + 1j*np.random.rand(ss.fecv_size)"
   ]
  },
  {
   "cell_type": "code",
   "execution_count": 15,
   "metadata": {},
   "outputs": [],
   "source": [
    "packedvectors = [(iri, ss.pack_vector(fullvector, iri)) for iri in range(ss.nirreps)]"
   ]
  },
  {
   "cell_type": "code",
   "execution_count": 16,
   "metadata": {},
   "outputs": [],
   "source": [
    "unpackedvectors = np.array([ss.unpack_vector(v[1], v[0]) for v in packedvectors])"
   ]
  },
  {
   "cell_type": "code",
   "execution_count": 17,
   "metadata": {},
   "outputs": [],
   "source": [
    "rec_fullvector = np.sum(unpackedvectors, axis=0)"
   ]
  },
  {
   "cell_type": "code",
   "execution_count": 18,
   "metadata": {},
   "outputs": [
    {
     "data": {
      "text/plain": [
       "1.1359051976736956e-14"
      ]
     },
     "execution_count": 18,
     "metadata": {},
     "output_type": "execute_result"
    }
   ],
   "source": [
    "np.amax(abs(rec_fullvector-fullvector))"
   ]
  },
  {
   "cell_type": "code",
   "execution_count": 19,
   "metadata": {},
   "outputs": [],
   "source": [
    "packedmatrices = list()\n",
    "for iri in range(ss.nirreps):\n",
    "    d = ss.saecv_sizes[iri]\n",
    "    m = np.random.rand(d,d)+1j*np.random.rand(d,d)\n",
    "    packedmatrices.append((iri,m))"
   ]
  },
  {
   "cell_type": "code",
   "execution_count": 20,
   "metadata": {},
   "outputs": [],
   "source": [
    "fullmatrix = np.zeros((ss.fecv_size, ss.fecv_size), dtype=complex)\n",
    "for iri, m in packedmatrices:\n",
    "    fullmatrix += ss.unpack_matrix(m, iri)"
   ]
  },
  {
   "cell_type": "code",
   "execution_count": 21,
   "metadata": {},
   "outputs": [
    {
     "name": "stdout",
     "output_type": "stream",
     "text": [
      "(17, 17)\n",
      "1.4432899320127035e-15\n",
      "(17, 17)\n",
      "1.047382306668854e-15\n",
      "(17, 17)\n",
      "1.790180836524724e-15\n",
      "(17, 17)\n",
      "1.1105699151271772e-15\n",
      "(68, 68)\n",
      "2.3603665272841412e-15\n",
      "(68, 68)\n",
      "2.286089127109703e-15\n"
     ]
    }
   ],
   "source": [
    "for iri, m in packedmatrices:\n",
    "    print (m.shape)\n",
    "    repackedmatrix = ss.pack_matrix(fullmatrix,iri)\n",
    "    print(np.amax(abs(repackedmatrix-m)))\n",
    "    "
   ]
  },
  {
   "cell_type": "code",
   "execution_count": 22,
   "metadata": {},
   "outputs": [
    {
     "data": {
      "text/plain": [
       "2.7765481084250866e-15"
      ]
     },
     "execution_count": 22,
     "metadata": {},
     "output_type": "execute_result"
    }
   ],
   "source": [
    "iri = 1\n",
    "d = ss.saecv_sizes[iri]\n",
    "pm = np.random.rand(d,d)\n",
    "fm = ss.unpack_matrix(pm,iri)\n",
    "pmrec = ss.pack_matrix(fm,iri)\n",
    "np.amax(abs(pm-pmrec))"
   ]
  },
  {
   "cell_type": "code",
   "execution_count": 23,
   "metadata": {},
   "outputs": [
    {
     "name": "stdout",
     "output_type": "stream",
     "text": [
      "1.649272787115393e-10\n"
     ]
    }
   ],
   "source": [
    "k = 1.7\n",
    "modematrix_full = ss.modeproblem_matrix_full(k)\n",
    "modematrix_packed_list = [(iri, ss.pack_matrix(modematrix_full,iri)) for iri in range(ss.nirreps)]\n",
    "modematrix_full_rec = np.zeros((ss.fecv_size, ss.fecv_size), dtype=complex)\n",
    "for iri, m in modematrix_packed_list:\n",
    "    modematrix_full_rec += ss.unpack_matrix(m,iri)\n",
    "print(np.amax(abs(modematrix_full-modematrix_full_rec)))"
   ]
  },
  {
   "cell_type": "code",
   "execution_count": 24,
   "metadata": {},
   "outputs": [
    {
     "name": "stdout",
     "output_type": "stream",
     "text": [
      "1.649272787115393e-10\n"
     ]
    }
   ],
   "source": [
    "# here we build the irrep packed matrices directly\n",
    "k = 1.7\n",
    "modematrix_full = ss.modeproblem_matrix_full(k)\n",
    "modematrix_packed_list = [(iri, ss.modeproblem_matrix_packed(k,iri)) for iri in range(ss.nirreps)]\n",
    "modematrix_full_rec = np.zeros((ss.fecv_size, ss.fecv_size), dtype=complex)\n",
    "for iri, m in modematrix_packed_list:\n",
    "    modematrix_full_rec += ss.unpack_matrix(m,iri)\n",
    "print(np.amax(abs(modematrix_full-modematrix_full_rec)))"
   ]
  },
  {
   "cell_type": "code",
   "execution_count": 25,
   "metadata": {},
   "outputs": [
    {
     "name": "stdout",
     "output_type": "stream",
     "text": [
      "2.310331373782163e-10\n"
     ]
    }
   ],
   "source": [
    "k = 1.7\n",
    "#J = BesselType.REGULAR\n",
    "J = BesselType.HANKEL_PLUS\n",
    "S_full = ss.translation_matrix_full(k, J=J)\n",
    "S_packed_list = [(iri, ss.pack_matrix(S_full,iri)) for iri in range(ss.nirreps)]\n",
    "S_full_rec = np.zeros((ss.fecv_size, ss.fecv_size), dtype=complex)\n",
    "for iri, m in S_packed_list:\n",
    "    S_full_rec += ss.unpack_matrix(m,iri)\n",
    "print(np.amax(abs(S_full-S_full_rec)))"
   ]
  },
  {
   "cell_type": "code",
   "execution_count": 26,
   "metadata": {},
   "outputs": [
    {
     "name": "stdout",
     "output_type": "stream",
     "text": [
      "2.306030945581803e-10\n"
     ]
    }
   ],
   "source": [
    "S_packed_list2 = [(iri, ss.translation_matrix_packed(k, iri, J=J)) for iri in range(ss.nirreps)]\n",
    "S_full_rec2 = np.zeros((ss.fecv_size, ss.fecv_size), dtype=complex)\n",
    "for iri, m in S_packed_list2:\n",
    "    S_full_rec2 += ss.unpack_matrix(m,iri)\n",
    "print(np.amax(abs(S_full-S_full_rec2)))"
   ]
  },
  {
   "cell_type": "code",
   "execution_count": 27,
   "metadata": {},
   "outputs": [],
   "source": [
    "k_cart = [1,0,1]\n",
    "k_cart = np.array(k_cart)\n",
    "k_cart = k_cart / np.linalg.norm(k_cart) * k\n",
    "a_inc = ss.planewave_full(k_cart, [0,1,0])\n",
    "lu = ss.scatter_solver(k)\n",
    "f_full = lu(a_inc)"
   ]
  },
  {
   "cell_type": "code",
   "execution_count": 28,
   "metadata": {},
   "outputs": [
    {
     "data": {
      "text/plain": [
       "4.758566929912061e-11"
      ]
     },
     "execution_count": 28,
     "metadata": {},
     "output_type": "execute_result"
    }
   ],
   "source": [
    "f_rebuilt = np.zeros(f_full.shape, dtype=complex)\n",
    "for iri in range(ss.nirreps):\n",
    "    lu_iri = ss.scatter_solver(k,iri)\n",
    "    a_iri = ss.pack_vector(a_inc, iri)\n",
    "    f_iri = lu_iri(a_iri)\n",
    "    f_rebuilt += ss.unpack_vector(f_iri, iri)\n",
    "np.linalg.norm(f_full-f_rebuilt)"
   ]
  },
  {
   "cell_type": "code",
   "execution_count": 29,
   "metadata": {},
   "outputs": [
    {
     "data": {
      "text/plain": [
       "<qpms_c.ScatteringSystem at 0x7f834bb57848>"
      ]
     },
     "execution_count": 29,
     "metadata": {},
     "output_type": "execute_result"
    }
   ],
   "source": [
    "ss\n"
   ]
  },
  {
   "cell_type": "code",
   "execution_count": null,
   "metadata": {},
   "outputs": [],
   "source": []
  },
  {
   "cell_type": "code",
   "execution_count": null,
   "metadata": {},
   "outputs": [],
   "source": []
  },
  {
   "cell_type": "code",
   "execution_count": null,
   "metadata": {},
   "outputs": [],
   "source": []
  },
  {
   "cell_type": "code",
   "execution_count": null,
   "metadata": {},
   "outputs": [],
   "source": []
  },
  {
   "cell_type": "code",
   "execution_count": null,
   "metadata": {},
   "outputs": [],
   "source": []
  },
  {
   "cell_type": "code",
   "execution_count": null,
   "metadata": {},
   "outputs": [],
   "source": []
  },
  {
   "cell_type": "code",
   "execution_count": null,
   "metadata": {},
   "outputs": [],
   "source": []
  },
  {
   "cell_type": "code",
   "execution_count": null,
   "metadata": {},
   "outputs": [],
   "source": []
  }
 ],
 "metadata": {
  "kernelspec": {
   "display_name": "Python [default]",
   "language": "python",
   "name": "python3"
  },
  "language_info": {
   "codemirror_mode": {
    "name": "ipython",
    "version": 3
   },
   "file_extension": ".py",
   "mimetype": "text/x-python",
   "name": "python",
   "nbconvert_exporter": "python",
   "pygments_lexer": "ipython3",
   "version": "3.5.6"
  }
 },
 "nbformat": 4,
 "nbformat_minor": 1
}
