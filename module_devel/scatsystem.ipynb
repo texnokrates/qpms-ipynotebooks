{
 "cells": [
  {
   "cell_type": "code",
   "execution_count": 1,
   "metadata": {
    "collapsed": false
   },
   "outputs": [
    {
     "name": "stderr",
     "output_type": "stream",
     "text": [
      "/home/mmn/.local/lib/python3.4/site-packages/quaternion/numba_wrapper.py:20: UserWarning: \n",
      "\n",
      "!!!!!!!!!!!!!!!!!!!!!!!!!!!!!!!!!!!!!!!!!!!!!!!!!!!!!\n",
      "Could not import from numba, which means that some\n",
      "parts of this code may run MUCH more slowly.  You\n",
      "may wish to install numba.\n",
      "!!!!!!!!!!!!!!!!!!!!!!!!!!!!!!!!!!!!!!!!!!!!!!!!!!!!!\n",
      "\n",
      "  warnings.warn(warning_text)\n"
     ]
    }
   ],
   "source": [
    "from qpms import Particle, CTMatrix, BaseSpec, FinitePointGroup, ScatteringSystem, TMatrixInterpolator, eV, hbar\n",
    "from qpms.symmetries import point_group_info\n",
    "import numpy as np"
   ]
  },
  {
   "cell_type": "code",
   "execution_count": null,
   "metadata": {
    "collapsed": false
   },
   "outputs": [],
   "source": [
    "sym = FinitePointGroup(point_group_info['D3h'])\n",
    "bspec2 = BaseSpec(lMax=2)\n",
    "bspec1 = BaseSpec(lMax=1)\n",
    "t1 = CTMatrix(bspec1, np.diag(np.random.random(len(bspec1))))\n",
    "t2 = CTMatrix(bspec2, np.diag(np.random.random(len(bspec2))))\n",
    "p1 = Particle((1,2,),t1)\n",
    "p2 = Particle((1,2,3),t1)\n",
    "p3 = Particle((0.1,2),t2)\n",
    "ss = ScatteringSystem([p1, p2, p3], sym)\n",
    "ss.particles_tmi()"
   ]
  },
  {
   "cell_type": "code",
   "execution_count": 3,
   "metadata": {
    "collapsed": false
   },
   "outputs": [],
   "source": [
    "tmfile = '/home/mmn/tmp/cylinder_50nm_lMax4_cleaned.TMatrix'\n",
    "interp = TMatrixInterpolator(tmfile, bspec1)"
   ]
  },
  {
   "cell_type": "code",
   "execution_count": 4,
   "metadata": {
    "collapsed": false
   },
   "outputs": [
    {
     "data": {
      "text/plain": [
       "<qpms_c.TMatrixInterpolator at 0x7fd77f037b88>"
      ]
     },
     "execution_count": 4,
     "metadata": {},
     "output_type": "execute_result"
    }
   ],
   "source": [
    "interp"
   ]
  },
  {
   "cell_type": "code",
   "execution_count": 5,
   "metadata": {
    "collapsed": false
   },
   "outputs": [
    {
     "name": "stdout",
     "output_type": "stream",
     "text": [
      "caught: input frequency 3 is outside the interpolator domain (3e+14, 3.3e+15)\n"
     ]
    }
   ],
   "source": [
    "try:\n",
    "    interp(3)\n",
    "except ValueError as e:\n",
    "    print(\"caught:\", e)"
   ]
  },
  {
   "cell_type": "code",
   "execution_count": 6,
   "metadata": {
    "collapsed": false,
    "scrolled": false
   },
   "outputs": [
    {
     "data": {
      "text/plain": [
       "array([[-5.14592522e-13+6.86394412e-05j, -3.87232384e-12-3.27392018e-12j, -8.29760174e-12-8.01369534e-12j,  3.37245219e-13+2.09776169e-10j, -9.82482499e-11+1.05659079e-10j,\n",
       "         1.11303216e-11+3.74464249e-12j],\n",
       "       [ 6.07742428e-12-3.59943906e-12j,  8.35298188e-15+6.86097097e-05j,  6.04601494e-12+3.63124004e-12j,  1.05537882e-10+1.00218211e-10j, -1.14737920e-12-4.19949781e-15j,\n",
       "        -1.05537647e-10+1.00213667e-10j],\n",
       "       [ 8.28765530e-12-7.97533217e-12j, -3.90156264e-12+3.25782593e-12j,  3.99557476e-13+6.86394412e-05j,  1.11307489e-11-3.74342307e-12j,  9.82461895e-11+1.05656143e-10j,\n",
       "         3.36261036e-13-2.09773031e-10j],\n",
       "       [-2.86458342e-12+2.09771657e-10j, -1.02663005e-10+1.00345715e-10j, -6.63901583e-12-5.20128571e-12j,  4.07973895e-13-6.86394324e-05j, -3.35141792e-12-3.69174572e-12j,\n",
       "        -6.24561455e-12+7.43425788e-12j],\n",
       "       [ 1.01119987e-10+1.05523162e-10j,  9.25216194e-12+4.82860619e-15j, -1.01122935e-10+1.05527058e-10j,  1.19067828e-12-3.29851468e-12j,  2.21852779e-14-6.86097473e-05j,\n",
       "         1.17769398e-12+3.33445873e-12j],\n",
       "       [-6.64081595e-12+5.19765559e-12j,  1.02664107e-10+1.00351204e-10j, -2.86558297e-12-2.09777518e-10j,  6.25698681e-12+7.48173368e-12j, -3.36658614e-12+3.64007414e-12j,\n",
       "        -5.06130547e-13-6.86394324e-05j]])"
      ]
     },
     "execution_count": 6,
     "metadata": {},
     "output_type": "execute_result"
    }
   ],
   "source": [
    "interp(3e14)[...]"
   ]
  },
  {
   "cell_type": "code",
   "execution_count": 24,
   "metadata": {
    "collapsed": false
   },
   "outputs": [
    {
     "name": "stdout",
     "output_type": "stream",
     "text": [
      "CPU times: user 1.29 s, sys: 12 ms, total: 1.3 s\n",
      "Wall time: 1.52 s\n"
     ]
    }
   ],
   "source": [
    "%time interp2 = TMatrixInterpolator(tmfile, bspec2, symmetrise = sym, atol = 1e-19)"
   ]
  },
  {
   "cell_type": "code",
   "execution_count": 25,
   "metadata": {
    "collapsed": false
   },
   "outputs": [
    {
     "data": {
      "text/plain": [
       "array([[-5.75175232e-14+6.86394412e-05j,  0.00000000e+00+0.00000000e+00j,  0.00000000e+00+0.00000000e+00j,  0.00000000e+00+0.00000000e+00j,  0.00000000e+00+0.00000000e+00j,\n",
       "         0.00000000e+00+0.00000000e+00j],\n",
       "       [ 0.00000000e+00+0.00000000e+00j,  8.35298188e-15+6.86097097e-05j,  0.00000000e+00+0.00000000e+00j,  0.00000000e+00+0.00000000e+00j,  0.00000000e+00+0.00000000e+00j,\n",
       "         0.00000000e+00+0.00000000e+00j],\n",
       "       [ 0.00000000e+00+0.00000000e+00j,  0.00000000e+00+0.00000000e+00j, -5.75175235e-14+6.86394412e-05j,  5.12981350e-14-6.25716090e-16j,  0.00000000e+00+0.00000000e+00j,\n",
       "         0.00000000e+00+0.00000000e+00j],\n",
       "       [ 0.00000000e+00+0.00000000e+00j,  0.00000000e+00+0.00000000e+00j,  4.09698344e-12+7.10271500e-16j, -4.30117502e-17+2.82678081e-08j,  0.00000000e+00+0.00000000e+00j,\n",
       "         0.00000000e+00+0.00000000e+00j],\n",
       "       [ 0.00000000e+00+0.00000000e+00j,  0.00000000e+00+0.00000000e+00j,  0.00000000e+00+0.00000000e+00j,  0.00000000e+00+0.00000000e+00j, -8.87859971e-18+1.83380151e-08j,\n",
       "         0.00000000e+00+0.00000000e+00j],\n",
       "       [ 0.00000000e+00+0.00000000e+00j,  0.00000000e+00+0.00000000e+00j,  0.00000000e+00+0.00000000e+00j,  0.00000000e+00+0.00000000e+00j,  0.00000000e+00+0.00000000e+00j,\n",
       "         1.40341537e-17+1.50699362e-08j]])"
      ]
     },
     "execution_count": 25,
     "metadata": {},
     "output_type": "execute_result"
    }
   ],
   "source": [
    "interp2(3e14)[:6,:6]"
   ]
  },
  {
   "cell_type": "code",
   "execution_count": null,
   "metadata": {
    "collapsed": true
   },
   "outputs": [],
   "source": []
  }
 ],
 "metadata": {
  "kernelspec": {
   "display_name": "Python 3",
   "language": "python",
   "name": "python3"
  },
  "language_info": {
   "codemirror_mode": {
    "name": "ipython",
    "version": 3
   },
   "file_extension": ".py",
   "mimetype": "text/x-python",
   "name": "python",
   "nbconvert_exporter": "python",
   "pygments_lexer": "ipython3",
   "version": "3.4.2"
  }
 },
 "nbformat": 4,
 "nbformat_minor": 0
}
