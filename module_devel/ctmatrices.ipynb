{
 "cells": [
  {
   "cell_type": "code",
   "execution_count": 1,
   "metadata": {},
   "outputs": [],
   "source": [
    "from qpms import *"
   ]
  },
  {
   "cell_type": "code",
   "execution_count": 2,
   "metadata": {},
   "outputs": [],
   "source": [
    "R = 40e-9\n",
    "ω_p = 9*eV/ℏ #9*eV/ℏ\n",
    "ε_inf = 4.6\n",
    "γ_p = 0.1*eV/ℏ\n",
    "ε_b = 2.13\n",
    "lMax = 3\n",
    "\n",
    "ω = 1.5*eV/ℏ"
   ]
  },
  {
   "cell_type": "code",
   "execution_count": 3,
   "metadata": {},
   "outputs": [],
   "source": [
    "ε_m = ε_drude(ε_inf, ω_p, γ_p, ω)"
   ]
  },
  {
   "cell_type": "code",
   "execution_count": 4,
   "metadata": {},
   "outputs": [],
   "source": [
    "k_i = cmath.sqrt(ε_m)*ω/c\n",
    "k_e = cmath.sqrt(ε_b)*ω/c\n",
    "RH, RV, TH, TV = mie_coefficients(a=R, nmax=lMax, k_i=k_i, k_e=k_e, J_ext=1, J_scat=3)"
   ]
  },
  {
   "cell_type": "code",
   "execution_count": 5,
   "metadata": {},
   "outputs": [],
   "source": [
    "spec = BaseSpec(lMax=lMax)\n",
    "cT = CTMatrix.spherical(spec, R, k_i, k_e)\n",
    "cT2 = CTMatrix.spherical_perm(spec, R, ω, ε_m, ε_b)"
   ]
  },
  {
   "cell_type": "code",
   "execution_count": 6,
   "metadata": {},
   "outputs": [
    {
     "name": "stdout",
     "output_type": "stream",
     "text": [
      "[-8.65695571e-03+8.28056150e-02j -8.65695571e-03+8.28056150e-02j\n",
      " -8.65695571e-03+8.28056150e-02j -1.01374924e-05+6.86429828e-04j\n",
      " -1.01374924e-05+6.86429828e-04j -1.01374924e-05+6.86429828e-04j\n",
      " -1.01374924e-05+6.86429828e-04j -1.01374924e-05+6.86429828e-04j\n",
      " -4.22848639e-08+3.33994147e-06j -4.22848639e-08+3.33994147e-06j\n",
      " -4.22848639e-08+3.33994147e-06j -4.22848639e-08+3.33994147e-06j\n",
      " -4.22848639e-08+3.33994147e-06j -4.22848639e-08+3.33994147e-06j\n",
      " -4.22848639e-08+3.33994147e-06j -2.64247535e-04-4.45370427e-03j\n",
      " -2.64247535e-04-4.45370427e-03j -2.64247535e-04-4.45370427e-03j\n",
      " -1.82540869e-06-2.89871164e-05j -1.82540869e-06-2.89871164e-05j\n",
      " -1.82540869e-06-2.89871164e-05j -1.82540869e-06-2.89871164e-05j\n",
      " -1.82540869e-06-2.89871164e-05j -6.35422018e-09-9.58472627e-08j\n",
      " -6.35422018e-09-9.58472627e-08j -6.35422018e-09-9.58472627e-08j\n",
      " -6.35422018e-09-9.58472627e-08j -6.35422018e-09-9.58472627e-08j\n",
      " -6.35422018e-09-9.58472627e-08j -6.35422018e-09-9.58472627e-08j]\n",
      "[-8.65695571e-03+8.28056150e-02j -8.65695571e-03+8.28056150e-02j\n",
      " -8.65695571e-03+8.28056150e-02j -1.01374924e-05+6.86429828e-04j\n",
      " -1.01374924e-05+6.86429828e-04j -1.01374924e-05+6.86429828e-04j\n",
      " -1.01374924e-05+6.86429828e-04j -1.01374924e-05+6.86429828e-04j\n",
      " -4.22848639e-08+3.33994147e-06j -4.22848639e-08+3.33994147e-06j\n",
      " -4.22848639e-08+3.33994147e-06j -4.22848639e-08+3.33994147e-06j\n",
      " -4.22848639e-08+3.33994147e-06j -4.22848639e-08+3.33994147e-06j\n",
      " -4.22848639e-08+3.33994147e-06j -2.64247535e-04-4.45370427e-03j\n",
      " -2.64247535e-04-4.45370427e-03j -2.64247535e-04-4.45370427e-03j\n",
      " -1.82540869e-06-2.89871164e-05j -1.82540869e-06-2.89871164e-05j\n",
      " -1.82540869e-06-2.89871164e-05j -1.82540869e-06-2.89871164e-05j\n",
      " -1.82540869e-06-2.89871164e-05j -6.35422018e-09-9.58472627e-08j\n",
      " -6.35422018e-09-9.58472627e-08j -6.35422018e-09-9.58472627e-08j\n",
      " -6.35422018e-09-9.58472627e-08j -6.35422018e-09-9.58472627e-08j\n",
      " -6.35422018e-09-9.58472627e-08j -6.35422018e-09-9.58472627e-08j]\n"
     ]
    }
   ],
   "source": [
    "print(np.diag(cT[...]))\n",
    "print(np.diag(cT2[...]))"
   ]
  },
  {
   "cell_type": "code",
   "execution_count": 7,
   "metadata": {},
   "outputs": [
    {
     "name": "stdout",
     "output_type": "stream",
     "text": [
      "[9.59341021e-01-1.64912412e-01j 8.65695571e-03-8.28056150e-02j\n",
      " 1.01374924e-05-6.86429828e-04j 4.22848639e-08-3.33994147e-06j]\n",
      "[4.74300963e-02+1.96142656e-01j 2.64247535e-04+4.45370427e-03j\n",
      " 1.82540869e-06+2.89871164e-05j 6.35422018e-09+9.58472627e-08j]\n"
     ]
    }
   ],
   "source": [
    "print(RV)\n",
    "print(RH)"
   ]
  },
  {
   "cell_type": "code",
   "execution_count": 8,
   "metadata": {},
   "outputs": [
    {
     "name": "stdout",
     "output_type": "stream",
     "text": [
      "(1623614.1219376698+42518906.788178295j) (11094164.321117919+0j)\n"
     ]
    }
   ],
   "source": [
    "print (k_i, k_e)"
   ]
  },
  {
   "cell_type": "code",
   "execution_count": 9,
   "metadata": {},
   "outputs": [
    {
     "data": {
      "text/plain": [
       "(array([ 1.55539427-0.04860786j,  0.04390095+0.74778921j,\n",
       "        -0.2353209 +0.02157796j, -0.00693583-0.05456515j,\n",
       "         0.0099793 -0.00163621j]),\n",
       " array([-0.04390095-0.74778921j,  0.67534536-0.03058793j,\n",
       "         0.02172188+0.33185477j, -0.10655427+0.01018267j,\n",
       "        -0.00325125-0.02508662j]))"
      ]
     },
     "execution_count": 9,
     "metadata": {},
     "output_type": "execute_result"
    }
   ],
   "source": [
    "zJn(4, R*k_i, J=1)"
   ]
  },
  {
   "cell_type": "code",
   "execution_count": 10,
   "metadata": {},
   "outputs": [
    {
     "data": {
      "text/plain": [
       "(0.0649445648775068+1.7007562715271318j)"
      ]
     },
     "execution_count": 10,
     "metadata": {},
     "output_type": "execute_result"
    }
   ],
   "source": [
    "R*k_i"
   ]
  },
  {
   "cell_type": "code",
   "execution_count": 11,
   "metadata": {},
   "outputs": [
    {
     "data": {
      "text/plain": [
       "(0.44376657284471677+0j)"
      ]
     },
     "execution_count": 11,
     "metadata": {},
     "output_type": "execute_result"
    }
   ],
   "source": [
    "R*k_e"
   ]
  },
  {
   "cell_type": "code",
   "execution_count": 12,
   "metadata": {},
   "outputs": [],
   "source": [
    "au = MaterialInterpolator(\"/u/46/necadam1/unix/repo/refractiveindex.info-database/database/data/main/Au/Johnson.yml\")"
   ]
  },
  {
   "cell_type": "code",
   "execution_count": 13,
   "metadata": {},
   "outputs": [],
   "source": [
    "a, b = au.freq_interval"
   ]
  },
  {
   "cell_type": "code",
   "execution_count": 14,
   "metadata": {},
   "outputs": [
    {
     "data": {
      "text/plain": [
       "((-189.042+25.3552j), (0.2270560000000008+3.0412800000000004j))"
      ]
     },
     "execution_count": 14,
     "metadata": {},
     "output_type": "execute_result"
    }
   ],
   "source": [
    "au(a), au(b)"
   ]
  },
  {
   "cell_type": "code",
   "execution_count": 15,
   "metadata": {},
   "outputs": [],
   "source": [
    "gensphere = TMatrixGenerator.sphere(outside=EpsMu(2.3104,1), inside=lorentz_drude['Au'], r=50e-9)"
   ]
  },
  {
   "cell_type": "code",
   "execution_count": 16,
   "metadata": {},
   "outputs": [
    {
     "data": {
      "text/plain": [
       "array([-4.36161252e-02+2.28777313e-01j, -4.36161252e-02+2.28777313e-01j,\n",
       "       -4.36161252e-02+2.28777313e-01j,  6.69388553e-05+2.82301754e-03j,\n",
       "        6.69388553e-05+2.82301754e-03j,  6.69388553e-05+2.82301754e-03j,\n",
       "        6.69388553e-05+2.82301754e-03j,  6.69388553e-05+2.82301754e-03j,\n",
       "        5.26383985e-07+2.27442471e-05j,  5.26383985e-07+2.27442471e-05j,\n",
       "        5.26383985e-07+2.27442471e-05j,  5.26383985e-07+2.27442471e-05j,\n",
       "        5.26383985e-07+2.27442471e-05j,  5.26383985e-07+2.27442471e-05j,\n",
       "        5.26383985e-07+2.27442471e-05j,  5.50796078e-04-1.09082834e-02j,\n",
       "        5.50796078e-04-1.09082834e-02j,  5.50796078e-04-1.09082834e-02j,\n",
       "        8.98597111e-06-1.24160370e-04j,  8.98597111e-06-1.24160370e-04j,\n",
       "        8.98597111e-06-1.24160370e-04j,  8.98597111e-06-1.24160370e-04j,\n",
       "        8.98597111e-06-1.24160370e-04j,  5.43611838e-08-7.04806605e-07j,\n",
       "        5.43611838e-08-7.04806605e-07j,  5.43611838e-08-7.04806605e-07j,\n",
       "        5.43611838e-08-7.04806605e-07j,  5.43611838e-08-7.04806605e-07j,\n",
       "        5.43611838e-08-7.04806605e-07j,  5.43611838e-08-7.04806605e-07j])"
      ]
     },
     "execution_count": 16,
     "metadata": {},
     "output_type": "execute_result"
    }
   ],
   "source": [
    "np.diag(gensphere(spec,ω)[...])"
   ]
  },
  {
   "cell_type": "code",
   "execution_count": 17,
   "metadata": {},
   "outputs": [],
   "source": [
    "gensphere_arc_e = TMatrixGenerator.sphere_asarc(outside=EpsMu(2.3104,1), inside=lorentz_drude['Au'], r=50e-9, lMax_extend=4)"
   ]
  },
  {
   "cell_type": "code",
   "execution_count": 18,
   "metadata": {},
   "outputs": [
    {
     "data": {
      "text/plain": [
       "array([-4.53291311e-02+2.77611240e-01j, -4.24745641e-02+2.24803564e-01j,\n",
       "       -4.53291311e-02+2.77611240e-01j,  7.59828052e-05+2.86173977e-03j,\n",
       "        2.67924426e-04+3.27996083e-03j,  6.12439335e-05+2.78122400e-03j,\n",
       "        2.67924426e-04+3.27996083e-03j,  7.59828052e-05+2.86173977e-03j,\n",
       "        5.69091719e-07+2.29533748e-05j,  7.44989773e-07+2.37478758e-05j,\n",
       "        4.22749693e-06+3.17730935e-05j,  5.40025153e-07+2.28077382e-05j,\n",
       "        4.22749693e-06+3.17730935e-05j,  7.44989773e-07+2.37478758e-05j,\n",
       "        5.69091719e-07+2.29533748e-05j, -7.80983857e-03-3.44655930e-02j,\n",
       "        5.91005854e-04-1.02266640e-02j, -7.80983857e-03-3.44655930e-02j,\n",
       "       -3.41168862e-06-2.11325513e-04j, -4.26228556e-04-1.57386273e-03j,\n",
       "        9.53065100e-06-9.70458160e-05j, -4.26228556e-04-1.57386273e-03j,\n",
       "       -3.41168862e-06-2.11325513e-04j, -8.06713531e-09-1.25923000e-06j,\n",
       "       -2.96115400e-07-3.42442056e-06j, -6.04052841e-06-2.10234142e-05j,\n",
       "        5.17684380e-08-8.84008077e-07j, -6.04052841e-06-2.10234142e-05j,\n",
       "       -2.96115400e-07-3.42442056e-06j, -8.06713531e-09-1.25923000e-06j])"
      ]
     },
     "execution_count": 18,
     "metadata": {},
     "output_type": "execute_result"
    }
   ],
   "source": [
    "np.diag(gensphere_arc_e(spec,ω)[...])"
   ]
  },
  {
   "cell_type": "code",
   "execution_count": 19,
   "metadata": {},
   "outputs": [
    {
     "name": "stdout",
     "output_type": "stream",
     "text": [
      "242 ms ± 10.6 ms per loop (mean ± std. dev. of 7 runs, 1 loop each)\n"
     ]
    }
   ],
   "source": [
    "%timeit gensphere_arc_e(spec,ω)"
   ]
  },
  {
   "cell_type": "code",
   "execution_count": 20,
   "metadata": {},
   "outputs": [],
   "source": [
    "gensphere_arc = TMatrixGenerator.sphere_asarc(outside=EpsMu(2.3104,1), inside=lorentz_drude['Au'], r=50e-9)"
   ]
  },
  {
   "cell_type": "code",
   "execution_count": 21,
   "metadata": {},
   "outputs": [
    {
     "data": {
      "text/plain": [
       "array([-4.60991076e-02+2.45375236e-01j, -4.24745641e-02+2.24803564e-01j,\n",
       "       -4.60991076e-02+2.45375236e-01j,  7.83627915e-05+2.88004874e-03j,\n",
       "        2.26800427e-04+3.38020339e-03j,  6.69388553e-05+2.82301754e-03j,\n",
       "        2.26800427e-04+3.38020339e-03j,  7.83627915e-05+2.88004874e-03j,\n",
       "        5.26383985e-07+2.27442471e-05j,  5.97186683e-07+2.30944357e-05j,\n",
       "        1.17333548e-06+2.52925612e-05j,  5.40025153e-07+2.28077382e-05j,\n",
       "        1.17333548e-06+2.52925612e-05j,  5.97186683e-07+2.30944357e-05j,\n",
       "        5.26383985e-07+2.27442471e-05j, -2.62762760e-03-2.35409249e-02j,\n",
       "        5.91005854e-04-1.02266640e-02j, -2.62762760e-03-2.35409249e-02j,\n",
       "       -3.10310863e-06-2.25424818e-04j, -1.51702901e-04-1.20516540e-03j,\n",
       "        8.98597111e-06-1.24160370e-04j, -1.51702901e-04-1.20516540e-03j,\n",
       "       -3.10310863e-06-2.25424818e-04j,  5.43611838e-08-7.04806605e-07j,\n",
       "       -6.67964145e-08-1.70585106e-06j, -1.27417465e-06-7.98107417e-06j,\n",
       "        5.17684380e-08-8.84008077e-07j, -1.27417465e-06-7.98107417e-06j,\n",
       "       -6.67964145e-08-1.70585106e-06j,  5.43611838e-08-7.04806605e-07j])"
      ]
     },
     "execution_count": 21,
     "metadata": {},
     "output_type": "execute_result"
    }
   ],
   "source": [
    "np.diag(gensphere_arc(spec,ω)[...])"
   ]
  },
  {
   "cell_type": "code",
   "execution_count": 22,
   "metadata": {},
   "outputs": [
    {
     "data": {
      "text/plain": [
       "array([-0.04361613+0.22877731j, -0.04361613+0.22877731j,\n",
       "       -0.04361613+0.22877731j,  0.0005508 -0.01090828j,\n",
       "        0.0005508 -0.01090828j,  0.0005508 -0.01090828j])"
      ]
     },
     "execution_count": 22,
     "metadata": {},
     "output_type": "execute_result"
    }
   ],
   "source": [
    "spec1 = BaseSpec(lMax=1)\n",
    "np.diag(gensphere_arc(spec1,ω)[...])"
   ]
  },
  {
   "cell_type": "code",
   "execution_count": 23,
   "metadata": {},
   "outputs": [
    {
     "data": {
      "text/plain": [
       "<VSWFNorm.POWERNORM_CS: 65544>"
      ]
     },
     "execution_count": 23,
     "metadata": {},
     "output_type": "execute_result"
    }
   ],
   "source": [
    "spec.norm"
   ]
  },
  {
   "cell_type": "code",
   "execution_count": 24,
   "metadata": {},
   "outputs": [
    {
     "data": {
      "text/plain": [
       "<VSWFNorm.POWERNORM_CS: 65544>"
      ]
     },
     "execution_count": 24,
     "metadata": {},
     "output_type": "execute_result"
    }
   ],
   "source": [
    "spec1.norm"
   ]
  },
  {
   "cell_type": "code",
   "execution_count": null,
   "metadata": {},
   "outputs": [],
   "source": []
  }
 ],
 "metadata": {
  "kernelspec": {
   "display_name": "Python [default]",
   "language": "python",
   "name": "python3"
  },
  "language_info": {
   "codemirror_mode": {
    "name": "ipython",
    "version": 3
   },
   "file_extension": ".py",
   "mimetype": "text/x-python",
   "name": "python",
   "nbconvert_exporter": "python",
   "pygments_lexer": "ipython3",
   "version": "3.5.6"
  }
 },
 "nbformat": 4,
 "nbformat_minor": 2
}
