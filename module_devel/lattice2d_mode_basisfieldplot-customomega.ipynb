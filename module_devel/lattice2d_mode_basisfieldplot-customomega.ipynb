{
 "cells": [
  {
   "cell_type": "code",
   "execution_count": 1,
   "metadata": {},
   "outputs": [],
   "source": [
    "from qpms import Particle, CTMatrix, lorentz_drude, EpsMuGenerator, TMatrixGenerator, BaseSpec, FinitePointGroup, ScatteringSystem, TMatrixInterpolator, EpsMu, dbgmsg_enable, dbgmsg_disable, dbgmsg_active, BesselType,eV, hbar, c\n",
    "from qpms.symmetries import point_group_info\n",
    "import math\n",
    "import logging\n",
    "logging.basicConfig(format='%(asctime)s %(message)s', level=logging.INFO)\n",
    "import numpy as np\n",
    "eh = eV/hbar\n",
    "np.random.seed(666)\n",
    "from matplotlib import pyplot as plt\n",
    "from matplotlib import cm\n",
    "from matplotlib.backends.backend_pdf import PdfPages\n",
    "from matplotlib.patches import Rectangle, Circle\n",
    "from mpl_toolkits.axes_grid1 import AxesGrid\n",
    "\n",
    "def cleanarray(a, atol=1e-10, copy=True):\n",
    "    a = np.array(a, copy=copy)\n",
    "    sieve = abs(a.real) < atol\n",
    "    a[sieve] = 1j * a[sieve].imag\n",
    "    sieve = abs(a.imag) < atol\n",
    "    a[sieve] = a[sieve].real\n",
    "    return a"
   ]
  },
  {
   "cell_type": "code",
   "execution_count": 2,
   "metadata": {},
   "outputs": [
    {
     "data": {
      "text/plain": [
       "<DebugFlags.THREADS|MISC: 3>"
      ]
     },
     "execution_count": 2,
     "metadata": {},
     "output_type": "execute_result"
    }
   ],
   "source": [
    "dbgmsg_enable(2)\n",
    "#part_radius = 80e-9"
   ]
  },
  {
   "cell_type": "code",
   "execution_count": 3,
   "metadata": {
    "scrolled": true
   },
   "outputs": [
    {
     "data": {
      "text/plain": [
       "['meta',\n",
       " 'empty_freqs',\n",
       " 'ss_positions',\n",
       " 'ss_fullvec_poffsets',\n",
       " 'ss_fullvec_psizes',\n",
       " 'ss_bspecs_flat',\n",
       " 'ss_lattice_basis',\n",
       " 'ss_reciprocal_basis',\n",
       " 'eigval',\n",
       " 'eigval_inside_metric',\n",
       " 'eigvec',\n",
       " 'residuals',\n",
       " 'eigval_err',\n",
       " 'ranktest_SV',\n",
       " 'iri',\n",
       " 'blochvector',\n",
       " 'inside_contour',\n",
       " 'refractive_index_internal']"
      ]
     },
     "execution_count": 3,
     "metadata": {},
     "output_type": "execute_result"
    }
   ],
   "source": [
    "#modefile = '/u/46/necadam1/unix/repo/qpms/misc/modes_basis300nm_0nm__0nm_400nm_n1_b-2_k(0_0)um-1_cn150.npz' # PARAM!\n",
    "modefile='/l/necadam1/test_mode_fieldplots/cyl_r50nm_h50nm_p560nmx560nm_mAu_n1.52_b-2_k(0_0)um-1_L3_cn200.npz'\n",
    "#modefile = '/l/necadam1/sqlat-Tommi/sph_r80nm_p580nm_m5.0_n1.52_b-3_k(0_0)um-1_L3_cn3100.npz'\n",
    "data = np.load(modefile, allow_pickle=True)\n",
    "meta = data['meta'][()]\n",
    "list(data.keys())"
   ]
  },
  {
   "cell_type": "code",
   "execution_count": 4,
   "metadata": {},
   "outputs": [],
   "source": [
    "# initialise the medium and dummy t-matrix generators, so we can \"reconstruct\" the ScatSystem instance (only background medium is relevant here)\n",
    "medium = EpsMuGenerator(meta['background'])\n",
    "emg_dummy = EpsMuGenerator(10)\n",
    "tmg_dummy = TMatrixGenerator.sphere(medium, emg_dummy, 50e-9)\n",
    "try: default_omega = data['eigval'][0]\n",
    "except IndexError as ie:\n",
    "    raise ValueError(\"Data file contains no eigenvalues\") from ie\n",
    "    "
   ]
  },
  {
   "cell_type": "code",
   "execution_count": null,
   "metadata": {},
   "outputs": [],
   "source": []
  },
  {
   "cell_type": "code",
   "execution_count": 5,
   "metadata": {},
   "outputs": [],
   "source": [
    "# create ss, ssw; init wavevector to use with sswk constructor\n",
    "particles = []\n",
    "offsets = data['ss_fullvec_poffsets']\n",
    "nelems = data['ss_fullvec_psizes']\n",
    "for pi, pos in enumerate(data['ss_positions']):\n",
    "    bspec = BaseSpec(data['ss_bspecs_flat'][offsets[pi]:offsets[pi]+nelems[pi]])\n",
    "    particles.append(Particle(pos, tmg_dummy, bspec))\n",
    "ss, ssw = ScatteringSystem.create(particles, medium, default_omega, latticebasis = data['ss_lattice_basis'])\n",
    "wavevector = np.array([0., 0., 0.]) # it needs to be 3D for sswk \"constructor\", \n",
    "for i in range(len(meta['k'])):\n",
    "    wavevector[i] = meta['k'][i]\n",
    "    \n",
    "# determine the \"unit rectangle\" size for plotting\n",
    "lb = ss.lattice_basis\n",
    "xmax = max(abs(lb[0,0]), abs(lb[1,0]))\n",
    "ymax = max(abs(lb[0,1]), abs(lb[1,1]))\n",
    "if (xmax > ymax):\n",
    "    unitrect = (xmax, ss.unitcell_volume/xmax)\n",
    "else:\n",
    "    unitrect = (ss.unitcell_volume/ymax, ymax)"
   ]
  },
  {
   "cell_type": "code",
   "execution_count": 6,
   "metadata": {},
   "outputs": [],
   "source": [
    "eigval_i = 0 # PARAM!\n",
    "#omega = data['eigval'][eigval_i]\n",
    "omega = default_omega.real + 0.01j * default_omega.real\n",
    "fvc = data['eigvec'][eigval_i]\n",
    "len_fvc = len(fvc)"
   ]
  },
  {
   "cell_type": "code",
   "execution_count": 7,
   "metadata": {},
   "outputs": [],
   "source": [
    "ssw = ss(omega)\n",
    "sswk = ssw._sswk(wavevector)"
   ]
  },
  {
   "cell_type": "code",
   "execution_count": 8,
   "metadata": {},
   "outputs": [],
   "source": [
    "ucfactor = 2.2 # \"unit cell coverage\"; unitrect sizes will be multiplied by this# PARAM!\n",
    "zfactor = 5 # z range size / sqrt(unitcell_volume) size aspect ratio\n",
    "resolution = 60 # PARAM!\n",
    "sqrt_ucvol = math.sqrt(ss.unitcell_volume)\n",
    "gridsz = [math.ceil(resolution * unitrect[i] / sqrt_ucvol) for i in (0,1)] #x, y\n",
    "gridsz.append(math.ceil(zfactor / ucfactor * resolution)) # z\n",
    "gridextent = [[ -(ucfactor * unitrect[i])/2, (ucfactor * unitrect[i] / 2) ] for i in (0,1)]\n",
    "gridextent.append( [-(zfactor * sqrt_ucvol) / 2, (zfactor * sqrt_ucvol) / 2] )\n",
    "gridlines = [np.linspace(*gridextent[i], gridsz[i]) for i in range(3)]\n",
    "gridspacings = [gridlines[i][1]-gridlines[i][0] for i in range(3)] # should be very similar\n",
    "\n",
    "gridoffsets = [0.,0.,0.] # PARAM!\n",
    "\n",
    "xygrid = np.stack(np.meshgrid(gridlines[0], gridlines[1], gridoffsets[2], indexing='ij')).T\n",
    "xygrid.shape=xygrid.shape[1:]\n",
    "xygrid_s = xygrid - np.array([*gridspacings[:2], 0])/2 # correction of pcolormesh coordinates\n",
    "xzgrid = np.stack(np.meshgrid(gridlines[0], gridoffsets[1], gridlines[2], indexing='ij')).T\n",
    "xzgrid.shape = (gridsz[2], gridsz[0], 3)\n",
    "xzgrid_s = xzgrid - np.array([gridspacings[0], 0, gridspacings[2]])/2\n",
    "\n",
    "#for imshow\n",
    "lenscale = 1000e-9 #PARAM!\n",
    "xyextent = [gridextent[i][j]/lenscale for (i,j) in [(0,0),(0,1),(1,0),(1,1)]]\n",
    "xzextent = [gridextent[i][j]/lenscale for (i,j) in [(0,0),(0,1),(2,0),(2,1)]]"
   ]
  },
  {
   "cell_type": "code",
   "execution_count": 9,
   "metadata": {},
   "outputs": [
    {
     "name": "stderr",
     "output_type": "stream",
     "text": [
      "2020-07-31 12:15:46,268 Start calculating xy field basis\n",
      "2020-07-31 12:16:02,222 Start calculating xz field basis\n",
      "2020-07-31 12:19:23,985 Basis fields done\n"
     ]
    }
   ],
   "source": [
    "logging.info(\"Start calculating xy field basis\")\n",
    "xy_basis = sswk.scattered_field_basis(xygrid)\n",
    "logging.info(\"Start calculating xz field basis\")\n",
    "xz_basis = sswk.scattered_field_basis(xzgrid)\n",
    "logging.info(\"Basis fields done\")"
   ]
  },
  {
   "cell_type": "code",
   "execution_count": 10,
   "metadata": {},
   "outputs": [],
   "source": [
    "xyE = np.dot(np.swapaxes(xy_basis,-1, -2), fvc)\n",
    "xzE = np.dot(np.swapaxes(xz_basis,-1, -2), fvc)"
   ]
  },
  {
   "cell_type": "code",
   "execution_count": 11,
   "metadata": {},
   "outputs": [],
   "source": [
    "cutoff_ratio_default = 0.03\n",
    "def cutfield(a, cutoff_ratio=cutoff_ratio_default):\n",
    "    vmin = np.nanquantile(a, cutoff_ratio)\n",
    "    vmax = np.nanquantile(a, 1-cutoff_ratio)\n",
    "    return np.clip(a, vmin, vmax)\n"
   ]
  },
  {
   "cell_type": "code",
   "execution_count": 12,
   "metadata": {
    "scrolled": false
   },
   "outputs": [
    {
     "name": "stdout",
     "output_type": "stream",
     "text": [
      "0.0\n",
      "0.4117200462378566\n",
      "2.9438016030972105\n",
      "0.18740499408353936\n",
      "0.0\n",
      "0.4117200462378566\n",
      "0.0\n",
      "0.2758583732974503\n",
      "24.45506832956944\n",
      "0.4013707736407143\n",
      "0.0\n",
      "0.8060257294689601\n",
      "24.455068329569762\n",
      "0.40137077364071433\n",
      "0.0\n",
      "0.5661268099815064\n",
      "0.0\n",
      "1.9464894997272557\n",
      "589.2603797120817\n",
      "2.0768481568792323\n",
      "0.0\n",
      "3.5387589377874207\n",
      "949.781464973646\n",
      "3.9189773117577884\n",
      "0.0\n",
      "3.5387589377874216\n",
      "589.2603797120829\n",
      "2.076341403216854\n",
      "0.0\n",
      "1.9464894997272548\n",
      "0.0\n",
      "0.15661319294707182\n",
      "0.0\n",
      "0.0\n",
      "0.0\n",
      "0.15661319294707182\n",
      "0.0\n",
      "0.17069490875267215\n",
      "0.0\n",
      "0.5345392848162805\n",
      "0.0\n",
      "0.054690597411891986\n",
      "0.0\n",
      "0.5345392848162805\n",
      "0.0\n",
      "0.1715665254166002\n",
      "0.0\n",
      "0.39500067760717206\n",
      "0.0\n",
      "0.8273883612631155\n",
      "18.399627218878884\n",
      "1.325743286859197\n",
      "0.0\n",
      "0.19886720703602428\n",
      "18.399627218879104\n",
      "1.3257432868591967\n",
      "0.0\n",
      "0.7830886875619759\n",
      "0.0\n",
      "0.39500067760717195\n"
     ]
    }
   ],
   "source": [
    "lwfac = 5 #PARAM!\n",
    "plotfile = \"/tmp/Tommille/basisfields_customomega_neu.pdf\" # PARAM\n",
    "\n",
    "t,l,m = bspec.tlm()\n",
    "with PdfPages(plotfile) as pdf:\n",
    "  for i in range(ss.fecv_size):\n",
    "    xyE = cleanarray(xy_basis[...,i,:])\n",
    "    xzE = cleanarray(xz_basis[...,i,:])\n",
    "    f = plt.figure(figsize=(16, 10))\n",
    "    f.suptitle(\"(%s, %d, %d)\" % ('E' if t[i] == 2 else 'M', l[i], m[i]))\n",
    "    grid = AxesGrid(f, 111,  # similar to subplot(111)\n",
    "                    nrows_ncols=(2, 4),\n",
    "                    axes_pad=(0.45, 0.65),\n",
    "                    label_mode=\"L\",\n",
    "                    share_all=False,\n",
    "                    cbar_location=\"right\",\n",
    "                    cbar_mode=\"each\",\n",
    "                    cbar_size=\"7%\",\n",
    "                    cbar_pad=\"2%\",\n",
    "                    )\n",
    "    # xy part\n",
    "    ax = grid[0:4]\n",
    "    cbax = grid.cbar_axes[0:4]\n",
    "\n",
    "    for axi in range(4):\n",
    "        ax[axi].set_xlim(xyextent[:2])\n",
    "        ax[axi].set_ylim(xyextent[2:])\n",
    "    flim = max(np.amax(cutfield(abs(xyE[...,2].real))), np.amax(cutfield(abs(xyE[...,2].imag)))) #this is stupid\n",
    "    print(flim)\n",
    "    if (flim != 0):\n",
    "        axi=0\n",
    "        c = ax[axi].imshow(cutfield(xyE[...,2].real), origin='lower', cmap=cm.bwr, extent=xyextent, interpolation='none', vmin = -flim, vmax=flim)#, vmin=vmin, vmax=vmax, interpolation='none')\n",
    "        cb = cbax[axi].colorbar(c)\n",
    "        axi=1\n",
    "        c = ax[axi].imshow(cutfield(xyE[...,2].imag), origin='lower', cmap=cm.bwr, extent=xyextent, interpolation='none', vmin = -flim, vmax=flim)#, vmin=vmin, vmax=vmax, interpolation='none')\n",
    "        cb = cbax[axi].colorbar(c)\n",
    "\n",
    "    axi=2\n",
    "    field = xyE.real[...,:2]\n",
    "    speed = cutfield(np.linalg.norm(field, axis=-1), 0.2)\n",
    "    if(np.any(speed != 0)):\n",
    "        lw = 1# lwfac*speed/np.amax(speed)\n",
    "        c = ax[axi].imshow(speed, origin='lower', extent=xyextent, cmap=cm.magma, vmin=0, vmax=np.nanquantile(speed, 1-cutoff_ratio_default), interpolation='none')\n",
    "        ax[axi].streamplot(xygrid[...,0]/lenscale, xygrid[...,1]/lenscale, field[...,0], field[...,1],\n",
    "                              linewidth=lw,color='r'                     )\n",
    "        cb = cbax[axi].colorbar(c)\n",
    "\n",
    "    axi=3\n",
    "    field = xyE.imag[...,:2]\n",
    "    speed = cutfield(np.linalg.norm(field, axis=-1), 0.2)\n",
    "    if(np.any(speed != 0)):\n",
    "        lw = 1# lwfac*speed/np.amax(speed)\n",
    "        c = ax[axi].imshow(speed, origin='lower', extent=xyextent, cmap=cm.magma, vmin=0, vmax=np.nanquantile(speed, 1-cutoff_ratio_default), interpolation='none')\n",
    "        ax[axi].streamplot(xygrid[...,0]/lenscale, xygrid[...,1]/lenscale, field[...,0], field[...,1],\n",
    "                              linewidth=lw,color='r'                     )\n",
    "        cb = cbax[axi].colorbar(c)\n",
    "\n",
    "    # xz part\n",
    "    ax = grid[4:8]\n",
    "    cbax = grid.cbar_axes[4:8]\n",
    "    for axi in range(4):\n",
    "        ax[axi].set_xlim(xzextent[:2])\n",
    "        ax[axi].set_ylim(xzextent[2:])\n",
    "\n",
    "    axi=0\n",
    "    flim = max(np.nanmax(cutfield(abs(xzE[...,1].real))), np.nanmax(cutfield(abs(xzE[...,1].imag))))  #this is stupid\n",
    "    print(flim)\n",
    "    if (flim != 0):\n",
    "        c = ax[axi].imshow(cutfield(xzE[...,1].real), origin='lower', cmap=cm.bwr, extent=xzextent, interpolation='none', vmin = -flim, vmax=flim)#, vmin=vmin, vmax=vmax, interpolation='none')\n",
    "        cb = cbax[axi].colorbar(c)\n",
    "        axi=1\n",
    "        c = ax[axi].imshow(cutfield(xzE[...,1].imag), origin='lower', cmap=cm.bwr, extent=xzextent, interpolation='none', vmin = -flim, vmax=flim)#, vmin=vmin, vmax=vmax, interpolation='none')\n",
    "        cb = cbax[axi].colorbar(c)\n",
    "\n",
    "    axi=2\n",
    "    field = xzE.real[...,::2]\n",
    "    speed = cutfield(np.linalg.norm(field, axis=-1), 0.05)\n",
    "    if(np.any(speed != 0)):\n",
    "        lw = 1# lwfac*speed/np.amax(speed)\n",
    "        c = ax[axi].imshow(speed, origin='lower', extent=xzextent, cmap=cm.magma, vmin=0, vmax=np.nanquantile(speed, 1-cutoff_ratio_default), interpolation='none')\n",
    "        ax[axi].streamplot(xzgrid[...,0]/lenscale, xzgrid[...,2]/lenscale, field[...,0], field[...,1],\n",
    "                              linewidth=lw,color='r'                     )\n",
    "        cb = cbax[axi].colorbar(c)\n",
    "\n",
    "    axi=3\n",
    "    field = xzE.imag[...,::2]\n",
    "    speed = cutfield(np.linalg.norm(field, axis=-1), 0.05)\n",
    "    if(np.any(speed != 0)):\n",
    "        lw = 1# lwfac*speed/np.amax(speed)\n",
    "        c = ax[axi].imshow(speed, origin='lower', extent=xzextent, cmap=cm.magma, vmin=0, vmax=np.nanquantile(speed, 1-cutoff_ratio_default), interpolation='none')\n",
    "        ax[axi].streamplot(xzgrid[...,0]/lenscale, xzgrid[...,2]/lenscale, field[...,0], field[...,1],\n",
    "                              linewidth=lw,color='r'                     )\n",
    "        cb = cbax[axi].colorbar(c)\n",
    "    pdf.savefig(f)\n",
    "    plt.close(f)\n"
   ]
  },
  {
   "cell_type": "code",
   "execution_count": 13,
   "metadata": {},
   "outputs": [
    {
     "data": {
      "text/plain": [
       "(137, 60, 3)"
      ]
     },
     "execution_count": 13,
     "metadata": {},
     "output_type": "execute_result"
    }
   ],
   "source": [
    "xzgrid.shape"
   ]
  },
  {
   "cell_type": "code",
   "execution_count": 14,
   "metadata": {},
   "outputs": [
    {
     "data": {
      "text/plain": [
       "[-0.6160000000000001,\n",
       " 0.6160000000000001,\n",
       " -1.4000000000000001,\n",
       " 1.4000000000000001]"
      ]
     },
     "execution_count": 14,
     "metadata": {},
     "output_type": "execute_result"
    }
   ],
   "source": [
    "xzextent"
   ]
  },
  {
   "cell_type": "code",
   "execution_count": null,
   "metadata": {},
   "outputs": [],
   "source": []
  }
 ],
 "metadata": {
  "kernelspec": {
   "display_name": "Python 3",
   "language": "python",
   "name": "python3"
  },
  "language_info": {
   "codemirror_mode": {
    "name": "ipython",
    "version": 3
   },
   "file_extension": ".py",
   "mimetype": "text/x-python",
   "name": "python",
   "nbconvert_exporter": "python",
   "pygments_lexer": "ipython3",
   "version": "3.7.6"
  }
 },
 "nbformat": 4,
 "nbformat_minor": 1
}
