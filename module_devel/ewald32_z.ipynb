{
 "cells": [
  {
   "cell_type": "code",
   "execution_count": 43,
   "metadata": {},
   "outputs": [],
   "source": [
    "import qpms\n",
    "from qpms.cyewaldtest import *\n",
    "from scipy.special import wofz\n",
    "from cmath import pi, exp, sqrt\n",
    "\n",
    "def d0_kambe(x, z):\n",
    "    expfac = exp(-x+z**2/4/x)\n",
    "    wplus = wofz(z/(2* x **.5) + 1j*x**.5)\n",
    "    wminus = wofz(-z/(2* x**.5) + 1j*x**.5)\n",
    "    return sqrt(pi)/2 * expfac * (wminus+wplus)\n",
    "\n",
    "def d1_kambe(x, z):\n",
    "    expfac = exp(-x+z**2/4/x)\n",
    "    wplus = wofz(z/(2* x **.5) + 1j*x**.5)\n",
    "    wminus = wofz(-z/(2* x**.5) + 1j*x**.5)\n",
    "    return -1j*sqrt(pi)/z * expfac * (wminus-wplus)"
   ]
  },
  {
   "cell_type": "code",
   "execution_count": 44,
   "metadata": {},
   "outputs": [
    {
     "name": "stdout",
     "output_type": "stream",
     "text": [
      "[ 2.53734555e-02+0.j  6.78081331e-03-0.j -2.03006360e+01-0.j -1.21869297e+04+0.j]\n",
      "[0.02535651+0.j 0.00677614+0.j 0.00187026+0.j 0.00052943+0.j]\n",
      "(0.025373455509408876+0j) (-0.006780813306267783+0j)\n"
     ]
    }
   ],
   "source": [
    "x = +3\n",
    "z = -0.1\n",
    "maxn = 3\n",
    "print(e32_Delta(maxn,x,z))\n",
    "print(np.array([gamma_inc(.5-n, x, 0) for n in range(maxn+1) ]))\n",
    "print(d0_kambe(x,z), d1_kambe(x,z))"
   ]
  },
  {
   "cell_type": "code",
   "execution_count": 33,
   "metadata": {},
   "outputs": [
    {
     "data": {
      "text/plain": [
       "((0.2872937733117077+0.003838825658092819j),\n",
       " (0.2872937733117077-0.003838825658092819j))"
      ]
     },
     "execution_count": 33,
     "metadata": {},
     "output_type": "execute_result"
    }
   ],
   "source": [
    "wminus = wofz(-z/(2* x**.5) + 1j*x**.5)\n",
    "wplus = wofz(z/(2* x **.5) + 1j*x**.5)\n",
    "wminus, wplus"
   ]
  },
  {
   "cell_type": "code",
   "execution_count": 34,
   "metadata": {},
   "outputs": [
    {
     "data": {
      "text/plain": [
       "((0.5745875466234154+0j), (-0-0.07677651316185638j))"
      ]
     },
     "execution_count": 34,
     "metadata": {},
     "output_type": "execute_result"
    }
   ],
   "source": [
    "wminus+wplus, (wminus-wplus)/z"
   ]
  },
  {
   "cell_type": "code",
   "execution_count": 39,
   "metadata": {},
   "outputs": [],
   "source": [
    "\n",
    "    "
   ]
  },
  {
   "cell_type": "code",
   "execution_count": 40,
   "metadata": {},
   "outputs": [
    {
     "data": {
      "text/plain": [
       "((0.025373455509408876+0j), 0.00214428144361831j)"
      ]
     },
     "execution_count": 40,
     "metadata": {},
     "output_type": "execute_result"
    }
   ],
   "source": [
    "d0_kambe(x, z), d1_kambe(x, z)"
   ]
  },
  {
   "cell_type": "code",
   "execution_count": null,
   "metadata": {},
   "outputs": [],
   "source": []
  }
 ],
 "metadata": {
  "kernelspec": {
   "display_name": "Python 3",
   "language": "python",
   "name": "python3"
  },
  "language_info": {
   "codemirror_mode": {
    "name": "ipython",
    "version": 3
   },
   "file_extension": ".py",
   "mimetype": "text/x-python",
   "name": "python",
   "nbconvert_exporter": "python",
   "pygments_lexer": "ipython3",
   "version": "3.7.3"
  }
 },
 "nbformat": 4,
 "nbformat_minor": 2
}
