{
 "cells": [
  {
   "cell_type": "code",
   "execution_count": 1,
   "metadata": {},
   "outputs": [
    {
     "data": {
      "text/plain": [
       "4262802.053965826"
      ]
     },
     "execution_count": 1,
     "metadata": {},
     "output_type": "execute_result"
    }
   ],
   "source": [
    "from qpms import Particle, CTMatrix, lorentz_drude, EpsMuGenerator, TMatrixGenerator, BaseSpec, FinitePointGroup, ScatteringSystem, TMatrixInterpolator, EpsMu, dbgmsg_enable, dbgmsg_disable, dbgmsg_active, BesselType,eV, hbar, c\n",
    "from qpms.symmetries import point_group_info\n",
    "import logging\n",
    "logging.basicConfig(format='%(asctime)s %(message)s', level=logging.INFO)\n",
    "import numpy as np\n",
    "eh = eV/hbar\n",
    "np.random.seed(666)\n",
    "from matplotlib import pyplot as plt\n",
    "from matplotlib import cm\n",
    "from matplotlib.backends.backend_pdf import PdfPages\n",
    "from matplotlib.patches import Rectangle, Circle\n",
    "from mpl_toolkits.axes_grid1 import AxesGrid\n",
    "\n",
    "def cleanarray(a, atol=1e-10, copy=True):\n",
    "    a = np.array(a, copy=copy)\n",
    "    sieve = abs(a.real) < atol\n",
    "    a[sieve] = 1j * a[sieve].imag\n",
    "    sieve = abs(a.imag) < atol\n",
    "    a[sieve] = a[sieve].real\n",
    "    return a\n",
    "\n",
    "dbgmsg_enable(2)\n",
    "part_radius = 80e-9\n",
    "\n",
    "lMax=2\n",
    "px = 580e-9\n",
    "py = 580e-9\n",
    "grpname='D4h'\n",
    "\n",
    "sym = FinitePointGroup(point_group_info[grpname])\n",
    "bspec1 = BaseSpec(lMax=lMax)\n",
    "medium=EpsMuGenerator(EpsMu(1.52**2))\n",
    "#t1 = CTMatrix(bspec1, np.diag(np.random.random(len(bspec1))))\n",
    "t1 = TMatrixGenerator.sphere(medium, EpsMuGenerator(lorentz_drude['Au']), r=part_radius)\n",
    "p1 = Particle((0,0,0),t1,bspec=bspec1)\n",
    "ss1, ssw1 = ScatteringSystem.create([p1], EpsMuGenerator(EpsMu(1.52**2)), 1.4*eh, sym)\n",
    "ss, ssw = ScatteringSystem.create([p1], EpsMuGenerator(EpsMu(1.52**2)), 1.4*eh, latticebasis=[[px, 0], [0,py]])\n",
    "lambd = 2*np.pi/ssw.wavenumber.real\n",
    "ss.particles_tmi\n",
    "ss1.irrep_names\n",
    "\n",
    "wavevector = [0,0,0]\n",
    "sswk = ssw._sswk(wavevector)\n",
    "sswk.eta"
   ]
  },
  {
   "cell_type": "code",
   "execution_count": 2,
   "metadata": {},
   "outputs": [
    {
     "data": {
      "text/plain": [
       "array([nan+nanj, nan+nanj, nan+nanj])"
      ]
     },
     "execution_count": 2,
     "metadata": {},
     "output_type": "execute_result"
    }
   ],
   "source": [
    "f = [1] + [0,] * 15\n",
    "sswk.scattered_E(f, [0,0,9900e-9])"
   ]
  },
  {
   "cell_type": "code",
   "execution_count": 3,
   "metadata": {},
   "outputs": [],
   "source": [
    "import numpy as np\n",
    "import scipy"
   ]
  },
  {
   "cell_type": "code",
   "execution_count": 7,
   "metadata": {},
   "outputs": [
    {
     "data": {
      "text/plain": [
       "(0.0005641893014533876+0j)"
      ]
     },
     "execution_count": 7,
     "metadata": {},
     "output_type": "execute_result"
    }
   ],
   "source": [
    "scipy.special.wofz(1000j)"
   ]
  },
  {
   "cell_type": "code",
   "execution_count": null,
   "metadata": {},
   "outputs": [],
   "source": [
    "scipy.__version__"
   ]
  },
  {
   "cell_type": "code",
   "execution_count": 9,
   "metadata": {},
   "outputs": [
    {
     "data": {
      "text/plain": [
       "(inf+0j)"
      ]
     },
     "execution_count": 9,
     "metadata": {},
     "output_type": "execute_result"
    }
   ],
   "source": [
    "I=1j\n",
    "z=187.91616354271889 * I\n",
    "sqrtx=1.4846342921404931\n",
    "scipy.special.wofz(-z/(2*sqrtx) + I*sqrtx)"
   ]
  },
  {
   "cell_type": "code",
   "execution_count": 16,
   "metadata": {},
   "outputs": [
    {
     "data": {
      "text/plain": [
       "((inf+0j), (2+0j))"
      ]
     },
     "execution_count": 16,
     "metadata": {},
     "output_type": "execute_result"
    }
   ],
   "source": [
    "ž=(-z/(2*sqrtx) + I*sqrtx)\n",
    "scipy.special.wofz(ž), scipy.special.erfc(-1j*ž)"
   ]
  },
  {
   "cell_type": "code",
   "execution_count": 18,
   "metadata": {},
   "outputs": [
    {
     "data": {
      "text/plain": [
       "-61.80238680710544"
      ]
     },
     "execution_count": 18,
     "metadata": {},
     "output_type": "execute_result"
    }
   ],
   "source": [
    "ž.imag"
   ]
  },
  {
   "cell_type": "code",
   "execution_count": 12,
   "metadata": {},
   "outputs": [],
   "source": [
    "expfac = np.exp(-x + 0.25 * z*z / x)"
   ]
  },
  {
   "cell_type": "code",
   "execution_count": 13,
   "metadata": {},
   "outputs": [
    {
     "data": {
      "text/plain": [
       "0j"
      ]
     },
     "execution_count": 13,
     "metadata": {},
     "output_type": "execute_result"
    }
   ],
   "source": [
    "expfac"
   ]
  },
  {
   "cell_type": "code",
   "execution_count": null,
   "metadata": {},
   "outputs": [],
   "source": []
  }
 ],
 "metadata": {
  "kernelspec": {
   "display_name": "Python 3",
   "language": "python",
   "name": "python3"
  },
  "language_info": {
   "codemirror_mode": {
    "name": "ipython",
    "version": 3
   },
   "file_extension": ".py",
   "mimetype": "text/x-python",
   "name": "python",
   "nbconvert_exporter": "python",
   "pygments_lexer": "ipython3",
   "version": "3.9.2"
  }
 },
 "nbformat": 4,
 "nbformat_minor": 2
}
