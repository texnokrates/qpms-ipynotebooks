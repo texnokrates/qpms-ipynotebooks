{
 "cells": [
  {
   "cell_type": "code",
   "execution_count": 4,
   "metadata": {},
   "outputs": [],
   "source": [
    "import glob\n",
    "import qpms\n",
    "import numpy as np"
   ]
  },
  {
   "cell_type": "code",
   "execution_count": 5,
   "metadata": {},
   "outputs": [
    {
     "data": {
      "text/plain": [
       "['/home/mmn/repo/qpms/misc/cyl_r50nm_h50nm_p580nmx580nm_mAu_n1.52_f(1.38..0.005..1.41)eV_L3_SVGamma.npz',\n",
       " '/home/mmn/repo/qpms/misc/cyl_r50nm_h50nm_p580nmx580nm_mAu_n1.52_f(1.38..0.005..1.41)eV_L2_SVGamma.npz',\n",
       " '/home/mmn/repo/qpms/misc/cyl_r50nm_h50nm_p580nmx580nm_10x10_mAu_n1.52_angles(-0.5_0.5)_Ey_f1.4eV_L2.npz',\n",
       " '/home/mmn/repo/qpms/misc/cyl_r50nm_h50nm_p580nmx580nm_20x20_mAu_n1.52_φ0.5π_θ(-0.495_0.495)π_ψ0.5π_χ0π_f1.4eV_L2.npz',\n",
       " '/home/mmn/repo/qpms/misc/cyl_r50nm_h50nm_p580nmx580nm_20x20_mAu_n1.52_φ0π_θ(-0.495_0.495)π_ψ0π_χ0π_f1.4eV_L1.npz',\n",
       " '/home/mmn/repo/qpms/misc/cyl_r50nm_h50nm_p580nmx580nm_20x20_mAu_n1.52_φ0π_θ(-0.495_0.495)π_ψ0π_χ0π_f1.4eV_L2.npz',\n",
       " '/home/mmn/repo/qpms/misc/cyl_r50nm_h50nm_p580nmx580nm_5x5_mAu_n1.52_φ0π_θ(-0.495_0.495)π_ψ0π_χ0π_f1.4eV_L2.npz',\n",
       " '/home/mmn/repo/qpms/misc/cyl_r50nm_h50nm_p580nmx580nm_20x20_mAu_n1.52_angles(-1.55509_1.55509)_Ey_f1.4eV_L2.npz',\n",
       " '/home/mmn/repo/qpms/misc/cyl_r50nm_h50nm_p580nmx580nm_5x5_mAu_n1.52_phi0_theta(-0.495_0.495)_psi0_xi0_f1.4eV_L2.npz',\n",
       " '/home/mmn/repo/qpms/misc/cyl_r50nm_h50nm_p580nmx580nm_20x20_mAu_n1.52_φ0π_θ(-0.495_0.495)π_ψ0.5π_χ0π_f1.4eV_L2.npz',\n",
       " '/home/mmn/repo/qpms/misc/cyl_r50nm_h50nm_p580nmx580nm_20x20_mAu_n1.52_φ0.5π_θ(-0.495_0.495)π_ψ0.5π_χ0π_f1.4eV_L1.npz',\n",
       " '/home/mmn/repo/qpms/misc/cd_cyl_r50nm_h50nm_p580nmx580nm_5x5_mAu_n1.52_k_0_0_f1.4eV_L2_micro-D4h.npz',\n",
       " '/home/mmn/repo/qpms/misc/cyl_r50nm_h50nm_p580nmx580nm_20x20_mAu_n1.52_angles(-0.5_0.5)_Ey_f1.4eV_L2.npz',\n",
       " '/home/mmn/repo/qpms/misc/cyl_r50nm_h50nm_p580nmx580nm_mAu_n1.52_f(1.38..0.001..1.41)eV_L2_SVGamma.npz',\n",
       " '/home/mmn/repo/qpms/misc/cyl_r50nm_h50nm_p580nmx580nm_20x20_mAu_n1.52_φ0.5π_θ(-0.495_0.495)π_ψ0π_χ0π_f1.4eV_L2.npz',\n",
       " '/home/mmn/repo/qpms/misc/cyl_r50nm_h50nm_p580nmx580nm_20x20_mAu_n1.52_φ0π_θ(-0.495_0.495)π_ψ0.5π_χ0π_f1.4eV_L1.npz',\n",
       " '/home/mmn/repo/qpms/misc/cyl_r50nm_h50nm_p580nmx580nm_20x20_mAu_n1.52_φ0.5π_θ(-0.495_0.495)π_ψ0π_χ0π_f1.4eV_L1.npz']"
      ]
     },
     "execution_count": 5,
     "metadata": {},
     "output_type": "execute_result"
    }
   ],
   "source": [
    "prefix=\"/home/mmn/repo/qpms/misc/\"\n",
    "glob.glob(prefix+\"*.npz\")"
   ]
  },
  {
   "cell_type": "code",
   "execution_count": 10,
   "metadata": {},
   "outputs": [],
   "source": [
    "a = np.load('/home/mmn/repo/qpms/misc/cyl_r50nm_h50nm_p580nmx580nm_20x20_mAu_n1.52_φ0.5π_θ(-0.495_0.495)π_ψ0π_χ0π_f1.4eV_L1.npz')\n",
    "b = np.load('/home/mmn/repo/qpms/misc/cyl_r50nm_h50nm_p580nmx580nm_20x20_mAu_n1.52_φ0π_θ(-0.495_0.495)π_ψ0π_χ0π_f1.4eV_L1.npz')"
   ]
  },
  {
   "cell_type": "code",
   "execution_count": 9,
   "metadata": {},
   "outputs": [
    {
     "data": {
      "text/plain": [
       "['meta',\n",
       " 'k_sph',\n",
       " 'k_cart',\n",
       " 'E_cart',\n",
       " 'E_sph',\n",
       " 'σ_ext',\n",
       " 'σ_abs',\n",
       " 'σ_scat',\n",
       " 'σ_ext_ir',\n",
       " 'σ_abs_ir',\n",
       " 'σ_scat_ir',\n",
       " 'omega',\n",
       " 'wavenumber']"
      ]
     },
     "execution_count": 9,
     "metadata": {},
     "output_type": "execute_result"
    }
   ],
   "source": [
    "[k for k in a.keys()]"
   ]
  },
  {
   "cell_type": "code",
   "execution_count": 11,
   "metadata": {},
   "outputs": [
    {
     "data": {
      "text/plain": [
       "array([[ 9.61795793e-19+0.j,  1.57073173e-02+0.j,  9.99876632e-01+0.j],\n",
       "       [ 1.34337766e-18+0.j,  2.19390220e-02+0.j,  9.99759311e-01+0.j],\n",
       "       [ 1.72490733e-18+0.j,  2.81698745e-02+0.j,  9.99603150e-01+0.j],\n",
       "       ...,\n",
       "       [ 1.72490733e-18+0.j,  2.81698745e-02+0.j, -9.99603150e-01+0.j],\n",
       "       [ 1.34337766e-18+0.j,  2.19390220e-02+0.j, -9.99759311e-01+0.j],\n",
       "       [ 9.61795793e-19+0.j,  1.57073173e-02+0.j, -9.99876632e-01+0.j]])"
      ]
     },
     "execution_count": 11,
     "metadata": {},
     "output_type": "execute_result"
    }
   ],
   "source": [
    "a['E_cart']"
   ]
  },
  {
   "cell_type": "code",
   "execution_count": 12,
   "metadata": {},
   "outputs": [
    {
     "data": {
      "text/plain": [
       "array([[ 0.01570732+0.j,  0.        +0.j,  0.99987663+0.j],\n",
       "       [ 0.02193902+0.j,  0.        +0.j,  0.99975931+0.j],\n",
       "       [ 0.02816987+0.j,  0.        +0.j,  0.99960315+0.j],\n",
       "       ...,\n",
       "       [ 0.02816987+0.j,  0.        +0.j, -0.99960315+0.j],\n",
       "       [ 0.02193902+0.j,  0.        +0.j, -0.99975931+0.j],\n",
       "       [ 0.01570732+0.j,  0.        +0.j, -0.99987663+0.j]])"
      ]
     },
     "execution_count": 12,
     "metadata": {},
     "output_type": "execute_result"
    }
   ],
   "source": [
    "b['E_cart']"
   ]
  },
  {
   "cell_type": "code",
   "execution_count": null,
   "metadata": {},
   "outputs": [],
   "source": []
  }
 ],
 "metadata": {
  "kernelspec": {
   "display_name": "Python 3",
   "language": "python",
   "name": "python3"
  },
  "language_info": {
   "codemirror_mode": {
    "name": "ipython",
    "version": 3
   },
   "file_extension": ".py",
   "mimetype": "text/x-python",
   "name": "python",
   "nbconvert_exporter": "python",
   "pygments_lexer": "ipython3",
   "version": "3.7.3"
  }
 },
 "nbformat": 4,
 "nbformat_minor": 2
}
