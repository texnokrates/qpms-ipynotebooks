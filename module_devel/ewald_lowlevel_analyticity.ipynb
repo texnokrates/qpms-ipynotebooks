{
 "cells": [
  {
   "cell_type": "code",
   "execution_count": 1,
   "metadata": {},
   "outputs": [],
   "source": [
    "import numpy as np\n",
    "import sys, os\n",
    "#sys.path.insert(0,\"../../qpms/\")\n",
    "from qpms import *\n",
    "from qpms.cybspec import BaseSpec\n",
    "from qpms.cytmatrices import CTMatrix\n",
    "from qpms.qpms_c import Particle, Ewald3Calculator, pgsl_ignore_error, gamma_inc\n",
    "from qpms.cymaterials import EpsMuGenerator, LorentzDrudeModel, lorentz_drude\n",
    "\n",
    "# matrix \"distance\"\n",
    "def array_reldiff(a, b):\n",
    "    return np.amax(abs(a-b))/np.amax(abs(a)+abs(b))\n",
    "\n",
    "# Analyticity test via Cauchy-Riemann eqs.\n",
    "def anal_test(fun, z, dx=None, dy=None, rpos=0, ipos=0):\n",
    "    if dx is None:\n",
    "        dx = abs(z)*1e-8+1e-16\n",
    "    if dy is None:\n",
    "        dy = abs(z)*1e-8+1e-16\n",
    "    zyp = z + dy*1j if ipos > 0 else z if ipos < 0 else z + dy*.5j\n",
    "    zym = z if ipos > 0 else z - dy*1j if ipos < 0 else z - dy*.5j\n",
    "    zxp = z + dx if ipos > 0 else z if ipos < 0 else z + dx*.5\n",
    "    zxm = z if ipos > 0 else z - dx if ipos < 0 else z - dx*.5    \n",
    "    dfdy = (fun(zyp) - fun(zym)) / dy\n",
    "    dfdx = (fun(zxp) - fun(zxm)) / dx\n",
    "    return array_reldiff(1j * dfdx, dfdy)\n",
    "    #return (dfdx, dfdy)\n",
    "    \n",
    "    \n",
    "    "
   ]
  },
  {
   "cell_type": "code",
   "execution_count": 3,
   "metadata": {},
   "outputs": [],
   "source": [
    "c = Ewald3Calculator(3)\n",
    "a1 = np.array([0,1.0E-6])\n",
    "a2 = np.array([1.0E-6,0])\n",
    "area = 1e-6\n",
    "eta = 2.224/area\n",
    "beta = np.array([0, 3900000])\n"
   ]
  },
  {
   "cell_type": "code",
   "execution_count": 4,
   "metadata": {},
   "outputs": [
    {
     "name": "stdout",
     "output_type": "stream",
     "text": [
      "(-0.9999999991836039-37.09631581406487j)\n",
      "(-1.0000347332888828-37.096315813013305j)\n"
     ]
    }
   ],
   "source": [
    "wnplus = 12.3e6+0j\n",
    "wnminus = 12.3e6-1j\n",
    "print(c.sigma0(eta, wnplus))\n",
    "print(c.sigma0(eta, wnminus))"
   ]
  },
  {
   "cell_type": "code",
   "execution_count": 5,
   "metadata": {},
   "outputs": [
    {
     "name": "stderr",
     "output_type": "stream",
     "text": [
      "/u/46/necadam1/unix/miniconda3/lib/python3.5/site-packages/ipykernel/__main__.py:3: RuntimeWarning: invalid value encountered in true_divide\n",
      "  app.launch_new_instance()\n"
     ]
    },
    {
     "data": {
      "text/plain": [
       "array([ 5.32454017e-07-3.10588363e-13j, -4.88321139e-07+2.68003416e-13j,\n",
       "                   nan           +nanj, -4.88321139e-07+2.68003416e-13j,\n",
       "        4.42772646e-07-2.27166373e-13j,             nan           +nanj,\n",
       "       -4.41774978e-07+2.26289431e-13j,             nan           +nanj,\n",
       "        4.42772646e-07-2.27057836e-13j,  3.96070034e-07-1.90885387e-13j,\n",
       "                   nan           +nanj,  3.96877102e-07-1.91576540e-13j,\n",
       "                   nan           +nanj,  3.96877102e-07-1.91501735e-13j,\n",
       "                   nan           +nanj,  3.96070034e-07-1.90885387e-13j])"
      ]
     },
     "execution_count": 5,
     "metadata": {},
     "output_type": "execute_result"
    }
   ],
   "source": [
    "splus = c.sigma_short(eta, wnplus, [a1,a2], beta, [0,0])\n",
    "sminus = c.sigma_short(eta, wnminus, [a1,a2], beta, [0,0])\n",
    "(splus-sminus)/(abs(splus)+abs(sminus))"
   ]
  },
  {
   "cell_type": "code",
   "execution_count": 6,
   "metadata": {},
   "outputs": [
    {
     "name": "stderr",
     "output_type": "stream",
     "text": [
      "/u/46/necadam1/unix/miniconda3/lib/python3.5/site-packages/ipykernel/__main__.py:4: RuntimeWarning: invalid value encountered in true_divide\n"
     ]
    },
    {
     "data": {
      "text/plain": [
       "array([ 4.65732616e-07+0.99967727j, -3.55960180e-07-0.41212499j,\n",
       "                   nan       +nanj, -3.55960497e-07-0.41212499j,\n",
       "        7.21597934e-08+0.92915829j,             nan       +nanj,\n",
       "       -2.86904829e-07+0.93544685j,             nan       +nanj,\n",
       "        7.21598406e-08+0.92915829j,  4.93117296e-07+0.99195553j,\n",
       "                   nan       +nanj,  5.10150007e-08+0.73932693j,\n",
       "                   nan       +nanj,  5.10122654e-08+0.73932693j,\n",
       "                   nan       +nanj,  4.93117355e-07+0.99195553j])"
      ]
     },
     "execution_count": 6,
     "metadata": {},
     "output_type": "execute_result"
    }
   ],
   "source": [
    "with pgsl_ignore_error(15):\n",
    "    lplus = c.sigma_long(eta, wnplus, [a1,a2], beta, [0,0], False)\n",
    "    lminus = c.sigma_long(eta, wnminus, [a1,a2], beta, [0,0], False)\n",
    "(lplus-lminus)/(abs(lplus)+abs(lminus))"
   ]
  },
  {
   "cell_type": "code",
   "execution_count": 7,
   "metadata": {},
   "outputs": [
    {
     "data": {
      "text/plain": [
       "(array([ 0.94910028+3.72396414e+01j,  0.21761126-9.22333269e-02j,\n",
       "         0.        +0.00000000e+00j,  0.21761126-9.22333269e-02j,\n",
       "         0.71676485+2.14170631e+00j,  0.        +0.00000000e+00j,\n",
       "        -0.01893024+1.66386040e-02j,  0.        +0.00000000e+00j,\n",
       "         0.71676485+2.14170631e+00j,  0.29356288+2.05525877e+00j,\n",
       "         0.        +0.00000000e+00j,  0.3430742 +3.85349725e-01j,\n",
       "         0.        +0.00000000e+00j,  0.3430742 +3.85349725e-01j,\n",
       "         0.        +0.00000000e+00j,  0.29356288+2.05525877e+00j]),\n",
       " array([ 0.94906548-37.45606086j,  0.21761143 +0.10469544j,\n",
       "         0.         +0.j        ,  0.21761143 +0.10469544j,\n",
       "         0.71676456 -1.50897322j,  0.         +0.j        ,\n",
       "        -0.0189302  -0.12769375j,  0.         +0.j        ,\n",
       "         0.71676456 -1.50897322j,  0.29356058 -2.57425425j,\n",
       "         0.         +0.j        ,  0.34307415 -0.36814078j,\n",
       "         0.         +0.j        ,  0.34307415 -0.36814078j,\n",
       "         0.         +0.j        ,  0.29356058 -2.57425425j]))"
      ]
     },
     "execution_count": 7,
     "metadata": {},
     "output_type": "execute_result"
    }
   ],
   "source": [
    "lplus, lminus"
   ]
  },
  {
   "cell_type": "code",
   "execution_count": 3,
   "metadata": {},
   "outputs": [
    {
     "data": {
      "text/plain": [
       "(((1.7724538509055165-6.68768552562196j), 6.250055312558605e-13),\n",
       " ((1.77245385090546+6.68768552562196j), 6.250055312558604e-13))"
      ]
     },
     "execution_count": 3,
     "metadata": {},
     "output_type": "execute_result"
    }
   ],
   "source": [
    "gamma_inc(1/2, -2), gamma_inc(1/2, -2-1e-14j)"
   ]
  },
  {
   "cell_type": "code",
   "execution_count": 4,
   "metadata": {},
   "outputs": [
    {
     "data": {
      "text/plain": [
       "(((-3.5449077018110287+2.925667703000558j), 1.2817942489249855e-12),\n",
       " ((-3.5449077018110122-2.925667703000558j), 1.2817942489249853e-12))"
      ]
     },
     "execution_count": 4,
     "metadata": {},
     "output_type": "execute_result"
    }
   ],
   "source": [
    "gamma_inc(-1/2, -2), gamma_inc(-1/2, -2-1e-14j)"
   ]
  },
  {
   "cell_type": "code",
   "execution_count": 5,
   "metadata": {},
   "outputs": [
    {
     "data": {
      "text/plain": [
       "(((2.363271801207352-0.20882791062647624j), 8.624748866913507e-13),\n",
       " ((2.3632718012073406+0.20882791062647624j), 8.624748866913506e-13))"
      ]
     },
     "execution_count": 5,
     "metadata": {},
     "output_type": "execute_result"
    }
   ],
   "source": [
    "gamma_inc(-3/2, -2), gamma_inc(-3/2, -2-1e-14j)"
   ]
  },
  {
   "cell_type": "code",
   "execution_count": null,
   "metadata": {},
   "outputs": [],
   "source": []
  }
 ],
 "metadata": {
  "kernelspec": {
   "display_name": "Python [default]",
   "language": "python",
   "name": "python3"
  },
  "language_info": {
   "codemirror_mode": {
    "name": "ipython",
    "version": 3
   },
   "file_extension": ".py",
   "mimetype": "text/x-python",
   "name": "python",
   "nbconvert_exporter": "python",
   "pygments_lexer": "ipython3",
   "version": "3.5.6"
  }
 },
 "nbformat": 4,
 "nbformat_minor": 2
}
