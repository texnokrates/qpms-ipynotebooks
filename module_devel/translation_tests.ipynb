{
 "cells": [
  {
   "cell_type": "code",
   "execution_count": 1,
   "metadata": {
    "collapsed": false
   },
   "outputs": [
    {
     "data": {
      "text/plain": [
       "'0.2.14'"
      ]
     },
     "execution_count": 1,
     "metadata": {},
     "output_type": "execute_result"
    }
   ],
   "source": [
    "import numpy as np\n",
    "import qpms\n",
    "import spherical_functions as sf, quaternion\n",
    "qpms.__version__"
   ]
  },
  {
   "cell_type": "code",
   "execution_count": 2,
   "metadata": {
    "collapsed": false
   },
   "outputs": [],
   "source": [
    "lMax=2\n",
    "tc = qpms.trans_calculator(lMax)\n",
    "my, ny = qpms.get_mn_y(lMax)\n",
    "nelem = len(my)"
   ]
  },
  {
   "cell_type": "code",
   "execution_count": 3,
   "metadata": {
    "collapsed": false
   },
   "outputs": [
    {
     "data": {
      "text/plain": [
       "array([[ 0,  0, -1,  0,  0,  0,  0,  0,  0,  0,  0,  0,  0,  0,  0,  0],\n",
       "       [ 0,  1,  0,  0,  0,  0,  0,  0,  0,  0,  0,  0,  0,  0,  0,  0],\n",
       "       [-1,  0,  0,  0,  0,  0,  0,  0,  0,  0,  0,  0,  0,  0,  0,  0],\n",
       "       [ 0,  0,  0,  0,  0,  0,  0,  1,  0,  0,  0,  0,  0,  0,  0,  0],\n",
       "       [ 0,  0,  0,  0,  0,  0, -1,  0,  0,  0,  0,  0,  0,  0,  0,  0],\n",
       "       [ 0,  0,  0,  0,  0,  1,  0,  0,  0,  0,  0,  0,  0,  0,  0,  0],\n",
       "       [ 0,  0,  0,  0, -1,  0,  0,  0,  0,  0,  0,  0,  0,  0,  0,  0],\n",
       "       [ 0,  0,  0,  1,  0,  0,  0,  0,  0,  0,  0,  0,  0,  0,  0,  0],\n",
       "       [ 0,  0,  0,  0,  0,  0,  0,  0,  0,  0,  1,  0,  0,  0,  0,  0],\n",
       "       [ 0,  0,  0,  0,  0,  0,  0,  0,  0, -1,  0,  0,  0,  0,  0,  0],\n",
       "       [ 0,  0,  0,  0,  0,  0,  0,  0,  1,  0,  0,  0,  0,  0,  0,  0],\n",
       "       [ 0,  0,  0,  0,  0,  0,  0,  0,  0,  0,  0,  0,  0,  0,  0, -1],\n",
       "       [ 0,  0,  0,  0,  0,  0,  0,  0,  0,  0,  0,  0,  0,  0,  1,  0],\n",
       "       [ 0,  0,  0,  0,  0,  0,  0,  0,  0,  0,  0,  0,  0, -1,  0,  0],\n",
       "       [ 0,  0,  0,  0,  0,  0,  0,  0,  0,  0,  0,  0,  1,  0,  0,  0],\n",
       "       [ 0,  0,  0,  0,  0,  0,  0,  0,  0,  0,  0, -1,  0,  0,  0,  0]])"
      ]
     },
     "execution_count": 3,
     "metadata": {},
     "output_type": "execute_result"
    }
   ],
   "source": [
    "qpms.yflip_tyty(lMax).reshape((2*nelem,2*nelem))"
   ]
  },
  {
   "cell_type": "code",
   "execution_count": 4,
   "metadata": {
    "collapsed": false
   },
   "outputs": [],
   "source": [
    "d1_cart = np.random.normal(scale=10, size=(3,)) # translation vector in basis 1\n",
    "rot21_cart = np.random.normal(size=(3,)) # random rotation vector\n",
    "rot21_quat = quaternion.from_rotation_vector(rot21_cart)\n",
    "rot21_matrix = quaternion.as_rotation_matrix(rot21_quat) # rotation matrix from basis 1 to basis 2\n",
    "d2_cart = np.dot(rot21_matrix, d1_cart) # translation vector in basis 2\n",
    "D21_yy = qpms.WignerD_yy_fromvector(lMax,rot21_cart)\n",
    "D12_yy = qpms.WignerD_yy_fromvector(lMax,-rot21_cart)\n",
    "\n",
    "d1_sph = qpms.cart2sph(d1_cart)\n",
    "r1, th1, fi1 = d1_sph\n",
    "d2_sph = qpms.cart2sph(d2_cart)\n",
    "r2, th2, fi2 = d2_sph\n",
    "\n",
    "S1 = tc.get_AB_arrays(np.array(r1), np.array(th1), np.array(fi1), np.array(True), 3)\n",
    "S2 = tc.get_AB_arrays(np.array(r2), np.array(th2), np.array(fi2), np.array(True), 3)\n",
    "\n",
    "\n"
   ]
  },
  {
   "cell_type": "code",
   "execution_count": 15,
   "metadata": {
    "collapsed": false
   },
   "outputs": [
    {
     "data": {
      "text/plain": [
       "True"
      ]
     },
     "execution_count": 15,
     "metadata": {},
     "output_type": "execute_result"
    }
   ],
   "source": [
    "( #test for unitarity of the Wigner matrix\n",
    "    np.all(np.isclose(D12_yy.conj().T,D21_yy)) and  \n",
    "    np.all(np.isclose(np.dot(D12_yy,D21_yy), np.eye(nelem))) \n",
    ")"
   ]
  },
  {
   "cell_type": "code",
   "execution_count": 21,
   "metadata": {
    "collapsed": true
   },
   "outputs": [],
   "source": [
    "# The \"vector\" part\n",
    "S2nA = np.dot(np.dot(D21_yy, S1[0]), D21_yy) # FIXME!!!"
   ]
  },
  {
   "cell_type": "code",
   "execution_count": 22,
   "metadata": {
    "collapsed": false
   },
   "outputs": [
    {
     "data": {
      "text/plain": [
       "array([[ 0.04743917-0.00435894j, -0.00470872-0.01398378j,\n",
       "        -0.01006871+0.01173946j,  0.04603076-0.18432091j,\n",
       "        -0.00958186+0.00847165j, -0.03004442-0.05760738j,\n",
       "        -0.09005189-0.01379623j,  0.10420204+0.04070577j],\n",
       "       [ 0.05692272+0.01973457j,  0.00733591-0.02044294j,\n",
       "        -0.02551200+0.00699189j,  0.12661886-0.16454722j,\n",
       "        -0.03115522-0.08103451j, -0.07548977-0.07443503j,\n",
       "         0.01682261-0.00835097j,  0.15111073+0.13353106j],\n",
       "       [ 0.01385356+0.01761357j,  0.00888347+0.0022656j ,\n",
       "        -0.00772059-0.01319341j,  0.04136745-0.05578612j,\n",
       "         0.11948298-0.05242592j, -0.01879847-0.13187652j,\n",
       "        -0.06469949+0.15012856j, -0.02193133+0.14110082j],\n",
       "       [ 0.03176056-0.00938397j, -0.00637480-0.00545451j,\n",
       "        -0.00151733+0.006046j  ,  0.00386907-0.15259852j,\n",
       "         0.04316807+0.03386389j, -0.00347348-0.07321214j,\n",
       "        -0.13573552+0.03663387j,  0.03962384+0.02645222j],\n",
       "       [ 0.04039226-0.0178003j , -0.01131977-0.0094597j ,\n",
       "        -0.00076988+0.01353133j, -0.00217794-0.19075742j,\n",
       "         0.00863843+0.05926762j, -0.00250024-0.05066965j,\n",
       "        -0.15267404-0.01022422j,  0.07100873-0.01042536j],\n",
       "       [ 0.06318878-0.01013756j, -0.00871047-0.02188317j,\n",
       "        -0.01337734+0.02167088j,  0.06005717-0.23622187j,\n",
       "        -0.06788443+0.02109243j, -0.04163132-0.02842514j,\n",
       "        -0.08490915-0.08294047j,  0.16503753+0.01172455j],\n",
       "       [ 0.04506513+0.03304696j,  0.01504667-0.015049j  ,\n",
       "        -0.02739283-0.00397201j,  0.13950622-0.10888765j,\n",
       "         0.01713827-0.12209769j, -0.07926916-0.10758633j,\n",
       "         0.04668052+0.0590084j ,  0.10864900+0.19119237j],\n",
       "       [ 0.01347584-0.00365553j, -0.00224282+0.00377693j,\n",
       "         0.00280211-0.0051026j , -0.01497999-0.09415756j,\n",
       "         0.11037406+0.02266409j,  0.01134617-0.10586862j,\n",
       "        -0.14539574+0.11523392j, -0.03136930+0.05617764j]])"
      ]
     },
     "execution_count": 22,
     "metadata": {},
     "output_type": "execute_result"
    }
   ],
   "source": [
    "S2nA-S2[0]"
   ]
  },
  {
   "cell_type": "code",
   "execution_count": 18,
   "metadata": {
    "collapsed": false
   },
   "outputs": [
    {
     "data": {
      "text/plain": [
       "array([[-0.00859653+0.00930361j, -0.00972364+0.01015135j,\n",
       "         0.00041658-0.00107341j, -0.03143964-0.03018321j,\n",
       "        -0.03867104-0.05117656j, -0.00783433+0.01128184j,\n",
       "        -0.04973381-0.04336524j,  0.04439641+0.0179092j ],\n",
       "       [-0.02607694-0.00461469j, -0.02884136-0.00564j   ,\n",
       "         0.00235890-0.00047958j,  0.01758760-0.08940138j,\n",
       "         0.04635160-0.12583514j, -0.02869617-0.00103938j,\n",
       "         0.02011431-0.13647405j,  0.01863983+0.09833162j],\n",
       "       [ 0.00702997-0.02160578j,  0.00823072-0.02383229j,\n",
       "         0.00012622+0.00206139j,  0.07386193+0.02560244j,\n",
       "         0.10138795+0.05438545j,  0.00430454-0.02425746j,\n",
       "         0.11355545+0.0333617j , -0.08576881+0.00411305j],\n",
       "       [ 0.00528984+0.00629714j,  0.00574375+0.00709236j,\n",
       "        -0.00065733-0.00035602j, -0.02200963+0.01778335j,\n",
       "        -0.03612204+0.0207255j ,  0.00662627+0.00596787j,\n",
       "        -0.03199490+0.02848916j,  0.01516291-0.02713158j],\n",
       "       [ 0.00246817+0.01631093j,  0.00241338+0.0181468j ,\n",
       "        -0.00075274-0.00129687j, -0.05627166+0.00741895j,\n",
       "        -0.08350401-0.00230512j,  0.00510002+0.01714509j,\n",
       "        -0.08455976+0.0152999j ,  0.05432977-0.03058054j],\n",
       "       [-0.01787618+0.02041591j, -0.02024128+0.02229588j,\n",
       "         0.00083059-0.00232255j, -0.06905628-0.06283517j,\n",
       "        -0.08574485-0.10737749j, -0.01613061+0.02460856j,\n",
       "        -0.10898790-0.090016j  ,  0.09609961+0.03580845j],\n",
       "       [-0.02295582-0.01967943j, -0.02507806-0.02229267j,\n",
       "         0.00259746+0.00089835j,  0.06920517-0.07767509j,\n",
       "         0.11863935-0.09678896j, -0.02760689-0.01768562j,\n",
       "         0.09902416-0.12248375j, -0.03877670+0.1074914j ],\n",
       "       [ 0.01648601-0.00587109j,  0.01840888-0.00618556j,\n",
       "        -0.00119817+0.00104632j,  0.01911349+0.05709747j,\n",
       "         0.01449828+0.08742392j,  0.01682206-0.00878059j,\n",
       "         0.03304503+0.0849606j , -0.04283997-0.05038806j]])"
      ]
     },
     "execution_count": 18,
     "metadata": {},
     "output_type": "execute_result"
    }
   ],
   "source": [
    "S2nA"
   ]
  },
  {
   "cell_type": "code",
   "execution_count": null,
   "metadata": {
    "collapsed": true
   },
   "outputs": [],
   "source": []
  }
 ],
 "metadata": {
  "anaconda-cloud": {},
  "kernelspec": {
   "display_name": "Python [conda root]",
   "language": "python",
   "name": "conda-root-py"
  },
  "language_info": {
   "codemirror_mode": {
    "name": "ipython",
    "version": 3
   },
   "file_extension": ".py",
   "mimetype": "text/x-python",
   "name": "python",
   "nbconvert_exporter": "python",
   "pygments_lexer": "ipython3",
   "version": "3.5.2"
  }
 },
 "nbformat": 4,
 "nbformat_minor": 2
}
