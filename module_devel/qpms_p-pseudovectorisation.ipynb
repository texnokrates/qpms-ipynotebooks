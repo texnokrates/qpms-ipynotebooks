{
 "cells": [
  {
   "cell_type": "markdown",
   "metadata": {},
   "source": [
    "# Import and execute module code:\n",
    "The module should be quite independent of the rest of qpms, so there should be now no imports therefrom."
   ]
  },
  {
   "cell_type": "code",
   "execution_count": 1,
   "metadata": {
    "collapsed": false
   },
   "outputs": [],
   "source": [
    "import importlib\n",
    "spec = importlib.util.spec_from_file_location(\"qpms_p\", \"../../qpms/qpms_p.py\")\n",
    "qpms_p = importlib.util.module_from_spec(spec)\n",
    "spec.loader.exec_module(qpms_p)"
   ]
  },
  {
   "cell_type": "code",
   "execution_count": 2,
   "metadata": {
    "collapsed": true
   },
   "outputs": [],
   "source": [
    "import numpy as np"
   ]
  },
  {
   "cell_type": "markdown",
   "metadata": {},
   "source": [
    "# Playground:"
   ]
  },
  {
   "cell_type": "markdown",
   "metadata": {},
   "source": [
    "## plane_pq_y()"
   ]
  },
  {
   "cell_type": "code",
   "execution_count": 3,
   "metadata": {
    "collapsed": false
   },
   "outputs": [],
   "source": [
    "lMax = 3\n",
    "kdir_cart = np.random.random_sample((3,6,5,1,1,3))\n",
    "E_cart = np.random.random_sample((5,2,4,3))"
   ]
  },
  {
   "cell_type": "code",
   "execution_count": 4,
   "metadata": {
    "collapsed": false
   },
   "outputs": [],
   "source": [
    "p_y, q_y = qpms_p.plane_pq_y(lMax, kdir_cart, E_cart)"
   ]
  },
  {
   "cell_type": "code",
   "execution_count": 5,
   "metadata": {
    "collapsed": false
   },
   "outputs": [
    {
     "data": {
      "text/plain": [
       "(3, 6, 5, 2, 4, 15)"
      ]
     },
     "execution_count": 5,
     "metadata": {},
     "output_type": "execute_result"
    }
   ],
   "source": [
    "p_y.shape"
   ]
  },
  {
   "cell_type": "code",
   "execution_count": 6,
   "metadata": {
    "collapsed": false
   },
   "outputs": [
    {
     "data": {
      "text/plain": [
       "(3, 6, 5, 2, 4, 15)"
      ]
     },
     "execution_count": 6,
     "metadata": {},
     "output_type": "execute_result"
    }
   ],
   "source": [
    "q_y.shape"
   ]
  },
  {
   "cell_type": "code",
   "execution_count": 7,
   "metadata": {
    "collapsed": false
   },
   "outputs": [
    {
     "data": {
      "text/plain": [
       "(array([-2.17080376+0.j        ,  0.00000000+0.j        ,\n",
       "        -2.17080376+0.j        ,  0.00000000+0.j        ,\n",
       "         0.00000000-1.61802159j,  0.00000000+0.j        ,\n",
       "         0.00000000-1.61802159j,  0.00000000+0.j        ,\n",
       "         0.00000000+0.j        ,  0.00000000+0.j        ,\n",
       "         1.35373399+0.j        ,  0.00000000+0.j        ,\n",
       "         1.35373399+0.j        ,  0.00000000+0.j        ,  0.00000000+0.j        ]),\n",
       " array([ 2.17080376+0.j        ,  0.00000000+0.j        ,\n",
       "        -2.17080376+0.j        ,  0.00000000+0.j        ,\n",
       "         0.00000000+1.61802159j,  0.00000000+0.j        ,\n",
       "         0.00000000-1.61802159j,  0.00000000+0.j        ,\n",
       "         0.00000000+0.j        ,  0.00000000+0.j        ,\n",
       "        -1.35373399+0.j        ,  0.00000000+0.j        ,\n",
       "         1.35373399+0.j        ,  0.00000000+0.j        ,  0.00000000+0.j        ]))"
      ]
     },
     "execution_count": 7,
     "metadata": {},
     "output_type": "execute_result"
    }
   ],
   "source": [
    "p_y, q_y = qpms_p.plane_pq_y(3, (0,0,1),(0,1,0))\n",
    "p_y, q_y"
   ]
  },
  {
   "cell_type": "markdown",
   "metadata": {},
   "source": [
    "## wswf_yr()"
   ]
  },
  {
   "cell_type": "code",
   "execution_count": 8,
   "metadata": {
    "collapsed": false
   },
   "outputs": [],
   "source": [
    "pos_sph = qpms_p.cart2sph(np.random.random_sample((4,5,3)))\n",
    "waves = qpms_p.vswf_yr(pos_sph, lMax)"
   ]
  },
  {
   "cell_type": "code",
   "execution_count": 9,
   "metadata": {
    "collapsed": false
   },
   "outputs": [
    {
     "data": {
      "text/plain": [
       "(4, 5, 15, 3)"
      ]
     },
     "execution_count": 9,
     "metadata": {},
     "output_type": "execute_result"
    }
   ],
   "source": [
    "waves[0].shape"
   ]
  },
  {
   "cell_type": "markdown",
   "metadata": {},
   "source": [
    "## lpy()"
   ]
  },
  {
   "cell_type": "code",
   "execution_count": 10,
   "metadata": {
    "collapsed": false
   },
   "outputs": [
    {
     "data": {
      "text/plain": [
       "((3, 4, 6, 15), (3, 4, 6, 15))"
      ]
     },
     "execution_count": 10,
     "metadata": {},
     "output_type": "execute_result"
    }
   ],
   "source": [
    "z = np.random.rand(3,4,6)\n",
    "Py, dPy = qpms_p.lpy(3,z)\n",
    "Py.shape, dPy.shape"
   ]
  },
  {
   "cell_type": "code",
   "execution_count": null,
   "metadata": {
    "collapsed": true
   },
   "outputs": [],
   "source": []
  }
 ],
 "metadata": {
  "anaconda-cloud": {},
  "kernelspec": {
   "display_name": "Python [conda root]",
   "language": "python",
   "name": "conda-root-py"
  },
  "language_info": {
   "codemirror_mode": {
    "name": "ipython",
    "version": 3
   },
   "file_extension": ".py",
   "mimetype": "text/x-python",
   "name": "python",
   "nbconvert_exporter": "python",
   "pygments_lexer": "ipython3",
   "version": "3.5.2"
  }
 },
 "nbformat": 4,
 "nbformat_minor": 2
}
