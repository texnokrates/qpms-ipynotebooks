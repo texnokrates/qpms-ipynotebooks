{
 "cells": [
  {
   "cell_type": "code",
   "execution_count": 15,
   "id": "instrumental-being",
   "metadata": {},
   "outputs": [],
   "source": [
    "xs = '[0 1 2 3]'\n",
    "xs = '[0,1,2, 44]'\n",
    "\n",
    "import re, ast, numpy as np\n",
    "\n",
    "def toarray(xs):\n",
    "    ls = re.sub('[,\\s]+', ',', xs)\n",
    "    print(ls)\n",
    "    a = np.array(ast.literal_eval(xs), dtype=complex)\n",
    "    return a"
   ]
  },
  {
   "cell_type": "code",
   "execution_count": 16,
   "id": "timely-humidity",
   "metadata": {},
   "outputs": [
    {
     "name": "stdout",
     "output_type": "stream",
     "text": [
      "[[1,2,3],[4,5,43]]\n"
     ]
    },
    {
     "data": {
      "text/plain": [
       "array([[ 1.+0.j,  2.+0.j,  3.+0.j],\n",
       "       [ 4.+0.j,  5.+0.j, 43.+0.j]])"
      ]
     },
     "execution_count": 16,
     "metadata": {},
     "output_type": "execute_result"
    }
   ],
   "source": [
    "toarray('[[1,2,3], [4,5,43]]')"
   ]
  },
  {
   "cell_type": "code",
   "execution_count": 13,
   "id": "crucial-cocktail",
   "metadata": {},
   "outputs": [
    {
     "data": {
      "text/plain": [
       "[[1, 2, 3], [4, 5, 43]]"
      ]
     },
     "execution_count": 13,
     "metadata": {},
     "output_type": "execute_result"
    }
   ],
   "source": [
    "xs =  '[[1,2,3],[4,5,43]]'\n",
    "ls = re.sub('\\s+', ',', xs)\n",
    "ast.literal_eval(ls)"
   ]
  },
  {
   "cell_type": "code",
   "execution_count": null,
   "id": "composite-pontiac",
   "metadata": {},
   "outputs": [],
   "source": []
  }
 ],
 "metadata": {
  "kernelspec": {
   "display_name": "Python 3",
   "language": "python",
   "name": "python3"
  },
  "language_info": {
   "codemirror_mode": {
    "name": "ipython",
    "version": 3
   },
   "file_extension": ".py",
   "mimetype": "text/x-python",
   "name": "python",
   "nbconvert_exporter": "python",
   "pygments_lexer": "ipython3",
   "version": "3.9.2"
  }
 },
 "nbformat": 4,
 "nbformat_minor": 5
}
