{
 "cells": [
  {
   "cell_type": "code",
   "execution_count": 1,
   "metadata": {},
   "outputs": [],
   "source": [
    "import numpy as np\n",
    "import qpms\n",
    "import math\n",
    "from qpms.qpms_p import cart2sph, sph2cart, sph_loccart2cart, sph_loccart_basis\n",
    "from qpms.cybspec import BaseSpec\n",
    "from qpms.cytmatrices import CTMatrix, TMatrixGenerator\n",
    "from qpms.qpms_c import Particle\n",
    "from qpms.cymaterials import EpsMu, EpsMuGenerator, LorentzDrudeModel, lorentz_drude\n",
    "from qpms.cycommon import DebugFlags, dbgmsg_enable\n",
    "from qpms import FinitePointGroup, ScatteringSystem, BesselType, eV, hbar\n",
    "from qpms.symmetries import point_group_info\n",
    "eh = eV/hbar\n",
    "pi = math.pi\n",
    "def cleanarray(a, atol=1e-10, copy=True):\n",
    "    a = np.array(a, copy=copy)\n",
    "    sieve = abs(a.real) < atol\n",
    "    a[sieve] = 1j * a[sieve].imag\n",
    "    sieve = abs(a.imag) < atol\n",
    "    a[sieve] = a[sieve].real\n",
    "    return a\n",
    "def nocleanarray(a):\n",
    "    return a\n",
    "\n"
   ]
  },
  {
   "cell_type": "code",
   "execution_count": 2,
   "metadata": {},
   "outputs": [],
   "source": [
    "Nx, Ny = 3, 3\n",
    "px, py = 580e-9, 580e-9\n",
    "orig_x = (np.arange(Nx/2) + (0 if (Nx % 2) else .5)) * px\n",
    "orig_y = (np.arange(Ny/2) + (0 if (Ny % 2) else .5)) * py\n",
    "\n",
    "orig_xy = np.stack(np.meshgrid(orig_x, orig_y), axis = -1)\n",
    "\n",
    "omega=1.8*eh\n",
    "bspec = BaseSpec(lMax=1)\n",
    "metal = EpsMuGenerator(lorentz_drude['Au'])\n",
    "medium = EpsMuGenerator(EpsMu(1.52**2))\n",
    "tmatrix = TMatrixGenerator.cylinder(outside=medium, inside=metal, r=50e-9, h=50e-9)\n",
    "particles= [Particle(orig_xy[i], tmatrix, bspec=bspec) for i in np.ndindex(orig_xy.shape[:-1])]\n",
    "\n",
    "sym = FinitePointGroup(point_group_info['D2h'])\n",
    "ss, ssw = ScatteringSystem.create(particles, medium, omega, sym=sym)\n",
    "wavenumber = medium.k(omega).real"
   ]
  },
  {
   "cell_type": "code",
   "execution_count": 3,
   "metadata": {},
   "outputs": [
    {
     "name": "stderr",
     "output_type": "stream",
     "text": [
      "/home/mmn/.local/lib/python3.7/site-packages/ipykernel_launcher.py:17: ComplexWarning: Casting complex values to real discards the imaginary part\n"
     ]
    }
   ],
   "source": [
    "theta = np.array((-1,.1,-1e-7,0,1e-7,.1,1))#np.linspace(-1,1,5)\n",
    "phi = 0#pi/2\n",
    "psi = 0#pi/2\n",
    "chi = 0#-pi/4\n",
    "\n",
    "k_sph_list = np.stack((np.broadcast_to(wavenumber, theta.shape), theta, np.broadcast_to(phi, theta.shape)), axis=-1)\n",
    "sψ, cψ = math.sin(psi), math.cos(psi)\n",
    "sχ, cχ = math.sin(chi), math.cos(chi)\n",
    "E_sph = cleanarray((0., cψ*cχ + 1j*sψ*sχ, sψ*cχ + 1j*cψ*sχ) )\n",
    "k_cart_list = cleanarray(sph2cart(k_sph_list))\n",
    "E_cart_list = cleanarray(sph_loccart2cart(E_sph, k_sph_list))\n",
    "\n",
    "npoints = theta.shape[0]\n",
    "\n"
   ]
  },
  {
   "cell_type": "code",
   "execution_count": 4,
   "metadata": {},
   "outputs": [
    {
     "data": {
      "text/plain": [
       "array([0.+0.j, 1.+0.j, 0.+0.j])"
      ]
     },
     "execution_count": 4,
     "metadata": {},
     "output_type": "execute_result"
    }
   ],
   "source": [
    "E_sph"
   ]
  },
  {
   "cell_type": "code",
   "execution_count": 5,
   "metadata": {},
   "outputs": [
    {
     "data": {
      "text/plain": [
       "array([[ 1.38653114e+07, -1.00000000e+00,  0.00000000e+00],\n",
       "       [ 1.38653114e+07,  1.00000000e-01,  0.00000000e+00],\n",
       "       [ 1.38653114e+07, -1.00000000e-07,  0.00000000e+00],\n",
       "       [ 1.38653114e+07,  0.00000000e+00,  0.00000000e+00],\n",
       "       [ 1.38653114e+07,  1.00000000e-07,  0.00000000e+00],\n",
       "       [ 1.38653114e+07,  1.00000000e-01,  0.00000000e+00],\n",
       "       [ 1.38653114e+07,  1.00000000e+00,  0.00000000e+00]])"
      ]
     },
     "execution_count": 5,
     "metadata": {},
     "output_type": "execute_result"
    }
   ],
   "source": [
    "k_sph_list"
   ]
  },
  {
   "cell_type": "code",
   "execution_count": 6,
   "metadata": {},
   "outputs": [
    {
     "data": {
      "text/plain": [
       "array([[ 5.40302306e-01+0.j,  0.00000000e+00+0.j,  8.41470985e-01+0.j],\n",
       "       [ 9.95004165e-01+0.j,  0.00000000e+00+0.j, -9.98334166e-02+0.j],\n",
       "       [ 1.00000000e+00+0.j,  0.00000000e+00+0.j,  1.00000000e-07+0.j],\n",
       "       [ 1.00000000e+00+0.j,  0.00000000e+00+0.j,  0.00000000e+00+0.j],\n",
       "       [ 1.00000000e+00+0.j,  0.00000000e+00+0.j, -1.00000000e-07+0.j],\n",
       "       [ 9.95004165e-01+0.j,  0.00000000e+00+0.j, -9.98334166e-02+0.j],\n",
       "       [ 5.40302306e-01+0.j,  0.00000000e+00+0.j, -8.41470985e-01+0.j]])"
      ]
     },
     "execution_count": 6,
     "metadata": {},
     "output_type": "execute_result"
    }
   ],
   "source": [
    "E_cart_list"
   ]
  },
  {
   "cell_type": "code",
   "execution_count": 7,
   "metadata": {},
   "outputs": [
    {
     "data": {
      "text/plain": [
       "array([1., 1., 1., 1., 1., 1., 1.])"
      ]
     },
     "execution_count": 7,
     "metadata": {},
     "output_type": "execute_result"
    }
   ],
   "source": [
    "np.linalg.norm(E_cart_list, axis=-1)"
   ]
  },
  {
   "cell_type": "code",
   "execution_count": 8,
   "metadata": {},
   "outputs": [
    {
     "data": {
      "text/plain": [
       "(array([       0.        ,        0.        , 13865311.35534979]),\n",
       " array([1.+0.j, 0.+0.j, 0.+0.j]))"
      ]
     },
     "execution_count": 8,
     "metadata": {},
     "output_type": "execute_result"
    }
   ],
   "source": [
    "j = 3\n",
    "a0 = cleanarray(ss.planewave_full(k_cart=k_cart_list[j], E_cart=E_cart_list[j]))\n",
    "k_cart_list[j], E_cart_list[j]"
   ]
  },
  {
   "cell_type": "code",
   "execution_count": 9,
   "metadata": {},
   "outputs": [
    {
     "data": {
      "text/plain": [
       "array([ 3.06998012+0.j,  0.        +0.j, -3.06998012+0.j, -3.06998012+0.j,  0.        +0.j, -3.06998012+0.j])"
      ]
     },
     "execution_count": 9,
     "metadata": {},
     "output_type": "execute_result"
    }
   ],
   "source": [
    "a0.reshape((ss.positions.shape[0],len(bspec)))[0,:]"
   ]
  },
  {
   "cell_type": "code",
   "execution_count": 10,
   "metadata": {},
   "outputs": [
    {
     "data": {
      "text/plain": [
       "array([[ 0.0e+00,  0.0e+00,  0.0e+00],\n",
       "       [ 5.8e-07,  0.0e+00,  0.0e+00],\n",
       "       [ 0.0e+00,  5.8e-07,  0.0e+00],\n",
       "       [ 5.8e-07,  5.8e-07,  0.0e+00],\n",
       "       [-5.8e-07, -0.0e+00, -0.0e+00],\n",
       "       [ 0.0e+00, -5.8e-07,  0.0e+00],\n",
       "       [-5.8e-07,  5.8e-07, -0.0e+00],\n",
       "       [-5.8e-07, -5.8e-07,  0.0e+00],\n",
       "       [ 5.8e-07, -5.8e-07, -0.0e+00]])"
      ]
     },
     "execution_count": 10,
     "metadata": {},
     "output_type": "execute_result"
    }
   ],
   "source": [
    "ss.positions"
   ]
  },
  {
   "cell_type": "code",
   "execution_count": 11,
   "metadata": {},
   "outputs": [
    {
     "data": {
      "text/plain": [
       "13865311.355349794"
      ]
     },
     "execution_count": 11,
     "metadata": {},
     "output_type": "execute_result"
    }
   ],
   "source": [
    "wavenumber"
   ]
  },
  {
   "cell_type": "code",
   "execution_count": 12,
   "metadata": {},
   "outputs": [
    {
     "data": {
      "text/plain": [
       "(array([2, 2, 2, 1, 1, 1], dtype=int32),\n",
       " array([1, 1, 1, 1, 1, 1], dtype=int32),\n",
       " array([-1,  0,  1, -1,  0,  1], dtype=int32))"
      ]
     },
     "execution_count": 12,
     "metadata": {},
     "output_type": "execute_result"
    }
   ],
   "source": [
    "bspec.tlm()"
   ]
  },
  {
   "cell_type": "code",
   "execution_count": 13,
   "metadata": {},
   "outputs": [
    {
     "data": {
      "text/plain": [
       "(54,)"
      ]
     },
     "execution_count": 13,
     "metadata": {},
     "output_type": "execute_result"
    }
   ],
   "source": [
    "a0.shape"
   ]
  },
  {
   "cell_type": "code",
   "execution_count": 14,
   "metadata": {},
   "outputs": [
    {
     "data": {
      "text/plain": [
       "4274"
      ]
     },
     "execution_count": 14,
     "metadata": {},
     "output_type": "execute_result"
    }
   ],
   "source": [
    "import os\n",
    "os.getpid()"
   ]
  },
  {
   "cell_type": "code",
   "execution_count": null,
   "metadata": {},
   "outputs": [],
   "source": []
  }
 ],
 "metadata": {
  "kernelspec": {
   "display_name": "Python 3",
   "language": "python",
   "name": "python3"
  },
  "language_info": {
   "codemirror_mode": {
    "name": "ipython",
    "version": 3
   },
   "file_extension": ".py",
   "mimetype": "text/x-python",
   "name": "python",
   "nbconvert_exporter": "python",
   "pygments_lexer": "ipython3",
   "version": "3.7.3"
  }
 },
 "nbformat": 4,
 "nbformat_minor": 2
}
