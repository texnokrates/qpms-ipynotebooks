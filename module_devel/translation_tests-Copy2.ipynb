{
 "cells": [
  {
   "cell_type": "code",
   "execution_count": 1,
   "metadata": {
    "collapsed": false
   },
   "outputs": [
    {
     "data": {
      "text/plain": [
       "'0.2.14'"
      ]
     },
     "execution_count": 1,
     "metadata": {},
     "output_type": "execute_result"
    }
   ],
   "source": [
    "import numpy as np\n",
    "nx = None\n",
    "import qpms\n",
    "import spherical_functions as sf, quaternion\n",
    "qpms.__version__"
   ]
  },
  {
   "cell_type": "code",
   "execution_count": 46,
   "metadata": {
    "collapsed": false
   },
   "outputs": [],
   "source": [
    "lMax=2\n",
    "tc = qpms.trans_calculator(lMax)\n",
    "my, ny = qpms.get_mn_y(lMax)\n",
    "nelem = len(my)\n",
    "J=1"
   ]
  },
  {
   "cell_type": "code",
   "execution_count": 47,
   "metadata": {
    "collapsed": false
   },
   "outputs": [
    {
     "data": {
      "text/plain": [
       "array([[ 0,  0, -1,  0,  0,  0,  0,  0,  0,  0,  0,  0,  0,  0,  0,  0],\n",
       "       [ 0,  1,  0,  0,  0,  0,  0,  0,  0,  0,  0,  0,  0,  0,  0,  0],\n",
       "       [-1,  0,  0,  0,  0,  0,  0,  0,  0,  0,  0,  0,  0,  0,  0,  0],\n",
       "       [ 0,  0,  0,  0,  0,  0,  0,  1,  0,  0,  0,  0,  0,  0,  0,  0],\n",
       "       [ 0,  0,  0,  0,  0,  0, -1,  0,  0,  0,  0,  0,  0,  0,  0,  0],\n",
       "       [ 0,  0,  0,  0,  0,  1,  0,  0,  0,  0,  0,  0,  0,  0,  0,  0],\n",
       "       [ 0,  0,  0,  0, -1,  0,  0,  0,  0,  0,  0,  0,  0,  0,  0,  0],\n",
       "       [ 0,  0,  0,  1,  0,  0,  0,  0,  0,  0,  0,  0,  0,  0,  0,  0],\n",
       "       [ 0,  0,  0,  0,  0,  0,  0,  0,  0,  0,  1,  0,  0,  0,  0,  0],\n",
       "       [ 0,  0,  0,  0,  0,  0,  0,  0,  0, -1,  0,  0,  0,  0,  0,  0],\n",
       "       [ 0,  0,  0,  0,  0,  0,  0,  0,  1,  0,  0,  0,  0,  0,  0,  0],\n",
       "       [ 0,  0,  0,  0,  0,  0,  0,  0,  0,  0,  0,  0,  0,  0,  0, -1],\n",
       "       [ 0,  0,  0,  0,  0,  0,  0,  0,  0,  0,  0,  0,  0,  0,  1,  0],\n",
       "       [ 0,  0,  0,  0,  0,  0,  0,  0,  0,  0,  0,  0,  0, -1,  0,  0],\n",
       "       [ 0,  0,  0,  0,  0,  0,  0,  0,  0,  0,  0,  0,  1,  0,  0,  0],\n",
       "       [ 0,  0,  0,  0,  0,  0,  0,  0,  0,  0,  0, -1,  0,  0,  0,  0]])"
      ]
     },
     "execution_count": 47,
     "metadata": {},
     "output_type": "execute_result"
    }
   ],
   "source": [
    "qpms.yflip_tyty(lMax).reshape((2*nelem,2*nelem))"
   ]
  },
  {
   "cell_type": "code",
   "execution_count": 93,
   "metadata": {
    "collapsed": false
   },
   "outputs": [],
   "source": [
    "#d1_cart = np.array([1.02,0,0])\n",
    "d1_cart = np.random.normal(scale=10, size=(3,)) # translation vector in basis 1\n",
    "#rot21_cart = np.array([0,0,1.01])\n",
    "rot21_cart= np.random.normal(size=(3,)) # random rotation vector\n",
    "rot21_quat = quaternion.from_rotation_vector(rot21_cart)\n",
    "rot21_matrix = quaternion.as_rotation_matrix(rot21_quat) # rotation matrix from basis 1 to basis 2\n",
    "d2_cart = np.dot(rot21_matrix, d1_cart) # translation vector in basis 2\n",
    "D21_yy = qpms.WignerD_yy_fromvector(lMax,rot21_cart)\n",
    "D12_yy = qpms.WignerD_yy_fromvector(lMax,-rot21_cart)\n",
    "\n",
    "d1_sph = qpms.cart2sph(d1_cart)\n",
    "r1, th1, fi1 = d1_sph\n",
    "d2_sph = qpms.cart2sph(d2_cart)\n",
    "r2, th2, fi2 = d2_sph\n",
    "\n",
    "#S1 = tc.get_AB_arrays(np.array(r1), np.array(th1), np.array(fi1), np.array(True), 3)\n",
    "SS1A, SS1B = tc.get_AB(my[:,nx], ny[:,nx], my[nx,:], ny[nx,:], np.array(r1), np.array(th1), np.array(fi1), np.array(True), J)\n",
    "\n",
    "#S2 = tc.get_AB_arrays(np.array(r2), np.array(th2), np.array(fi2), np.array(True), 3)\n",
    "SS2A, SS2B = tc.get_AB(my[:,nx], ny[:,nx], my[nx,:], ny[nx,:], np.array(r2), np.array(th2), np.array(fi2), np.array(True), J)\n",
    "\n"
   ]
  },
  {
   "cell_type": "code",
   "execution_count": 94,
   "metadata": {
    "collapsed": true
   },
   "outputs": [],
   "source": [
    "np.set_printoptions(precision=5, linewidth=200)"
   ]
  },
  {
   "cell_type": "code",
   "execution_count": 95,
   "metadata": {
    "collapsed": false
   },
   "outputs": [
    {
     "data": {
      "text/plain": [
       "True"
      ]
     },
     "execution_count": 95,
     "metadata": {},
     "output_type": "execute_result"
    }
   ],
   "source": [
    "( #test for unitarity of the Wigner matrix\n",
    "    np.all(np.isclose(D12_yy.conj().T,D21_yy)) and  \n",
    "    np.all(np.isclose(np.dot(D12_yy,D21_yy), np.eye(nelem))) \n",
    ")"
   ]
  },
  {
   "cell_type": "code",
   "execution_count": 96,
   "metadata": {
    "collapsed": false
   },
   "outputs": [],
   "source": [
    "# The \"vector\" part\n",
    "#S2nA = np.dot(np.dot(D21_yy, S1[0]), D12_yy) # FIXME!!!\n",
    "S2nA = np.dot(np.dot(D12_yy, SS1A), D21_yy) # FIXME!!!"
   ]
  },
  {
   "cell_type": "code",
   "execution_count": 97,
   "metadata": {
    "collapsed": false
   },
   "outputs": [
    {
     "data": {
      "text/plain": [
       "1.9516228411536243"
      ]
     },
     "execution_count": 97,
     "metadata": {},
     "output_type": "execute_result"
    }
   ],
   "source": [
    "th2"
   ]
  },
  {
   "cell_type": "code",
   "execution_count": 98,
   "metadata": {
    "collapsed": false
   },
   "outputs": [
    {
     "data": {
      "text/plain": [
       "array([[  1.71014e-16,  -2.20550e+00,  -1.26942e+00,   2.20550e+00,   3.67328e-16,   9.36089e-01,  -1.26942e+00,  -3.33327e-01],\n",
       "       [  2.20550e+00,  -1.46181e-15,   9.36089e-01,  -1.87218e+00,   2.20550e+00,   9.17585e-16,   9.36089e-01,   1.87218e+00],\n",
       "       [  1.26942e+00,  -9.36089e-01,   8.55072e-17,  -2.80827e+00,   1.26942e+00,   2.20550e+00,   1.01015e-15,   9.36089e-01],\n",
       "       [  9.36089e-01,  -1.26942e+00,  -3.33327e-01,  -8.70375e-16,   9.36089e-01,   1.87218e+00,  -3.33327e-01,   6.02762e-01],\n",
       "       [ -3.14159e+00,   9.36089e-01,   1.87218e+00,  -9.36089e-01,  -3.68277e-16,   9.36089e-01,   1.87218e+00,   2.80827e+00],\n",
       "       [  2.20550e+00,  -3.14159e+00,   9.36089e-01,  -1.87218e+00,  -9.36089e-01,   2.55885e-16,  -2.20550e+00,   1.87218e+00],\n",
       "       [ -1.87218e+00,   2.20550e+00,  -3.14159e+00,   3.33327e-01,  -1.87218e+00,   2.20550e+00,   5.52416e-16,  -2.20550e+00],\n",
       "       [ -2.80827e+00,   1.26942e+00,   2.20550e+00,  -6.02762e-01,  -2.80827e+00,  -1.87218e+00,   2.20550e+00,  -9.67083e-16]])"
      ]
     },
     "execution_count": 98,
     "metadata": {},
     "output_type": "execute_result"
    }
   ],
   "source": [
    "np.angle(S2nA)"
   ]
  },
  {
   "cell_type": "code",
   "execution_count": 99,
   "metadata": {
    "collapsed": false
   },
   "outputs": [
    {
     "data": {
      "text/plain": [
       "array([[ 0.     , -2.99304, -2.84449, -0.14855,  3.14159, -2.99304,  0.2971 ,  0.44565],\n",
       "       [ 2.99304,  0.     ,  0.14855,  2.84449, -0.14855,  3.14159, -2.99304, -2.84449],\n",
       "       [ 2.84449, -0.14855,  0.     ,  2.69594, -0.2971 , -0.14855,  3.14159, -2.99304],\n",
       "       [-2.99304,  0.2971 ,  0.44565,  0.     ,  0.14855,  0.2971 , -2.69594, -2.54739],\n",
       "       [ 0.     , -2.99304, -2.84449, -0.14855,  0.     ,  0.14855,  0.2971 ,  0.44565],\n",
       "       [-0.14855,  0.     , -2.99304, -0.2971 , -0.14855,  0.     , -2.99304,  0.2971 ],\n",
       "       [ 2.84449, -0.14855,  0.     ,  2.69594, -0.2971 ,  2.99304,  0.     , -2.99304],\n",
       "       [ 2.69594, -0.2971 , -0.14855,  2.54739, -0.44565, -0.2971 ,  2.99304,  0.     ]])"
      ]
     },
     "execution_count": 99,
     "metadata": {},
     "output_type": "execute_result"
    }
   ],
   "source": [
    "np.angle(SS2A)"
   ]
  },
  {
   "cell_type": "code",
   "execution_count": 100,
   "metadata": {
    "collapsed": false
   },
   "outputs": [
    {
     "data": {
      "text/plain": [
       "array([[ 0.     ,  0.55808, -2.02543,  2.58351,  3.14159,  0.55808,  1.11617, -1.46734],\n",
       "       [-0.55808,  0.     , -2.58351,  2.02543,  2.58351,  3.14159,  0.55808, -2.02543],\n",
       "       [ 2.02543,  2.58351,  0.     , -1.67425, -1.11617,  2.58351,  3.14159,  0.55808],\n",
       "       [ 0.55808,  1.11617, -1.46734,  0.     , -2.58351,  1.11617,  1.67425, -0.90926],\n",
       "       [ 0.     ,  0.55808, -2.02543,  2.58351,  0.     , -2.58351,  1.11617, -1.46734],\n",
       "       [ 2.58351,  0.     ,  0.55808, -1.11617,  2.58351,  0.     ,  0.55808,  1.11617],\n",
       "       [ 2.02543,  2.58351,  0.     , -1.67425, -1.11617, -0.55808,  0.     ,  0.55808],\n",
       "       [-1.67425, -1.11617,  2.58351,  0.90926,  1.46734, -1.11617, -0.55808,  0.     ]])"
      ]
     },
     "execution_count": 100,
     "metadata": {},
     "output_type": "execute_result"
    }
   ],
   "source": [
    "np.angle(SS1A)"
   ]
  },
  {
   "cell_type": "code",
   "execution_count": 101,
   "metadata": {
    "collapsed": false
   },
   "outputs": [
    {
     "data": {
      "text/plain": [
       "array([[ 0.90034,  0.22764, -0.44507,  0.     ,  0.     ,  0.     ,  0.     ,  0.     ],\n",
       "       [-2.46889,  3.14159, -0.6727 ,  0.     ,  0.     ,  0.     ,  0.     ,  0.     ],\n",
       "       [ 0.44507,  2.91395, -0.90034,  0.     ,  0.     ,  0.     ,  0.     ,  0.     ],\n",
       "       [ 0.     ,  0.     ,  0.     ,  1.80069,  1.12798,  0.45528, -0.21743, -0.89013],\n",
       "       [ 0.     ,  0.     ,  0.     , -1.56854, -2.24125, -2.91395, -0.44507, -1.11777],\n",
       "       [ 0.     ,  0.     ,  0.     ,  1.34541,  0.6727 ,  3.14159,  2.46889, -1.34541],\n",
       "       [ 0.     ,  0.     ,  0.     , -2.02382,  0.44507, -0.22764,  2.24125, -1.57305],\n",
       "       [ 0.     ,  0.     ,  0.     ,  0.89013, -2.92417, -0.45528,  2.01361, -1.80069]])"
      ]
     },
     "execution_count": 101,
     "metadata": {},
     "output_type": "execute_result"
    }
   ],
   "source": [
    "np.angle(D12_yy)"
   ]
  },
  {
   "cell_type": "code",
   "execution_count": 102,
   "metadata": {
    "collapsed": false
   },
   "outputs": [
    {
     "data": {
      "text/plain": [
       "array([[ 0.0597 ,  0.15149,  0.09332,  0.44163,  0.58062,  0.06839,  0.14735,  0.06418],\n",
       "       [ 0.15149,  0.21231,  0.15149,  0.10419,  0.5061 ,  0.63941,  0.5061 ,  0.10419],\n",
       "       [ 0.09332,  0.15149,  0.0597 ,  0.06418,  0.14735,  0.06839,  0.58062,  0.44163],\n",
       "       [ 0.14721,  0.03473,  0.02139,  0.18778,  0.145  ,  0.02837,  0.02475,  0.01078],\n",
       "       [ 0.19354,  0.1687 ,  0.04912,  0.145  ,  0.05608,  0.08214,  0.10921,  0.02475],\n",
       "       [ 0.0228 ,  0.21314,  0.0228 ,  0.02837,  0.08214,  0.06514,  0.08214,  0.02837],\n",
       "       [ 0.04912,  0.1687 ,  0.19354,  0.02475,  0.10921,  0.08214,  0.05608,  0.145  ],\n",
       "       [ 0.02139,  0.03473,  0.14721,  0.01078,  0.02475,  0.02837,  0.145  ,  0.18778]])"
      ]
     },
     "execution_count": 102,
     "metadata": {},
     "output_type": "execute_result"
    }
   ],
   "source": [
    "np.abs(SS1A)"
   ]
  },
  {
   "cell_type": "code",
   "execution_count": 103,
   "metadata": {
    "collapsed": false,
    "scrolled": true
   },
   "outputs": [
    {
     "data": {
      "text/plain": [
       "array([[ 0.00951,  0.07625,  0.271  ,  1.34532,  0.66091,  0.61683,  0.19169,  0.14353],\n",
       "       [ 0.07625,  0.01902,  0.07625,  0.13555,  0.83436,  0.33575,  0.83436,  0.13555],\n",
       "       [ 0.271  ,  0.07625,  0.00951,  0.14353,  0.19169,  0.61683,  0.66091,  1.34532],\n",
       "       [ 0.44844,  0.04518,  0.04784,  0.01518,  0.08572,  0.16304,  0.06024,  0.09054],\n",
       "       [ 0.2203 ,  0.27812,  0.0639 ,  0.08572,  0.01316,  0.0108 ,  0.18562,  0.06024],\n",
       "       [ 0.20561,  0.11192,  0.20561,  0.16304,  0.0108 ,  0.00404,  0.0108 ,  0.16304],\n",
       "       [ 0.0639 ,  0.27812,  0.2203 ,  0.06024,  0.18562,  0.0108 ,  0.01316,  0.08572],\n",
       "       [ 0.04784,  0.04518,  0.44844,  0.09054,  0.06024,  0.16304,  0.08572,  0.01518]])"
      ]
     },
     "execution_count": 103,
     "metadata": {},
     "output_type": "execute_result"
    }
   ],
   "source": [
    "np.abs(S2nA-SS2A)"
   ]
  },
  {
   "cell_type": "code",
   "execution_count": 104,
   "metadata": {
    "collapsed": false
   },
   "outputs": [
    {
     "data": {
      "text/plain": [
       "array([[ 0.15279+0.j     , -0.10438-0.01562j, -0.17824-0.05457j,  0.70677-0.10577j, -0.35867+0.j     , -0.31479-0.04711j,  0.13873+0.04247j,  0.16350+0.0781j ],\n",
       "       [-0.10438+0.01562j,  0.02614+0.j     ,  0.10438+0.01562j, -0.09810+0.03003j,  0.45430-0.06799j, -0.18971+0.j     , -0.45430-0.06799j, -0.09810-0.03003j],\n",
       "       [-0.17824+0.05457j,  0.10438-0.01562j,  0.15279+0.j     , -0.16350+0.0781j ,  0.13873-0.04247j,  0.31479-0.04711j, -0.35867+0.j     , -0.70677-0.10577j],\n",
       "       [-0.23559-0.03526j,  0.03270+0.01001j,  0.05450+0.02603j,  0.05105+0.j     ,  0.11692+0.0175j ,  0.10450+0.03199j, -0.03108-0.01485j, -0.03565-0.02409j],\n",
       "       [ 0.11956+0.j     , -0.15143-0.02266j, -0.04624-0.01416j,  0.11692-0.0175j ,  0.13757+0.j     ,  0.01493+0.00223j,  0.12642+0.0387j ,  0.03108+0.01485j],\n",
       "       [ 0.10493-0.0157j ,  0.06324+0.j     , -0.10493-0.0157j ,  0.10450-0.03199j,  0.01493-0.00223j,  0.17561+0.j     , -0.01493-0.00223j,  0.10450+0.03199j],\n",
       "       [-0.04624+0.01416j,  0.15143-0.02266j,  0.11956+0.j     , -0.03108+0.01485j,  0.12642-0.0387j , -0.01493+0.00223j,  0.13757+0.j     , -0.11692-0.0175j ],\n",
       "       [-0.05450+0.02603j,  0.03270-0.01001j,  0.23559-0.03526j, -0.03565+0.02409j,  0.03108-0.01485j,  0.10450-0.03199j, -0.11692+0.0175j ,  0.05105+0.j     ]])"
      ]
     },
     "execution_count": 104,
     "metadata": {},
     "output_type": "execute_result"
    }
   ],
   "source": [
    "SS2A"
   ]
  },
  {
   "cell_type": "code",
   "execution_count": 107,
   "metadata": {
    "collapsed": false
   },
   "outputs": [
    {
     "data": {
      "text/plain": [
       "array([[ 0.16230 +2.77556e-17j, -0.05297 -7.19393e-02j,  0.05816 -1.87087e-01j, -0.44004 +5.97593e-01j,  0.30224 +1.11022e-16j,  0.20725 +2.81457e-01j,  0.03737 -1.20229e-01j,  0.18449 -6.38790e-02j],\n",
       "       [-0.05297 +7.19393e-02j,  0.00712 -1.04083e-17j,  0.05297 +7.19393e-02j, -0.02643 -8.50148e-02j, -0.26334 +3.57627e-01j,  0.14604 +1.34007e-16j,  0.26334 +3.57627e-01j, -0.02643 +8.50148e-02j],\n",
       "       [ 0.05816 +1.87087e-01j,  0.05297 -7.19393e-02j,  0.16230 +1.38778e-17j, -0.18449 -6.38790e-02j,  0.03737 +1.20229e-01j, -0.20725 +2.81457e-01j,  0.30224 +3.05311e-16j,  0.44004 +5.97593e-01j],\n",
       "       [ 0.14668 +1.99198e-01j,  0.00881 -2.83383e-02j,  0.06150 -2.12930e-02j,  0.03588 -3.12250e-17j,  0.06022 +8.17799e-02j, -0.03577 +1.15085e-01j,  0.02896 -1.00273e-02j,  0.03915 +2.69418e-02j],\n",
       "       [-0.10075 -9.02056e-17j,  0.08778 +1.19209e-01j, -0.01246 +4.00764e-02j,  0.06022 -8.17799e-02j,  0.15073 -5.55112e-17j,  0.00541 +7.35191e-03j, -0.03851 +1.23878e-01j, -0.02896 +1.00273e-02j],\n",
       "       [-0.06908 +9.38190e-02j, -0.04868 -3.46945e-17j,  0.06908 +9.38190e-02j, -0.03577 -1.15085e-01j,  0.00541 -7.35191e-03j,  0.17965 +4.59702e-17j, -0.00541 -7.35191e-03j, -0.03577 +1.15085e-01j],\n",
       "       [-0.01246 -4.00764e-02j, -0.08778 +1.19209e-01j, -0.10075 -9.71445e-17j,  0.02896 +1.00273e-02j, -0.03851 -1.23878e-01j, -0.00541 +7.35191e-03j,  0.15073 +8.32667e-17j, -0.06022 -8.17799e-02j],\n",
       "       [-0.06150 -2.12930e-02j,  0.00881 +2.83383e-02j, -0.14668 +1.99198e-01j,  0.03915 -2.69418e-02j, -0.02896 -1.00273e-02j, -0.03577 -1.15085e-01j, -0.06022 +8.17799e-02j,  0.03588 -3.46945e-17j]])"
      ]
     },
     "execution_count": 107,
     "metadata": {},
     "output_type": "execute_result"
    }
   ],
   "source": [
    "S2nA"
   ]
  },
  {
   "cell_type": "code",
   "execution_count": null,
   "metadata": {
    "collapsed": true
   },
   "outputs": [],
   "source": []
  }
 ],
 "metadata": {
  "anaconda-cloud": {},
  "kernelspec": {
   "display_name": "Python [conda root]",
   "language": "python",
   "name": "conda-root-py"
  },
  "language_info": {
   "codemirror_mode": {
    "name": "ipython",
    "version": 3
   },
   "file_extension": ".py",
   "mimetype": "text/x-python",
   "name": "python",
   "nbconvert_exporter": "python",
   "pygments_lexer": "ipython3",
   "version": "3.5.2"
  }
 },
 "nbformat": 4,
 "nbformat_minor": 2
}
