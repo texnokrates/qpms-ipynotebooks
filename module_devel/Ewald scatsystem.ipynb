{
 "cells": [
  {
   "cell_type": "code",
   "execution_count": null,
   "metadata": {},
   "outputs": [],
   "source": [
    "from qpms.cybspec import BaseSpec\n",
    "from qpms.cytmatrices import TMatrixGenerator\n",
    "from qpms.qpms_c import Particle, ScatteringSystem, FinitePointGroup\n",
    "from qpms.cymaterials import EpsMu, EpsMuGenerator\n",
    "from qpms.symmetries import point_group_info\n",
    "import numpy as np\n",
    "\n",
    "bg = EpsMu(1)\n",
    "tmgen=TMatrixGenerator.sphere(bg, EpsMu(2.0+0.1j), r=0.5, )\n",
    "\n",
    "# Create a dummy single-particle scatsystem\n",
    "bspec = BaseSpec(lMax=2)\n",
    "particles = [Particle((0,0,0), tmgen, bspec)]\n",
    "ss, ssw = ScatteringSystem.create(particles, bg, FinitePointGroup(point_group_info['D4h']),1, )"
   ]
  }
 ],
 "metadata": {
  "kernelspec": {
   "display_name": "Python 3",
   "language": "python",
   "name": "python3"
  },
  "language_info": {
   "codemirror_mode": {
    "name": "ipython",
    "version": 3
   },
   "file_extension": ".py",
   "mimetype": "text/x-python",
   "name": "python",
   "nbconvert_exporter": "python",
   "pygments_lexer": "ipython3",
   "version": "3.9.2"
  }
 },
 "nbformat": 4,
 "nbformat_minor": 2
}
