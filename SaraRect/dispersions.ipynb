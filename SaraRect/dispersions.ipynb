{
 "cells": [
  {
   "cell_type": "code",
   "execution_count": 112,
   "metadata": {
    "collapsed": true
   },
   "outputs": [],
   "source": [
    "#note=\"SRSmallRough380x380\"\n",
    "p2 = 370\n",
    "#note=\"SR3Line380x%d\"%p2\n",
    "#note=\"500k_380x%d\"%p2\n",
    "note=\"3k_380x%d\" %p2"
   ]
  },
  {
   "cell_type": "code",
   "execution_count": 113,
   "metadata": {
    "collapsed": false
   },
   "outputs": [],
   "source": [
    "# This one uses processed Ws inputs, so one does not have to input the array sizes manually\n",
    "import qpms\n",
    "from qpms.symmetries import  gen_hexlattice_Kpoint_svwf_rep, gen_hexlattice_Kpoint_svwf_rep_projectors, point_group_info\n",
    "import numpy as np\n",
    "from matplotlib import pyplot as plt\n",
    "import scipy\n",
    "from scipy import interpolate\n",
    "from scipy.constants import e as eV, hbar, hbar as ℏ, c\n",
    "ň = np.newaxis\n",
    "import cmath\n",
    "chunksize=10"
   ]
  },
  {
   "cell_type": "code",
   "execution_count": 114,
   "metadata": {
    "collapsed": false
   },
   "outputs": [],
   "source": [
    "from qpms.symmetries import Permutation, SVWFPointGroupInfo\n",
    "point_group_info['x_and_z_flip_group'] =   SVWFPointGroupInfo(\n",
    "    'x_and_z_flip_group',\n",
    "    (\n",
    "        Permutation(0,1, size=4), # x -> -x mirror op\n",
    "        Permutation(2,3, size=4), # z -> -z mirror op\n",
    "    ),\n",
    "    {\n",
    "        \"P'\": (1, 1),\n",
    "        \"R'\": (-1, 1),\n",
    "        \"P''\": (-1,-1),\n",
    "        \"R''\": (1, -1),\n",
    "    },\n",
    "    lambda lMax : (qpms.xflip_tyty(lMax), qpms.zflip_tyty(lMax))\n",
    ")\n",
    "point_group_info['y_and_z_flip_group'] =   SVWFPointGroupInfo(\n",
    "    'y_and_z_flip_group',\n",
    "    (\n",
    "        Permutation(0,1, size=4), # y -> -y mirror op\n",
    "        Permutation(2,3, size=4), # z -> -z mirror op\n",
    "    ),\n",
    "    {\n",
    "        \"P'\": (1, 1),\n",
    "        \"R'\": (-1, 1),\n",
    "        \"P''\": (-1,-1),\n",
    "        \"R''\": (1, -1),\n",
    "    },\n",
    "    lambda lMax : (qpms.yflip_tyty(lMax), qpms.zflip_tyty(lMax))\n",
    ")\n"
   ]
  },
  {
   "cell_type": "code",
   "execution_count": 115,
   "metadata": {
    "collapsed": false
   },
   "outputs": [
    {
     "data": {
      "text/plain": [
       "(6.988630318682703, 7.596337302915982)"
      ]
     },
     "execution_count": 115,
     "metadata": {},
     "output_type": "execute_result"
    }
   ],
   "source": [
    "evfactor =  (eV/hbar) /( 3e8 / 1e-6 )\n",
    "evfactor * 1.38, evfactor * 1.5"
   ]
  },
  {
   "cell_type": "code",
   "execution_count": 116,
   "metadata": {
    "collapsed": true
   },
   "outputs": [],
   "source": [
    "#Wfile = '/m/phys/project/qd/Marek/SaraRect/SmallRectRough/380x380/all'\n",
    "Wfile = '/m/phys/project/qd/Marek/SaraRect/3k_fine_new/380x%d/all' % p2\n",
    "#Wfile = '/m/phys/project/qd/Marek/SaraRect/500k_paperfig/380x%d/all' % p2"
   ]
  },
  {
   "cell_type": "code",
   "execution_count": 117,
   "metadata": {
    "collapsed": true
   },
   "outputs": [],
   "source": [
    "#freqlims = (1.436*eV/hbar,1.443*eV/hbar)\n",
    "#freqlims = (1.439*eV/hbar,1.443*eV/hbar)\n",
    "freqlims=None"
   ]
  },
  {
   "cell_type": "code",
   "execution_count": 118,
   "metadata": {
    "collapsed": false
   },
   "outputs": [],
   "source": [
    "#wdata = wdata_long\n",
    "wdata_head = qpms.loadWfile_info(Wfile, lMax=3, midk_halfwidth=None,freqlimits=freqlims)\n",
    "lMax = wdata_head['lMax']\n",
    "nelem = wdata_head['nelem']\n",
    "nfreqs_total = wdata_head['nfreqs']"
   ]
  },
  {
   "cell_type": "code",
   "execution_count": 119,
   "metadata": {
    "collapsed": false
   },
   "outputs": [
    {
     "data": {
      "text/plain": [
       "1"
      ]
     },
     "execution_count": 119,
     "metadata": {},
     "output_type": "execute_result"
    }
   ],
   "source": [
    "#wdata_head.keys(),wdata_head['nk'], wdata_head['ks'], #wdata_head['Ws'].shape\n",
    "wdata_head['npart']"
   ]
  },
  {
   "cell_type": "code",
   "execution_count": 120,
   "metadata": {
    "collapsed": true
   },
   "outputs": [],
   "source": [
    "#### T-matrices from file\n",
    "# Original Ni, freqscaled:\n",
    "#TMatrix_file = '/u/46/necadam1/unix/tmatrix-experiments/Cylinder/SaraNickel_freqscale/cylinder_Ni_60nm_lMax3_longer_freqdiv20_cleaned.TMatrix'\n",
    "#freqscale=20\n",
    "# Original Ni:\n",
    "TMatrix_file = '/u/46/necadam1/unix/tmatrix-experiments/Cylinder/SaraNickel/cylinder_Ni_60nm_lMax3_longer_cleaned.TMatrix'\n",
    "freqscale = 1\n",
    "# Zero loss \"Ag\":\n",
    "#TMatrix_file = '/u/46/necadam1/unix/tmatrix-experiments/Cylinder/hexlasingPaper/zeroloss/cylinder_50nm_lMax2_long.TMatrix'\n",
    "\n",
    "TMatrices_orig, freqs_orig, freqs_weirdunits_orig, lMaxTM = qpms.loadScuffTMatrices(TMatrix_file, normalisation = 2, version = 'new', freqscale=freqscale)\n",
    "tmtype=\"Scuff\""
   ]
  },
  {
   "cell_type": "code",
   "execution_count": 121,
   "metadata": {
    "collapsed": false
   },
   "outputs": [],
   "source": [
    "# TODO synchronize the TM/W lMaxes better\n",
    "TMatrices_orig = TMatrices_orig[...,:,0:nelem,:,0:nelem]\n",
    "lMaxTM = lMax"
   ]
  },
  {
   "cell_type": "code",
   "execution_count": 122,
   "metadata": {
    "collapsed": false
   },
   "outputs": [],
   "source": [
    "#### Alternatively, Mie T-matrix\n",
    "#lMaxTM = force_lMax\n",
    "lMax = lMaxTM\n",
    "\n",
    "nelem = lMax * (lMax + 2)\n",
    "startω =1*eV/ℏ\n",
    "stopω = 2*eV/ℏ\n",
    "ωlist = np.linspace(startω, stopω, 200)\n",
    "\n",
    "\n",
    "ε_b = 2.13\n",
    "R = 42e-9\n",
    "\n",
    "if False: # drude model\n",
    "    ω_p = 9*eV/ℏ #9*eV/ℏ\n",
    "    ε_inf = 4.6\n",
    "    γ_p = 0#0.07*eV/ℏ\n",
    "    \n",
    "    ε_mlist = qpms.ε_drude(ε_inf, ω_p, γ_p, ωlist)\n",
    "    tmtype=\"MieDrude%gnm\" % (R/1e-9)\n",
    "else: # interpolated data\n",
    "    permdata = np.loadtxt(\"/u/46/necadam1/unix/tmatrix-experiments/materialy/Ni-Johnson-simple.dat\")\n",
    "    permfreqs = permdata[:,0]\n",
    "    permvals = permdata[:,1] + permdata[:,2]*1j\n",
    "    permdata_interp = interpolate.interp1d(permfreqs, permvals, axis = 0, kind='linear', fill_value='extrapolate')\n",
    "    ε_mlist = permdata_interp(ωlist)\n",
    "    tmtype=\"MieInterp%gnm\" % (R/1e-9)\n",
    "    \n",
    "\n",
    "RVlist = np.empty((lMax+1,)+ωlist.shape,dtype=np.complex_)\n",
    "RHlist = np.empty((lMax+1,)+ωlist.shape,dtype=np.complex_)\n",
    "\n",
    "for i in range(len(ωlist)):\n",
    "    ω=ωlist[i]\n",
    "    k_i = cmath.sqrt(ε_mlist[i])*ω/c\n",
    "    k_e = cmath.sqrt(ε_b)*ω/c\n",
    "    RH, RV, TH, TV = qpms.mie_coefficients(a=R, nmax=lMax, k_i=k_i, k_e=k_e, J_ext=1, J_scat=3)\n",
    "    RVlist[:,i] = RV\n",
    "    RHlist[:,i] = RH\n",
    "\n",
    "y = np.arange(nelem)\n",
    "my, ny = qpms.get_mn_y(lMax)\n",
    "\n",
    "TMatrices_orig = np.zeros((RVlist.shape[1], 2, nelem, 2, nelem), dtype=complex)\n",
    "\n",
    "for l in range(1,lMax+1):\n",
    "    beg = l**2-1\n",
    "    end = l*(l+2)\n",
    "    TMatrices_orig[:,0,beg:end,0,beg:end] = -RVlist[l,:,ň,ň] * np.eye(2*l+1) # FIXME opposite sign?\n",
    "    TMatrices_orig[:,1,beg:end,1,beg:end] = -RHlist[l,:,ň,ň] * np.eye(2*l+1)\n",
    "\n",
    "freqs_orig = ωlist"
   ]
  },
  {
   "cell_type": "code",
   "execution_count": 123,
   "metadata": {
    "collapsed": false,
    "scrolled": true
   },
   "outputs": [
    {
     "data": {
      "text/plain": [
       "(1.9042053455087327, 2.486319932995858)"
      ]
     },
     "execution_count": 123,
     "metadata": {},
     "output_type": "execute_result"
    }
   ],
   "source": [
    "lMax = lMaxTM  # redundant\n",
    "nelem = qpms.get_nelem(lMax) #redundant\n",
    "nomega = wdata_head['nfreqs'] # 286\n",
    "nk = wdata_head['nk'] #100\n",
    "npart = wdata_head['npart']\n",
    "wdata_head['freqs'][0]/(eV/hbar), wdata_head['freqs'][-1] / (eV/hbar)"
   ]
  },
  {
   "cell_type": "code",
   "execution_count": 124,
   "metadata": {
    "collapsed": false
   },
   "outputs": [],
   "source": [
    "#nomega, nk, wdata['freqs'][151]/(eV/hbar), wdata['freqs'][-125] / (eV/hbar), wdata['ks'][12][1], wdata['ks'][-33][1]\n",
    "#nomega, nk, wdata_head['freqs'][0]/(eV/hbar), wdata_head['freqs'][-1] / (eV/hbar), wdata_head['ks'][22][1]*4.085/4.199, wdata_head['ks'][-19][1]*4.085/4.199"
   ]
  },
  {
   "cell_type": "code",
   "execution_count": 125,
   "metadata": {
    "collapsed": false
   },
   "outputs": [],
   "source": [
    "#symmetrize TMatrices\n",
    "yfl = qpms.yflip_tyty(lMax)\n",
    "xfl = qpms.xflip_tyty(lMax)\n",
    "zfl = qpms.zflip_tyty(lMax)\n",
    "TMatrix=TMatrices_orig\n",
    "TMatrix_sym = (TMatrix + qpms.apply_ndmatrix_left(yfl,qpms.apply_ndmatrix_left(yfl, TMatrix, (-4,-3)),(-2,-1)))/2\n",
    "TMatrix_sym = (TMatrix_sym + qpms.apply_ndmatrix_left(xfl,qpms.apply_ndmatrix_left(xfl, TMatrix_sym, (-4,-3)),(-2,-1)))/2\n",
    "TMatrix_sym = (TMatrix_sym + qpms.apply_ndmatrix_left(zfl,qpms.apply_ndmatrix_left(zfl, TMatrix_sym, (-4,-3)),(-2,-1)))/2\n",
    "rotN = 600\n",
    "\n",
    "TMatrix_contribs = np.empty((rotN,)+TMatrix.shape, dtype=np.complex_)\n",
    "for i in range(rotN):\n",
    "    rotangle = 2*np.pi*i / rotN\n",
    "    rot =  qpms.WignerD_yy_fromvector(lMax,np.array([0,0,rotangle]))\n",
    "    rotinv = qpms.WignerD_yy_fromvector(lMax,np.array([0,0,-rotangle]))\n",
    "    TMatrix_contribs[i] = qpms.apply_matrix_left(rot,qpms.apply_matrix_left(rotinv, TMatrix_sym, -3),-1)\n",
    "TMatrix_sym = np.sum(TMatrix_contribs, axis=0) / rotN\n",
    "TMatrix_sym[np.abs(TMatrix_sym) <= 1e-16] = 0"
   ]
  },
  {
   "cell_type": "code",
   "execution_count": 126,
   "metadata": {
    "collapsed": false
   },
   "outputs": [],
   "source": [
    "# TODO process (interpolate and symmetrize) T-matrix here\n",
    "TMatrices_interp = interpolate.interp1d(freqs_orig, TMatrix_sym, axis = 0, kind='linear', fill_value='extrapolate')\n"
   ]
  },
  {
   "cell_type": "code",
   "execution_count": 127,
   "metadata": {
    "collapsed": false
   },
   "outputs": [
    {
     "data": {
      "text/plain": [
       "((3806, 3, 2), (3806, 3))"
      ]
     },
     "execution_count": 127,
     "metadata": {},
     "output_type": "execute_result"
    }
   ],
   "source": [
    "#Wmatrices = wdata['Ws'].reshape((nomega,nk,npart,2,nelem,npart,2,nelem))\n",
    "#Wmatrices = (wdata_long['Ws']+0*wdata_short['Ws']).reshape((nomega,nk,npart,2,nelem,npart,2,nelem))\n",
    "#TMatrices = TMatrix_sym.reshape((nomega,1,2,nelem,2,nelem))\n",
    "ks = np.broadcast_to(wdata_head['ks'][ň,:,:], (nomega, nk, 2))\n",
    "freqs = np.broadcast_to(wdata_head['freqs'][:,ň], (nomega,nk))\n",
    "\n",
    "#Wmatrices.shape, \n",
    "ks.shape, freqs.shape\n"
   ]
  },
  {
   "cell_type": "code",
   "execution_count": 128,
   "metadata": {
    "collapsed": false
   },
   "outputs": [
    {
     "data": {
      "text/plain": [
       "((200, 2, 15, 2, 15), (3806, 3, 2), (3806, 3))"
      ]
     },
     "execution_count": 128,
     "metadata": {},
     "output_type": "execute_result"
    }
   ],
   "source": [
    "TMatrices_orig.shape, ks.shape, freqs.shape"
   ]
  },
  {
   "cell_type": "markdown",
   "metadata": {
    "collapsed": false
   },
   "source": [
    "# Full problem\n",
    "TE_or_TM = None # just that the scripts below know...\n",
    "allU = np.full((nomega,nk,npart*2*nelem,npart*2*nelem), np.nan, dtype=complex)\n",
    "allV = np.full((nomega,nk,npart*2*nelem,npart*2*nelem), np.nan, dtype=complex)\n",
    "allS = np.full((nomega,nk,npart*2*nelem), np.nan)\n",
    "for omi in range(nomega):\n",
    "    for ki in range(nk):\n",
    "        W = Wmatrices[omi,ki]\n",
    "        T = TMatrices_interp(freqs[omi,ki]) * 1\n",
    "        TW = np.sum(\n",
    "            T[...,ň,:,:,:,:,ň,ň,ň] * W[...,:,ň,ň,:,:,:,:,:]\n",
    "        , axis = (-5,-4))\n",
    "        iden = np.eye(npart*2*nelem)\n",
    "        iden.shape = (npart,2,nelem,npart,2,nelem)\n",
    "        finalMatrix = iden-TW\n",
    "        try:\n",
    "            allU[omi,ki], allS[omi,ki], allV[omi,ki] = scipy.linalg.svd(finalMatrix.reshape((npart*2*nelem,npart*2*nelem)), \n",
    "                                                                        lapack_driver= 'gesvd')\n",
    "        except ValueError:\n",
    "            pass\n",
    "restype=\"Full\"                "
   ]
  },
  {
   "cell_type": "code",
   "execution_count": 129,
   "metadata": {
    "collapsed": false
   },
   "outputs": [],
   "source": [
    "# Z-symmetric problem\n",
    "TE_or_TM = 0 # 0 is TE\n",
    "\n",
    "TE_yz = np.arange(nelem)\n",
    "TM_yz = TE_yz\n",
    "my, ny = qpms.get_mn_y(lMax)\n",
    "TE_NMz = (my + ny) % 2\n",
    "TM_NMz = (1 - TE_NMz)\n",
    "T_NMz = TE_NMz if TE_or_TM == 0 else TM_NMz\n",
    "T_yz = TE_yz if TE_or_TM == 0 else TM_yz\n",
    "y = np.arange(nelem)\n",
    "yi = y[ň,ň,ň,:]\n",
    "yj = y[ň,:,ň,ň]\n",
    "ipart = np.arange(npart)\n",
    "ti = np.arange(2)\n",
    "\n",
    "#allU = np.full((nomega,nk,npart*nelem,npart*nelem), np.nan, dtype=complex)\n",
    "#allV = np.full((nomega,nk,npart*nelem,npart*nelem), np.nan, dtype=complex)\n",
    "allS = np.full((nomega,nk,npart*nelem), np.nan)\n",
    "wdata = qpms.loadWfile_processed(Wfile, lMax=3, midk_halfwidth=None, freqlimits=freqlims, iteratechunk = chunksize)\n",
    "for Wchunk in wdata:\n",
    "    Wmatrices = Wchunk['Ws']\n",
    "    for omi in range(*Wchunk['chunk_range']):\n",
    "        chunk_omi = omi-Wchunk['chunk_range'][0]\n",
    "        for ki in range(nk):\n",
    "            W = Wmatrices[chunk_omi,ki][..., ipart[:,ň,ň,ň], T_NMz[ň,:,ň,ň],T_yz[ň,:,ň,ň], ipart[ň,ň,:,ň], T_NMz[ň,ň,ň,:],T_yz[ň,ň,ň,:]] # [Npart,2,nelem,Npart,2,nelem] -> [Npart,nelem,Npart,nelem]\n",
    "            W[np.isclose(W,0, atol = 1e-10)] = 0\n",
    "            T = TMatrices_interp(freqs[omi,ki])[...,T_NMz[:,ň],T_yz[:,ň],T_NMz[ň,:],T_yz[ň,:]]  #[2,nelem,2,nelem] -> [nelem,nelem]\n",
    "            TW = np.sum(\n",
    "                T[...,ň,:,:,ň,ň] * W[...,:,ň,:,:,:]\n",
    "            , axis = (-3))\n",
    "            iden = np.eye(npart*nelem)\n",
    "            iden.shape = (npart,nelem,npart,nelem)\n",
    "            finalMatrix = iden-TW\n",
    "            try:\n",
    "                #allU[omi,ki], allS[omi,ki], allV[omi,ki] = scipy.linalg.svd(finalMatrix.reshape((npart*nelem,npart*nelem)), \n",
    "                allS[omi,ki] = scipy.linalg.svd(finalMatrix.reshape((npart*nelem,npart*nelem)), compute_uv = False,\n",
    "                                                                           # lapack_driver= 'gesvd'\n",
    "                                                                           )\n",
    "            except ValueError:\n",
    "                pass\n",
    "\n",
    "#theV = allV[:,:,sorder,:].reshape(nomega,nk,2,2,nelem)\n",
    "#allV_expanded = np.zeros((nomega,nk,npart*nelem,2,2,nelem),dtype=complex)\n",
    "#for t in (0,1):\n",
    "#    allV_expanded[:,:,:,:,t,T_NMz == t]  = allV.reshape((nomega,nk,npart*nelem,npart,nelem))[:,:,:,:,T_NMz == t]\n",
    "\n",
    "if TE_or_TM == 0:\n",
    "    restype=\"E-inplane\"\n",
    "elif TE_or_TM == 1:\n",
    "    restype=\"M-inplane\"\n",
    "else:\n",
    "    restype=\"WTF\""
   ]
  },
  {
   "cell_type": "code",
   "execution_count": 130,
   "metadata": {
    "collapsed": false
   },
   "outputs": [
    {
     "data": {
      "text/plain": [
       "((3806, 3), 3)"
      ]
     },
     "execution_count": 130,
     "metadata": {},
     "output_type": "execute_result"
    }
   ],
   "source": [
    "freqs.shape, nk"
   ]
  },
  {
   "cell_type": "code",
   "execution_count": 131,
   "metadata": {
    "collapsed": true
   },
   "outputs": [],
   "source": [
    "%matplotlib inline\n",
    "def make_image(data, outputname, size=(1.1, 1.5), dpi=300):\n",
    "    fig = plt.figure()\n",
    "    fig.set_size_inches(size)\n",
    "    ax = plt.Axes(fig, [0., 0., 1., 1.])\n",
    "    ax.set_axis_off()\n",
    "    fig.add_axes(ax)\n",
    "    #plt.set_cmap('hot')\n",
    "    ax.pcolormesh(data, #aspect='equal'\n",
    "             )\n",
    "    plt.savefig(outputname, dpi=dpi)"
   ]
  },
  {
   "cell_type": "code",
   "execution_count": 132,
   "metadata": {
    "collapsed": false
   },
   "outputs": [],
   "source": [
    "#make_image(np.clip(np.log(1-allS[151:-125,12:-33,-1]), -11, -2), \"figs/lMax%d%s%s%s_disp_big_n.pdf\"%(lMax,tmtype,restype,note), dpi=900)\n",
    "#make_image(np.clip(np.log(1-allS[151:-125,22:-19,-1]), -11, -2), \"figs/lMax%d%s%s%s_disp_big_n.png\"%(lMax,tmtype,restype,note), dpi=900) # posun k-bodu na špatně zkalibrované měření"
   ]
  },
  {
   "cell_type": "code",
   "execution_count": 133,
   "metadata": {
    "collapsed": true
   },
   "outputs": [],
   "source": [
    "np.savez(\"/m/phys/project/qd/Marek/dispdata/SaraRect_lMax%d%s%s%s_dispdata.npz\"%(lMax,tmtype,restype,note), leastSVs = allS[:,:,-1], ks=ks[:,:,1], freqs=freqs)"
   ]
  },
  {
   "cell_type": "code",
   "execution_count": 134,
   "metadata": {
    "collapsed": false
   },
   "outputs": [
    {
     "data": {
      "image/png": "[encoded data removed]",
      "text/plain": [
       "<Figure size 792x1080 with 2 Axes>"
      ]
     },
     "metadata": {},
     "output_type": "display_data"
    }
   ],
   "source": [
    "%matplotlib inline\n",
    "plot_margin=0\n",
    "#plt.figure(figsize=(2.25,3.75))\n",
    "#plt.figure(figsize=(11,15))\n",
    "plt.figure(figsize=(11,15))\n",
    "plt.pcolormesh(ks[:,:,1], freqs[:,:]*hbar/eV, allS[:,:,-1], vmin=0, vmax=1)\n",
    "#plt.plot(freqs[:,:]*hbar/eV, allS[:,:,-1], )\n",
    "#plt.plot(freqs[:,:]*hbar/eV, allS[:,:,-2], )\n",
    "#plt.plot(freqs[:,:]*hbar/eV, allS[:,:,-3], )\n",
    "#plt.imshow(np.clip(np.log(1-allS[:,:,-1]),-11.5,-3.8), origin = 'lower')\n",
    "#plt.pcolormesh(ks[:,:,1], freqs[:,:]*hbar/eV, np.clip(np.log(1-allS[:,:,-1]), -11, -2))\n",
    "\n",
    "x0, x1, y0, y1 = plt.axis()\n",
    "plt.axis((x0 - plot_margin,\n",
    "          x1 + plot_margin,\n",
    "          y0 - plot_margin,\n",
    "          y1 + plot_margin))\n",
    "#plt.xlim([2.20,2.21])\n",
    "#plt.axis('off')\n",
    "plt.colorbar()\n",
    "plt.tight_layout(pad=0)\n",
    "plt.savefig(\"figs/lMax%d%s%s%s_dispbg.png\"%(lMax,tmtype,restype,note), #bbox_inches='tight'\n",
    "           )"
   ]
  },
  {
   "cell_type": "code",
   "execution_count": 135,
   "metadata": {
    "collapsed": false
   },
   "outputs": [
    {
     "name": "stdout",
     "output_type": "stream",
     "text": [
      "1.9042053455087324 2.4863199329958574\n"
     ]
    }
   ],
   "source": [
    "print (freqs[0,0]/eV*hbar, freqs[-1,0]/eV*hbar)"
   ]
  },
  {
   "cell_type": "code",
   "execution_count": 136,
   "metadata": {
    "collapsed": false
   },
   "outputs": [
    {
     "data": {
      "text/plain": [
       "(9.651, 2.00286883491333)"
      ]
     },
     "execution_count": 136,
     "metadata": {},
     "output_type": "execute_result"
    }
   ],
   "source": [
    "wdata_head['freqs_weirdunits'][1], wdata_head['freqs'][500]/eV*hbar"
   ]
  },
  {
   "cell_type": "code",
   "execution_count": 137,
   "metadata": {
    "collapsed": false
   },
   "outputs": [
    {
     "name": "stdout",
     "output_type": "stream",
     "text": [
      "(952, 3, 1, 2, 15, 1, 2, 15)\n",
      "[[     0. -30000.]\n",
      " [     0.      0.]\n",
      " [     0.  30000.]] 3\n",
      "0.0\n"
     ]
    }
   ],
   "source": [
    "#Wfile = '/m/phys/project/qd/Marek/lMax3_onlyK_fine/w'\n",
    "lMax = 3\n",
    "nelem = lMax * (lMax+2)\n",
    "wdata_thin = qpms.loadWfile_processed(Wfile, lMax=3, midk_halfwidth=1,freqlimits=None)\n",
    "npart=wdata_thin['npart']\n",
    "Wmatrices = wdata_thin['Ws'][::4]\n",
    "print(Wmatrices.shape)\n",
    "nk = wdata_thin['nk']\n",
    "freqs = wdata_thin['freqs'][::4]\n",
    "nfreqs = len(freqs)\n",
    "nomega = nfreqs\n",
    "ks = wdata_thin['ks']\n",
    "print(ks, nk)\n",
    "#lMax = wdata_head['lMax']\n",
    "#nelem = wdata_head['nelem']\n",
    "\n",
    "lineindex = nk//2+0\n",
    "linek = ks[lineindex,1]\n",
    "linefreqs = freqs\n",
    "linefreqs_weirdunits = wdata_thin['freqs_weirdunits'][::4]\n",
    "lineWmatrices = Wmatrices[:,lineindex]\n",
    "print(linek)\n"
   ]
  },
  {
   "cell_type": "code",
   "execution_count": 138,
   "metadata": {
    "collapsed": false
   },
   "outputs": [],
   "source": [
    "thegroup = 'D2h' # zde se vybírá příslušná grupa\n",
    "#thegroup = 'y_and_z_flip_group' # The x and y axis definitions are still somehow swapped / wrong\n",
    "#thegroup = 'D4h'\n",
    "\n",
    "projmats = point_group_info[thegroup].svwf_irrep_projectors(lMax)\n",
    "for rep, W in projmats.items(): # reshape to ptypty, the rest of the code expects it, although we have only one particle per unit cell\n",
    "    projmats[rep] = W.reshape((1,2,nelem,1,2,nelem))"
   ]
  },
  {
   "cell_type": "code",
   "execution_count": 139,
   "metadata": {
    "collapsed": false
   },
   "outputs": [],
   "source": [
    "projmats2, bases = point_group_info[thegroup].svwf_irrep_projectors2_w_bases(lMax)\n",
    "for rep, W in projmats2.items(): # reshape to ptypty, the rest of the code expects it, although we have only one particle per unit cell\n",
    "    projmats2[rep] = W.reshape((1,2,nelem,1,2,nelem))\n",
    "for rep, b in bases.items():\n",
    "    bases[rep] = b.reshape((b.shape[0],1,2,nelem))\n",
    "#bases[\"A1'\"].shape\n"
   ]
  },
  {
   "cell_type": "code",
   "execution_count": 140,
   "metadata": {
    "collapsed": false
   },
   "outputs": [
    {
     "name": "stderr",
     "output_type": "stream",
     "text": [
      "/u/46/necadam1/unix/miniconda3/lib/python3.5/site-packages/ipykernel/__main__.py:13: RuntimeWarning: invalid value encountered in true_divide\n"
     ]
    },
    {
     "data": {
      "text/plain": [
       "(1.0, 6.845459073166032e-14)"
      ]
     },
     "execution_count": 140,
     "metadata": {},
     "output_type": "execute_result"
    }
   ],
   "source": [
    "WMatrices_projs = dict()\n",
    "for rep, P in projmats.items():\n",
    "    \n",
    "    WP = np.tensordot(lineWmatrices, P, axes=([-3,-2,-1],[0,1,2]))\n",
    "    PWP = np.tensordot(P,WP, axes=([-3,-2,-1],[1,2,3]))\n",
    "    PWP = np.rollaxis(PWP, 3)\n",
    "    WMatrices_projs[rep] = PWP\n",
    "\n",
    "WMatrices_reconstructed = np.zeros(lineWmatrices.shape, dtype=complex)\n",
    "for PWP in WMatrices_projs.values():\n",
    "    WMatrices_reconstructed += PWP\n",
    "\n",
    "(np.amax(np.nan_to_num(np.abs(WMatrices_reconstructed-lineWmatrices)/(np.abs(WMatrices_reconstructed)+np.abs(lineWmatrices)))),\n",
    " np.amax(np.abs(WMatrices_reconstructed-lineWmatrices)))"
   ]
  },
  {
   "cell_type": "code",
   "execution_count": 141,
   "metadata": {
    "collapsed": false
   },
   "outputs": [],
   "source": [
    "finalMatrices = np.empty((nomega, npart,2,nelem, npart,2,nelem), dtype=complex)\n",
    "# Full problem\n",
    "for omi in range(nomega):\n",
    "        W = lineWmatrices[omi]\n",
    "        T = TMatrices_interp(linefreqs[omi])\n",
    "        TW = np.sum(\n",
    "            T[...,ň,:,:,:,:,ň,ň,ň] * W[...,:,ň,ň,:,:,:,:,:]\n",
    "        , axis = (-5,-4))\n",
    "        iden = np.eye(npart*2*nelem)\n",
    "        iden.shape = (npart,2,nelem,npart,2,nelem)\n",
    "        finalMatrix = iden-TW\n",
    "        finalMatrices[omi] = finalMatrix"
   ]
  },
  {
   "cell_type": "code",
   "execution_count": 142,
   "metadata": {
    "collapsed": false
   },
   "outputs": [
    {
     "data": {
      "text/plain": [
       "9.243885181758805e-14"
      ]
     },
     "execution_count": 142,
     "metadata": {},
     "output_type": "execute_result"
    }
   ],
   "source": [
    "# test whether the symmetry group is correct (now mainly whether the psi sign is correct)\n",
    "finalMatrices_projs = dict()\n",
    "for rep, P in projmats.items():\n",
    "    MP = np.tensordot(finalMatrices, P, axes=([-3,-2,-1],[0,1,2]))\n",
    "    PMP = np.tensordot(P,MP, axes=([-3,-2,-1],[1,2,3]))\n",
    "    PMP = np.rollaxis(PMP, 3)\n",
    "    finalMatrices_projs[rep] = PMP\n",
    "\n",
    "finalMatrices_reconstructed = np.zeros(finalMatrices.shape, dtype=complex)\n",
    "for PMP in finalMatrices_projs.values():\n",
    "    finalMatrices_reconstructed += PMP\n",
    "    \n",
    "np.amax(np.abs(finalMatrices_reconstructed - finalMatrices))"
   ]
  },
  {
   "cell_type": "code",
   "execution_count": 143,
   "metadata": {
    "collapsed": false
   },
   "outputs": [],
   "source": [
    "lineS_irrep = dict()\n",
    "for rep, B in bases.items():\n",
    "    N = B.shape[0]\n",
    "    lineS_thisirrep = np.full((nomega,N), np.nan)\n",
    "    #B_H = np.moveaxis(B,0, -1).conj() # (N,2,2,nelem) -> (2,2,nelem,N)\n",
    "    B_H = B.conj()\n",
    "    B = np.moveaxis(B,0,-1)\n",
    "    for omi in range(nomega):\n",
    "            M = finalMatrices[omi]\n",
    "            MB = np.tensordot(M,B,axes=([-3,-2,-1],[0,1,2]))\n",
    "            finalMatrix_irrep = np.tensordot(B_H, MB, axes=([-3,-2,-1],[0,1,2]))\n",
    "            try:\n",
    "                #allU[omi,ki], allS[omi,ki], allV[omi,ki] = scipy.linalg.svd(finalMatrix.reshape((npart*nelem,npart*nelem)), \n",
    "                lineS_thisirrep[omi] = scipy.linalg.svd(finalMatrix_irrep, compute_uv = False,\n",
    "                                                                           # lapack_driver= 'gesvd'\n",
    "                                                                           )\n",
    "            except ValueError:\n",
    "                pass\n",
    "    lineS_irrep[rep] = lineS_thisirrep\n",
    "\n",
    "    \n",
    "  "
   ]
  },
  {
   "cell_type": "code",
   "execution_count": 144,
   "metadata": {
    "collapsed": false
   },
   "outputs": [
    {
     "name": "stdout",
     "output_type": "stream",
     "text": [
      "B2'' 2.1451415866347596 10.871\n",
      "B2' 2.1451415866347596 10.871\n",
      "A1'' 2.1451415866347596 10.871\n",
      "A1' 2.1451415866347596 10.871\n",
      "A2'' 2.112582635131242 10.706\n",
      "B1'' 2.1451415866347596 10.871\n",
      "A2' 2.1451415866347596 10.871\n",
      "B1' 2.1291581013512144 10.79\n"
     ]
    },
    {
     "data": {
      "image/png": "[encoded data removed]",
      "text/plain": [
       "<Figure size 1080x504 with 1 Axes>"
      ]
     },
     "metadata": {},
     "output_type": "display_data"
    }
   ],
   "source": [
    "%matplotlib inline\n",
    "s = 1\n",
    "focus = None # None, 0, 1\n",
    "\n",
    "center = 2.14505\n",
    "span = 0.0007\n",
    "dc1 = (2.17366243 - center) / (-5)\n",
    "dc2 = (2.117206400 - center) / 5\n",
    "\n",
    "focstrings = {None: '', 0: 'central', 1: 'side'}\n",
    "plt.figure(figsize=(15,7))\n",
    "amaxes = []\n",
    "for rep in lineS_irrep.keys():\n",
    "    lineSp = lineS_irrep[rep]\n",
    "    plt.plot(linefreqs/eV*hbar, lineSp[:,-s], label=rep, ls=':' if \"''\" in rep else '-')\n",
    "    amaxes.append(np.amax(lineSp[:,-s]))\n",
    "plt.ylim([0,min(2, max(amaxes))])\n",
    "if focus == 0:\n",
    "    plt.xlim([center - span/2, center + span/2])\n",
    "elif focus == 1:\n",
    "    dc = dc1 if p2 < 380 else dc2\n",
    "    plt.xlim([center + (p2-380)*dc - span/2,center + (p2-380)*dc + span/2])\n",
    "plt.legend()\n",
    "plt.title('380 nm x %d nm, $k_y = %g\\\\, \\\\mathrm{m^{-1}}$, irreps of group %s, %s lowest singular value of each irrep, %s T-Matrix%s' % (p2, linek, thegroup, {1: '1st', 2:'2nd', 3:'3rd'}[s], tmtype, \n",
    "                                                                                                                                         '' if focus is None else (', %s bundle' % focstrings[focus])))\n",
    "plt.savefig(\"figs/lMax%d%s%s_ky%g%s_irrep_SVs%d%s.pdf\"%(lMax,tmtype,thegroup,linek,note,s,focstrings[focus]))\n",
    "plt.savefig(\"figs/png/lMax%d%s%s_ky%g%s_irrep_SVs%d%s.png\"%(lMax,tmtype,thegroup,linek,note,s,focstrings[focus]))\n",
    "\n",
    "for rep in lineS_irrep.keys():\n",
    "    print(rep, linefreqs[np.argmin(lineS_irrep[rep][:,-s])]/eV*hbar, linefreqs_weirdunits[np.argmin(lineS_irrep[rep][:,-s])])"
   ]
  },
  {
   "cell_type": "code",
   "execution_count": 145,
   "metadata": {
    "collapsed": false
   },
   "outputs": [],
   "source": [
    "lineS1_irreps = dict()\n",
    "for rep, val in lineS_irrep.items():\n",
    "    lineS1_irreps[rep] = val[:,-1]"
   ]
  },
  {
   "cell_type": "code",
   "execution_count": 146,
   "metadata": {
    "collapsed": false
   },
   "outputs": [
    {
     "name": "stdout",
     "output_type": "stream",
     "text": [
      "/m/phys/project/qd/Marek/dispdata/SaraRectlMax3MieInterp42nm3k_380x370_crosscut.npz\n"
     ]
    }
   ],
   "source": [
    "\n",
    "np.savez(\"/m/phys/project/qd/Marek/dispdata/SaraRect_lMax%d%s%s_crosscut.npz\"%(lMax,tmtype,note), **lineS1_irreps, ks=linek, freqs=freqs)\n",
    "print(\"/m/phys/project/qd/Marek/dispdata/SaraRect_lMax%d%s%s_crosscut.npz\"%(lMax,tmtype,note))"
   ]
  },
  {
   "cell_type": "code",
   "execution_count": 147,
   "metadata": {
    "collapsed": false
   },
   "outputs": [
    {
     "data": {
      "text/plain": [
       "0.0"
      ]
     },
     "execution_count": 147,
     "metadata": {},
     "output_type": "execute_result"
    }
   ],
   "source": [
    "linek"
   ]
  },
  {
   "cell_type": "code",
   "execution_count": 148,
   "metadata": {
    "collapsed": false
   },
   "outputs": [
    {
     "name": "stdout",
     "output_type": "stream",
     "text": [
      "dict_keys([\"B2''\", \"B2'\", \"A1''\", \"A1'\", \"A2''\", \"B1''\", \"A2'\", \"B1'\"])\n"
     ]
    }
   ],
   "source": [
    "print(lineS_irrep.keys())"
   ]
  },
  {
   "cell_type": "code",
   "execution_count": 149,
   "metadata": {
    "collapsed": false
   },
   "outputs": [
    {
     "data": {
      "text/plain": [
       "dict_keys(['EeVs_orig', 'nelem', 'nk', 'Ws', 'freqs_weirdunits', 'lMax', 'ks', 'k0s', 'freqs', 'npart', 'nfreqs'])"
      ]
     },
     "execution_count": 149,
     "metadata": {},
     "output_type": "execute_result"
    }
   ],
   "source": [
    "wdata_thin.keys()"
   ]
  },
  {
   "cell_type": "code",
   "execution_count": null,
   "metadata": {
    "collapsed": true
   },
   "outputs": [],
   "source": []
  },
  {
   "cell_type": "code",
   "execution_count": null,
   "metadata": {
    "collapsed": true
   },
   "outputs": [],
   "source": []
  },
  {
   "cell_type": "code",
   "execution_count": null,
   "metadata": {
    "collapsed": true
   },
   "outputs": [],
   "source": []
  },
  {
   "cell_type": "code",
   "execution_count": null,
   "metadata": {
    "collapsed": true
   },
   "outputs": [],
   "source": []
  },
  {
   "cell_type": "code",
   "execution_count": null,
   "metadata": {
    "collapsed": true
   },
   "outputs": [],
   "source": []
  },
  {
   "cell_type": "code",
   "execution_count": null,
   "metadata": {
    "collapsed": true
   },
   "outputs": [],
   "source": []
  },
  {
   "cell_type": "code",
   "execution_count": null,
   "metadata": {
    "collapsed": true
   },
   "outputs": [],
   "source": []
  },
  {
   "cell_type": "code",
   "execution_count": null,
   "metadata": {
    "collapsed": true
   },
   "outputs": [],
   "source": []
  },
  {
   "cell_type": "code",
   "execution_count": null,
   "metadata": {
    "collapsed": true
   },
   "outputs": [],
   "source": []
  },
  {
   "cell_type": "code",
   "execution_count": null,
   "metadata": {
    "collapsed": true
   },
   "outputs": [],
   "source": []
  },
  {
   "cell_type": "code",
   "execution_count": null,
   "metadata": {
    "collapsed": true
   },
   "outputs": [],
   "source": []
  }
 ],
 "metadata": {
  "anaconda-cloud": {},
  "kernelspec": {
   "display_name": "Python [default]",
   "language": "python",
   "name": "python3"
  },
  "language_info": {
   "codemirror_mode": {
    "name": "ipython",
    "version": 3
   },
   "file_extension": ".py",
   "mimetype": "text/x-python",
   "name": "python",
   "nbconvert_exporter": "python",
   "pygments_lexer": "ipython3",
   "version": "3.5.2"
  }
 },
 "nbformat": 4,
 "nbformat_minor": 2
}
