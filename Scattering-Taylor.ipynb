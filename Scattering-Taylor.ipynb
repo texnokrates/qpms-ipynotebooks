{
 "cells": [
  {
   "cell_type": "code",
   "execution_count": 1,
   "metadata": {
    "collapsed": true
   },
   "outputs": [],
   "source": [
    "from qpms import *"
   ]
  },
  {
   "cell_type": "code",
   "execution_count": 2,
   "metadata": {
    "collapsed": false,
    "scrolled": false
   },
   "outputs": [
    {
     "data": {
      "text/plain": [
       "[<matplotlib.lines.Line2D at 0x7fe680faa160>]"
      ]
     },
     "execution_count": 2,
     "metadata": {},
     "output_type": "execute_result"
    },
    {
     "data": {
      "image/png": "[encoded data removed]",
      "text/plain": [
       "<matplotlib.figure.Figure at 0x7fe68688a7f0>"
      ]
     },
     "metadata": {},
     "output_type": "display_data"
    }
   ],
   "source": [
    "#Single atom near a nanoparticle, as in PRL 112, 253601. We want to reproduce part of figure 4.\n",
    "\n",
    "#The ordering of R, r_n arguments in eq. (4) has to be checked\n",
    "\n",
    "%matplotlib inline\n",
    "import matplotlib.pyplot as plt\n",
    "\n",
    "a = 7e-9 #7e-9\n",
    "r1 = np.array([8e-9,0,0]) # atom position 8e-9\n",
    "ω_p = 9*eV/ℏ #9*eV/ℏ\n",
    "#print(ω_p)\n",
    "ε_inf = 4.6\n",
    "γ_p = 0.1*eV/ℏ\n",
    "ε_b = 2.13\n",
    "γ_QE = 0.015*eV/ℏ # Original Delga: 15 meV. Makes the peak too sharp.\n",
    "μ = np.array([0.19e-9*e,0,0])\n",
    "\n",
    "R = np.array([0,1e-8,2e-9]) # detector position\n",
    "#R = np.array([0,15e-8,0])\n",
    "ω_0 = 3.30*eV/ℏ\n",
    "Ω = ω_0+1j*γ_QE\n",
    "startω = 2.7*eV/ℏ\n",
    "stopω = 6.0*eV/ℏ\n",
    "nmax=10\n",
    "\n",
    "ωlist = np.linspace(startω, stopω, 300)\n",
    "Slist = np.empty(shape=ωlist.shape,dtype=float)\n",
    "for i in range(ωlist.shape[0]):\n",
    "    ω = ωlist[i]\n",
    "    ε_m = ε_drude(ε_inf, ω_p, γ_p, ω)\n",
    "    k = ω/c\n",
    "    k_out = math.sqrt(ε_b)*k\n",
    "    k_in = cmath.sqrt(ε_m)*k\n",
    "    #print (\"ε_m\",ε_m)\n",
    "    K     = G_Mie_scat_cart(source_cart=r1, dest_cart=R,  a=a, nmax=nmax, k_i=k_in, k_e=k_out)\n",
    "    Kself = G_Mie_scat_cart(source_cart=r1, dest_cart=r1, a=a, nmax=nmax, k_i=k_in, k_e=k_out)\n",
    "    #pref = np.linalg.norm((ω*ω/(c*c*ε_0))*np.dot(G, μ))**2\n",
    "    #postf = 1/abs(ω-Ω)**2+1/abs(ω+Ω)**2\n",
    "    num = np.linalg.norm((ω*ω/(c*c*ε_0))*np.dot(K,μ))**2\n",
    "    den = abs(ω*ω-2j*ω*Ω.imag - abs(Ω)**2 \n",
    "           +2*(ω*ω/(c*c*ε_0*ℏ)) * Ω.real*np.dot(μ,np.dot(Kself,μ)))**2\n",
    "    Slist[i] = num*den*2*(ω*ω+abs(Ω)**2)\n",
    "plt.plot(ωlist*ℏ/eV,Slist)\n"
   ]
  },
  {
   "cell_type": "code",
   "execution_count": 3,
   "metadata": {
    "collapsed": false
   },
   "outputs": [],
   "source": [
    "\n",
    "nmax=20\n",
    "a = 7e-9 #7e-9\n",
    "r1 = np.array([8e-9,0,0]) # atom position 8e-9\n",
    "ω_p = 9*eV/ℏ #9*eV/ℏ\n",
    "#print(ω_p)\n",
    "ε_inf = 4.6\n",
    "γ_p = 0.1*eV/ℏ\n",
    "ε_b = 2.13\n",
    "γ_QE = 0.015*eV/ℏ # Original Delga: 15 meV. Makes the peak too sharp.\n",
    "μ = np.array([0.19e-9*e,0,0])\n",
    "\n",
    "R = np.array([0,1e-6,0]) # detector position\n",
    "startω = 2.7*eV/ℏ\n",
    "stopω = 3.7*eV/ℏ\n",
    "ωlist = np.linspace(startω, stopω, 100)\n",
    "ω_0list = np.linspace(startω*1.05, stopω*0.95, 90)\n",
    "Slist = np.empty(shape=(ωlist.shape[0],ω_0list.shape[0]),dtype=float)\n",
    "Klist = np.empty(shape=(ωlist.shape[0],ω_0list.shape[0],3,3),dtype=np.complex_)\n",
    "Kselflist = np.empty(shape=(ωlist.shape[0],ω_0list.shape[0],3,3),dtype=np.complex_)\n",
    "for i in range(ω_0list.shape[0]):\n",
    "    ω_0 = ω_0list[i]\n",
    "    Ω = ω_0+1j*γ_QE\n",
    "    for j in range(ωlist.shape[0]):\n",
    "        ω = ωlist[j]\n",
    "        ε_m = ε_drude(ε_inf, ω_p, γ_p, ω)\n",
    "        k = ω/c\n",
    "        k_out = math.sqrt(ε_b)*k\n",
    "        k_in = cmath.sqrt(ε_m)*k\n",
    "        #print (\"ε_m\",ε_m)\n",
    "        K     = G_Mie_scat_cart(source_cart=r1, dest_cart=R,  a=a, nmax=nmax, k_i=k_in, k_e=k_out)+G0_dip_1(R-r1,k_out)\n",
    "        Klist[j,i]=K\n",
    "        Kself = G_Mie_scat_cart(source_cart=r1, dest_cart=r1, a=a, nmax=nmax, k_i=k_in, k_e=k_out)\n",
    "        Kselflist[j,i]=Kself\n",
    "        num = np.linalg.norm((ω*ω/(c*c*ε_0))*np.dot(K,μ))**2\n",
    "        den = abs(ω*ω-2j*ω*Ω.imag - abs(Ω)**2 \n",
    "           +2*(ω*ω/(c*c*ε_0*ℏ)) * Ω.real*np.dot(μ,np.dot(Kself,μ)))**2\n",
    "        Slist[j,i] = num/den*2*(ω*ω+abs(Ω)**2)\n",
    "        #Slist[k,i] = pref*postf"
   ]
  },
  {
   "cell_type": "code",
   "execution_count": 6,
   "metadata": {
    "collapsed": false
   },
   "outputs": [
    {
     "data": {
      "text/plain": [
       "<matplotlib.text.Text at 0x7fe680b1d518>"
      ]
     },
     "execution_count": 6,
     "metadata": {},
     "output_type": "execute_result"
    },
    {
     "data": {
      "image/png": "[encoded data removed]",
      "text/plain": [
       "<matplotlib.figure.Figure at 0x7fe680faada0>"
      ]
     },
     "metadata": {},
     "output_type": "display_data"
    }
   ],
   "source": [
    "%matplotlib inline\n",
    "import matplotlib.pyplot as plt\n",
    "import matplotlib.cm as cm\n",
    "plt.imshow(Klist[:,:,2,2].real, extent=(ω_0list.min()*ℏ/eV, ω_0list.max()*ℏ/eV, ωlist.min()*ℏ/eV, ωlist.max()*ℏ/eV),\n",
    "           interpolation='nearest', #norm=LogNorm(), \n",
    "           origin='lower', cmap=cm.jet)\n",
    "plt.colorbar()\n",
    "plt.xlabel('$\\omega_0/\\mathrm{eV}$')\n",
    "plt.ylabel('$\\omega/\\mathrm{eV}$')  "
   ]
  },
  {
   "cell_type": "code",
   "execution_count": 7,
   "metadata": {
    "collapsed": false
   },
   "outputs": [
    {
     "data": {
      "text/plain": [
       "<matplotlib.text.Text at 0x7fe6801f86a0>"
      ]
     },
     "execution_count": 7,
     "metadata": {},
     "output_type": "execute_result"
    },
    {
     "data": {
      "image/png": "[encoded data removed]",
      "text/plain": [
       "<matplotlib.figure.Figure at 0x7fe680b08940>"
      ]
     },
     "metadata": {},
     "output_type": "display_data"
    }
   ],
   "source": [
    "%matplotlib inline\n",
    "plt.imshow(Kselflist[:,:,0,0].real, extent=(ω_0list.min()*ℏ/eV, ω_0list.max()*ℏ/eV, ωlist.min()*ℏ/eV, ωlist.max()*ℏ/eV),\n",
    "           interpolation='nearest', #norm=LogNorm(), \n",
    "           origin='lower', cmap=cm.jet)\n",
    "plt.colorbar()\n",
    "plt.xlabel('$\\omega_0/\\mathrm{eV}$')\n",
    "plt.ylabel('$\\omega/\\mathrm{eV}$')  "
   ]
  },
  {
   "cell_type": "code",
   "execution_count": 8,
   "metadata": {
    "collapsed": false
   },
   "outputs": [
    {
     "data": {
      "text/plain": [
       "<matplotlib.text.Text at 0x7fe6808ec7b8>"
      ]
     },
     "execution_count": 8,
     "metadata": {},
     "output_type": "execute_result"
    },
    {
     "data": {
      "image/png": "[encoded data removed]",
      "text/plain": [
       "<matplotlib.figure.Figure at 0x7fe680b86898>"
      ]
     },
     "metadata": {},
     "output_type": "display_data"
    }
   ],
   "source": [
    "import matplotlib.pyplot as plt\n",
    "import matplotlib.cm as cm\n",
    "from matplotlib.colors import LogNorm\n",
    "%matplotlib inline\n",
    "plt.imshow(Slist, extent=(ω_0list.min()*ℏ/eV, ω_0list.max()*ℏ/eV, ωlist.min()*ℏ/eV, ωlist.max()*ℏ/eV),\n",
    "           interpolation='nearest', norm=LogNorm(), origin='lower', cmap=cm.jet)\n",
    "plt.colorbar()\n",
    "plt.xlabel('$\\omega_0/\\mathrm{eV}$')\n",
    "plt.ylabel('$\\omega/\\mathrm{eV}$')\n",
    "#plt.imshow(Slist, extent=(ω_0list.min()*ℏ/eV, ω_0list.max()*ℏ/eV, ωlist.min()*ℏ/eV, ωlist.max()*ℏ/eV),\n",
    "#           interpolation='nearest', norm=LogNorm(''), \n",
    "#           origin='lower', cmap=cm.jet)\n",
    "#plt.colorbar()\n",
    "#plt.xlabel('$\\omega_0/\\mathrm{eV}$')\n",
    "#plt.ylabel('$\\omega/\\mathrm{eV}$')  "
   ]
  },
  {
   "cell_type": "code",
   "execution_count": null,
   "metadata": {
    "collapsed": true
   },
   "outputs": [],
   "source": [
    "# From PRL 112, 253601 (1)\n",
    "def Grr_Delga(nmax, a, r, k, ε_m, ε_b):\n",
    "    om = k * c\n",
    "    z = (r-a)/a\n",
    "    g0 = om*cmath.sqrt(ε_b)/(6*c*π)\n",
    "    n = np.arange(1,nmax+1)\n",
    "    s = np.sum( (n+1)**2 * (ε_m-ε_b) / ((1+z)**(2*n+4) * (ε_m + ((n+1)/n)*ε_b)))\n",
    "    return (g0 + s * c**2/(4*π*om**2*ε_b*a**3))\n",
    "\n",
    "\n",
    "nmax=20\n",
    "a = 7e-9 #7e-9\n",
    "r1 = np.array([8e-9,0,0]) # atom position 8e-9\n",
    "ω_p = 9*eV/ℏ #9*eV/ℏ\n",
    "#print(ω_p)\n",
    "ε_inf = 4.6\n",
    "γ_p = 0.1*eV/ℏ\n",
    "ε_b = 2.13\n",
    "γ_QE = 0.015*eV/ℏ # Original Delga: 15 meV. Makes the peak too sharp.\n",
    "μ = np.array([0.19e-9*e,0,0])\n",
    "\n",
    "R = np.array([0,1e-6,0]) # detector position\n",
    "startω = 2.7*eV/ℏ\n",
    "stopω = 3.7*eV/ℏ\n",
    "ωlist = np.linspace(startω, stopω, 100)\n",
    "ω_0list = np.linspace(startω*1.05, stopω*0.95, 90)\n",
    "Slist = np.empty(shape=(ωlist.shape[0],ω_0list.shape[0]),dtype=float)\n",
    "Klist = np.empty(shape=(ωlist.shape[0],ω_0list.shape[0]),dtype=float)\n",
    "Kselflist = np.empty(shape=(ωlist.shape[0],ω_0list.shape[0]),dtype=float)\n",
    "for i in range(ω_0list.shape[0]):\n",
    "    ω_0 = ω_0list[i]\n",
    "    Ω = ω_0+1j*γ_QE\n",
    "    for j in range(ωlist.shape[0]):\n",
    "        ω = ωlist[j]\n",
    "        ε_m = ε_drude(ε_inf, ω_p, γ_p, ω)\n",
    "        k = ω/c\n",
    "        k_out = math.sqrt(ε_b)*k\n",
    "        k_in = cmath.sqrt(ε_m)*k\n",
    "        #print (\"ε_m\",ε_m)\n",
    "        K     = G_Mie_scat_cart(source_cart=r1, dest_cart=R,  a=a, nmax=nmax, k_i=k_in, k_e=k_out)\n",
    "        Kself = G_Mie_scat_cart(source_cart=r1, dest_cart=r1, a=a, nmax=nmax, k_i=k_in, k_e=k_out)\n",
    "        num = np.linalg.norm((ω*ω/(c*c*ε_0))*np.dot(K,μ))**2\n",
    "        den = abs(ω*ω-2j*ω*Ω.imag - abs(Ω)**2 \n",
    "           +2*(ω*ω/(c*c*ε_0*ℏ)) * Ω.real*np.dot(μ,np.dot(Kself,μ)))**2\n",
    "        Slist[j,i] = num/den*2*(ω*ω+abs(Ω)**2)\n",
    "        #Slist[k,i] = pref*postf\n",
    "        "
   ]
  },
  {
   "cell_type": "code",
   "execution_count": 51,
   "metadata": {
    "collapsed": false,
    "scrolled": true
   },
   "outputs": [],
   "source": [
    "# Draw scattering Green's function\n",
    "%matplotlib inline\n",
    "import matplotlib.pyplot as plt\n",
    "\n",
    "a = 7e-9 #7e-9\n",
    "r1 = np.array([8e-9,0,0]) # atom position 8e-9\n",
    "ω_p = 9*eV/ℏ #9*eV/ℏ\n",
    "#print(ω_p)\n",
    "ε_inf = 4.6\n",
    "γ_p = 0.1*eV/ℏ\n",
    "ε_b = 2.13\n",
    "γ_QE = 0.015*eV/ℏ # Original Delga: 15 meV. Makes the peak too sharp.\n",
    "μ = np.array([0.19e-9*e,0,0])\n",
    "\n",
    "R = np.array([0,1e-8,2e-9]) # detector position\n",
    "#R = np.array([0,15e-8,0])\n",
    "ω_0 = 3.30*eV/ℏ\n",
    "Ω = ω_0+1j*γ_QE\n",
    "startω = 2.7*eV/ℏ\n",
    "stopω = 6.0*eV/ℏ\n",
    "nmax=10\n",
    "\n",
    "ωlist = np.linspace(startω, stopω, 300)\n",
    "Glist = np.empty(shape=ωlist.shape+(3,3),dtype=np.complex_)\n",
    "Gselflist =  np.empty(shape=ωlist.shape+(3,3),dtype=np.complex_)\n",
    "for i in range(ωlist.shape[0]):\n",
    "    ω = ωlist[i]\n",
    "    ε_m = ε_drude(ε_inf, ω_p, γ_p, ω)\n",
    "    k = ω/c\n",
    "    k_out = math.sqrt(ε_b)*k\n",
    "    k_in = cmath.sqrt(ε_m)*k\n",
    "    #print (\"ε_m\",ε_m)\n",
    "    Glist[i] = G_Mie_scat_cart(source_cart=r1, dest_cart=R,  a=a, nmax=nmax, k_i=k_in, k_e=k_out)\n",
    "    Gselflist[i] = G_Mie_scat_cart(source_cart=r1, dest_cart=r1, a=a, nmax=nmax, k_i=k_in, k_e=k_out)"
   ]
  },
  {
   "cell_type": "code",
   "execution_count": 95,
   "metadata": {
    "collapsed": false
   },
   "outputs": [
    {
     "name": "stderr",
     "output_type": "stream",
     "text": [
      "/home/necadam1/.local/lib/python3.4/site-packages/numpy-1.12.0.dev0+c303c9b-py3.4-linux-x86_64.egg/numpy/core/numeric.py:482: ComplexWarning: Casting complex values to real discards the imaginary part\n",
      "  return array(a, dtype, copy=False, order=order)\n"
     ]
    },
    {
     "data": {
      "text/plain": [
       "[<matplotlib.lines.Line2D at 0x7fa749288780>]"
      ]
     },
     "execution_count": 95,
     "metadata": {},
     "output_type": "execute_result"
    },
    {
     "data": {
      "image/png": "[encoded data removed]",
      "text/plain": [
       "<matplotlib.figure.Figure at 0x7fa74939f390>"
      ]
     },
     "metadata": {},
     "output_type": "display_data"
    }
   ],
   "source": [
    "# My own gf\n",
    "plt.plot(ωlist*ℏ/eV, Glist[:,0,0])"
   ]
  },
  {
   "cell_type": "code",
   "execution_count": 96,
   "metadata": {
    "collapsed": false
   },
   "outputs": [
    {
     "name": "stderr",
     "output_type": "stream",
     "text": [
      "/home/necadam1/.local/lib/python3.4/site-packages/numpy-1.12.0.dev0+c303c9b-py3.4-linux-x86_64.egg/numpy/core/numeric.py:482: ComplexWarning: Casting complex values to real discards the imaginary part\n",
      "  return array(a, dtype, copy=False, order=order)\n"
     ]
    },
    {
     "data": {
      "text/plain": [
       "[<matplotlib.lines.Line2D at 0x7fa7492720b8>]"
      ]
     },
     "execution_count": 96,
     "metadata": {},
     "output_type": "execute_result"
    },
    {
     "data": {
      "image/png": "[encoded data removed]",
      "text/plain": [
       "<matplotlib.figure.Figure at 0x7fa7492a7b00>"
      ]
     },
     "metadata": {},
     "output_type": "display_data"
    }
   ],
   "source": [
    "plt.plot(ωlist*ℏ/eV, Gselflist[:,0,0])"
   ]
  },
  {
   "cell_type": "code",
   "execution_count": 110,
   "metadata": {
    "collapsed": true
   },
   "outputs": [],
   "source": [
    "#gf from van Vlack\n",
    "# Draw scattering Green's function\n",
    "%matplotlib inline\n",
    "import matplotlib.pyplot as plt\n",
    "\n",
    "a = 7e-9 #7e-9\n",
    "r1 = np.array([8e-9,0,0]) # atom position 8e-9\n",
    "ω_p = 9*eV/ℏ #9*eV/ℏ\n",
    "#print(ω_p)\n",
    "ε_inf = 4.6\n",
    "γ_p = 0.1*eV/ℏ\n",
    "ε_b = 2.13\n",
    "γ_QE = 0.015*eV/ℏ # Original Delga: 15 meV. Makes the peak too sharp.\n",
    "μ = np.array([0.19e-9*e,0,0])\n",
    "\n",
    "R = np.array([0,1e-8,2e-9]) # detector position\n",
    "#R = np.array([0,15e-8,0])\n",
    "ω_0 = 3.30*eV/ℏ\n",
    "Ω = ω_0+1j*γ_QE\n",
    "startω = 2.7*eV/ℏ\n",
    "stopω = 6.0*eV/ℏ\n",
    "nmax=10\n",
    "\n",
    "ωlist = np.linspace(startω, stopω, 300)\n",
    "Glist = np.empty(shape=ωlist.shape+(3,3),dtype=np.complex_)\n",
    "Gselflist =  np.empty(shape=ωlist.shape+(3,3),dtype=np.complex_)\n",
    "for i in range(ωlist.shape[0]):\n",
    "    ω = ωlist[i]\n",
    "    ε_m = ε_drude(ε_inf, ω_p, γ_p, ω)\n",
    "    k = ω/c\n",
    "    k_out = math.sqrt(ε_b)*k\n",
    "    k_in = cmath.sqrt(ε_m)*k\n",
    "    #print (\"ε_m\",ε_m)\n",
    "    Glist[i] = G_Mie_scat_cart(source_cart=r1, dest_cart=R,  a=a, nmax=nmax, k_i=k_in, k_e=k_out)\n",
    "    Gselflist[i] = G_Mie_scat_cart(source_cart=r1, dest_cart=r1, a=a, nmax=nmax, k_i=k_in, k_e=k_out)"
   ]
  },
  {
   "cell_type": "code",
   "execution_count": 111,
   "metadata": {
    "collapsed": false
   },
   "outputs": [
    {
     "name": "stderr",
     "output_type": "stream",
     "text": [
      "/home/necadam1/.local/lib/python3.4/site-packages/numpy-1.12.0.dev0+c303c9b-py3.4-linux-x86_64.egg/numpy/core/numeric.py:482: ComplexWarning: Casting complex values to real discards the imaginary part\n",
      "  return array(a, dtype, copy=False, order=order)\n"
     ]
    },
    {
     "data": {
      "text/plain": [
       "[<matplotlib.lines.Line2D at 0x7fa74905b400>]"
      ]
     },
     "execution_count": 111,
     "metadata": {},
     "output_type": "execute_result"
    },
    {
     "data": {
      "image/png": "[encoded data removed]",
      "text/plain": [
       "<matplotlib.figure.Figure at 0x7fa748b986a0>"
      ]
     },
     "metadata": {},
     "output_type": "display_data"
    }
   ],
   "source": [
    "plt.plot(ωlist*ℏ/eV, Glist[:,0,0])"
   ]
  },
  {
   "cell_type": "code",
   "execution_count": 112,
   "metadata": {
    "collapsed": false
   },
   "outputs": [
    {
     "name": "stderr",
     "output_type": "stream",
     "text": [
      "/home/necadam1/.local/lib/python3.4/site-packages/numpy-1.12.0.dev0+c303c9b-py3.4-linux-x86_64.egg/numpy/core/numeric.py:482: ComplexWarning: Casting complex values to real discards the imaginary part\n",
      "  return array(a, dtype, copy=False, order=order)\n"
     ]
    },
    {
     "data": {
      "text/plain": [
       "[<matplotlib.lines.Line2D at 0x7fa7499dcac8>]"
      ]
     },
     "execution_count": 112,
     "metadata": {},
     "output_type": "execute_result"
    },
    {
     "data": {
      "image/png": "[encoded data removed]",
      "text/plain": [
       "<matplotlib.figure.Figure at 0x7fa748c040b8>"
      ]
     },
     "metadata": {},
     "output_type": "display_data"
    }
   ],
   "source": [
    "plt.plot(ωlist*ℏ/eV, Gselflist[:,0,0])"
   ]
  },
  {
   "cell_type": "code",
   "execution_count": 12,
   "metadata": {
    "collapsed": false
   },
   "outputs": [
    {
     "name": "stderr",
     "output_type": "stream",
     "text": [
      "/home/necadam1/.local/lib/python3.4/site-packages/ipykernel/__main__.py:91: ComplexWarning: Casting complex values to real discards the imaginary part\n"
     ]
    }
   ],
   "source": [
    "# Multiple scattering\n",
    "nmax=20\n",
    "a = 7e-9 #7e-9\n",
    "r1 = np.array([[8e-9,0,0],[8e-9,0,1e-9],[8e-9,1e-9,1e-9],[8e-9,-1e-9,1e-9],[8e-9,1e-9,-1e-9],[8e-9,-1e-9,-1e-9]] ) # atom position 8e-9\n",
    "ω_p = 9*eV/ℏ #9*eV/ℏ\n",
    "#print(ω_p)\n",
    "ε_inf = 4.6\n",
    "γ_p = 0.1*eV/ℏ\n",
    "ε_b = 2.13\n",
    "γ_QE = 0.015*eV/ℏ # Original Delga: 15 meV. Makes the peak too sharp.\n",
    "μ = np.array([[0.19e-9*e,0,0],[0.19e-9*e,0,0],[0.19e-9*e,0,0],[0.19e-9*e,0,0],[0.19e-9*e,0,0],[0.19e-9*e,0,0],[0.19e-9*e,0,0],[0.19e-9*e,0,0],[0.19e-9*e,0,0],[0.19e-9*e,0,0],[0.19e-9*e,0,0],[0.19e-9*e,0,0],[0.19e-9*e,0,0],[0.19e-9*e,0,0],[0.19e-9*e,0,0],[0.19e-9*e,0,0],])\n",
    "\n",
    "npart = r1.shape[0]\n",
    "\n",
    "R = np.array([0,1e-6,0]) # detector position\n",
    "startω = 2.7*eV/ℏ\n",
    "stopω = 3.7*eV/ℏ\n",
    "ωlist = np.linspace(startω, stopω, 100)\n",
    "ω_0list = np.linspace(startω*1.05, stopω*0.95, 90)\n",
    "Slist = np.empty(shape=(ωlist.shape[0],ω_0list.shape[0]),dtype=float)\n",
    "Klist = np.empty(shape=(ωlist.shape[0],ω_0list.shape[0],3,3),dtype=np.complex_)\n",
    "Kselflist = np.empty(shape=(ωlist.shape[0],ω_0list.shape[0],3,3),dtype=np.complex_)\n",
    "mKmlist = np.empty(shape=(ωlist.shape[0],ω_0list.shape[0],npart,npart,), dtype=np.complex_)\n",
    "Km_destlist = np.empty(shape=(ωlist.shape[0],ω_0list.shape[0],npart,3), dtype=np.complex_)\n",
    "G_sourcelist = np.empty(shape=(ωlist.shape[0],ω_0list.shape[0],npart,3), dtype=np.complex_)\n",
    "Vlist = np.empty(shape=(ωlist.shape[0],ω_0list.shape[0]),dtype=np.complex_)\n",
    "for i in range(ω_0list.shape[0]):\n",
    "    ω_0 = ω_0list[i]\n",
    "    Ω = ω_0+1j*γ_QE\n",
    "    for j in range(ωlist.shape[0]):\n",
    "        ω = ωlist[j]\n",
    "        V = -(ω*ω/(c*c*ε_0*ℏ))*2*Ω.real/(ω*ω-2j*ω*Ω.imag - abs(Ω)**2)\n",
    "        Vlist[j,i]=V\n",
    "        \n",
    "        ε_m = ε_drude(ε_inf, ω_p, γ_p, ω)\n",
    "        k = ω/c\n",
    "        k_out = math.sqrt(ε_b)*k\n",
    "        k_in = cmath.sqrt(ε_m)*k\n",
    "        RH, RV, TH, TV = mie_coefficients(a, nmax, k_i=k_in, k_e=k_out, μ_i=1, μ_e=1, J_ext=1, J_scat=3)\n",
    "        #G_Mie_scat_precalc_cart_new(source_cart, dest_cart, RH, RV, a, nmax, k_i=k_in, k_e=k_out, μ_i=1, μ_e=1, J_ext=1, J_scat=3)\n",
    "        #print (\"ε_m\",ε_m)\n",
    "        mKm = np.empty((npart, npart),dtype=np.complex_) # source-dest order\n",
    "        Km_dest = np.empty((npart,3),dtype=np.complex_)\n",
    "        Tself = np.empty((npart,),dtype=np.complex_)\n",
    "        M = np.empty((npart, npart), dtype=np.complex_)\n",
    "        for n in range(npart): # n is source index\n",
    "            Km_dest[n] = np.dot(μ[n], G_Mie_scat_precalc_cart_new(r1[n], R, \n",
    "                                                 RH, RV, a, nmax, k_i=k_in, k_e=k_out, μ_i=1, μ_e=1, J_ext=1, J_scat=3) \n",
    "                                               + G0_dip_1(R-r1[n],k_out))\n",
    "            for m in range(npart): # m is dest index\n",
    "                if(m == n):\n",
    "                    #fixme pořadí indexů v greenových funkcích je „nepřirozené“\n",
    "                    mKm[n,m] = np.dot(μ[n], np.dot(G_Mie_scat_precalc_cart_new(r1[n], r1[m], \n",
    "                                                 RH, RV, a, nmax, k_i=k_in, k_e=k_out, μ_i=1, μ_e=1, J_ext=1, J_scat=3) \n",
    "                                               , μ[m])\n",
    "                                     )\n",
    "                else:\n",
    "                    #print(\"To ne!\")\n",
    "                    mKm[n,m] = np.dot(μ[n], np.dot(G_Mie_scat_precalc_cart_new(r1[n], r1[m], \n",
    "                                                RH, RV, a, nmax, k_i=k_in, k_e=k_out, μ_i=1, μ_e=1, J_ext=1, J_scat=3) \n",
    "                                               + G0_dip_1(r1[m]-r1[n],k_out)\n",
    "                                             , μ[m])\n",
    "                                     )\n",
    "            Tself[n] = V/(1-mKm[n,n]*V)\n",
    "            for m in range(npart):\n",
    "                if(m==n):\n",
    "                    M[n,m] = 1\n",
    "                else:\n",
    "                    #print(\"To ne!\")\n",
    "                    M[n,m] = -mKm[n,m]*Tself[n]\n",
    "        M_inv = np.linalg.inv(M)\n",
    "        # NB still source dest order. The dipole moments are already included \n",
    "        # in mKm, Km_dest, so no need to have them here:\n",
    "        T = Tself[ň,:]*M_inv[:,:] \n",
    "        # Delga supplement, eq.(23): Here we have no free radiation in the initial state.\n",
    "        # FIXME PROBLÉM TU???\n",
    "        G_source_n = Km_dest + np.dot(mKm,np.dot(T,Km_dest))\n",
    "        #print(G_source_n.shape)\n",
    "        #K     = G_Mie_scat_cart(source_cart=r1, dest_cart=R,  a=a, nmax=nmax, k_i=k_in, k_e=k_out)+G0_dip_1(R-r1,k_out)\n",
    "        #Klist[j,i]=K\n",
    "        mKmlist[j,i]=mKm\n",
    "        Km_destlist[j,i]=Km_dest\n",
    "        G_sourcelist[j,i]=G_source_n\n",
    "        #Kself = G_Mie_scat_cart(source_cart=r1, dest_cart=r1, a=a, nmax=nmax, k_i=k_in, k_e=k_out)\n",
    "        #Kselflist[j,i]=Kself\n",
    "        # Single QE contribution, eq. (29):\n",
    "        S_n0 = np.dot(((ω*ω/(c*c*ε_0))*np.linalg.norm(G_source_n, axis=-1))**2 , (\n",
    "            np.identity(npart)/abs(ω-Ω)**2 + 1/(ω+Ω)**2))\n",
    "        #den = abs(ω*ω-2j*ω*Ω.imag - abs(Ω)**2 \n",
    "        #   +2*(ω*ω/(c*c*ε_0*ℏ)) * Ω.real*np.dot(μ,np.dot(Kself,μ)))**2\n",
    "        Slist[j,i] = np.sum(S_n0)#num/den*2*(ω*ω+abs(Ω)**2)"
   ]
  },
  {
   "cell_type": "code",
   "execution_count": 13,
   "metadata": {
    "collapsed": false
   },
   "outputs": [
    {
     "data": {
      "text/plain": [
       "<matplotlib.text.Text at 0x7fdd944b0cc0>"
      ]
     },
     "execution_count": 13,
     "metadata": {},
     "output_type": "execute_result"
    },
    {
     "data": {
      "image/png": "[encoded data removed]",
      "text/plain": [
       "<matplotlib.figure.Figure at 0x7fdd522b5a90>"
      ]
     },
     "metadata": {},
     "output_type": "display_data"
    }
   ],
   "source": [
    "import matplotlib.pyplot as plt\n",
    "import matplotlib.cm as cm\n",
    "from matplotlib.colors import LogNorm\n",
    "%matplotlib inline\n",
    "plt.imshow(Slist, extent=(ω_0list.min()*ℏ/eV, ω_0list.max()*ℏ/eV, ωlist.min()*ℏ/eV, ωlist.max()*ℏ/eV),\n",
    "           interpolation='nearest', norm=LogNorm(), origin='lower', cmap=cm.jet)\n",
    "plt.colorbar()\n",
    "plt.xlabel('$\\omega_0/\\mathrm{eV}$')\n",
    "plt.ylabel('$\\omega/\\mathrm{eV}$')"
   ]
  },
  {
   "cell_type": "code",
   "execution_count": 19,
   "metadata": {
    "collapsed": false
   },
   "outputs": [
    {
     "name": "stdout",
     "output_type": "stream",
     "text": [
      "(16, 3) (100, 90)\n"
     ]
    },
    {
     "data": {
      "text/plain": [
       "<matplotlib.text.Text at 0x7fdd48a3c470>"
      ]
     },
     "execution_count": 19,
     "metadata": {},
     "output_type": "execute_result"
    },
    {
     "data": {
      "image/png": "[encoded data removed]",
      "text/plain": [
       "<matplotlib.figure.Figure at 0x7fdd48762ba8>"
      ]
     },
     "metadata": {},
     "output_type": "display_data"
    }
   ],
   "source": [
    "%matplotlib inline\n",
    "print (μ.shape, Vlist.shape)\n",
    "#print (np.tensordot(μ,np.tensordot(Km_destlist,μ, axes=([2,],[0,])),axes=([0,],[2,])).real.shape)\n",
    "plt.imshow(Vlist.real,\n",
    "           extent=(ω_0list.min()*ℏ/eV, ω_0list.max()*ℏ/eV, ωlist.min()*ℏ/eV, ωlist.max()*ℏ/eV),\n",
    "           interpolation='nearest', #norm=LogNorm(), \n",
    "           origin='lower', cmap=cm.jet)\n",
    "plt.colorbar()\n",
    "plt.xlabel('$\\omega_0/\\mathrm{eV}$')\n",
    "plt.ylabel('$\\omega/\\mathrm{eV}$')  "
   ]
  },
  {
   "cell_type": "code",
   "execution_count": 22,
   "metadata": {
    "collapsed": false
   },
   "outputs": [
    {
     "name": "stdout",
     "output_type": "stream",
     "text": [
      "(16, 3) (100, 90, 6, 3)\n"
     ]
    },
    {
     "data": {
      "text/plain": [
       "<matplotlib.text.Text at 0x7fdd48931978>"
      ]
     },
     "execution_count": 22,
     "metadata": {},
     "output_type": "execute_result"
    },
    {
     "data": {
      "image/png": "[encoded data removed]",
      "text/plain": [
       "<matplotlib.figure.Figure at 0x7fdd489201d0>"
      ]
     },
     "metadata": {},
     "output_type": "display_data"
    }
   ],
   "source": [
    "%matplotlib inline\n",
    "print (μ.shape, G_sourcelist.shape)\n",
    "#print (np.tensordot(μ,np.tensordot(Km_destlist,μ, axes=([2,],[0,])),axes=([0,],[2,])).real.shape)\n",
    "plt.imshow(np.linalg.norm(G_sourcelist[:,:,0,:],axis=2),\n",
    "           extent=(ω_0list.min()*ℏ/eV, ω_0list.max()*ℏ/eV, ωlist.min()*ℏ/eV, ωlist.max()*ℏ/eV),\n",
    "           interpolation='nearest', norm=LogNorm(), \n",
    "           origin='lower', cmap=cm.jet)\n",
    "plt.colorbar()\n",
    "plt.xlabel('$\\omega_0/\\mathrm{eV}$')\n",
    "plt.ylabel('$\\omega/\\mathrm{eV}$')  "
   ]
  },
  {
   "cell_type": "code",
   "execution_count": 21,
   "metadata": {
    "collapsed": false
   },
   "outputs": [
    {
     "name": "stdout",
     "output_type": "stream",
     "text": [
      "(16, 3) (100, 90, 6, 3)\n"
     ]
    },
    {
     "data": {
      "text/plain": [
       "<matplotlib.text.Text at 0x7fdd4888a160>"
      ]
     },
     "execution_count": 21,
     "metadata": {},
     "output_type": "execute_result"
    },
    {
     "data": {
      "image/png": "[encoded data removed]",
      "text/plain": [
       "<matplotlib.figure.Figure at 0x7fdd47872d68>"
      ]
     },
     "metadata": {},
     "output_type": "display_data"
    }
   ],
   "source": [
    "%matplotlib inline\n",
    "print (μ.shape, Km_destlist.shape)\n",
    "#print (np.tensordot(μ,np.tensordot(Km_destlist,μ, axes=([2,],[0,])),axes=([0,],[2,])).real.shape)\n",
    "plt.imshow(np.linalg.norm(Km_destlist[:,:,0,:],axis=2),\n",
    "           extent=(ω_0list.min()*ℏ/eV, ω_0list.max()*ℏ/eV, ωlist.min()*ℏ/eV, ωlist.max()*ℏ/eV),\n",
    "           interpolation='nearest', #norm=LogNorm(), \n",
    "           origin='lower', cmap=cm.jet)\n",
    "plt.colorbar()\n",
    "plt.xlabel('$\\omega_0/\\mathrm{eV}$')\n",
    "plt.ylabel('$\\omega/\\mathrm{eV}$')  "
   ]
  },
  {
   "cell_type": "code",
   "execution_count": 17,
   "metadata": {
    "collapsed": false
   },
   "outputs": [
    {
     "data": {
      "text/plain": [
       "<matplotlib.text.Text at 0x7fdd476e70f0>"
      ]
     },
     "execution_count": 17,
     "metadata": {},
     "output_type": "execute_result"
    },
    {
     "data": {
      "image/png": "[encoded data removed]",
      "text/plain": [
       "<matplotlib.figure.Figure at 0x7fdd48bf9da0>"
      ]
     },
     "metadata": {},
     "output_type": "display_data"
    }
   ],
   "source": [
    "%matplotlib inline\n",
    "plt.imshow(abs(mKmlist[:,:,0,0]), extent=(ω_0list.min()*ℏ/eV, ω_0list.max()*ℏ/eV, ωlist.min()*ℏ/eV, ωlist.max()*ℏ/eV),\n",
    "           interpolation='nearest', norm=LogNorm(), \n",
    "           origin='lower', cmap=cm.jet)\n",
    "plt.colorbar()\n",
    "plt.xlabel('$\\omega_0/\\mathrm{eV}$')\n",
    "plt.ylabel('$\\omega/\\mathrm{eV}$')"
   ]
  },
  {
   "cell_type": "code",
   "execution_count": 18,
   "metadata": {
    "collapsed": false
   },
   "outputs": [
    {
     "data": {
      "text/plain": [
       "(-1e-45, 1e-45)"
      ]
     },
     "execution_count": 18,
     "metadata": {},
     "output_type": "execute_result"
    },
    {
     "data": {
      "image/png": "[encoded data removed]",
      "text/plain": [
       "<matplotlib.figure.Figure at 0x7fdd48ac7828>"
      ]
     },
     "metadata": {},
     "output_type": "display_data"
    }
   ],
   "source": [
    "plt.plot(ωlist*ℏ/eV,(mKmlist[:,:,0,0]).imag[:,0])\n",
    "plt.xlim(2.75,3.7)\n",
    "plt.ylim(-1e-45,1e-45)"
   ]
  },
  {
   "cell_type": "code",
   "execution_count": 229,
   "metadata": {
    "collapsed": false
   },
   "outputs": [],
   "source": [
    "\n",
    "nmax=20\n",
    "a = 7e-9 #7e-9\n",
    "r1 = np.array([8e-9,0,0]) # atom position 8e-9\n",
    "ω_p = 9*eV/ℏ #9*eV/ℏ\n",
    "#print(ω_p)\n",
    "ε_inf = 4.6\n",
    "γ_p = 0.1*eV/ℏ\n",
    "ε_b = 2.13\n",
    "γ_QE = 0.015*eV/ℏ # Original Delga: 15 meV. Makes the peak too sharp.\n",
    "μ = np.array([0.19e-9*e,0,0])\n",
    "\n",
    "R = np.array([0,1e-6,0]) # detector position\n",
    "startω = 2.7*eV/ℏ\n",
    "stopω = 3.7*eV/ℏ\n",
    "ωlist = np.linspace(startω, stopω, 100)\n",
    "ω_0list = np.linspace(startω*1.05, stopω*0.95, 90)\n",
    "Slist = np.empty(shape=(ωlist.shape[0],ω_0list.shape[0]),dtype=float)\n",
    "Vlist2 = np.empty(shape=(ωlist.shape[0],ω_0list.shape[0]),dtype=np.complex_)\n",
    "Klist = np.empty(shape=(ωlist.shape[0],ω_0list.shape[0],3,3),dtype=np.complex_)\n",
    "Kselflist = np.empty(shape=(ωlist.shape[0],ω_0list.shape[0],3,3),dtype=np.complex_)\n",
    "glist = np.empty(shape=(ωlist.shape[0],ω_0list.shape[0],3,3),dtype=np.complex_)\n",
    "for i in range(ω_0list.shape[0]):\n",
    "    ω_0 = ω_0list[i]\n",
    "    Ω = ω_0+1j*γ_QE\n",
    "    for j in range(ωlist.shape[0]):\n",
    "        RH, RV, TH, TV = mie_coefficients(a, nmax, k_i=k_in, k_e=k_out, μ_i=1, μ_e=1, J_ext=1, J_scat=3)\n",
    "      \n",
    "        ω = ωlist[j]\n",
    "        V = -(ω*ω/(c*c*ε_0*ℏ))*2*Ω.real/(ω*ω-2j*ω*Ω.imag - abs(Ω)**2)\n",
    "        Vlist2[j,i]=V\n",
    "        ε_m = ε_drude(ε_inf, ω_p, γ_p, ω)\n",
    "        k = ω/c\n",
    "        k_out = math.sqrt(ε_b)*k\n",
    "        k_in = cmath.sqrt(ε_m)*k\n",
    "        # FIXME WTF why do I get different results from the two variants (the strip on the bottom of the picture)?\n",
    "        #print (\"ε_m\",ε_m)\n",
    "        #K     =  G_Mie_scat_cart(source_cart=r1, dest_cart=R,  a=a, nmax=nmax, k_i=k_in, k_e=k_out)+G0_dip_1(R-r1,k_out)\n",
    "        K =        G_Mie_scat_precalc_cart_new(r1, R, \n",
    "                                                 RH, RV, a, nmax, k_i=k_in, k_e=k_out, μ_i=1, μ_e=1, J_ext=1, J_scat=3) +G0_dip_1(R-r1,k_out)\n",
    "\n",
    "        Klist[j,i]=K\n",
    "        #Kself = G_Mie_scat_cart(source_cart=r1, dest_cart=r1, a=a, nmax=nmax, k_i=k_in, k_e=k_out)\n",
    "        Kself = G_Mie_scat_precalc_cart_new(r1, r1, \n",
    "                                                 RH, RV, a, nmax, k_i=k_in, k_e=k_out, μ_i=1, μ_e=1, J_ext=1, J_scat=3) \n",
    "\n",
    "        Kselflist[j,i]=Kself\n",
    "\n",
    "        g = K/(1-np.dot(μ,np.dot(Kself,μ))*V)\n",
    "        glist[j,i]=g\n",
    "        Slist[j,i] = np.linalg.norm(ω*ω/(c*c*ε_0)*np.dot(g,μ))**2*(1/abs(ω-Ω)**2 + 1/abs(ω+Ω)**2)\n",
    "        #num = np.linalg.norm((ω*ω/(c*c*ε_0))*np.dot(K,μ))**2\n",
    "        #den = abs(ω*ω-2j*ω*Ω.imag - abs(Ω)**2 \n",
    "        #   +2*(ω*ω/(c*c*ε_0*ℏ)) * Ω.real*np.dot(μ,np.dot(Kself,μ)))**2\n",
    "        #Slist[j,i] = num/den*2*(ω*ω+abs(Ω)**2)\n",
    "        #Slist[k,i] = pref*postf"
   ]
  },
  {
   "cell_type": "code",
   "execution_count": 230,
   "metadata": {
    "collapsed": false
   },
   "outputs": [
    {
     "data": {
      "text/plain": [
       "<matplotlib.text.Text at 0x7fba43494d68>"
      ]
     },
     "execution_count": 230,
     "metadata": {},
     "output_type": "execute_result"
    },
    {
     "data": {
      "image/png": "[encoded data removed]",
      "text/plain": [
       "<matplotlib.figure.Figure at 0x7fba428d7048>"
      ]
     },
     "metadata": {},
     "output_type": "display_data"
    }
   ],
   "source": [
    "import matplotlib.pyplot as plt\n",
    "import matplotlib.cm as cm\n",
    "from matplotlib.colors import LogNorm\n",
    "%matplotlib inline\n",
    "plt.imshow(Slist, extent=(ω_0list.min()*ℏ/eV, ω_0list.max()*ℏ/eV, ωlist.min()*ℏ/eV, ωlist.max()*ℏ/eV),\n",
    "           interpolation='nearest', norm=LogNorm(), origin='lower', cmap=cm.jet)\n",
    "plt.colorbar()\n",
    "plt.xlabel('$\\omega_0/\\mathrm{eV}$')\n",
    "plt.ylabel('$\\omega/\\mathrm{eV}$')"
   ]
  },
  {
   "cell_type": "code",
   "execution_count": 216,
   "metadata": {
    "collapsed": false
   },
   "outputs": [
    {
     "name": "stdout",
     "output_type": "stream",
     "text": [
      "(3,) (100, 90, 3, 3)\n"
     ]
    },
    {
     "data": {
      "text/plain": [
       "<matplotlib.text.Text at 0x7fba41cac278>"
      ]
     },
     "execution_count": 216,
     "metadata": {},
     "output_type": "execute_result"
    },
    {
     "data": {
      "image/png": "[encoded data removed]",
      "text/plain": [
       "<matplotlib.figure.Figure at 0x7fba453ee8d0>"
      ]
     },
     "metadata": {},
     "output_type": "display_data"
    }
   ],
   "source": [
    "%matplotlib inline\n",
    "print (μ.shape, glist.shape)\n",
    "#print (np.dot(μ,glist).shape)\n",
    "plt.imshow(np.linalg.norm(np.dot(μ,glist),axis=2),\n",
    "           extent=(ω_0list.min()*ℏ/eV, ω_0list.max()*ℏ/eV, ωlist.min()*ℏ/eV, ωlist.max()*ℏ/eV),\n",
    "           interpolation='nearest', #norm=LogNorm(), \n",
    "           origin='lower', cmap=cm.jet)\n",
    "plt.colorbar()\n",
    "plt.xlabel('$\\omega_0/\\mathrm{eV}$')\n",
    "plt.ylabel('$\\omega/\\mathrm{eV}$')  "
   ]
  },
  {
   "cell_type": "code",
   "execution_count": 196,
   "metadata": {
    "collapsed": false
   },
   "outputs": [
    {
     "name": "stdout",
     "output_type": "stream",
     "text": [
      "(3,) (100, 90, 3, 3)\n",
      "(100, 90, 3)\n"
     ]
    },
    {
     "data": {
      "text/plain": [
       "<matplotlib.text.Text at 0x7fba4391f940>"
      ]
     },
     "execution_count": 196,
     "metadata": {},
     "output_type": "execute_result"
    },
    {
     "data": {
      "image/png": "[encoded data removed]",
      "text/plain": [
       "<matplotlib.figure.Figure at 0x7fba49b53860>"
      ]
     },
     "metadata": {},
     "output_type": "display_data"
    }
   ],
   "source": [
    "%matplotlib inline\n",
    "print (μ.shape, Klist.shape)\n",
    "print (np.dot(μ,Klist).shape)\n",
    "plt.imshow(np.linalg.norm(np.dot(μ,Klist),axis=2),\n",
    "           extent=(ω_0list.min()*ℏ/eV, ω_0list.max()*ℏ/eV, ωlist.min()*ℏ/eV, ωlist.max()*ℏ/eV),\n",
    "           interpolation='nearest', #norm=LogNorm(), \n",
    "           origin='lower', cmap=cm.jet)\n",
    "plt.colorbar()\n",
    "plt.xlabel('$\\omega_0/\\mathrm{eV}$')\n",
    "plt.ylabel('$\\omega/\\mathrm{eV}$')  "
   ]
  },
  {
   "cell_type": "code",
   "execution_count": 197,
   "metadata": {
    "collapsed": false
   },
   "outputs": [
    {
     "name": "stdout",
     "output_type": "stream",
     "text": [
      "(3,) (100, 90, 3, 3)\n",
      "(100, 90)\n"
     ]
    },
    {
     "data": {
      "text/plain": [
       "<matplotlib.text.Text at 0x7fba452fce80>"
      ]
     },
     "execution_count": 197,
     "metadata": {},
     "output_type": "execute_result"
    },
    {
     "data": {
      "image/png": "[encoded data removed]",
      "text/plain": [
       "<matplotlib.figure.Figure at 0x7fba43d3c320>"
      ]
     },
     "metadata": {},
     "output_type": "display_data"
    }
   ],
   "source": [
    "%matplotlib inline\n",
    "print (μ.shape, Klist.shape)\n",
    "print (np.tensordot(μ,np.tensordot(Klist,μ, axes=([2,],[0,])),axes=([0,],[2,])).real.shape)\n",
    "plt.imshow(np.tensordot(μ,np.tensordot(Klist,μ, axes=([2,],[0,])),axes=([0,],[2,])).real,\n",
    "           extent=(ω_0list.min()*ℏ/eV, ω_0list.max()*ℏ/eV, ωlist.min()*ℏ/eV, ωlist.max()*ℏ/eV),\n",
    "           interpolation='nearest', #norm=LogNorm(), \n",
    "           origin='lower', cmap=cm.jet)\n",
    "plt.colorbar()\n",
    "plt.xlabel('$\\omega_0/\\mathrm{eV}$')\n",
    "plt.ylabel('$\\omega/\\mathrm{eV}$')  "
   ]
  },
  {
   "cell_type": "code",
   "execution_count": 206,
   "metadata": {
    "collapsed": false
   },
   "outputs": [
    {
     "name": "stdout",
     "output_type": "stream",
     "text": [
      "(3,) (100, 90, 3, 3)\n",
      "(100, 90)\n"
     ]
    },
    {
     "data": {
      "text/plain": [
       "<matplotlib.text.Text at 0x7fba42bae4a8>"
      ]
     },
     "execution_count": 206,
     "metadata": {},
     "output_type": "execute_result"
    },
    {
     "data": {
      "image/png": "[encoded data removed]",
      "text/plain": [
       "<matplotlib.figure.Figure at 0x7fba45e00d30>"
      ]
     },
     "metadata": {},
     "output_type": "display_data"
    }
   ],
   "source": [
    "%matplotlib inline\n",
    "print (μ.shape, Kselflist.shape)\n",
    "print (np.tensordot(μ,np.tensordot(Kselflist,μ, axes=([2,],[0,])),axes=([0,],[2,])).real.shape)\n",
    "plt.imshow(abs(np.tensordot(μ,np.tensordot(Kselflist,μ, axes=([2,],[0,])),axes=([0,],[2,])).real),\n",
    "           extent=(ω_0list.min()*ℏ/eV, ω_0list.max()*ℏ/eV, ωlist.min()*ℏ/eV, ωlist.max()*ℏ/eV),\n",
    "           interpolation='nearest', norm=LogNorm(), \n",
    "           origin='lower', cmap=cm.jet)\n",
    "plt.colorbar()\n",
    "plt.xlabel('$\\omega_0/\\mathrm{eV}$')\n",
    "plt.ylabel('$\\omega/\\mathrm{eV}$')  "
   ]
  },
  {
   "cell_type": "code",
   "execution_count": 217,
   "metadata": {
    "collapsed": false
   },
   "outputs": [
    {
     "data": {
      "text/plain": [
       "<matplotlib.text.Text at 0x7fba427f2390>"
      ]
     },
     "execution_count": 217,
     "metadata": {},
     "output_type": "execute_result"
    },
    {
     "data": {
      "image/png": "[encoded data removed]",
      "text/plain": [
       "<matplotlib.figure.Figure at 0x7fba41a732b0>"
      ]
     },
     "metadata": {},
     "output_type": "display_data"
    }
   ],
   "source": [
    "%matplotlib inline\n",
    "plt.imshow(abs(Vlist2*np.tensordot(μ,np.tensordot(Kselflist,μ, axes=([2,],[0,])),axes=([0,],[2,]))),\n",
    "           extent=(ω_0list.min()*ℏ/eV, ω_0list.max()*ℏ/eV, ωlist.min()*ℏ/eV, ωlist.max()*ℏ/eV),\n",
    "           interpolation='nearest', norm=LogNorm(), \n",
    "           origin='lower', cmap=cm.jet)\n",
    "plt.colorbar()\n",
    "plt.xlabel('$\\omega_0/\\mathrm{eV}$')\n",
    "plt.ylabel('$\\omega/\\mathrm{eV}$')  "
   ]
  },
  {
   "cell_type": "code",
   "execution_count": 218,
   "metadata": {
    "collapsed": false
   },
   "outputs": [
    {
     "data": {
      "text/plain": [
       "<matplotlib.text.Text at 0x7fba41cbbba8>"
      ]
     },
     "execution_count": 218,
     "metadata": {},
     "output_type": "execute_result"
    },
    {
     "data": {
      "image/png": "[encoded data removed]",
      "text/plain": [
       "<matplotlib.figure.Figure at 0x7fba416dee10>"
      ]
     },
     "metadata": {},
     "output_type": "display_data"
    }
   ],
   "source": [
    "%matplotlib inline\n",
    "plt.imshow(Vlist2.real,\n",
    "           extent=(ω_0list.min()*ℏ/eV, ω_0list.max()*ℏ/eV, ωlist.min()*ℏ/eV, ωlist.max()*ℏ/eV),\n",
    "           interpolation='nearest', #norm=LogNorm(), \n",
    "           origin='lower', cmap=cm.jet)\n",
    "plt.colorbar()\n",
    "plt.xlabel('$\\omega_0/\\mathrm{eV}$')\n",
    "plt.ylabel('$\\omega/\\mathrm{eV}$')  "
   ]
  },
  {
   "cell_type": "code",
   "execution_count": 164,
   "metadata": {
    "collapsed": false
   },
   "outputs": [
    {
     "data": {
      "text/plain": [
       "(-1e-45, 1e-45)"
      ]
     },
     "execution_count": 164,
     "metadata": {},
     "output_type": "execute_result"
    },
    {
     "data": {
      "image/png": "[encoded data removed]",
      "text/plain": [
       "<matplotlib.figure.Figure at 0x7fba47ea7208>"
      ]
     },
     "metadata": {},
     "output_type": "display_data"
    }
   ],
   "source": [
    "plt.plot(ωlist*ℏ/eV,(np.tensordot(μ,np.tensordot(Kselflist,μ, axes=([2,],[0,])),axes=([0,],[2,]))[:,0]).imag)\n",
    "plt.xlim(2.75,3.7)\n",
    "plt.ylim(-1e-45,1e-45)"
   ]
  },
  {
   "cell_type": "code",
   "execution_count": 138,
   "metadata": {
    "collapsed": false
   },
   "outputs": [
    {
     "data": {
      "text/plain": [
       "(100, 90)"
      ]
     },
     "execution_count": 138,
     "metadata": {},
     "output_type": "execute_result"
    }
   ],
   "source": [
    "np.tensordot(μ,np.tensordot(Kselflist,μ, axes=([2,],[0,])),axes=([0,],[2,])).shape"
   ]
  },
  {
   "cell_type": "code",
   "execution_count": 128,
   "metadata": {
    "collapsed": false
   },
   "outputs": [
    {
     "data": {
      "text/plain": [
       "array([[ -6.71786111e+43 -2.31959639e+41j]])"
      ]
     },
     "execution_count": 128,
     "metadata": {},
     "output_type": "execute_result"
    }
   ],
   "source": [
    "T"
   ]
  },
  {
   "cell_type": "code",
   "execution_count": 23,
   "metadata": {
    "collapsed": false
   },
   "outputs": [
    {
     "name": "stderr",
     "output_type": "stream",
     "text": [
      "/home/necadam1/.local/lib/python3.4/site-packages/ipykernel/__main__.py:91: ComplexWarning: Casting complex values to real discards the imaginary part\n"
     ]
    }
   ],
   "source": [
    "# Multiple scattering\n",
    "nmax=20\n",
    "a = 7e-9 #7e-9\n",
    "r1 = np.array([[-8e-9,0,0],[-8e-9,0,1e-9],[-8e-9,1e-9,1e-9],[8e-9,-1e-9,1e-9],[8e-9,1e-9,-1e-9],[8e-9,-1e-9,-1e-9]] ) # atom position 8e-9\n",
    "ω_p = 9*eV/ℏ #9*eV/ℏ\n",
    "#print(ω_p)\n",
    "ε_inf = 4.6\n",
    "γ_p = 0.1*eV/ℏ\n",
    "ε_b = 2.13\n",
    "γ_QE = 0.015*eV/ℏ # Original Delga: 15 meV. Makes the peak too sharp.\n",
    "μ = np.array([[0.19e-9*e,0,0],[0.19e-9*e,0,0],[0.19e-9*e,0,0],[0.19e-9*e,0,0],[0.19e-9*e,0,0],[0.19e-9*e,0,0],[0.19e-9*e,0,0],[0.19e-9*e,0,0],[0.19e-9*e,0,0],[0.19e-9*e,0,0],[0.19e-9*e,0,0],[0.19e-9*e,0,0],[0.19e-9*e,0,0],[0.19e-9*e,0,0],[0.19e-9*e,0,0],[0.19e-9*e,0,0],])\n",
    "\n",
    "npart = r1.shape[0]\n",
    "\n",
    "R = np.array([0,1e-6,0]) # detector position\n",
    "startω = 2.7*eV/ℏ\n",
    "stopω = 3.7*eV/ℏ\n",
    "ωlist = np.linspace(startω, stopω, 100)\n",
    "ω_0list = np.linspace(startω*1.05, stopω*0.95, 90)\n",
    "Slist = np.empty(shape=(ωlist.shape[0],ω_0list.shape[0]),dtype=float)\n",
    "Klist = np.empty(shape=(ωlist.shape[0],ω_0list.shape[0],3,3),dtype=np.complex_)\n",
    "Kselflist = np.empty(shape=(ωlist.shape[0],ω_0list.shape[0],3,3),dtype=np.complex_)\n",
    "mKmlist = np.empty(shape=(ωlist.shape[0],ω_0list.shape[0],npart,npart,), dtype=np.complex_)\n",
    "Km_destlist = np.empty(shape=(ωlist.shape[0],ω_0list.shape[0],npart,3), dtype=np.complex_)\n",
    "G_sourcelist = np.empty(shape=(ωlist.shape[0],ω_0list.shape[0],npart,3), dtype=np.complex_)\n",
    "Vlist = np.empty(shape=(ωlist.shape[0],ω_0list.shape[0]),dtype=np.complex_)\n",
    "for i in range(ω_0list.shape[0]):\n",
    "    ω_0 = ω_0list[i]\n",
    "    Ω = ω_0+1j*γ_QE\n",
    "    for j in range(ωlist.shape[0]):\n",
    "        ω = ωlist[j]\n",
    "        V = -(ω*ω/(c*c*ε_0*ℏ))*2*Ω.real/(ω*ω-2j*ω*Ω.imag - abs(Ω)**2)\n",
    "        Vlist[j,i]=V\n",
    "        \n",
    "        ε_m = ε_drude(ε_inf, ω_p, γ_p, ω)\n",
    "        k = ω/c\n",
    "        k_out = math.sqrt(ε_b)*k\n",
    "        k_in = cmath.sqrt(ε_m)*k\n",
    "        RH, RV, TH, TV = mie_coefficients(a, nmax, k_i=k_in, k_e=k_out, μ_i=1, μ_e=1, J_ext=1, J_scat=3)\n",
    "        #G_Mie_scat_precalc_cart_new(source_cart, dest_cart, RH, RV, a, nmax, k_i=k_in, k_e=k_out, μ_i=1, μ_e=1, J_ext=1, J_scat=3)\n",
    "        #print (\"ε_m\",ε_m)\n",
    "        mKm = np.empty((npart, npart),dtype=np.complex_) # source-dest order\n",
    "        Km_dest = np.empty((npart,3),dtype=np.complex_)\n",
    "        Tself = np.empty((npart,),dtype=np.complex_)\n",
    "        M = np.empty((npart, npart), dtype=np.complex_)\n",
    "        for n in range(npart): # n is source index\n",
    "            Km_dest[n] = np.dot(μ[n], G_Mie_scat_precalc_cart_new(r1[n], R, \n",
    "                                                 RH, RV, a, nmax, k_i=k_in, k_e=k_out, μ_i=1, μ_e=1, J_ext=1, J_scat=3) \n",
    "                                               + G0_dip_1(R-r1[n],k_out))\n",
    "            for m in range(npart): # m is dest index\n",
    "                if(m == n):\n",
    "                    #fixme pořadí indexů v greenových funkcích je „nepřirozené“\n",
    "                    mKm[n,m] = np.dot(μ[n], np.dot(G_Mie_scat_precalc_cart_new(r1[n], r1[m], \n",
    "                                                 RH, RV, a, nmax, k_i=k_in, k_e=k_out, μ_i=1, μ_e=1, J_ext=1, J_scat=3) \n",
    "                                               , μ[m])\n",
    "                                     )\n",
    "                else:\n",
    "                    #print(\"To ne!\")\n",
    "                    mKm[n,m] = np.dot(μ[n], np.dot(G_Mie_scat_precalc_cart_new(r1[n], r1[m], \n",
    "                                                RH, RV, a, nmax, k_i=k_in, k_e=k_out, μ_i=1, μ_e=1, J_ext=1, J_scat=3) \n",
    "                                               + G0_dip_1(r1[m]-r1[n],k_out)\n",
    "                                             , μ[m])\n",
    "                                     )\n",
    "            Tself[n] = V/(1-mKm[n,n]*V)\n",
    "            for m in range(npart):\n",
    "                if(m==n):\n",
    "                    M[n,m] = 1\n",
    "                else:\n",
    "                    #print(\"To ne!\")\n",
    "                    M[n,m] = -mKm[n,m]*Tself[n]\n",
    "        M_inv = np.linalg.inv(M)\n",
    "        # NB still source dest order. The dipole moments are already included \n",
    "        # in mKm, Km_dest, so no need to have them here:\n",
    "        T = Tself[ň,:]*M_inv[:,:] \n",
    "        # Delga supplement, eq.(23): Here we have no free radiation in the initial state.\n",
    "        # FIXME PROBLÉM TU???\n",
    "        G_source_n = Km_dest + np.dot(mKm,np.dot(T,Km_dest))\n",
    "        #print(G_source_n.shape)\n",
    "        #K     = G_Mie_scat_cart(source_cart=r1, dest_cart=R,  a=a, nmax=nmax, k_i=k_in, k_e=k_out)+G0_dip_1(R-r1,k_out)\n",
    "        #Klist[j,i]=K\n",
    "        mKmlist[j,i]=mKm\n",
    "        Km_destlist[j,i]=Km_dest\n",
    "        G_sourcelist[j,i]=G_source_n\n",
    "        #Kself = G_Mie_scat_cart(source_cart=r1, dest_cart=r1, a=a, nmax=nmax, k_i=k_in, k_e=k_out)\n",
    "        #Kselflist[j,i]=Kself\n",
    "        # Single QE contribution, eq. (29):\n",
    "        S_n0 = np.dot(((ω*ω/(c*c*ε_0))*np.linalg.norm(G_source_n, axis=-1))**2 , (\n",
    "            np.identity(npart)/abs(ω-Ω)**2 + 1/(ω+Ω)**2))\n",
    "        #den = abs(ω*ω-2j*ω*Ω.imag - abs(Ω)**2 \n",
    "        #   +2*(ω*ω/(c*c*ε_0*ℏ)) * Ω.real*np.dot(μ,np.dot(Kself,μ)))**2\n",
    "        Slist[j,i] = np.sum(S_n0)#num/den*2*(ω*ω+abs(Ω)**2)"
   ]
  },
  {
   "cell_type": "code",
   "execution_count": 24,
   "metadata": {
    "collapsed": false
   },
   "outputs": [
    {
     "data": {
      "text/plain": [
       "<matplotlib.text.Text at 0x7fdd489200f0>"
      ]
     },
     "execution_count": 24,
     "metadata": {},
     "output_type": "execute_result"
    },
    {
     "data": {
      "image/png": "[encoded data removed]",
      "text/plain": [
       "<matplotlib.figure.Figure at 0x7fdd47c51ef0>"
      ]
     },
     "metadata": {},
     "output_type": "display_data"
    }
   ],
   "source": [
    "import matplotlib.pyplot as plt\n",
    "import matplotlib.cm as cm\n",
    "from matplotlib.colors import LogNorm\n",
    "%matplotlib inline\n",
    "plt.imshow(Slist, extent=(ω_0list.min()*ℏ/eV, ω_0list.max()*ℏ/eV, ωlist.min()*ℏ/eV, ωlist.max()*ℏ/eV),\n",
    "           interpolation='nearest', norm=LogNorm(), origin='lower', cmap=cm.jet)\n",
    "plt.colorbar()\n",
    "plt.xlabel('$\\omega_0/\\mathrm{eV}$')\n",
    "plt.ylabel('$\\omega/\\mathrm{eV}$')"
   ]
  },
  {
   "cell_type": "code",
   "execution_count": 25,
   "metadata": {
    "collapsed": false
   },
   "outputs": [
    {
     "name": "stdout",
     "output_type": "stream",
     "text": [
      "(16, 3) (100, 90, 6, 3)\n"
     ]
    },
    {
     "data": {
      "text/plain": [
       "<matplotlib.text.Text at 0x7fdd47c863c8>"
      ]
     },
     "execution_count": 25,
     "metadata": {},
     "output_type": "execute_result"
    },
    {
     "data": {
      "image/png": "[encoded data removed]",
      "text/plain": [
       "<matplotlib.figure.Figure at 0x7fdd48bbbd68>"
      ]
     },
     "metadata": {},
     "output_type": "display_data"
    }
   ],
   "source": [
    "%matplotlib inline\n",
    "print (μ.shape, G_sourcelist.shape)\n",
    "#print (np.tensordot(μ,np.tensordot(Km_destlist,μ, axes=([2,],[0,])),axes=([0,],[2,])).real.shape)\n",
    "plt.imshow(np.linalg.norm(G_sourcelist[:,:,0,:],axis=2),\n",
    "           extent=(ω_0list.min()*ℏ/eV, ω_0list.max()*ℏ/eV, ωlist.min()*ℏ/eV, ωlist.max()*ℏ/eV),\n",
    "           interpolation='nearest', norm=LogNorm(), \n",
    "           origin='lower', cmap=cm.jet)\n",
    "plt.colorbar()\n",
    "plt.xlabel('$\\omega_0/\\mathrm{eV}$')\n",
    "plt.ylabel('$\\omega/\\mathrm{eV}$')  "
   ]
  },
  {
   "cell_type": "code",
   "execution_count": 53,
   "metadata": {
    "collapsed": false
   },
   "outputs": [
    {
     "name": "stderr",
     "output_type": "stream",
     "text": [
      "/home/necadam1/.local/lib/python3.4/site-packages/ipykernel/__main__.py:93: ComplexWarning: Casting complex values to real discards the imaginary part\n"
     ]
    }
   ],
   "source": [
    "# Multiple scattering\n",
    "nmax=20\n",
    "a = 7e-9 #7e-9\n",
    "#r1 = np.array([[-8e-9,0,0],[-8e-9,0,1e-9],[-8e-9,1e-9,1e-9],[8e-9,-1e-9,1e-9],[8e-9,1e-9,-1e-9],[8e-9,-1e-9,-1e-9]] ) # atom position 8e-9\n",
    "ω_p = 9*eV/ℏ #9*eV/ℏ\n",
    "#print(ω_p)\n",
    "ε_inf = 4.6\n",
    "γ_p = 0.1*eV/ℏ\n",
    "ε_b = 2.13\n",
    "npart=20\n",
    "r1=sph2cart(np.array([[8e-9,π/2.,2*π*fi/npart] for fi in range(npart)]))\n",
    "#npart = r1.shape[0]\n",
    "\n",
    "γ_QE = 0.015*eV/ℏ # Original Delga: 15 meV. Makes the peak too sharp.\n",
    "μ = np.array(npart*[[0.38e-9*e,0,0]])\n",
    "R = np.array([0,1e-6,0]) # detector position\n",
    "startω = 2.7*eV/ℏ\n",
    "stopω = 3.7*eV/ℏ\n",
    "ωlist = np.linspace(startω, stopω, 100)\n",
    "ω_0list = np.linspace(startω*1.05, stopω*0.95, 90)\n",
    "Slist = np.empty(shape=(ωlist.shape[0],ω_0list.shape[0]),dtype=float)\n",
    "Klist = np.empty(shape=(ωlist.shape[0],ω_0list.shape[0],3,3),dtype=np.complex_)\n",
    "Kselflist = np.empty(shape=(ωlist.shape[0],ω_0list.shape[0],3,3),dtype=np.complex_)\n",
    "mKmlist = np.empty(shape=(ωlist.shape[0],ω_0list.shape[0],npart,npart,), dtype=np.complex_)\n",
    "Km_destlist = np.empty(shape=(ωlist.shape[0],ω_0list.shape[0],npart,3), dtype=np.complex_)\n",
    "G_sourcelist = np.empty(shape=(ωlist.shape[0],ω_0list.shape[0],npart,3), dtype=np.complex_)\n",
    "Vlist = np.empty(shape=(ωlist.shape[0],ω_0list.shape[0]),dtype=np.complex_)\n",
    "for i in range(ω_0list.shape[0]):\n",
    "    ω_0 = ω_0list[i]\n",
    "    Ω = ω_0+1j*γ_QE\n",
    "    for j in range(ωlist.shape[0]):\n",
    "        ω = ωlist[j]\n",
    "        V = -(ω*ω/(c*c*ε_0*ℏ))*2*Ω.real/(ω*ω-2j*ω*Ω.imag - abs(Ω)**2)\n",
    "        Vlist[j,i]=V\n",
    "        \n",
    "        ε_m = ε_drude(ε_inf, ω_p, γ_p, ω)\n",
    "        k = ω/c\n",
    "        k_out = math.sqrt(ε_b)*k\n",
    "        k_in = cmath.sqrt(ε_m)*k\n",
    "        RH, RV, TH, TV = mie_coefficients(a, nmax, k_i=k_in, k_e=k_out, μ_i=1, μ_e=1, J_ext=1, J_scat=3)\n",
    "        #G_Mie_scat_precalc_cart_new(source_cart, dest_cart, RH, RV, a, nmax, k_i=k_in, k_e=k_out, μ_i=1, μ_e=1, J_ext=1, J_scat=3)\n",
    "        #print (\"ε_m\",ε_m)\n",
    "        mKm = np.empty((npart, npart),dtype=np.complex_) # source-dest order\n",
    "        Km_dest = np.empty((npart,3),dtype=np.complex_)\n",
    "        Tself = np.empty((npart,),dtype=np.complex_)\n",
    "        M = np.empty((npart, npart), dtype=np.complex_)\n",
    "        for n in range(npart): # n is source index\n",
    "            #print(n,μ[n].shape, r1[n].shape, R.shape)\n",
    "            Km_dest[n] = np.dot(μ[n], G_Mie_scat_precalc_cart_new(r1[n], R, \n",
    "                                                 RH, RV, a, nmax, k_i=k_in, k_e=k_out, μ_i=1, μ_e=1, J_ext=1, J_scat=3) \n",
    "                                               + G0_dip_1(R-r1[n],k_out))\n",
    "            for m in range(npart): # m is dest index\n",
    "                if(m == n):\n",
    "                    #fixme pořadí indexů v greenových funkcích je „nepřirozené“\n",
    "                    mKm[n,m] = np.dot(μ[n], np.dot(G_Mie_scat_precalc_cart_new(r1[n], r1[m], \n",
    "                                                 RH, RV, a, nmax, k_i=k_in, k_e=k_out, μ_i=1, μ_e=1, J_ext=1, J_scat=3) \n",
    "                                               , μ[m])\n",
    "                                     )\n",
    "                else:\n",
    "                    #print(\"To ne!\")\n",
    "                    mKm[n,m] = np.dot(μ[n], np.dot(G_Mie_scat_precalc_cart_new(r1[n], r1[m], \n",
    "                                                RH, RV, a, nmax, k_i=k_in, k_e=k_out, μ_i=1, μ_e=1, J_ext=1, J_scat=3) \n",
    "                                               + G0_dip_1(r1[m]-r1[n],k_out)\n",
    "                                             , μ[m])\n",
    "                                     )\n",
    "            Tself[n] = V/(1-mKm[n,n]*V)\n",
    "            for m in range(npart):\n",
    "                if(m==n):\n",
    "                    M[n,m] = 1\n",
    "                else:\n",
    "                    #print(\"To ne!\")\n",
    "                    M[n,m] = -mKm[n,m]*Tself[n]\n",
    "        M_inv = np.linalg.inv(M)\n",
    "        # NB still source dest order. The dipole moments are already included \n",
    "        # in mKm, Km_dest, so no need to have them here:\n",
    "        T = Tself[ň,:]*M_inv[:,:] \n",
    "        # Delga supplement, eq.(23): Here we have no free radiation in the initial state.\n",
    "        # FIXME PROBLÉM TU???\n",
    "        G_source_n = Km_dest + np.dot(mKm,np.dot(T,Km_dest))\n",
    "        #print(G_source_n.shape)\n",
    "        #K     = G_Mie_scat_cart(source_cart=r1, dest_cart=R,  a=a, nmax=nmax, k_i=k_in, k_e=k_out)+G0_dip_1(R-r1,k_out)\n",
    "        #Klist[j,i]=K\n",
    "        #mKmlist[j,i]=mKm\n",
    "        #Km_destlist[j,i]=Km_dest\n",
    "        #G_sourcelist[j,i]=G_source_n\n",
    "        #Kself = G_Mie_scat_cart(source_cart=r1, dest_cart=r1, a=a, nmax=nmax, k_i=k_in, k_e=k_out)\n",
    "        #Kselflist[j,i]=Kself\n",
    "        # Single QE contribution, eq. (29):\n",
    "        S_n0 = np.dot(((ω*ω/(c*c*ε_0))*np.linalg.norm(G_source_n, axis=-1))**2 , (\n",
    "            np.identity(npart)/abs(ω-Ω)**2 + 1/(ω+Ω)**2))\n",
    "        #den = abs(ω*ω-2j*ω*Ω.imag - abs(Ω)**2 \n",
    "        #   +2*(ω*ω/(c*c*ε_0*ℏ)) * Ω.real*np.dot(μ,np.dot(Kself,μ)))**2\n",
    "        Slist[j,i] = np.sum(S_n0)#num/den*2*(ω*ω+abs(Ω)**2)"
   ]
  },
  {
   "cell_type": "code",
   "execution_count": 56,
   "metadata": {
    "collapsed": false
   },
   "outputs": [
    {
     "data": {
      "text/plain": [
       "<matplotlib.text.Text at 0x7fdd47d14128>"
      ]
     },
     "execution_count": 56,
     "metadata": {},
     "output_type": "execute_result"
    },
    {
     "data": {
      "image/png": "[encoded data removed]",
      "text/plain": [
       "<matplotlib.figure.Figure at 0x7fdd477ff630>"
      ]
     },
     "metadata": {},
     "output_type": "display_data"
    }
   ],
   "source": [
    "import matplotlib.pyplot as plt\n",
    "import matplotlib.cm as cm\n",
    "from matplotlib.colors import LogNorm\n",
    "%matplotlib inline\n",
    "plt.imshow(Slist, extent=(ω_0list.min()*ℏ/eV, ω_0list.max()*ℏ/eV, ωlist.min()*ℏ/eV, ωlist.max()*ℏ/eV),\n",
    "           interpolation='nearest', norm=LogNorm(), origin='lower', cmap=cm.jet\n",
    "          )\n",
    "plt.colorbar()\n",
    "plt.xlabel('$\\omega_0/\\mathrm{eV}$')\n",
    "plt.ylabel('$\\omega/\\mathrm{eV}$')"
   ]
  },
  {
   "cell_type": "code",
   "execution_count": 27,
   "metadata": {
    "collapsed": true
   },
   "outputs": [],
   "source": [
    "npart=20\n",
    "r1=sph2cart(np.array([[8e-9,π/2.,2*π*fi/npart] for fi in range(npart)]))"
   ]
  },
  {
   "cell_type": "code",
   "execution_count": 28,
   "metadata": {
    "collapsed": false
   },
   "outputs": [
    {
     "data": {
      "text/plain": [
       "array([[  8.00000000e-09,   0.00000000e+00,   4.89858720e-25],\n",
       "       [  7.60845213e-09,   2.47213595e-09,   4.89858720e-25],\n",
       "       [  6.47213595e-09,   4.70228202e-09,   4.89858720e-25],\n",
       "       [  4.70228202e-09,   6.47213595e-09,   4.89858720e-25],\n",
       "       [  2.47213595e-09,   7.60845213e-09,   4.89858720e-25],\n",
       "       [  4.89858720e-25,   8.00000000e-09,   4.89858720e-25],\n",
       "       [ -2.47213595e-09,   7.60845213e-09,   4.89858720e-25],\n",
       "       [ -4.70228202e-09,   6.47213595e-09,   4.89858720e-25],\n",
       "       [ -6.47213595e-09,   4.70228202e-09,   4.89858720e-25],\n",
       "       [ -7.60845213e-09,   2.47213595e-09,   4.89858720e-25],\n",
       "       [ -8.00000000e-09,   9.79717439e-25,   4.89858720e-25],\n",
       "       [ -7.60845213e-09,  -2.47213595e-09,   4.89858720e-25],\n",
       "       [ -6.47213595e-09,  -4.70228202e-09,   4.89858720e-25],\n",
       "       [ -4.70228202e-09,  -6.47213595e-09,   4.89858720e-25],\n",
       "       [ -2.47213595e-09,  -7.60845213e-09,   4.89858720e-25],\n",
       "       [ -1.46957616e-24,  -8.00000000e-09,   4.89858720e-25],\n",
       "       [  2.47213595e-09,  -7.60845213e-09,   4.89858720e-25],\n",
       "       [  4.70228202e-09,  -6.47213595e-09,   4.89858720e-25],\n",
       "       [  6.47213595e-09,  -4.70228202e-09,   4.89858720e-25],\n",
       "       [  7.60845213e-09,  -2.47213595e-09,   4.89858720e-25]])"
      ]
     },
     "execution_count": 28,
     "metadata": {},
     "output_type": "execute_result"
    }
   ],
   "source": [
    "r1"
   ]
  },
  {
   "cell_type": "code",
   "execution_count": 30,
   "metadata": {
    "collapsed": false
   },
   "outputs": [
    {
     "data": {
      "text/plain": [
       "array([  6.47213595e-09,   4.70228202e-09,   4.89858720e-25])"
      ]
     },
     "execution_count": 30,
     "metadata": {},
     "output_type": "execute_result"
    }
   ],
   "source": [
    "r1[2]"
   ]
  },
  {
   "cell_type": "code",
   "execution_count": 35,
   "metadata": {
    "collapsed": false
   },
   "outputs": [
    {
     "data": {
      "text/plain": [
       "array([  6.08827116e-29,   0.00000000e+00,   0.00000000e+00])"
      ]
     },
     "execution_count": 35,
     "metadata": {},
     "output_type": "execute_result"
    }
   ],
   "source": [
    " np.array(npart*[[0.38e-9*e,0,0]])[0]"
   ]
  },
  {
   "cell_type": "code",
   "execution_count": 36,
   "metadata": {
    "collapsed": false
   },
   "outputs": [
    {
     "data": {
      "text/plain": [
       "(20, 3)"
      ]
     },
     "execution_count": 36,
     "metadata": {},
     "output_type": "execute_result"
    }
   ],
   "source": [
    "μ[n].shape"
   ]
  },
  {
   "cell_type": "code",
   "execution_count": 37,
   "metadata": {
    "collapsed": false
   },
   "outputs": [
    {
     "data": {
      "text/plain": [
       "0"
      ]
     },
     "execution_count": 37,
     "metadata": {},
     "output_type": "execute_result"
    }
   ],
   "source": [
    "n"
   ]
  },
  {
   "cell_type": "code",
   "execution_count": 40,
   "metadata": {
    "collapsed": false
   },
   "outputs": [
    {
     "data": {
      "text/plain": [
       "(array([[  6.08827116e-29,   0.00000000e+00,   0.00000000e+00],\n",
       "        [  6.08827116e-29,   0.00000000e+00,   0.00000000e+00],\n",
       "        [  6.08827116e-29,   0.00000000e+00,   0.00000000e+00],\n",
       "        [  6.08827116e-29,   0.00000000e+00,   0.00000000e+00],\n",
       "        [  6.08827116e-29,   0.00000000e+00,   0.00000000e+00],\n",
       "        [  6.08827116e-29,   0.00000000e+00,   0.00000000e+00],\n",
       "        [  6.08827116e-29,   0.00000000e+00,   0.00000000e+00],\n",
       "        [  6.08827116e-29,   0.00000000e+00,   0.00000000e+00],\n",
       "        [  6.08827116e-29,   0.00000000e+00,   0.00000000e+00],\n",
       "        [  6.08827116e-29,   0.00000000e+00,   0.00000000e+00],\n",
       "        [  6.08827116e-29,   0.00000000e+00,   0.00000000e+00],\n",
       "        [  6.08827116e-29,   0.00000000e+00,   0.00000000e+00],\n",
       "        [  6.08827116e-29,   0.00000000e+00,   0.00000000e+00],\n",
       "        [  6.08827116e-29,   0.00000000e+00,   0.00000000e+00],\n",
       "        [  6.08827116e-29,   0.00000000e+00,   0.00000000e+00],\n",
       "        [  6.08827116e-29,   0.00000000e+00,   0.00000000e+00],\n",
       "        [  6.08827116e-29,   0.00000000e+00,   0.00000000e+00],\n",
       "        [  6.08827116e-29,   0.00000000e+00,   0.00000000e+00],\n",
       "        [  6.08827116e-29,   0.00000000e+00,   0.00000000e+00],\n",
       "        [  6.08827116e-29,   0.00000000e+00,   0.00000000e+00]]),)"
      ]
     },
     "execution_count": 40,
     "metadata": {},
     "output_type": "execute_result"
    }
   ],
   "source": [
    "μ"
   ]
  },
  {
   "cell_type": "code",
   "execution_count": 44,
   "metadata": {
    "collapsed": false
   },
   "outputs": [
    {
     "data": {
      "text/plain": [
       "array([[  1.37375820e-21,   1.38038817e-21,   1.38706658e-21,\n",
       "          1.39379390e-21,   1.40057060e-21,   1.40739717e-21,\n",
       "          1.41427411e-21,   1.42120191e-21,   1.42818107e-21,\n",
       "          1.43521211e-21,   1.44229553e-21,   1.44943187e-21,\n",
       "          1.45662165e-21,   1.46386540e-21,   1.47116368e-21,\n",
       "          1.47851703e-21,   1.48592600e-21,   1.49339116e-21,\n",
       "          1.50091308e-21,   1.50849233e-21,   1.51612951e-21,\n",
       "          1.52382521e-21,   1.53158001e-21,   1.53939455e-21,\n",
       "          1.54726942e-21,   1.55520525e-21,   1.56320267e-21],\n",
       "       [  2.28338935e-21,   2.29648892e-21,   2.30970187e-21,\n",
       "          2.32302950e-21,   2.33647315e-21,   2.35003417e-21,\n",
       "          2.36371391e-21,   2.37751378e-21,   2.39143517e-21,\n",
       "          2.40547953e-21,   2.41964829e-21,   2.43394293e-21,\n",
       "          2.44836494e-21,   2.46291584e-21,   2.47759717e-21,\n",
       "          2.49241048e-21,   2.50735737e-21,   2.52243943e-21,\n",
       "          2.53765831e-21,   2.55301566e-21,   2.56851316e-21,\n",
       "          2.58415251e-21,   2.59993546e-21,   2.61586377e-21,\n",
       "          2.63193921e-21,   2.64816361e-21,   2.66453880e-21],\n",
       "       [  4.06610149e-21,   4.09438167e-21,   4.12295559e-21,\n",
       "          4.15182730e-21,   4.18100088e-21,   4.21048052e-21,\n",
       "          4.24027046e-21,   4.27037501e-21,   4.30079857e-21,\n",
       "          4.33154561e-21,   4.36262066e-21,   4.39402835e-21,\n",
       "          4.42577339e-21,   4.45786056e-21,   4.49029473e-21,\n",
       "          4.52308086e-21,   4.55622399e-21,   4.58972925e-21,\n",
       "          4.62360187e-21,   4.65784716e-21,   4.69247054e-21,\n",
       "          4.72747751e-21,   4.76287368e-21,   4.79866476e-21,\n",
       "          4.83485657e-21,   4.87145502e-21,   4.90846614e-21],\n",
       "       [  7.67727703e-21,   7.74141908e-21,   7.80633288e-21,\n",
       "          7.87203017e-21,   7.93852293e-21,   8.00582334e-21,\n",
       "          8.07394378e-21,   8.14289688e-21,   8.21269547e-21,\n",
       "          8.28335265e-21,   8.35488170e-21,   8.42729619e-21,\n",
       "          8.50060989e-21,   8.57483686e-21,   8.64999138e-21,\n",
       "          8.72608800e-21,   8.80314154e-21,   8.88116708e-21,\n",
       "          8.96017997e-21,   9.04019585e-21,   9.12123063e-21,\n",
       "          9.20330052e-21,   9.28642202e-21,   9.37061193e-21,\n",
       "          9.45588735e-21,   9.54226570e-21,   9.62976471e-21],\n",
       "       [  1.40253713e-20,   1.41485714e-20,   1.42730955e-20,\n",
       "          1.43989562e-20,   1.45261657e-20,   1.46547367e-20,\n",
       "          1.47846814e-20,   1.49160121e-20,   1.50487411e-20,\n",
       "          1.51828803e-20,   1.53184418e-20,   1.54554375e-20,\n",
       "          1.55938790e-20,   1.57337780e-20,   1.58751459e-20,\n",
       "          1.60179939e-20,   1.61623331e-20,   1.63081742e-20,\n",
       "          1.64555280e-20,   1.66044047e-20,   1.67548145e-20,\n",
       "          1.69067672e-20,   1.70602723e-20,   1.72153389e-20,\n",
       "          1.73719761e-20,   1.75301922e-20,   1.76899953e-20],\n",
       "       [  1.94394936e-20,   1.95564977e-20,   1.96736156e-20,\n",
       "          1.97908272e-20,   1.99081120e-20,   2.00254491e-20,\n",
       "          2.01428171e-20,   2.02601941e-20,   2.03775579e-20,\n",
       "          2.04948858e-20,   2.06121547e-20,   2.07293412e-20,\n",
       "          2.08464212e-20,   2.09633705e-20,   2.10801645e-20,\n",
       "          2.11967780e-20,   2.13131857e-20,   2.14293618e-20,\n",
       "          2.15452801e-20,   2.16609144e-20,   2.17762378e-20,\n",
       "          2.18912233e-20,   2.20058436e-20,   2.21200712e-20,\n",
       "          2.22338784e-20,   2.23472370e-20,   2.24601190e-20],\n",
       "       [  1.83984145e-20,   1.84479782e-20,   1.84971945e-20,\n",
       "          1.85460660e-20,   1.85945958e-20,   1.86427875e-20,\n",
       "          1.86906451e-20,   1.87381730e-20,   1.87853763e-20,\n",
       "          1.88322604e-20,   1.88788312e-20,   1.89250951e-20,\n",
       "          1.89710588e-20,   1.90167296e-20,   1.90621152e-20,\n",
       "          1.91072238e-20,   1.91520637e-20,   1.91966440e-20,\n",
       "          1.92409738e-20,   1.92850627e-20,   1.93289206e-20,\n",
       "          1.93725575e-20,   1.94159837e-20,   1.94592098e-20,\n",
       "          1.95022462e-20,   1.95451036e-20,   1.95877925e-20],\n",
       "       [  1.63297141e-20,   1.63841652e-20,   1.64385969e-20,\n",
       "          1.64929820e-20,   1.65472953e-20,   1.66015149e-20,\n",
       "          1.66556219e-20,   1.67096014e-20,   1.67634428e-20,\n",
       "          1.68171400e-20,   1.68706918e-20,   1.69241022e-20,\n",
       "          1.69773804e-20,   1.70305409e-20,   1.70836034e-20,\n",
       "          1.71365930e-20,   1.71895394e-20,   1.72424770e-20,\n",
       "          1.72954446e-20,   1.73484844e-20,   1.74016419e-20,\n",
       "          1.74549649e-20,   1.75085034e-20,   1.75623079e-20,\n",
       "          1.76164296e-20,   1.76709187e-20,   1.77258242e-20],\n",
       "       [  1.74596559e-20,   1.75118001e-20,   1.75592962e-20,\n",
       "          1.76018646e-20,   1.76392488e-20,   1.76712192e-20,\n",
       "          1.76975764e-20,   1.77181543e-20,   1.77328229e-20,\n",
       "          1.77414903e-20,   1.77441041e-20,   1.77406525e-20,\n",
       "          1.77311642e-20,   1.77157084e-20,   1.76943931e-20,\n",
       "          1.76673639e-20,   1.76348013e-20,   1.75969183e-20,\n",
       "          1.75539569e-20,   1.75061850e-20,   1.74538919e-20,\n",
       "          1.73973853e-20,   1.73369867e-20,   1.72730277e-20,\n",
       "          1.72058462e-20,   1.71357828e-20,   1.70631773e-20],\n",
       "       [  1.38264437e-20,   1.38000507e-20,   1.37749935e-20,\n",
       "          1.37511881e-20,   1.37285460e-20,   1.37069736e-20,\n",
       "          1.36863732e-20,   1.36666427e-20,   1.36476760e-20,\n",
       "          1.36293634e-20,   1.36115918e-20,   1.35942448e-20,\n",
       "          1.35772039e-20,   1.35603484e-20,   1.35435559e-20,\n",
       "          1.35267033e-20,   1.35096673e-20,   1.34923253e-20,\n",
       "          1.34745556e-20,   1.34562390e-20,   1.34372591e-20,\n",
       "          1.34175035e-20,   1.33968644e-20,   1.33752395e-20,\n",
       "          1.33525332e-20,   1.33286568e-20,   1.33035301e-20],\n",
       "       [  1.18511819e-20,   1.18059204e-20,   1.17609562e-20,\n",
       "          1.17163426e-20,   1.16721279e-20,   1.16283556e-20,\n",
       "          1.15850647e-20,   1.15422900e-20,   1.15000620e-20,\n",
       "          1.14584073e-20,   1.14173487e-20,   1.13769056e-20,\n",
       "          1.13370941e-20,   1.12979272e-20,   1.12594152e-20,\n",
       "          1.12215656e-20,   1.11843836e-20,   1.11478723e-20,\n",
       "          1.11120325e-20,   1.10768634e-20,   1.10423623e-20,\n",
       "          1.10085252e-20,   1.09753466e-20,   1.09428197e-20,\n",
       "          1.09109366e-20,   1.08796884e-20,   1.08490654e-20],\n",
       "       [  1.09126556e-20,   1.09086398e-20,   1.09046568e-20,\n",
       "          1.09006871e-20,   1.08967111e-20,   1.08927102e-20,\n",
       "          1.08886661e-20,   1.08845611e-20,   1.08803782e-20,\n",
       "          1.08761010e-20,   1.08717141e-20,   1.08672025e-20,\n",
       "          1.08625524e-20,   1.08577504e-20,   1.08527845e-20,\n",
       "          1.08476430e-20,   1.08423156e-20,   1.08367927e-20,\n",
       "          1.08310655e-20,   1.08251262e-20,   1.08189679e-20,\n",
       "          1.08125846e-20,   1.08059711e-20,   1.07991231e-20,\n",
       "          1.07920370e-20,   1.07847099e-20,   1.07771399e-20],\n",
       "       [  1.22623857e-20,   1.22590409e-20,   1.22554098e-20,\n",
       "          1.22514968e-20,   1.22473060e-20,   1.22428411e-20,\n",
       "          1.22381060e-20,   1.22331043e-20,   1.22278394e-20,\n",
       "          1.22223146e-20,   1.22165329e-20,   1.22104975e-20,\n",
       "          1.22042111e-20,   1.21976764e-20,   1.21908959e-20,\n",
       "          1.21838723e-20,   1.21766076e-20,   1.21691042e-20,\n",
       "          1.21613641e-20,   1.21533892e-20,   1.21451815e-20,\n",
       "          1.21367427e-20,   1.21280744e-20,   1.21191784e-20,\n",
       "          1.21100560e-20,   1.21007087e-20,   1.20911379e-20],\n",
       "       [  1.48557756e-20,   1.48446578e-20,   1.48330977e-20,\n",
       "          1.48210954e-20,   1.48086516e-20,   1.47957669e-20,\n",
       "          1.47824417e-20,   1.47686770e-20,   1.47544736e-20,\n",
       "          1.47398324e-20,   1.47247544e-20,   1.47092409e-20,\n",
       "          1.46932930e-20,   1.46769121e-20,   1.46600996e-20,\n",
       "          1.46428572e-20,   1.46251863e-20,   1.46070887e-20,\n",
       "          1.45885663e-20,   1.45696210e-20,   1.45502548e-20,\n",
       "          1.45304699e-20,   1.45102684e-20,   1.44896526e-20,\n",
       "          1.44686250e-20,   1.44471881e-20,   1.44253444e-20],\n",
       "       [  1.78028526e-20,   1.77487620e-20,   1.76940658e-20,\n",
       "          1.76387770e-20,   1.75829084e-20,   1.75264732e-20,\n",
       "          1.74694844e-20,   1.74119552e-20,   1.73538987e-20,\n",
       "          1.72953281e-20,   1.72362567e-20,   1.71766977e-20,\n",
       "          1.71166643e-20,   1.70561697e-20,   1.69952273e-20,\n",
       "          1.69338500e-20,   1.68720513e-20,   1.68098441e-20,\n",
       "          1.67472416e-20,   1.66842569e-20,   1.66209030e-20,\n",
       "          1.65571929e-20,   1.64931394e-20,   1.64287554e-20,\n",
       "          1.63640536e-20,   1.62990467e-20,   1.62337473e-20],\n",
       "       [  1.65240458e-20,   1.64104480e-20,   1.62973746e-20,\n",
       "          1.61848356e-20,   1.60728405e-20,   1.59613986e-20,\n",
       "          1.58505184e-20,   1.57402083e-20,   1.56304760e-20,\n",
       "          1.55213291e-20,   1.54127746e-20,   1.53048191e-20,\n",
       "          1.51974688e-20,   1.50907297e-20,   1.49846074e-20,\n",
       "          1.48791069e-20,   1.47742332e-20,   1.46699906e-20,\n",
       "          1.45663835e-20,   1.44634157e-20,   1.43610906e-20,\n",
       "          1.42594116e-20,   1.41583816e-20,   1.40580033e-20,\n",
       "          1.39582790e-20,   1.38592108e-20,   1.37608007e-20],\n",
       "       [  1.03832069e-20,   1.02957754e-20,   1.02093005e-20,\n",
       "          1.01237708e-20,   1.00391753e-20,   9.95550283e-21,\n",
       "          9.87274248e-21,   9.79088341e-21,   9.70991487e-21,\n",
       "          9.62982622e-21,   9.55060694e-21,   9.47224659e-21,\n",
       "          9.39473487e-21,   9.31806155e-21,   9.24221654e-21,\n",
       "          9.16718983e-21,   9.09297152e-21,   9.01955185e-21,\n",
       "          8.94692112e-21,   8.87506977e-21,   8.80398834e-21,\n",
       "          8.73366745e-21,   8.66409786e-21,   8.59527043e-21,\n",
       "          8.52717610e-21,   8.45980595e-21,   8.39315114e-21],\n",
       "       [  5.45854720e-21,   5.41727035e-21,   5.37644243e-21,\n",
       "          5.33605723e-21,   5.29610863e-21,   5.25659064e-21,\n",
       "          5.21749734e-21,   5.17882292e-21,   5.14056167e-21,\n",
       "          5.10270795e-21,   5.06525624e-21,   5.02820108e-21,\n",
       "          4.99153712e-21,   4.95525909e-21,   4.91936179e-21,\n",
       "          4.88384014e-21,   4.84868909e-21,   4.81390372e-21,\n",
       "          4.77947915e-21,   4.74541061e-21,   4.71169337e-21,\n",
       "          4.67832280e-21,   4.64529433e-21,   4.61260348e-21,\n",
       "          4.58024583e-21,   4.54821701e-21,   4.51651276e-21],\n",
       "       [  2.90076085e-21,   2.88251750e-21,   2.86444393e-21,\n",
       "          2.84653807e-21,   2.82879786e-21,   2.81122131e-21,\n",
       "          2.79380643e-21,   2.77655126e-21,   2.75945390e-21,\n",
       "          2.74251243e-21,   2.72572501e-21,   2.70908978e-21,\n",
       "          2.69260494e-21,   2.67626871e-21,   2.66007931e-21,\n",
       "          2.64403503e-21,   2.62813415e-21,   2.61237499e-21,\n",
       "          2.59675589e-21,   2.58127521e-21,   2.56593135e-21,\n",
       "          2.55072271e-21,   2.53564773e-21,   2.52070487e-21,\n",
       "          2.50589260e-21,   2.49120942e-21,   2.47665386e-21],\n",
       "       [  1.64336577e-21,   1.63475414e-21,   1.62621001e-21,\n",
       "          1.61773266e-21,   1.60932141e-21,   1.60097558e-21,\n",
       "          1.59269449e-21,   1.58447748e-21,   1.57632390e-21,\n",
       "          1.56823308e-21,   1.56020439e-21,   1.55223721e-21,\n",
       "          1.54433090e-21,   1.53648484e-21,   1.52869844e-21,\n",
       "          1.52097109e-21,   1.51330220e-21,   1.50569117e-21,\n",
       "          1.49813744e-21,   1.49064043e-21,   1.48319957e-21,\n",
       "          1.47581431e-21,   1.46848410e-21,   1.46120839e-21,\n",
       "          1.45398665e-21,   1.44681834e-21,   1.43970295e-21],\n",
       "       [  9.93782916e-22,   9.89361281e-22,   9.84969226e-22,\n",
       "          9.80606486e-22,   9.76272802e-22,   9.71967916e-22,\n",
       "          9.67691573e-22,   9.63443523e-22,   9.59223515e-22,\n",
       "          9.55031304e-22,   9.50866646e-22,   9.46729301e-22,\n",
       "          9.42619029e-22,   9.38535596e-22,   9.34478768e-22,\n",
       "          9.30448314e-22,   9.26444008e-22,   9.22465622e-22,\n",
       "          9.18512933e-22,   9.14585722e-22,   9.10683769e-22,\n",
       "          9.06806858e-22,   9.02954776e-22,   8.99127310e-22,\n",
       "          8.95324252e-22,   8.91545395e-22,   8.87790534e-22],\n",
       "       [  6.35340967e-22,   6.32893520e-22,   6.30460298e-22,\n",
       "          6.28041189e-22,   6.25636086e-22,   6.23244879e-22,\n",
       "          6.20867462e-22,   6.18503729e-22,   6.16153575e-22,\n",
       "          6.13816895e-22,   6.11493588e-22,   6.09183550e-22,\n",
       "          6.06886681e-22,   6.04602881e-22,   6.02332051e-22,\n",
       "          6.00074092e-22,   5.97828907e-22,   5.95596400e-22,\n",
       "          5.93376476e-22,   5.91169039e-22,   5.88973997e-22,\n",
       "          5.86791257e-22,   5.84620726e-22,   5.82462313e-22,\n",
       "          5.80315929e-22,   5.78181484e-22,   5.76058889e-22],\n",
       "       [  4.25209975e-22,   4.23767923e-22,   4.22333269e-22,\n",
       "          4.20905965e-22,   4.19485959e-22,   4.18073201e-22,\n",
       "          4.16667644e-22,   4.15269236e-22,   4.13877930e-22,\n",
       "          4.12493678e-22,   4.11116432e-22,   4.09746145e-22,\n",
       "          4.08382769e-22,   4.07026258e-22,   4.05676566e-22,\n",
       "          4.04333648e-22,   4.02997457e-22,   4.01667950e-22,\n",
       "          4.00345080e-22,   3.99028805e-22,   3.97719080e-22,\n",
       "          3.96415861e-22,   3.95119106e-22,   3.93828772e-22,\n",
       "          3.92544816e-22,   3.91267196e-22,   3.89995871e-22],\n",
       "       [  2.95519970e-22,   2.94625506e-22,   2.93735149e-22,\n",
       "          2.92848874e-22,   2.91966657e-22,   2.91088471e-22,\n",
       "          2.90214293e-22,   2.89344098e-22,   2.88477863e-22,\n",
       "          2.87615561e-22,   2.86757171e-22,   2.85902669e-22,\n",
       "          2.85052029e-22,   2.84205231e-22,   2.83362249e-22,\n",
       "          2.82523062e-22,   2.81687646e-22,   2.80855979e-22,\n",
       "          2.80028038e-22,   2.79203801e-22,   2.78383246e-22,\n",
       "          2.77566351e-22,   2.76753094e-22,   2.75943453e-22,\n",
       "          2.75137407e-22,   2.74334935e-22,   2.73536015e-22],\n",
       "       [  2.11962215e-22,   2.11383287e-22,   2.10806765e-22,\n",
       "          2.10232635e-22,   2.09660884e-22,   2.09091498e-22,\n",
       "          2.08524465e-22,   2.07959772e-22,   2.07397405e-22,\n",
       "          2.06837352e-22,   2.06279600e-22,   2.05724136e-22,\n",
       "          2.05170948e-22,   2.04620024e-22,   2.04071351e-22,\n",
       "          2.03524916e-22,   2.02980708e-22,   2.02438715e-22,\n",
       "          2.01898924e-22,   2.01361323e-22,   2.00825900e-22,\n",
       "          2.00292644e-22,   1.99761543e-22,   1.99232586e-22,\n",
       "          1.98705760e-22,   1.98181054e-22,   1.97658457e-22],\n",
       "       [  1.56161438e-22,   1.55773106e-22,   1.55386247e-22,\n",
       "          1.55000854e-22,   1.54616920e-22,   1.54234437e-22,\n",
       "          1.53853397e-22,   1.53473794e-22,   1.53095620e-22,\n",
       "          1.52718868e-22,   1.52343531e-22,   1.51969601e-22,\n",
       "          1.51597072e-22,   1.51225937e-22,   1.50856189e-22,\n",
       "          1.50487820e-22,   1.50120824e-22,   1.49755194e-22,\n",
       "          1.49390923e-22,   1.49028004e-22,   1.48666432e-22,\n",
       "          1.48306198e-22,   1.47947296e-22,   1.47589721e-22,\n",
       "          1.47233464e-22,   1.46878520e-22,   1.46524883e-22],\n",
       "       [  1.17763049e-22,   1.17494490e-22,   1.17226868e-22,\n",
       "          1.16960179e-22,   1.16694419e-22,   1.16429583e-22,\n",
       "          1.16165668e-22,   1.15902668e-22,   1.15640579e-22,\n",
       "          1.15379398e-22,   1.15119120e-22,   1.14859741e-22,\n",
       "          1.14601256e-22,   1.14343662e-22,   1.14086955e-22,\n",
       "          1.13831130e-22,   1.13576183e-22,   1.13322110e-22,\n",
       "          1.13068908e-22,   1.12816572e-22,   1.12565098e-22,\n",
       "          1.12314483e-22,   1.12064722e-22,   1.11815812e-22,\n",
       "          1.11567748e-22,   1.11320527e-22,   1.11074145e-22],\n",
       "       [  9.06696193e-23,   9.04788802e-23,   9.02887573e-23,\n",
       "          9.00992481e-23,   8.99103498e-23,   8.97220599e-23,\n",
       "          8.95343756e-23,   8.93472944e-23,   8.91608137e-23,\n",
       "          8.89749309e-23,   8.87896434e-23,   8.86049487e-23,\n",
       "          8.84208441e-23,   8.82373273e-23,   8.80543956e-23,\n",
       "          8.78720466e-23,   8.76902778e-23,   8.75090867e-23,\n",
       "          8.73284708e-23,   8.71484277e-23,   8.69689549e-23,\n",
       "          8.67900501e-23,   8.66117108e-23,   8.64339346e-23,\n",
       "          8.62567192e-23,   8.60800621e-23,   8.59039611e-23],\n",
       "       [  7.11491729e-23,   7.10104380e-23,   7.08721202e-23,\n",
       "          7.07342176e-23,   7.05967287e-23,   7.04596519e-23,\n",
       "          7.03229853e-23,   7.01867274e-23,   7.00508766e-23,\n",
       "          6.99154312e-23,   6.97803896e-23,   6.96457501e-23,\n",
       "          6.95115112e-23,   6.93776713e-23,   6.92442287e-23,\n",
       "          6.91111819e-23,   6.89785294e-23,   6.88462694e-23,\n",
       "          6.87144006e-23,   6.85829212e-23,   6.84518299e-23,\n",
       "          6.83211250e-23,   6.81908050e-23,   6.80608684e-23,\n",
       "          6.79313137e-23,   6.78021393e-23,   6.76733438e-23],\n",
       "       [  5.68324799e-23,   5.67293271e-23,   5.66264640e-23,\n",
       "          5.65238894e-23,   5.64216023e-23,   5.63196015e-23,\n",
       "          5.62178861e-23,   5.61164549e-23,   5.60153069e-23,\n",
       "          5.59144410e-23,   5.58138562e-23,   5.57135513e-23,\n",
       "          5.56135254e-23,   5.55137774e-23,   5.54143063e-23,\n",
       "          5.53151110e-23,   5.52161905e-23,   5.51175438e-23,\n",
       "          5.50191699e-23,   5.49210677e-23,   5.48232362e-23,\n",
       "          5.47256745e-23,   5.46283816e-23,   5.45313563e-23,\n",
       "          5.44345979e-23,   5.43381052e-23,   5.42418772e-23]])"
      ]
     },
     "execution_count": 44,
     "metadata": {},
     "output_type": "execute_result"
    }
   ],
   "source": [
    "Slist"
   ]
  },
  {
   "cell_type": "code",
   "execution_count": null,
   "metadata": {
    "collapsed": false
   },
   "outputs": [],
   "source": [
    "# Multiple scattering\n",
    "nmax=20\n",
    "a = 20e-9 #7e-9\n",
    "r1 =np.array([[-21e-9,-4.5e-9+i*3e-9,-4.5e-9+j*3e-9] for i in range(4) for j in range(4)])\n",
    "ω_p = 9*eV/ℏ #9*eV/ℏ\n",
    "#print(ω_p)\n",
    "ε_inf = 4.6\n",
    "γ_p = 0.1*eV/ℏ\n",
    "ε_b = 2.13\n",
    "#npart=20\n",
    "#r1=sph2cart(np.array([[21e-9,π/2.,2*π*fi/npart] for fi in range(npart)]))\n",
    "npart = r1.shape[0]\n",
    "\n",
    "γ_QE = 0.015*eV/ℏ # Original Delga: 15 meV. Makes the peak too sharp.\n",
    "μ = np.array(npart*[[0.38e-9*e,0,0]])\n",
    "R = np.array([0,1e-6,0]) # detector position\n",
    "startω = 2.7*eV/ℏ\n",
    "stopω = 3.7*eV/ℏ\n",
    "ωlist = np.linspace(startω, stopω, 100)\n",
    "ω_0list = np.linspace(startω*1.05, stopω*0.95, 90)\n",
    "Slist = np.empty(shape=(ωlist.shape[0],ω_0list.shape[0]),dtype=float)\n",
    "Klist = np.empty(shape=(ωlist.shape[0],ω_0list.shape[0],3,3),dtype=np.complex_)\n",
    "Kselflist = np.empty(shape=(ωlist.shape[0],ω_0list.shape[0],3,3),dtype=np.complex_)\n",
    "mKmlist = np.empty(shape=(ωlist.shape[0],ω_0list.shape[0],npart,npart,), dtype=np.complex_)\n",
    "Km_destlist = np.empty(shape=(ωlist.shape[0],ω_0list.shape[0],npart,3), dtype=np.complex_)\n",
    "G_sourcelist = np.empty(shape=(ωlist.shape[0],ω_0list.shape[0],npart,3), dtype=np.complex_)\n",
    "Vlist = np.empty(shape=(ωlist.shape[0],ω_0list.shape[0]),dtype=np.complex_)\n",
    "for i in range(ω_0list.shape[0]):\n",
    "    ω_0 = ω_0list[i]\n",
    "    Ω = ω_0+1j*γ_QE\n",
    "    for j in range(ωlist.shape[0]):\n",
    "        ω = ωlist[j]\n",
    "        V = -(ω*ω/(c*c*ε_0*ℏ))*2*Ω.real/(ω*ω-2j*ω*Ω.imag - abs(Ω)**2)\n",
    "        Vlist[j,i]=V\n",
    "        \n",
    "        ε_m = ε_drude(ε_inf, ω_p, γ_p, ω)\n",
    "        k = ω/c\n",
    "        k_out = math.sqrt(ε_b)*k\n",
    "        k_in = cmath.sqrt(ε_m)*k\n",
    "        RH, RV, TH, TV = mie_coefficients(a, nmax, k_i=k_in, k_e=k_out, μ_i=1, μ_e=1, J_ext=1, J_scat=3)\n",
    "        #G_Mie_scat_precalc_cart_new(source_cart, dest_cart, RH, RV, a, nmax, k_i=k_in, k_e=k_out, μ_i=1, μ_e=1, J_ext=1, J_scat=3)\n",
    "        #print (\"ε_m\",ε_m)\n",
    "        mKm = np.empty((npart, npart),dtype=np.complex_) # source-dest order\n",
    "        Km_dest = np.empty((npart,3),dtype=np.complex_)\n",
    "        Tself = np.empty((npart,),dtype=np.complex_)\n",
    "        M = np.empty((npart, npart), dtype=np.complex_)\n",
    "        for n in range(npart): # n is source index\n",
    "            #print(n,μ[n].shape, r1[n].shape, R.shape)\n",
    "            Km_dest[n] = np.dot(μ[n], G_Mie_scat_precalc_cart_new(r1[n], R, \n",
    "                                                 RH, RV, a, nmax, k_i=k_in, k_e=k_out, μ_i=1, μ_e=1, J_ext=1, J_scat=3) \n",
    "                                               + G0_dip_1(R-r1[n],k_out))\n",
    "            for m in range(npart): # m is dest index\n",
    "                if(m == n):\n",
    "                    #fixme pořadí indexů v greenových funkcích je „nepřirozené“\n",
    "                    mKm[n,m] = np.dot(μ[n], np.dot(G_Mie_scat_precalc_cart_new(r1[n], r1[m], \n",
    "                                                 RH, RV, a, nmax, k_i=k_in, k_e=k_out, μ_i=1, μ_e=1, J_ext=1, J_scat=3) \n",
    "                                               , μ[m])\n",
    "                                     )\n",
    "                else:\n",
    "                    #print(\"To ne!\")\n",
    "                    mKm[n,m] = np.dot(μ[n], np.dot(G_Mie_scat_precalc_cart_new(r1[n], r1[m], \n",
    "                                                RH, RV, a, nmax, k_i=k_in, k_e=k_out, μ_i=1, μ_e=1, J_ext=1, J_scat=3) \n",
    "                                               + G0_dip_1(r1[m]-r1[n],k_out)\n",
    "                                             , μ[m])\n",
    "                                     )\n",
    "            Tself[n] = V/(1-mKm[n,n]*V)\n",
    "            for m in range(npart):\n",
    "                if(m==n):\n",
    "                    M[n,m] = 1\n",
    "                else:\n",
    "                    #print(\"To ne!\")\n",
    "                    M[n,m] = -mKm[n,m]*Tself[n]\n",
    "        M_inv = np.linalg.inv(M)\n",
    "        # NB still source dest order. The dipole moments are already included \n",
    "        # in mKm, Km_dest, so no need to have them here:\n",
    "        T = Tself[ň,:]*M_inv[:,:] \n",
    "        # Delga supplement, eq.(23): Here we have no free radiation in the initial state.\n",
    "        # FIXME PROBLÉM TU???\n",
    "        G_source_n = Km_dest + np.dot(mKm,np.dot(T,Km_dest))\n",
    "        #print(G_source_n.shape)\n",
    "        #K     = G_Mie_scat_cart(source_cart=r1, dest_cart=R,  a=a, nmax=nmax, k_i=k_in, k_e=k_out)+G0_dip_1(R-r1,k_out)\n",
    "        #Klist[j,i]=K\n",
    "        #mKmlist[j,i]=mKm\n",
    "        #Km_destlist[j,i]=Km_dest\n",
    "        #G_sourcelist[j,i]=G_source_n\n",
    "        #Kself = G_Mie_scat_cart(source_cart=r1, dest_cart=r1, a=a, nmax=nmax, k_i=k_in, k_e=k_out)\n",
    "        #Kselflist[j,i]=Kself\n",
    "        # Single QE contribution, eq. (29):\n",
    "        S_n0 = np.dot(((ω*ω/(c*c*ε_0))*np.linalg.norm(G_source_n, axis=-1))**2 , (\n",
    "            np.identity(npart)/abs(ω-Ω)**2 + 1/(ω+Ω)**2))\n",
    "        #den = abs(ω*ω-2j*ω*Ω.imag - abs(Ω)**2 \n",
    "        #   +2*(ω*ω/(c*c*ε_0*ℏ)) * Ω.real*np.dot(μ,np.dot(Kself,μ)))**2\n",
    "        Slist[j,i] = np.sum(S_n0)#num/den*2*(ω*ω+abs(Ω)**2)"
   ]
  },
  {
   "cell_type": "code",
   "execution_count": 58,
   "metadata": {
    "collapsed": false
   },
   "outputs": [
    {
     "data": {
      "text/plain": [
       "array([[ -2.10000000e-08,  -4.50000000e-09,  -4.50000000e-09],\n",
       "       [ -2.10000000e-08,  -4.50000000e-09,  -1.50000000e-09],\n",
       "       [ -2.10000000e-08,  -4.50000000e-09,   1.50000000e-09],\n",
       "       [ -2.10000000e-08,  -4.50000000e-09,   4.50000000e-09],\n",
       "       [ -2.10000000e-08,  -1.50000000e-09,  -4.50000000e-09],\n",
       "       [ -2.10000000e-08,  -1.50000000e-09,  -1.50000000e-09],\n",
       "       [ -2.10000000e-08,  -1.50000000e-09,   1.50000000e-09],\n",
       "       [ -2.10000000e-08,  -1.50000000e-09,   4.50000000e-09],\n",
       "       [ -2.10000000e-08,   1.50000000e-09,  -4.50000000e-09],\n",
       "       [ -2.10000000e-08,   1.50000000e-09,  -1.50000000e-09],\n",
       "       [ -2.10000000e-08,   1.50000000e-09,   1.50000000e-09],\n",
       "       [ -2.10000000e-08,   1.50000000e-09,   4.50000000e-09],\n",
       "       [ -2.10000000e-08,   4.50000000e-09,  -4.50000000e-09],\n",
       "       [ -2.10000000e-08,   4.50000000e-09,  -1.50000000e-09],\n",
       "       [ -2.10000000e-08,   4.50000000e-09,   1.50000000e-09],\n",
       "       [ -2.10000000e-08,   4.50000000e-09,   4.50000000e-09]])"
      ]
     },
     "execution_count": 58,
     "metadata": {},
     "output_type": "execute_result"
    }
   ],
   "source": [
    "np.array([[-21e-9,-4.5e-9+i*3e-9,-4.5e-9+j*3e-9] for i in range(4) for j in range(4)])"
   ]
  },
  {
   "cell_type": "code",
   "execution_count": 60,
   "metadata": {
    "collapsed": false
   },
   "outputs": [
    {
     "data": {
      "text/plain": [
       "<matplotlib.text.Text at 0x7fdd48b3bc50>"
      ]
     },
     "execution_count": 60,
     "metadata": {},
     "output_type": "execute_result"
    },
    {
     "data": {
      "image/png": "[encoded data removed]",
      "text/plain": [
       "<matplotlib.figure.Figure at 0x7fdd4658ccf8>"
      ]
     },
     "metadata": {},
     "output_type": "display_data"
    }
   ],
   "source": [
    "import matplotlib.pyplot as plt\n",
    "import matplotlib.cm as cm\n",
    "from matplotlib.colors import LogNorm\n",
    "%matplotlib inline\n",
    "plt.imshow(Slist, extent=(ω_0list.min()*ℏ/eV, ω_0list.max()*ℏ/eV, ωlist.min()*ℏ/eV, ωlist.max()*ℏ/eV),\n",
    "           interpolation='nearest', norm=LogNorm(), origin='lower', cmap=cm.jet\n",
    "          )\n",
    "plt.colorbar()\n",
    "plt.xlabel('$\\omega_0/\\mathrm{eV}$')\n",
    "plt.ylabel('$\\omega/\\mathrm{eV}$')"
   ]
  },
  {
   "cell_type": "code",
   "execution_count": 61,
   "metadata": {
    "collapsed": false
   },
   "outputs": [
    {
     "name": "stderr",
     "output_type": "stream",
     "text": [
      "/home/necadam1/.local/lib/python3.4/site-packages/ipykernel/__main__.py:93: ComplexWarning: Casting complex values to real discards the imaginary part\n"
     ]
    }
   ],
   "source": [
    "# Multiple scattering\n",
    "nmax=40\n",
    "a = 20e-9 #7e-9\n",
    "r1 =np.array([[-21e-9,-4.5e-9+i*3e-9,-4.5e-9+j*3e-9] for i in range(4) for j in range(4)])\n",
    "ω_p = 9*eV/ℏ #9*eV/ℏ\n",
    "#print(ω_p)\n",
    "ε_inf = 4.6\n",
    "γ_p = 0.1*eV/ℏ\n",
    "ε_b = 2.13\n",
    "#npart=20\n",
    "#r1=sph2cart(np.array([[21e-9,π/2.,2*π*fi/npart] for fi in range(npart)]))\n",
    "npart = r1.shape[0]\n",
    "\n",
    "γ_QE = 0.015*eV/ℏ # Original Delga: 15 meV. Makes the peak too sharp.\n",
    "μ = np.array(npart*[[0.38e-9*e,0,0]])\n",
    "R = np.array([0,1e-6,0]) # detector position\n",
    "startω = 2.7*eV/ℏ\n",
    "stopω = 3.7*eV/ℏ\n",
    "ωlist = np.linspace(startω, stopω, 100)\n",
    "ω_0list = np.linspace(startω*1.05, stopω*0.95, 90)\n",
    "Slist = np.empty(shape=(ωlist.shape[0],ω_0list.shape[0]),dtype=float)\n",
    "Klist = np.empty(shape=(ωlist.shape[0],ω_0list.shape[0],3,3),dtype=np.complex_)\n",
    "Kselflist = np.empty(shape=(ωlist.shape[0],ω_0list.shape[0],3,3),dtype=np.complex_)\n",
    "mKmlist = np.empty(shape=(ωlist.shape[0],ω_0list.shape[0],npart,npart,), dtype=np.complex_)\n",
    "Km_destlist = np.empty(shape=(ωlist.shape[0],ω_0list.shape[0],npart,3), dtype=np.complex_)\n",
    "G_sourcelist = np.empty(shape=(ωlist.shape[0],ω_0list.shape[0],npart,3), dtype=np.complex_)\n",
    "Vlist = np.empty(shape=(ωlist.shape[0],ω_0list.shape[0]),dtype=np.complex_)\n",
    "for i in range(ω_0list.shape[0]):\n",
    "    ω_0 = ω_0list[i]\n",
    "    Ω = ω_0+1j*γ_QE\n",
    "    for j in range(ωlist.shape[0]):\n",
    "        ω = ωlist[j]\n",
    "        V = -(ω*ω/(c*c*ε_0*ℏ))*2*Ω.real/(ω*ω-2j*ω*Ω.imag - abs(Ω)**2)\n",
    "        Vlist[j,i]=V\n",
    "        \n",
    "        ε_m = ε_drude(ε_inf, ω_p, γ_p, ω)\n",
    "        k = ω/c\n",
    "        k_out = math.sqrt(ε_b)*k\n",
    "        k_in = cmath.sqrt(ε_m)*k\n",
    "        RH, RV, TH, TV = mie_coefficients(a, nmax, k_i=k_in, k_e=k_out, μ_i=1, μ_e=1, J_ext=1, J_scat=3)\n",
    "        #G_Mie_scat_precalc_cart_new(source_cart, dest_cart, RH, RV, a, nmax, k_i=k_in, k_e=k_out, μ_i=1, μ_e=1, J_ext=1, J_scat=3)\n",
    "        #print (\"ε_m\",ε_m)\n",
    "        mKm = np.empty((npart, npart),dtype=np.complex_) # source-dest order\n",
    "        Km_dest = np.empty((npart,3),dtype=np.complex_)\n",
    "        Tself = np.empty((npart,),dtype=np.complex_)\n",
    "        M = np.empty((npart, npart), dtype=np.complex_)\n",
    "        for n in range(npart): # n is source index\n",
    "            #print(n,μ[n].shape, r1[n].shape, R.shape)\n",
    "            Km_dest[n] = np.dot(μ[n], G_Mie_scat_precalc_cart_new(r1[n], R, \n",
    "                                                 RH, RV, a, nmax, k_i=k_in, k_e=k_out, μ_i=1, μ_e=1, J_ext=1, J_scat=3) \n",
    "                                               + G0_dip_1(R-r1[n],k_out))\n",
    "            for m in range(npart): # m is dest index\n",
    "                if(m == n):\n",
    "                    #fixme pořadí indexů v greenových funkcích je „nepřirozené“\n",
    "                    mKm[n,m] = np.dot(μ[n], np.dot(G_Mie_scat_precalc_cart_new(r1[n], r1[m], \n",
    "                                                 RH, RV, a, nmax, k_i=k_in, k_e=k_out, μ_i=1, μ_e=1, J_ext=1, J_scat=3) \n",
    "                                               , μ[m])\n",
    "                                     )\n",
    "                else:\n",
    "                    #print(\"To ne!\")\n",
    "                    mKm[n,m] = np.dot(μ[n], np.dot(G_Mie_scat_precalc_cart_new(r1[n], r1[m], \n",
    "                                                RH, RV, a, nmax, k_i=k_in, k_e=k_out, μ_i=1, μ_e=1, J_ext=1, J_scat=3) \n",
    "                                               + G0_dip_1(r1[m]-r1[n],k_out)\n",
    "                                             , μ[m])\n",
    "                                     )\n",
    "            Tself[n] = V/(1-mKm[n,n]*V)\n",
    "            for m in range(npart):\n",
    "                if(m==n):\n",
    "                    M[n,m] = 1\n",
    "                else:\n",
    "                    #print(\"To ne!\")\n",
    "                    M[n,m] = -mKm[n,m]*Tself[n]\n",
    "        M_inv = np.linalg.inv(M)\n",
    "        # NB still source dest order. The dipole moments are already included \n",
    "        # in mKm, Km_dest, so no need to have them here:\n",
    "        T = Tself[ň,:]*M_inv[:,:] \n",
    "        # Delga supplement, eq.(23): Here we have no free radiation in the initial state.\n",
    "        # FIXME PROBLÉM TU???\n",
    "        G_source_n = Km_dest + np.dot(mKm,np.dot(T,Km_dest))\n",
    "        #print(G_source_n.shape)\n",
    "        #K     = G_Mie_scat_cart(source_cart=r1, dest_cart=R,  a=a, nmax=nmax, k_i=k_in, k_e=k_out)+G0_dip_1(R-r1,k_out)\n",
    "        #Klist[j,i]=K\n",
    "        #mKmlist[j,i]=mKm\n",
    "        #Km_destlist[j,i]=Km_dest\n",
    "        #G_sourcelist[j,i]=G_source_n\n",
    "        #Kself = G_Mie_scat_cart(source_cart=r1, dest_cart=r1, a=a, nmax=nmax, k_i=k_in, k_e=k_out)\n",
    "        #Kselflist[j,i]=Kself\n",
    "        # Single QE contribution, eq. (29):\n",
    "        S_n0 = np.dot(((ω*ω/(c*c*ε_0))*np.linalg.norm(G_source_n, axis=-1))**2 , (\n",
    "            np.identity(npart)/abs(ω-Ω)**2 + 1/(ω+Ω)**2))\n",
    "        #den = abs(ω*ω-2j*ω*Ω.imag - abs(Ω)**2 \n",
    "        #   +2*(ω*ω/(c*c*ε_0*ℏ)) * Ω.real*np.dot(μ,np.dot(Kself,μ)))**2\n",
    "        Slist[j,i] = np.sum(S_n0)#num/den*2*(ω*ω+abs(Ω)**2)"
   ]
  },
  {
   "cell_type": "code",
   "execution_count": 62,
   "metadata": {
    "collapsed": false
   },
   "outputs": [
    {
     "data": {
      "text/plain": [
       "<matplotlib.text.Text at 0x7fdd46b9f470>"
      ]
     },
     "execution_count": 62,
     "metadata": {},
     "output_type": "execute_result"
    },
    {
     "data": {
      "image/png": "[encoded data removed]",
      "text/plain": [
       "<matplotlib.figure.Figure at 0x7fdd4806de80>"
      ]
     },
     "metadata": {},
     "output_type": "display_data"
    }
   ],
   "source": [
    "import matplotlib.pyplot as plt\n",
    "import matplotlib.cm as cm\n",
    "from matplotlib.colors import LogNorm\n",
    "%matplotlib inline\n",
    "plt.imshow(Slist, extent=(ω_0list.min()*ℏ/eV, ω_0list.max()*ℏ/eV, ωlist.min()*ℏ/eV, ωlist.max()*ℏ/eV),\n",
    "           interpolation='nearest', norm=LogNorm(), origin='lower', cmap=cm.jet\n",
    "          )\n",
    "plt.colorbar()\n",
    "plt.xlabel('$\\omega_0/\\mathrm{eV}$')\n",
    "plt.ylabel('$\\omega/\\mathrm{eV}$')"
   ]
  },
  {
   "cell_type": "code",
   "execution_count": 63,
   "metadata": {
    "collapsed": false
   },
   "outputs": [
    {
     "name": "stderr",
     "output_type": "stream",
     "text": [
      "/home/necadam1/.local/lib/python3.4/site-packages/ipykernel/__main__.py:93: ComplexWarning: Casting complex values to real discards the imaginary part\n"
     ]
    }
   ],
   "source": [
    "# Multiple scattering\n",
    "nmax=60\n",
    "a = 20e-9 #7e-9\n",
    "r1 =np.array([[-21e-9,-4.5e-9+i*3e-9,-4.5e-9+j*3e-9] for i in range(4) for j in range(4)])\n",
    "ω_p = 9*eV/ℏ #9*eV/ℏ\n",
    "#print(ω_p)\n",
    "ε_inf = 4.6\n",
    "γ_p = 0.1*eV/ℏ\n",
    "ε_b = 2.13\n",
    "#npart=20\n",
    "#r1=sph2cart(np.array([[21e-9,π/2.,2*π*fi/npart] for fi in range(npart)]))\n",
    "npart = r1.shape[0]\n",
    "\n",
    "γ_QE = 0.015*eV/ℏ # Original Delga: 15 meV. Makes the peak too sharp.\n",
    "μ = np.array(npart*[[0.38e-9*e,0,0]])\n",
    "R = np.array([0,1e-6,0]) # detector position\n",
    "startω = 2.7*eV/ℏ\n",
    "stopω = 3.7*eV/ℏ\n",
    "ωlist = np.linspace(startω, stopω, 100)\n",
    "ω_0list = np.linspace(startω*1.05, stopω*0.95, 90)\n",
    "Slist = np.empty(shape=(ωlist.shape[0],ω_0list.shape[0]),dtype=float)\n",
    "Klist = np.empty(shape=(ωlist.shape[0],ω_0list.shape[0],3,3),dtype=np.complex_)\n",
    "Kselflist = np.empty(shape=(ωlist.shape[0],ω_0list.shape[0],3,3),dtype=np.complex_)\n",
    "mKmlist = np.empty(shape=(ωlist.shape[0],ω_0list.shape[0],npart,npart,), dtype=np.complex_)\n",
    "Km_destlist = np.empty(shape=(ωlist.shape[0],ω_0list.shape[0],npart,3), dtype=np.complex_)\n",
    "G_sourcelist = np.empty(shape=(ωlist.shape[0],ω_0list.shape[0],npart,3), dtype=np.complex_)\n",
    "Vlist = np.empty(shape=(ωlist.shape[0],ω_0list.shape[0]),dtype=np.complex_)\n",
    "for i in range(ω_0list.shape[0]):\n",
    "    ω_0 = ω_0list[i]\n",
    "    Ω = ω_0+1j*γ_QE\n",
    "    for j in range(ωlist.shape[0]):\n",
    "        ω = ωlist[j]\n",
    "        V = -(ω*ω/(c*c*ε_0*ℏ))*2*Ω.real/(ω*ω-2j*ω*Ω.imag - abs(Ω)**2)\n",
    "        Vlist[j,i]=V\n",
    "        \n",
    "        ε_m = ε_drude(ε_inf, ω_p, γ_p, ω)\n",
    "        k = ω/c\n",
    "        k_out = math.sqrt(ε_b)*k\n",
    "        k_in = cmath.sqrt(ε_m)*k\n",
    "        RH, RV, TH, TV = mie_coefficients(a, nmax, k_i=k_in, k_e=k_out, μ_i=1, μ_e=1, J_ext=1, J_scat=3)\n",
    "        #G_Mie_scat_precalc_cart_new(source_cart, dest_cart, RH, RV, a, nmax, k_i=k_in, k_e=k_out, μ_i=1, μ_e=1, J_ext=1, J_scat=3)\n",
    "        #print (\"ε_m\",ε_m)\n",
    "        mKm = np.empty((npart, npart),dtype=np.complex_) # source-dest order\n",
    "        Km_dest = np.empty((npart,3),dtype=np.complex_)\n",
    "        Tself = np.empty((npart,),dtype=np.complex_)\n",
    "        M = np.empty((npart, npart), dtype=np.complex_)\n",
    "        for n in range(npart): # n is source index\n",
    "            #print(n,μ[n].shape, r1[n].shape, R.shape)\n",
    "            Km_dest[n] = np.dot(μ[n], G_Mie_scat_precalc_cart_new(r1[n], R, \n",
    "                                                 RH, RV, a, nmax, k_i=k_in, k_e=k_out, μ_i=1, μ_e=1, J_ext=1, J_scat=3) \n",
    "                                               + G0_dip_1(R-r1[n],k_out))\n",
    "            for m in range(npart): # m is dest index\n",
    "                if(m == n):\n",
    "                    #fixme pořadí indexů v greenových funkcích je „nepřirozené“\n",
    "                    mKm[n,m] = np.dot(μ[n], np.dot(G_Mie_scat_precalc_cart_new(r1[n], r1[m], \n",
    "                                                 RH, RV, a, nmax, k_i=k_in, k_e=k_out, μ_i=1, μ_e=1, J_ext=1, J_scat=3) \n",
    "                                               , μ[m])\n",
    "                                     )\n",
    "                else:\n",
    "                    #print(\"To ne!\")\n",
    "                    mKm[n,m] = np.dot(μ[n], np.dot(G_Mie_scat_precalc_cart_new(r1[n], r1[m], \n",
    "                                                RH, RV, a, nmax, k_i=k_in, k_e=k_out, μ_i=1, μ_e=1, J_ext=1, J_scat=3) \n",
    "                                               + G0_dip_1(r1[m]-r1[n],k_out)\n",
    "                                             , μ[m])\n",
    "                                     )\n",
    "            Tself[n] = V/(1-mKm[n,n]*V)\n",
    "            for m in range(npart):\n",
    "                if(m==n):\n",
    "                    M[n,m] = 1\n",
    "                else:\n",
    "                    #print(\"To ne!\")\n",
    "                    M[n,m] = -mKm[n,m]*Tself[n]\n",
    "        M_inv = np.linalg.inv(M)\n",
    "        # NB still source dest order. The dipole moments are already included \n",
    "        # in mKm, Km_dest, so no need to have them here:\n",
    "        T = Tself[ň,:]*M_inv[:,:] \n",
    "        # Delga supplement, eq.(23): Here we have no free radiation in the initial state.\n",
    "        # FIXME PROBLÉM TU???\n",
    "        G_source_n = Km_dest + np.dot(mKm,np.dot(T,Km_dest))\n",
    "        #print(G_source_n.shape)\n",
    "        #K     = G_Mie_scat_cart(source_cart=r1, dest_cart=R,  a=a, nmax=nmax, k_i=k_in, k_e=k_out)+G0_dip_1(R-r1,k_out)\n",
    "        #Klist[j,i]=K\n",
    "        #mKmlist[j,i]=mKm\n",
    "        #Km_destlist[j,i]=Km_dest\n",
    "        #G_sourcelist[j,i]=G_source_n\n",
    "        #Kself = G_Mie_scat_cart(source_cart=r1, dest_cart=r1, a=a, nmax=nmax, k_i=k_in, k_e=k_out)\n",
    "        #Kselflist[j,i]=Kself\n",
    "        # Single QE contribution, eq. (29):\n",
    "        S_n0 = np.dot(((ω*ω/(c*c*ε_0))*np.linalg.norm(G_source_n, axis=-1))**2 , (\n",
    "            np.identity(npart)/abs(ω-Ω)**2 + 1/(ω+Ω)**2))\n",
    "        #den = abs(ω*ω-2j*ω*Ω.imag - abs(Ω)**2 \n",
    "        #   +2*(ω*ω/(c*c*ε_0*ℏ)) * Ω.real*np.dot(μ,np.dot(Kself,μ)))**2\n",
    "        Slist[j,i] = np.sum(S_n0)#num/den*2*(ω*ω+abs(Ω)**2)"
   ]
  },
  {
   "cell_type": "code",
   "execution_count": 64,
   "metadata": {
    "collapsed": false
   },
   "outputs": [
    {
     "data": {
      "text/plain": [
       "<matplotlib.text.Text at 0x7fdd4677ba90>"
      ]
     },
     "execution_count": 64,
     "metadata": {},
     "output_type": "execute_result"
    },
    {
     "data": {
      "image/png": "[encoded data removed]",
      "text/plain": [
       "<matplotlib.figure.Figure at 0x7fdd467698d0>"
      ]
     },
     "metadata": {},
     "output_type": "display_data"
    }
   ],
   "source": [
    "import matplotlib.pyplot as plt\n",
    "import matplotlib.cm as cm\n",
    "from matplotlib.colors import LogNorm\n",
    "%matplotlib inline\n",
    "plt.imshow(Slist, extent=(ω_0list.min()*ℏ/eV, ω_0list.max()*ℏ/eV, ωlist.min()*ℏ/eV, ωlist.max()*ℏ/eV),\n",
    "           interpolation='nearest', norm=LogNorm(), origin='lower', cmap=cm.jet\n",
    "          )\n",
    "plt.colorbar()\n",
    "plt.xlabel('$\\omega_0/\\mathrm{eV}$')\n",
    "plt.ylabel('$\\omega/\\mathrm{eV}$')"
   ]
  },
  {
   "cell_type": "code",
   "execution_count": 6,
   "metadata": {
    "collapsed": false
   },
   "outputs": [
    {
     "data": {
      "text/plain": [
       "<function qpms_c.get_mn_y>"
      ]
     },
     "execution_count": 6,
     "metadata": {},
     "output_type": "execute_result"
    }
   ],
   "source": [
    "get_mn_y"
   ]
  },
  {
   "cell_type": "code",
   "execution_count": null,
   "metadata": {
    "collapsed": true
   },
   "outputs": [],
   "source": []
  }
 ],
 "metadata": {
  "celltoolbar": "Slideshow",
  "kernelspec": {
   "display_name": "Python 3",
   "language": "python",
   "name": "python3"
  },
  "language_info": {
   "codemirror_mode": {
    "name": "ipython",
    "version": 3
   },
   "file_extension": ".py",
   "mimetype": "text/x-python",
   "name": "python",
   "nbconvert_exporter": "python",
   "pygments_lexer": "ipython3",
   "version": "3.4.3"
  }
 },
 "nbformat": 4,
 "nbformat_minor": 0
}
