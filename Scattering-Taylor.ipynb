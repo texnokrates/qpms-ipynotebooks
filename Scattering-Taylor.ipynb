{
 "cells": [
  {
   "cell_type": "code",
   "execution_count": 2,
   "metadata": {
    "collapsed": false
   },
   "outputs": [],
   "source": [
    "%load_ext Cython\n",
    "import numpy as np\n",
    "ň = np.newaxis\n",
    "from scipy.constants import epsilon_0 as ε_0, c, pi as π, e, hbar as ℏ, mu_0 as μ_0\n",
    "eV = e\n",
    "from scipy.special import lpmn, lpmv, sph_jn, sph_yn, poch\n",
    "from scipy.misc import factorial\n",
    "import math\n",
    "import cmath"
   ]
  },
  {
   "cell_type": "code",
   "execution_count": 3,
   "metadata": {
    "collapsed": true
   },
   "outputs": [],
   "source": [
    "%%cython\n",
    "# cythonized functions here\n",
    "cimport numpy as np\n",
    "import numpy as np\n",
    "cimport cython\n",
    "\n",
    "## Auxillary function for retrieving the \"meshgrid-like\" indices; inc. nmax\n",
    "@cython.boundscheck(False)\n",
    "def get_mn_y(int nmax):\n",
    "    \"\"\"\n",
    "    Auxillary function for retreiving the 'meshgrid-like' indices from the flat indexing; \n",
    "    inc. nmax.\n",
    "    ('y to mn' conversion)\n",
    "    \n",
    "    Parameters\n",
    "    ----------\n",
    "\n",
    "    nmax : int\n",
    "        The maximum order to which the VSWFs / Legendre functions etc. will be evaluated.\n",
    "        \n",
    "    Returns\n",
    "    -------\n",
    "    \n",
    "    output : (m, n)\n",
    "        Tuple of two arrays of type np.array(shape=(nmax*nmax + 2*nmax), dtype=np.int),\n",
    "        where [(m[y],n[y]) for y in range(nmax*nmax + 2*nma)] covers all possible \n",
    "        integer pairs n >= 1, -n <= m <= n.\n",
    "    \"\"\"\n",
    "    cdef Py_ssize_t nelems = nmax * nmax + 2 * nmax\n",
    "    cdef np.ndarray[np.int_t,ndim=1] m_arr = np.empty([nelems], dtype=np.int)\n",
    "    cdef np.ndarray[np.int_t,ndim=1] n_arr = np.empty([nelems], dtype=np.int)\n",
    "    cdef Py_ssize_t i = 0\n",
    "    cdef np.int_t n, m\n",
    "    for n in range(1,nmax+1):\n",
    "        for m in range(-n,n+1):\n",
    "            m_arr[i] = m\n",
    "            n_arr[i] = n\n",
    "            i = i + 1\n",
    "    return (m_arr, n_arr)\n",
    "\n",
    "def get_y_mn_unsigned(int nmax): \n",
    "    \"\"\"\n",
    "    Auxillary function for mapping 'unsigned m', n indices to the flat y-indexing.\n",
    "    For use with functions as scipy.special.lpmn, which have to be evaluated separately\n",
    "    for positive and negative m.\n",
    "    \n",
    "    Parameters\n",
    "    ----------\n",
    "\n",
    "    nmax : int\n",
    "        The maximum order to which the VSWFs / Legendre functions etc. will be evaluated.\n",
    "        \n",
    "    output : (ymn_plus, ymn_minus)\n",
    "        Tuple of two arrays of shape (nmax+1,nmax+1), containing the flat y-indices corresponding\n",
    "        to the respective (m,n) and (-m,n). The elements for which |m| > n are set to -1.\n",
    "        (Therefore, the caller must not use those elements equal to -1.)\n",
    "    \"\"\"\n",
    "    cdef np.ndarray[np.intp_t, ndim=2] ymn_plus = np.full((nmax+1,nmax+1),-1, dtype=np.intp)\n",
    "    cdef np.ndarray[np.intp_t, ndim=2] ymn_minus = np.full((nmax+1,nmax+1),-1, dtype=np.intp)\n",
    "    cdef Py_ssize_t i = 0\n",
    "    cdef np.int_t n, m\n",
    "    for n in range(1,nmax+1):\n",
    "        for m in range(-n,0):\n",
    "            ymn_minus[-m,n] = i\n",
    "            i = i + 1\n",
    "        for m in range(0,n+1):\n",
    "            ymn_plus[m,n] = i\n",
    "            i = i + 1\n",
    "    return(ymn_plus, ymn_minus)"
   ]
  },
  {
   "cell_type": "code",
   "execution_count": 4,
   "metadata": {
    "collapsed": false
   },
   "outputs": [],
   "source": [
    "# Coordinate transforms for arrays of \"arbitrary\" shape\n",
    "def cart2sph(cart,axis=-1):\n",
    "    if (cart.shape[axis] != 3):\n",
    "        raise ValueError(\"The converted array has to have dimension 3\"\n",
    "                         \" along the given axis\")\n",
    "    [x, y, z] = np.split(cart,3,axis=axis)\n",
    "    r = np.linalg.norm(cart,axis=axis,keepdims=True)\n",
    "    r_zero = np.logical_not(r)\n",
    "    θ = np.arccos(z/(r+r_zero))\n",
    "    φ = np.arctan2(y,x) # arctan2 handles zeroes correctly itself\n",
    "    return np.concatenate((r,θ,φ),axis=axis)\n",
    "\n",
    "def sph2cart(sph, axis=-1):\n",
    "    if (sph.shape[axis] != 3):\n",
    "        raise ValueError(\"The converted array has to have dimension 3\"\n",
    "                         \" along the given axis\")\n",
    "    [r,θ,φ] = np.split(sph,3,axis=axis)\n",
    "    sinθ = np.sin(θ)\n",
    "    x = r * sinθ * np.cos(φ)\n",
    "    y = r * sinθ * np.sin(φ)\n",
    "    z = r * np.cos(θ)\n",
    "    return np.concatenate((x,y,z),axis=axis)\n",
    "\n",
    "def sph_loccart2cart(loccart, sph, axis=-1):\n",
    "    \"\"\"\n",
    "    Transformation of vector specified in local orthogonal coordinates \n",
    "    (tangential to spherical coordinates – basis r̂,θ̂,φ̂) to global cartesian\n",
    "    coordinates (basis x̂,ŷ,ẑ)\n",
    "    SLOW FOR SMALL ARRAYS\n",
    "    \n",
    "    Parameters\n",
    "    ----------\n",
    "    loccart: ... TODO\n",
    "        the transformed vector in the local orthogonal coordinates\n",
    "        \n",
    "    sph: ... TODO\n",
    "        the point (in spherical coordinates) at which the locally\n",
    "        orthogonal basis is evaluated\n",
    "        \n",
    "    Returns\n",
    "    -------\n",
    "    output: ... TODO\n",
    "        The coordinates of the vector in global cartesian coordinates\n",
    "    \"\"\"\n",
    "    if (loccart.shape[axis] != 3):\n",
    "        raise ValueError(\"The converted array has to have dimension 3\"\n",
    "                         \" along the given axis\")\n",
    "    [r,θ,φ] = np.split(sph,3,axis=axis)\n",
    "    sinθ = np.sin(θ)\n",
    "    cosθ = np.cos(θ)\n",
    "    sinφ = np.sin(φ)\n",
    "    cosφ = np.cos(φ)\n",
    "    \n",
    "    #x = r * sinθ * cosφ\n",
    "    #y = r * sinθ * sinφ\n",
    "    #z = r * cosθ\n",
    "    r̂x = sinθ * cosφ\n",
    "    r̂y = sinθ * sinφ\n",
    "    r̂z = cosθ\n",
    "    θ̂x = cosθ * cosφ\n",
    "    θ̂y = cosθ * sinφ\n",
    "    θ̂z = -sinθ\n",
    "    φ̂x = -sinφ\n",
    "    φ̂y = cosφ\n",
    "    φ̂z = np.zeros(φ̂y.shape)\n",
    "    r̂ = np.concatenate((r̂x,r̂y,r̂z),axis=axis)\n",
    "    θ̂ = np.concatenate((θ̂x,θ̂y,θ̂z),axis=axis)\n",
    "    φ̂ = np.concatenate((φ̂x,φ̂y,φ̂z),axis=axis)\n",
    "    [inr̂,inθ̂,inφ̂] = np.split(loccart,3,axis=axis)\n",
    "    out=inr̂*r̂+inθ̂*θ̂+inφ̂*φ̂\n",
    "    return out\n",
    "\n",
    "def sph_loccart_basis(sph, sphaxis=-1, cartaxis=None):\n",
    "    \"\"\"\n",
    "    Returns the local cartesian basis in terms of global cartesian basis.\n",
    "    sphaxis refers to the original dimensions\n",
    "    TODO doc\n",
    "    \"\"\"\n",
    "    if(cartaxis is None):\n",
    "        cartaxis = sph.ndim # default to last axis\n",
    "    [r,θ,φ] = np.split(sph,3,axis=sphaxis)\n",
    "    sinθ = np.sin(θ)\n",
    "    cosθ = np.cos(θ)\n",
    "    sinφ = np.sin(φ)\n",
    "    cosφ = np.cos(φ)\n",
    "    \n",
    "    #x = r * sinθ * cosφ\n",
    "    #y = r * sinθ * sinφ\n",
    "    #z = r * cosθ\n",
    "    r̂x = sinθ * cosφ\n",
    "    r̂y = sinθ * sinφ\n",
    "    r̂z = cosθ\n",
    "    θ̂x = cosθ * cosφ\n",
    "    θ̂y = cosθ * sinφ\n",
    "    θ̂z = -sinθ\n",
    "    φ̂x = -sinφ\n",
    "    φ̂y = cosφ\n",
    "    φ̂z = np.zeros(φ̂y.shape)\n",
    "    #r̂ = np.concatenate((r̂x,r̂y,r̂z),axis=axis)\n",
    "    #θ̂ = np.concatenate((θ̂x,θ̂y,θ̂z),axis=axis)\n",
    "    #φ̂ = np.concatenate((φ̂x,φ̂y,φ̂z),axis=axis)\n",
    "    x = np.expand_dims(np.concatenate((r̂x,θ̂x,φ̂x), axis=sphaxis),axis=cartaxis)\n",
    "    y = np.expand_dims(np.concatenate((r̂y,θ̂y,φ̂y), axis=sphaxis),axis=cartaxis)\n",
    "    z = np.expand_dims(np.concatenate((r̂z,θ̂z,φ̂z), axis=sphaxis),axis=cartaxis)\n",
    "    out = np.concatenate((x,y,z),axis=cartaxis)\n",
    "    return out\n",
    "\n",
    "def lpy(nmax, z):\n",
    "    \"\"\"\n",
    "    Associated legendre function and its derivatative at z in the 'y-indexing'.\n",
    "    (Without Condon-Shortley phase AFAIK.)\n",
    "    NOT THOROUGHLY TESTED\n",
    "    \n",
    "    Parameters\n",
    "    ----------\n",
    "    \n",
    "    nmax: int\n",
    "        The maximum order to which the Legendre functions will be evaluated..\n",
    "        \n",
    "    z: float\n",
    "        The point at which the Legendre functions are evaluated.\n",
    "        \n",
    "    output: (P_y, dP_y) TODO\n",
    "        y-indexed legendre polynomials and their derivatives\n",
    "    \n",
    "    \"\"\"\n",
    "    pmn_plus, dpmn_plus = lpmn(nmax, nmax, z)\n",
    "    pmn_minus, dpmn_minus = lpmn(-nmax, nmax, z)\n",
    "    nelem = nmax * nmax + 2*nmax\n",
    "    P_y = np.empty((nelem), dtype=np.float_)\n",
    "    dP_y = np.empty((nelem), dtype=np.float_)\n",
    "    mn_p_y, mn_n_y = get_y_mn_unsigned(nmax)\n",
    "    mn_plus_mask = (mn_p_y >= 0)\n",
    "    mn_minus_mask = (mn_n_y >= 0)\n",
    "    #print( mn_n_y[mn_minus_mask])\n",
    "    P_y[mn_p_y[mn_plus_mask]] = pmn_plus[mn_plus_mask]\n",
    "    P_y[mn_n_y[mn_minus_mask]] = pmn_minus[mn_minus_mask]\n",
    "    dP_y[mn_p_y[mn_plus_mask]] = dpmn_plus[mn_plus_mask]\n",
    "    dP_y[mn_n_y[mn_minus_mask]] = dpmn_minus[mn_minus_mask]\n",
    "    return (P_y, dP_y)\n",
    "\n",
    "def vswf_yr(pos_sph,nmax,J=1):\n",
    "    \"\"\"\n",
    "    Normalized vector spherical wavefunctions $\\widetilde{M}_{mn}^{j}$,\n",
    "    $\\widetilde{N}_{mn}^{j}$ as in [1, (2.40)].\n",
    "    \n",
    "    Parameters\n",
    "    ----------\n",
    "    \n",
    "    pos_sph : np.array(dtype=float, shape=(someshape,3))\n",
    "        The positions where the spherical vector waves are to be\n",
    "        evaluated. The last axis corresponds to the individual\n",
    "        points (r,θ,φ). The radial coordinate r is dimensionless,\n",
    "        assuming that it has already been multiplied by the\n",
    "        wavenumber.\n",
    "    \n",
    "    nmax : int\n",
    "        The maximum order to which the VSWFs are evaluated.\n",
    "        \n",
    "    Returns\n",
    "    -------\n",
    "    \n",
    "    output : np.array(dtype=complex, shape=(someshape,nmax*nmax + 2*nmax,3))\n",
    "        Spherical vector wave functions evaluated at pos_sph,\n",
    "        in the local basis (r̂,θ̂,φ̂). The last indices correspond\n",
    "        to m, n (in the ordering given by mnindex()), and basis \n",
    "        vector index, respectively.\n",
    "        \n",
    "    [1] Jonathan M. Taylor. Optical Binding Phenomena: Observations and\n",
    "    Mechanisms.\n",
    "    \"\"\"\n",
    "    #mi, ni = mnindex(nmax)\n",
    "    #nelems = nmax*nmax + 2*nmax\n",
    "    ## TODO Remove these two lines in production:\n",
    "    #if(len(mi) != nelems):\n",
    "    #    raise ValueError(\"This is very wrong.\")\n",
    "    ## Pre-calculate the associated Legendre function\n",
    "    #Prmn, dPrmn = lpmn(nmax,nmax,)\n",
    "    ## Normalized funs π̃, τ̃\n",
    "    #π̃ = \n",
    "    pass\n",
    "\n",
    "from scipy.special import sph_jn, sph_yn\n",
    "def _sph_zn_1(n,z):\n",
    "    return sph_jn(n,z)\n",
    "def _sph_zn_2(n,z):\n",
    "    return sph_yn(n,z)\n",
    "def _sph_zn_3(n,z):\n",
    "    besj=sph_jn(n,z)\n",
    "    besy=sph_yn(n,z)\n",
    "    return (besj[0] + 1j*besy[0],besj[1] + 1j*besy[1])\n",
    "def _sph_zn_4(n,z):\n",
    "    besj=sph_jn(n,z)\n",
    "    besy=sph_yn(n,z)\n",
    "    return (besj[0] - 1j*besy[0],besj[1] - 1j*besy[1])\n",
    "_sph_zn = [_sph_zn_1,_sph_zn_2,_sph_zn_3,_sph_zn_4]\n",
    "\n",
    "# computes bessel/hankel functions for orders from 0 up to n; drops\n",
    "# the derivatives which are also included in scipy.special.sph_jn/yn\n",
    "def zJn(n, z, J=1):\n",
    "    return _sph_zn[J-1](n=n,z=z)\n",
    "\n",
    "\n",
    "\n",
    "# The following 4 funs have to be refactored, possibly merged\n",
    "def π̃_zerolim(nmax): # seems OK\n",
    "    \"\"\"\n",
    "    lim_{θ→ 0-} π̃(cos θ)\n",
    "    \"\"\"\n",
    "    my, ny = get_mn_y(nmax)\n",
    "    nelems = len(my)\n",
    "    π̃_y = np.zeros((nelems))\n",
    "    plus1mmask = (my == 1)\n",
    "    minus1mmask = (my == -1)\n",
    "    pluslim = -ny*(1+ny)/2\n",
    "    minuslim = 0.5\n",
    "    π̃_y[plus1mmask] = pluslim[plus1mmask]\n",
    "    π̃_y[minus1mmask] = - minuslim\n",
    "    prenorm =  np.sqrt((2*ny + 1)*factorial(ny-my)/(4*π*factorial(ny+my)))\n",
    "    π̃_y = prenorm *     π̃_y\n",
    "    return π̃_y\n",
    "\n",
    "def π̃_pilim(nmax): # Taky OK, jen to možná není kompatibilní se vzorečky z mathematiky\n",
    "    \"\"\"\n",
    "    lim_{θ→ π+} π̃(cos θ)\n",
    "    \"\"\"\n",
    "    my, ny = get_mn_y(nmax)\n",
    "    nelems = len(my)\n",
    "    π̃_y = np.zeros((nelems))\n",
    "    plus1mmask = (my == 1)\n",
    "    minus1mmask = (my == -1)\n",
    "    pluslim = (-1)**ny*ny*(1+ny)/2\n",
    "    minuslim = 0.5*(-1)**ny\n",
    "    π̃_y[plus1mmask] = pluslim[plus1mmask]\n",
    "    π̃_y[minus1mmask] = minuslim[minus1mmask]\n",
    "    prenorm =  np.sqrt((2*ny + 1)*factorial(ny-my)/(4*π*factorial(ny+my)))\n",
    "    π̃_y = prenorm *     π̃_y\n",
    "    return π̃_y\n",
    "\n",
    "def τ̃_zerolim(nmax):\n",
    "    \"\"\"\n",
    "    lim_{θ→ 0-} τ̃(cos θ)\n",
    "    \"\"\"\n",
    "    p0 = π̃_zerolim(nmax)\n",
    "    my, ny = get_mn_y(nmax)\n",
    "    minus1mmask = (my == -1)\n",
    "    p0[minus1mmask] = -p0[minus1mmask]\n",
    "    return p0\n",
    "\n",
    "def τ̃_pilim(nmax):\n",
    "    \"\"\"\n",
    "    lim_{θ→  π+} τ̃(cos θ)\n",
    "    \"\"\"\n",
    "    t = π̃_pilim(nmax)\n",
    "    my, ny = get_mn_y(nmax)\n",
    "    plus1mmask = (my == 1)\n",
    "    t[plus1mmask] = -t[plus1mmask]\n",
    "    return t\n",
    "    \n",
    "def get_π̃τ̃_y1(θ,nmax):\n",
    "    # TODO replace with the limit functions (below) when θ approaches\n",
    "    # the extreme values at about 1e-6 distance\n",
    "    \"\"\"\n",
    "    (... TODO)\n",
    "    \n",
    "    \"\"\"\n",
    "    if (abs(θ)<1e-6):\n",
    "        return (π̃_zerolim(nmax),τ̃_zerolim(nmax))\n",
    "    if (abs(θ-π)<1e-6):\n",
    "        return (π̃_pilim(nmax),τ̃_pilim(nmax))\n",
    "    my, ny = get_mn_y(nmax)\n",
    "    nelems = len(my)\n",
    "    Py, dPy = lpy(nmax, math.cos(θ))\n",
    "    prenorm =  np.sqrt((2*ny + 1)*factorial(ny-my)/(4*π*factorial(ny+my)))\n",
    "    π̃_y = prenorm * my * Py / math.sin(θ)  # bacha, možné dělení nulou\n",
    "    τ̃_y = prenorm * dPy * (- math.sin(θ))  # TADY BACHA!!!!!!!!!! * (- math.sin(pos_sph[1])) ???\n",
    "    return (π̃_y,τ̃_y)\n",
    "    \n",
    "def vswf_yr1(pos_sph,nmax,J=1):\n",
    "    \"\"\"\n",
    "    As vswf_yr, but evaluated only at single position (i.e. pos_sph has\n",
    "    to have shape=(3))\n",
    "    \"\"\"\n",
    "    if (pos_sph[1].imag or pos_sph[2].imag):\n",
    "        raise ValueError(\"The angles for the spherical wave functions can not be complex\")\n",
    "    kr = pos_sph[0] if pos_sph[0].imag else pos_sph[0].real # To supress the idiotic warning in scipy.special.sph_jn\n",
    "    θ = pos_sph[1].real\n",
    "    φ = pos_sph[2].real\n",
    "    my, ny = get_mn_y(nmax)\n",
    "    Py, dPy = lpy(nmax, math.cos(θ))\n",
    "    nelems = nmax*nmax + 2*nmax\n",
    "    # TODO Remove these two lines in production:\n",
    "    if(len(Py) != nelems or len(my) != nelems):\n",
    "        raise ValueError(\"This is very wrong.\")\n",
    "    prenorm =  np.sqrt((2*ny + 1)*factorial(ny-my)/(4*π*factorial(ny+my)))\n",
    "    if (abs(θ)<1e-6): # Ošetření limitního chování derivací Leg. fcí\n",
    "        π̃_y=π̃_zerolim(nmax)\n",
    "        τ̃_y=τ̃_zerolim(nmax)\n",
    "    elif (abs(θ-π)<1e-6):\n",
    "        π̃_y=π̃_pilim(nmax)\n",
    "        τ̃_y=τ̃_pilim(nmax)\n",
    "    else:\n",
    "        π̃_y = prenorm * my * Py / math.sin(θ) \n",
    "        τ̃_y = prenorm * dPy * (- math.sin(θ))  # TADY BACHA!!!!!!!!!! * (- math.sin(pos_sph[1])) ???\n",
    "    z_n, dz_n = zJn(nmax, kr, J=J)\n",
    "    z_y = z_n[ny]\n",
    "    dz_y = dz_n[ny]\n",
    "    eimf_y = np.exp(1j*my*φ) # zbytečné opakování my, lepší by bylo to spočítat jednou a vyindexovat\n",
    "    M̃_y = np.zeros((nelems,3), dtype=np.complex_)\n",
    "    M̃_y[:,1] = 1j * π̃_y * eimf_y * z_y\n",
    "    M̃_y[:,2] =  -   τ̃_y * eimf_y * z_y\n",
    "    Ñ_y = np.empty((nelems,3), dtype=np.complex_)\n",
    "    Ñ_y[:,0] = (ny*(ny+1)/kr) * prenorm * Py * eimf_y * z_y\n",
    "    Ñradial_fac_y = z_y / kr + dz_y\n",
    "    Ñ_y[:,1] =    τ̃_y * eimf_y * Ñradial_fac_y\n",
    "    Ñ_y[:,2] = 1j*π̃_y * eimf_y * Ñradial_fac_y\n",
    "    return(M̃_y, Ñ_y)\n",
    "    \n",
    "#def plane_E_y(nmax):\n",
    "#    \"\"\"\n",
    "#    The E_mn normalization factor as in [1, (3)] WITHOUT the E_0 factor,\n",
    "#    y-indexed\n",
    "#    \n",
    "#    (... TODO)\n",
    "#    \n",
    "#    References\n",
    "#    ----------\n",
    "#    [1] Jonathan M. Taylor. Optical Binding Phenomena: Observations and\n",
    "#    Mechanisms. FUCK, I MADE A MISTAKE: THIS IS FROM 7U\n",
    "#    \"\"\"\n",
    "#    my, ny = get_mn_y(nmax)\n",
    "#    return 1j**ny * np.sqrt((2*ny+1)*factorial(ny-my) /\n",
    "#                            (ny*(ny+1)*factorial(ny+my))\n",
    "#    )\n",
    "\n",
    "def zplane_pq_y(nmax, betap = 0):\n",
    "    \"\"\"\n",
    "    The z-propagating plane wave expansion coefficients as in [1, (1.12)]\n",
    "    \n",
    "    (... TODO)\n",
    "    \"\"\"\n",
    "    my, ny = get_mn_y(nmax)\n",
    "    U_y = 4*π * 1j**ny / (ny * (ny+1))\n",
    "    π̃_y = π̃_zerolim(nmax)\n",
    "    τ̃_y = τ̃_zerolim(nmax)\n",
    "    \n",
    "    # fixme co je zač ten e_θ ve vzorečku? (zde neimplementováno)\n",
    "    p_y = U_y*(τ̃_y*math.cos(betap) - 1j*math.sin(betap)*π̃_y)\n",
    "    q_y = U_y*(π̃_y*math.cos(betap) - 1j*math.sin(betap)*τ̃_y)\n",
    "    return (p_y, q_y)\n",
    "    \n",
    "    \n",
    "import warnings\n",
    "def plane_pq_y(nmax, kdir_cart, E_cart):\n",
    "    \"\"\"\n",
    "    The plane wave expansion coefficients for any direction kdir_cart\n",
    "    and amplitude vector E_cart (which might be complex, depending on\n",
    "    the phase and polarisation state). If E_cart and kdir_cart are\n",
    "    not orthogonal, the result should correspond to the k-normal part\n",
    "    of E_cart.\n",
    "    \"\"\"\n",
    "    if np.iscomplexobj(kdir_cart):\n",
    "        warnings.warn(\"The direction vector for the plane wave coefficients should be real. I am discarding the imaginary part now.\")\n",
    "        kdir_cart = kdir_cart.real\n",
    "        \n",
    "    k_sph = cart2sph(kdir_cart)\n",
    "    π̃_y, τ̃_y = get_π̃τ̃_y1(k_sph[1], nmax) \n",
    "    my, ny = get_mn_y(nmax)\n",
    "    U_y = 4*π * 1j**ny / (ny * (ny+1))\n",
    "    θ̂ = sph_loccart2cart(np.array([0,1,0]), k_sph, axis=-1)\n",
    "    φ̂ = sph_loccart2cart(np.array([0,0,1]), k_sph, axis=-1)\n",
    "    p_y = np.sum( U_y[:,ň]\n",
    "                  * np.conj(np.exp(1j*my[:,ň]*k_sph[2]) * (\n",
    "                     θ̂[ň,:]*τ̃_y[:,ň] + 1j*φ̂[ň,:]*π̃_y[:,ň]))\n",
    "                  * E_cart[ň,:],\n",
    "              axis=-1)\n",
    "    q_y = np.sum( U_y[:,ň]\n",
    "                  * np.conj(np.exp(1j*my[:,ň]*k_sph[2]) * (\n",
    "                     θ̂[ň,:]*π̃_y[:,ň] + 1j*φ̂[ň,:]*τ̃_y[:,ň]))\n",
    "                  * E_cart[ň,:],\n",
    "          axis=-1)\n",
    "    return (p_y, q_y)\n",
    "    "
   ]
  },
  {
   "cell_type": "code",
   "execution_count": 5,
   "metadata": {
    "collapsed": false
   },
   "outputs": [],
   "source": [
    "\n",
    "# Functions copied from scattering_xu, additionaly normalized\n",
    "from py_gmm.gmm import vec_trans as vc\n",
    "\n",
    "def q_max(m,n,μ,ν):\n",
    "    return min(n,ν,(n+ν-abs(m+μ))/2)\n",
    "    \n",
    "# returns array with indices corresponding to q\n",
    "# argument q does nothing for now\n",
    "def a_q(m,n,μ,ν,q = None):\n",
    "    qm=q_max(m,n,μ,ν)\n",
    "    res, err= vc.gaunt_xu(m,n,μ,ν,qm)\n",
    "    if(err):\n",
    "        print(\"m,n,μ,ν,qm = \",m,n,μ,ν,qm)\n",
    "        raise ValueError('Something bad in the fortran subroutine gaunt_xu happened')\n",
    "    return res\n",
    "\n",
    "# All arguments are single numbers (for now)\n",
    "# ZDE VYCHÁZEJÍ DIVNÁ ZNAMÉNKA\n",
    "def Ã(m,n,μ,ν,kdlj,θlj,φlj,r_ge_d,J):\n",
    "    exponent=(math.lgamma(2*n+1)-math.lgamma(n+2)+math.lgamma(2*ν+3)-math.lgamma(ν+2) \n",
    "                +math.lgamma(n+ν+m-μ+1)-math.lgamma(n-m+1)-math.lgamma(ν+μ+1)\n",
    "                +math.lgamma(n+ν+1) - math.lgamma(2*(n+ν)+1))\n",
    "    presum = math.exp(exponent)\n",
    "    presum = presum * np.exp(1j*(μ-m)*φlj) * (-1)**m * 1j**(ν+n) / (4*n)\n",
    "    qmax = floor(q_max(-m,n,μ,ν)) #nemá tu být +m?\n",
    "    q = np.arange(qmax+1, dtype=int)\n",
    "    # N.B. -m !!!!!!\n",
    "    a1q = a_q(-m,n,μ,ν) # there is redundant calc. of qmax\n",
    "    ã1q = a1q / a1q[0]\n",
    "    p = n+ν-2*q\n",
    "    if(r_ge_d):\n",
    "        J = 1\n",
    "    zp = zJn(n+ν,kdlj,J)[0][p]\n",
    "    Pp = lpmv(μ-m,p,math.cos(θlj))\n",
    "    summandq = (n*(n+1) + ν*(ν+1) - p*(p+1)) * (-1)**q * ã1q * zp * Pp\n",
    "  \n",
    "    # Taylor normalisation v2, proven to be equivalent (NS which is better)\n",
    "    prenormratio = 1j**(ν-n) * math.sqrt(((2*ν+1)/(2*n+1))* math.exp(\n",
    "        math.lgamma(n+m+1)-math.lgamma(n-m+1)+math.lgamma(ν-μ+1)-math.lgamma(ν+μ+1)))\n",
    "    presum = presum / prenormratio\n",
    "    \n",
    "    # Taylor normalisation\n",
    "    #prenormmn =  math.sqrt((2*n + 1)*math.factorial(n-m)/(4*π*factorial(n+m)))\n",
    "    #prenormμν =  math.sqrt((2*ν + 1)*math.factorial(ν-μ)/(4*π*factorial(ν+μ)))\n",
    "    #presum = presum * prenormμν / prenormmn\n",
    "    \n",
    "    return presum * np.sum(summandq)\n",
    "    \n",
    "# ZDE OPĚT JINAK ZNAMÉNKA než v Xu (J. comp. phys 127, 285)\n",
    "def B̃(m,n,μ,ν,kdlj,θlj,φlj,r_ge_d,J):\n",
    "    exponent=(math.lgamma(2*n+3)-math.lgamma(n+2)+math.lgamma(2*ν+3)-math.lgamma(ν+2) \n",
    "                +math.lgamma(n+ν+m-μ+2)-math.lgamma(n-m+1)-math.lgamma(ν+μ+1)\n",
    "                +math.lgamma(n+ν+2) - math.lgamma(2*(n+ν)+3))\n",
    "    presum = math.exp(exponent)\n",
    "    presum = presum * np.exp(1j*(μ-m)*φlj) * (-1)**m * 1j**(ν+n+1) / (\n",
    "        (4*n)*(n+1)*(n+m+1))\n",
    "    Qmax = floor(q_max(-m,n+1,μ,ν))\n",
    "    q = np.arange(Qmax+1, dtype=int)\n",
    "    if (μ == ν): # it would disappear in the sum because of the factor (ν-μ) anyway\n",
    "        ã2q = 0\n",
    "    else:\n",
    "        a2q = a_q(-m-1,n+1,μ+1,ν)\n",
    "        ã2q = a2q / a2q[0]\n",
    "    a3q = a_q(-m,n+1,μ,ν)\n",
    "    ã3q = a3q / a3q[0]\n",
    "    #print(len(a2q),len(a3q))\n",
    "    p = n+ν-2*q\n",
    "    if(r_ge_d):\n",
    "        J = 1\n",
    "    zp_ = zJn(n+1+ν,kdlj,J)[0][p+1] # je ta +1 správně?\n",
    "    Pp_ = lpmv(μ-m,p+1,math.cos(θlj))\n",
    "    summandq = ((2*(n+1)*(ν-μ)*ã2q\n",
    "                 -(-ν*(ν+1) - n*(n+3) - 2*μ*(n+1)+p*(p+3))* ã3q)\n",
    "                *(-1)**q * zp_ * Pp_)\n",
    "    \n",
    "    # Taylor normalisation v2, proven to be equivalent\n",
    "    prenormratio = 1j**(ν-n) * math.sqrt(((2*ν+1)/(2*n+1))* math.exp(\n",
    "        math.lgamma(n+m+1)-math.lgamma(n-m+1)+math.lgamma(ν-μ+1)-math.lgamma(ν+μ+1)))\n",
    "    presum = presum / prenormratio\n",
    "    \n",
    "    ## Taylor normalisation\n",
    "    #prenormmn =  math.sqrt((2*n + 1)*math.factorial(n-m)/(4*π*factorial(n+m)))\n",
    "    #prenormμν =  math.sqrt((2*ν + 1)*math.factorial(ν-μ)/(4*π*factorial(ν+μ)))\n",
    "    #presum = presum * prenormμν / prenormmn\n",
    "    \n",
    "    return presum * np.sum(summandq)\n",
    " "
   ]
  },
  {
   "cell_type": "code",
   "execution_count": 6,
   "metadata": {
    "collapsed": true
   },
   "outputs": [],
   "source": [
    "# Material parameters\n",
    "def ε_drude(ε_inf, ω_p, γ_p, ω): # RELATIVE permittivity, of course\n",
    "    return ε_inf - ω_p*ω_p/(ω*(ω+1j*γ_p))"
   ]
  },
  {
   "cell_type": "code",
   "execution_count": 7,
   "metadata": {
    "collapsed": false
   },
   "outputs": [],
   "source": [
    "# Mie scattering\n",
    "def mie_coefficients(a, nmax,  #ω, ε_i, ε_e=1, J_ext=1, J_scat=3\n",
    "                               k_i, k_e, μ_i=1, μ_e=1, J_ext=1, J_scat=3):\n",
    "    \"\"\"\n",
    "\n",
    "    FIXME test the magnetic case\n",
    "    TODO description\n",
    "    #\n",
    "    \n",
    "    Parameters\n",
    "    ----------\n",
    "    a : float\n",
    "        Diameter of the sphere.\n",
    "        \n",
    "    nmax : int\n",
    "        To which order (inc. nmax) to compute the coefficients.\n",
    "    \n",
    "    ω : float\n",
    "        Frequency of the radiation\n",
    "    \n",
    "    ε_i, ε_e, μ_i, μ_e : complex\n",
    "        Relative permittivities and permeabilities of the sphere (_i)\n",
    "        and the environment (_e)\n",
    "        MAGNETIC (μ_i, μ_e != 1)  CASE UNTESTED AND PROBABLY BUGGY\n",
    "    \n",
    "    J_ext, J_scat : 1, 2, 3, or 4 (must be different)\n",
    "        Specifies the species of the Bessel/Hankel functions in which\n",
    "        the external incoming (J_ext) and scattered (J_scat) fields\n",
    "        are represented. 1,2,3,4 correspond to j,y,h(1),h(2), respectively.\n",
    "        The returned coefficients are always with respect to the decomposition\n",
    "        of the \"external incoming\" wave.\n",
    "    \n",
    "    Returns\n",
    "    -------\n",
    "    RV == a/p, RH == b/q, TV = d/p, TH = c/q\n",
    "    TODO \n",
    "    what does it return on index 0???\n",
    "    FIXME permeabilities\n",
    "    \"\"\"\n",
    "    # permittivities are relative!\n",
    "    # cf. worknotes\n",
    "    #print(\"a, nmax, ε_m, ε_b, ω\",a, nmax, ε_m, ε_b, ω)\n",
    "    #k_i = cmath.sqrt(ε_i*μ_i) * ω / c\n",
    "    x_i = k_i * a\n",
    "    #k_e = cmath.sqrt(ε_e*μ_e) * ω / c\n",
    "    x_e = k_e * a\n",
    "    #print(\"Mie: phase at radius: x_i\",x_i,\"x_e\",x_e)\n",
    "    m = k_i/k_e#cmath.sqrt(ε_i*μ_i/(ε_e*μ_e))\n",
    "    # We \"need\" the absolute permeabilities for the final formula\n",
    "    # This is not the absolute wave impedance, because only their ratio\n",
    "    # ηi/ηe is important for getting the Mie coefficients.\n",
    "    η_inv_i = k_i / μ_i\n",
    "    η_inv_e = k_e / μ_e\n",
    "    #print(\"k_m, x_m,k_b,x_b\",k_m, x_m,k_b,x_b)\n",
    "    zi, ži = zJn(nmax, x_i, J=1)\n",
    "    #Pi = (zi * x_i)\n",
    "    #Di = (zi + x_i * ži) / Pi # Vzoreček Taylor (2.9)\n",
    "    #ži = zi + x_i * ži\n",
    "    ze, že = zJn(nmax, x_e, J=J_ext)\n",
    "    #Pe = (ze * x_e)\n",
    "    #De = (ze + x_e * že) / Pe # Vzoreček Taylor (2.9)\n",
    "    #že = ze + x_e * že\n",
    "    zs, žs = zJn(nmax, x_e, J=J_scat)\n",
    "    #Ps = (zs * x_e)\n",
    "    #Ds = (zs + x_e * žs) / Ps # Vzoreček Taylor (2.9)\n",
    "    #žs = zs + x_e * zs\n",
    "    #RH = (μ_i*zi*že - μ_e*ze*ži) / (μ_i*zi*žs - μ_e*zs*ži)\n",
    "    #RV = (μ_e*m*m*zi*že - μ_i*ze*ži) / (μ_e*m*m*zi*žs - μ_i*zs*ži)\n",
    "    #TH = (μ_i*ze*žs - μ_i*zs*že) / (μ_i*zi*žs - μ_e*zs*ži)\n",
    "    #TV = (μ_i*m*ze*žs - μ_i*m*zs*že) / (μ_e*m*m*zi*žs - μ_i*zs*ži)\n",
    "    ži = zi/x_i+ži\n",
    "    žs = zs/x_e+žs\n",
    "    že = ze/x_e+že\n",
    "    RV = -((-η_inv_i * že * zi + η_inv_e * ze * ži)/(-η_inv_e * ži * zs + η_inv_i * zi * žs))\n",
    "    RH = -((-η_inv_e * že * zi + η_inv_i * ze * ži)/(-η_inv_i * ži * zs + η_inv_e * zi * žs))\n",
    "    TV = -((-η_inv_e * že * zs + η_inv_e * ze * žs)/( η_inv_e * ži * zs - η_inv_i * zi * žs))\n",
    "    TH = -(( η_inv_e * že * zs - η_inv_e * ze * žs)/(-η_inv_i * ži * zs + η_inv_e * zi * žs)) \n",
    "    return (RH, RV, TH, TV)\n",
    "\n",
    "def G_Mie_scat_precalc_cart_new(source_cart, dest_cart, RH, RV, a, nmax, k_i, k_e, μ_i=1, μ_e=1, J_ext=1, J_scat=3):\n",
    "    \"\"\"\n",
    "    Implementation according to Kristensson, page 50\n",
    "    My (Taylor's) basis functions are normalized to n*(n+1), whereas Kristensson's to 1\n",
    "    TODO: check possible -1 factors (cf. Kristensson's dagger notation)\n",
    "    \"\"\"\n",
    "    my, ny = get_mn_y(nmax)\n",
    "    nelem = len(my)\n",
    "    #source to origin\n",
    "    source_sph = cart2sph(source_cart)\n",
    "    source_sph[0] = k_e * source_sph[0] \n",
    "    dest_sph = cart2sph(dest_cart)\n",
    "    dest_sph[0] = k_e * dest_sph[0]\n",
    "    if(dest_sph[0].real >= source_sph[0].real):\n",
    "        lo_sph = source_sph\n",
    "        hi_sph = dest_sph\n",
    "    else:\n",
    "        lo_sph = dest_sph\n",
    "        hi_sph = source_sph\n",
    "    lo_sph = source_sph\n",
    "    hi_sph = dest_sph\n",
    "        \n",
    "    M̃lo_y, Ñlo_y = vswf_yr1(lo_sph,nmax,J=J_scat)\n",
    "    lo_loccart_basis = sph_loccart_basis(lo_sph, sphaxis=-1, cartaxis=None)\n",
    "    M̃lo_cart_y = np.sum(M̃lo_y[:,:,ň]*lo_loccart_basis[ň,:,:],axis=-2)\n",
    "    Ñlo_cart_y = np.sum(Ñlo_y[:,:,ň]*lo_loccart_basis[ň,:,:],axis=-2)\n",
    "    \n",
    "    M̃hi_y, Ñhi_y = vswf_yr1(hi_sph,nmax,J=J_scat)#J_scat\n",
    "    hi_loccart_basis = sph_loccart_basis(hi_sph, sphaxis=-1, cartaxis=None)\n",
    "    M̃hi_cart_y = np.sum(M̃hi_y[:,:,ň]*hi_loccart_basis[ň,:,:],axis=-2)\n",
    "    Ñhi_cart_y = np.sum(Ñhi_y[:,:,ň]*hi_loccart_basis[ň,:,:],axis=-2)\n",
    "    \n",
    "    G_y = (RH[ny][:,ň,ň] * M̃lo_cart_y[:,:,ň].conj() * M̃hi_cart_y[:,ň,:] + \n",
    "           RV[ny][:,ň,ň] * Ñlo_cart_y[:,:,ň].conj() * Ñhi_cart_y[:,ň,:]) / (ny * (ny+1))[:,ň,ň]\n",
    "    return 1j* k_e*np.sum(G_y,axis=0)\n",
    "    \n",
    "def G_Mie_scat_precalc_cart(source_cart, dest_cart, RH, RV, a, nmax, k_i, k_e, μ_i=1, μ_e=1, J_ext=1, J_scat=3):\n",
    "    \"\"\"\n",
    "    r1_cart (destination), r2_cart (source) and the result are in cartesian coordinates\n",
    "    the result indices are in the source-destination order\n",
    "    TODO\n",
    "    \"\"\"\n",
    "    my, ny = get_mn_y(nmax)\n",
    "    nelem = len(my)\n",
    "    #source to origin\n",
    "    so_sph = cart2sph(-source_cart)\n",
    "    kd_so = k_e * so_sph[0]\n",
    "    θ_so = so_sph[1]\n",
    "    φ_so = so_sph[2]\n",
    "    # Decomposition of the source N_0,1, N_-1,1, and N_1,1 in the nanoparticle center\n",
    "    p_0 = np.empty((nelem), dtype=np.complex_)\n",
    "    q_0 = np.empty((nelem), dtype=np.complex_)\n",
    "    p_minus = np.empty((nelem), dtype=np.complex_)\n",
    "    q_minus = np.empty((nelem), dtype=np.complex_)\n",
    "    p_plus = np.empty((nelem), dtype=np.complex_)\n",
    "    q_plus = np.empty((nelem), dtype=np.complex_)\n",
    "    for y in range(nelem):\n",
    "        m = my[y]\n",
    "        n = ny[y]\n",
    "        p_0[y]     = Ã(m,n, 0,1,kd_so,θ_so,φ_so,False,J=J_scat)\n",
    "        q_0[y]     = B̃(m,n, 0,1,kd_so,θ_so,φ_so,False,J=J_scat)\n",
    "        p_minus[y] = Ã(m,n,-1,1,kd_so,θ_so,φ_so,False,J=J_scat)\n",
    "        q_minus[y] = B̃(m,n,-1,1,kd_so,θ_so,φ_so,False,J=J_scat)\n",
    "        p_plus[y]  = Ã(m,n, 1,1,kd_so,θ_so,φ_so,False,J=J_scat)\n",
    "        q_plus[y]  = B̃(m,n, 1,1,kd_so,θ_so,φ_so,False,J=J_scat)\n",
    "    a_0 = RV[ny] * p_0\n",
    "    b_0 = RH[ny] * q_0\n",
    "    a_plus = RV[ny] * p_plus\n",
    "    b_plus = RH[ny] * q_plus\n",
    "    a_minus = RV[ny] * p_minus\n",
    "    b_minus = RH[ny] * q_minus\n",
    "    orig2dest_sph = cart2sph(dest_cart)\n",
    "    orig2dest_sph[0] = k_e*orig2dest_sph[0]\n",
    "    M_dest_y, N_dest_y = vswf_yr1(orig2dest_sph,nmax,J=J_scat)\n",
    "    # N.B. these are in the local cartesian coordinates (r̂,θ̂,φ̂)\n",
    "    N_dest_0     = np.sum(a_0[:,ň]    * N_dest_y, axis=-2)\n",
    "    M_dest_0     = np.sum(b_0[:,ň]    * M_dest_y, axis=-2)\n",
    "    N_dest_plus  = np.sum(a_plus[:,ň] * N_dest_y, axis=-2)\n",
    "    M_dest_plus  = np.sum(b_plus[:,ň] * M_dest_y, axis=-2)\n",
    "    N_dest_minus = np.sum(a_minus[:,ň]* N_dest_y, axis=-2)\n",
    "    M_dest_minus = np.sum(b_minus[:,ň]* M_dest_y, axis=-2)\n",
    "    prefac = math.sqrt(1/(4*3*π))#/ε_0\n",
    "    G_sourcez_dest = prefac * (N_dest_0+M_dest_0)\n",
    "    G_sourcex_dest = prefac * (N_dest_minus+M_dest_minus-N_dest_plus-M_dest_plus)/math.sqrt(2)\n",
    "    G_sourcey_dest = prefac * (N_dest_minus+M_dest_minus+N_dest_plus+M_dest_plus)/(1j*math.sqrt(2))\n",
    "    G_source_dest = np.array([G_sourcex_dest, G_sourcey_dest, G_sourcez_dest])\n",
    "    # To global cartesian coordinates:\n",
    "    G_source_dest = sph_loccart2cart(G_source_dest, sph=orig2dest_sph, axis=-1)\n",
    "    return G_source_dest\n",
    "    \n",
    "def G_Mie_scat_cart(source_cart, dest_cart, a, nmax, k_i, k_e, μ_i=1, μ_e=1, J_ext=1, J_scat=3):\n",
    "    \"\"\"\n",
    "    TODO\n",
    "    \"\"\"\n",
    "    RH, RV, TH, TV = mie_coefficients(a=a, nmax=nmax, k_i=k_i, k_e=k_e, μ_i=μ_i, μ_e=μ_e, J_ext=J_ext, J_scat=J_scat)\n",
    "    return G_Mie_scat_precalc_cart_new(source_cart, dest_cart, RH, RV, a, nmax, k_i, k_e, μ_i, μ_e, J_ext, J_scat)"
   ]
  },
  {
   "cell_type": "code",
   "execution_count": 8,
   "metadata": {
    "collapsed": true
   },
   "outputs": [],
   "source": [
    "# From PRL 112, 253601 (1)\n",
    "def Grr_Delga(nmax, a, r, k, ε_m, ε_b):\n",
    "    om = k * c\n",
    "    z = (r-a)/a\n",
    "    g0 = om*cmath.sqrt(ε_b)/(6*c*π)\n",
    "    n = np.arange(1,nmax+1)\n",
    "    s = np.sum( (n+1)**2 * (ε_m-ε_b) / ((1+z)**(2*n+4) * (ε_m + ((n+1)/n)*ε_b)))\n",
    "    return (g0 + s * c**2/(4*π*om**2*ε_b*a**3))\n",
    "    "
   ]
  },
  {
   "cell_type": "markdown",
   "metadata": {
    "collapsed": false
   },
   "source": [
    "TODOs\n",
    "====\n",
    "\n",
    "Rewrite the functions zJn, lpy in (at least simulated) universal manner.\n",
    "Then universalise the rest\n",
    "\n",
    "Implement the actual multiple scattering\n",
    "\n",
    "Test if the decomposition of plane wave works also for absorbing environment (complex k)."
   ]
  },
  {
   "cell_type": "code",
   "execution_count": 232,
   "metadata": {
    "collapsed": false,
    "scrolled": false
   },
   "outputs": [
    {
     "data": {
      "text/plain": [
       "[<matplotlib.lines.Line2D at 0x7facbdbb1ba8>]"
      ]
     },
     "execution_count": 232,
     "metadata": {},
     "output_type": "execute_result"
    },
    {
     "data": {
      "image/png": "[encoded data removed]",
      "text/plain": [
       "<matplotlib.figure.Figure at 0x7facbae74748>"
      ]
     },
     "metadata": {},
     "output_type": "display_data"
    }
   ],
   "source": [
    "#Single atom near a nanoparticle, as in PRL 112, 253601. We want to reproduce part of figure 4.\n",
    "\n",
    "#The ordering of R, r_n arguments in eq. (4) has to be checked\n",
    "\n",
    "%matplotlib inline\n",
    "import matplotlib.pyplot as plt\n",
    "\n",
    "a = 7e-9 #7e-9\n",
    "r1 = np.array([8e-9,0,0]) # atom position 8e-9\n",
    "ω_p = 9*eV/ℏ #9*eV/ℏ\n",
    "#print(ω_p)\n",
    "ε_inf = 4.6\n",
    "γ_p = 0.1*eV/ℏ\n",
    "ε_b = 2.13\n",
    "γ_QE = 0.015*eV/ℏ # Original Delga: 15 meV. Makes the peak too sharp.\n",
    "μ = np.array([0.19e-9*e,0,0])\n",
    "\n",
    "R = np.array([0,1e-8,2e-9]) # detector position\n",
    "#R = np.array([0,15e-8,0])\n",
    "ω_0 = 3.30*eV/ℏ\n",
    "Ω = ω_0+1j*γ_QE\n",
    "startω = 2.7*eV/ℏ\n",
    "stopω = 6.0*eV/ℏ\n",
    "nmax=10\n",
    "\n",
    "ωlist = np.linspace(startω, stopω, 300)\n",
    "Slist = np.empty(shape=ωlist.shape,dtype=float)\n",
    "for i in range(ωlist.shape[0]):\n",
    "    ω = ωlist[i]\n",
    "    ε_m = ε_drude(ε_inf, ω_p, γ_p, ω)\n",
    "    k = ω/c\n",
    "    k_out = math.sqrt(ε_b)*k\n",
    "    k_in = cmath.sqrt(ε_m)*k\n",
    "    #print (\"ε_m\",ε_m)\n",
    "    K     = G_Mie_scat_cart(source_cart=r1, dest_cart=R,  a=a, nmax=nmax, k_i=k_in, k_e=k_out)\n",
    "    Kself = G_Mie_scat_cart(source_cart=r1, dest_cart=r1, a=a, nmax=nmax, k_i=k_in, k_e=k_out)\n",
    "    #pref = np.linalg.norm((ω*ω/(c*c*ε_0))*np.dot(G, μ))**2\n",
    "    #postf = 1/abs(ω-Ω)**2+1/abs(ω+Ω)**2\n",
    "    num = np.linalg.norm((ω*ω/(c*c*ε_0))*np.dot(K,μ))**2\n",
    "    den = abs(ω*ω-2j*ω*Ω.imag - abs(Ω)**2 \n",
    "           +2*(ω*ω/(c*c*ε_0*ℏ)) * Ω.real*np.dot(μ,np.dot(Kself,μ)))**2\n",
    "    Slist[i] = num*den*2*(ω*ω+abs(Ω)**2)\n",
    "plt.plot(ωlist*ℏ/eV,Slist)\n"
   ]
  },
  {
   "cell_type": "code",
   "execution_count": null,
   "metadata": {
    "collapsed": true
   },
   "outputs": [],
   "source": [
    "\n",
    "nmax=20\n",
    "a = 7e-9 #7e-9\n",
    "r1 = np.array([8e-9,0,0]) # atom position 8e-9\n",
    "ω_p = 9*eV/ℏ #9*eV/ℏ\n",
    "#print(ω_p)\n",
    "ε_inf = 4.6\n",
    "γ_p = 0.1*eV/ℏ\n",
    "ε_b = 2.13\n",
    "γ_QE = 0.015*eV/ℏ # Original Delga: 15 meV. Makes the peak too sharp.\n",
    "μ = np.array([0.19e-9*e,0,0])\n",
    "\n",
    "R = np.array([0,1e-6,0]) # detector position\n",
    "startω = 2.7*eV/ℏ\n",
    "stopω = 3.7*eV/ℏ\n",
    "ωlist = np.linspace(startω, stopω, 100)\n",
    "ω_0list = np.linspace(startω*1.05, stopω*0.95, 90)\n",
    "Slist = np.empty(shape=(ωlist.shape[0],ω_0list.shape[0]),dtype=float)\n",
    "Klist = np.empty(shape=(ωlist.shape[0],ω_0list.shape[0],3,3),dtype=np.complex_)\n",
    "Kselflist = np.empty(shape=(ωlist.shape[0],ω_0list.shape[0],3,3),dtype=np.complex_)\n",
    "for i in range(ω_0list.shape[0]):\n",
    "    ω_0 = ω_0list[i]\n",
    "    Ω = ω_0+1j*γ_QE\n",
    "    for j in range(ωlist.shape[0]):\n",
    "        ω = ωlist[j]\n",
    "        ε_m = ε_drude(ε_inf, ω_p, γ_p, ω)\n",
    "        k = ω/c\n",
    "        k_out = math.sqrt(ε_b)*k\n",
    "        k_in = cmath.sqrt(ε_m)*k\n",
    "        #print (\"ε_m\",ε_m)\n",
    "        K     = G_Mie_scat_cart(source_cart=r1, dest_cart=R,  a=a, nmax=nmax, k_i=k_in, k_e=k_out)+G0_dip_1(R-r1,k_out)\n",
    "        Klist[j,i]=K\n",
    "        Kself = G_Mie_scat_cart(source_cart=r1, dest_cart=r1, a=a, nmax=nmax, k_i=k_in, k_e=k_out)\n",
    "        Kselflist[j,i]=Kself\n",
    "        num = np.linalg.norm((ω*ω/(c*c*ε_0))*np.dot(K,μ))**2\n",
    "        den = abs(ω*ω-2j*ω*Ω.imag - abs(Ω)**2 \n",
    "           +2*(ω*ω/(c*c*ε_0*ℏ)) * Ω.real*np.dot(μ,np.dot(Kself,μ)))**2\n",
    "        Slist[j,i] = num/den*2*(ω*ω+abs(Ω)**2)\n",
    "        #Slist[k,i] = pref*postf"
   ]
  },
  {
   "cell_type": "code",
   "execution_count": 27,
   "metadata": {
    "collapsed": false
   },
   "outputs": [
    {
     "data": {
      "text/plain": [
       "<matplotlib.text.Text at 0x7fba4be27f28>"
      ]
     },
     "execution_count": 27,
     "metadata": {},
     "output_type": "execute_result"
    },
    {
     "data": {
      "image/png": "[encoded data removed]",
      "text/plain": [
       "<matplotlib.figure.Figure at 0x7fba9c6606a0>"
      ]
     },
     "metadata": {},
     "output_type": "display_data"
    }
   ],
   "source": [
    "%matplotlib inline\n",
    "plt.imshow(Klist[:,:,2,2].real, extent=(ω_0list.min()*ℏ/eV, ω_0list.max()*ℏ/eV, ωlist.min()*ℏ/eV, ωlist.max()*ℏ/eV),\n",
    "           interpolation='nearest', #norm=LogNorm(), \n",
    "           origin='lower', cmap=cm.jet)\n",
    "plt.colorbar()\n",
    "plt.xlabel('$\\omega_0/\\mathrm{eV}$')\n",
    "plt.ylabel('$\\omega/\\mathrm{eV}$')  "
   ]
  },
  {
   "cell_type": "code",
   "execution_count": 28,
   "metadata": {
    "collapsed": false
   },
   "outputs": [
    {
     "data": {
      "text/plain": [
       "<matplotlib.text.Text at 0x7fba8370c080>"
      ]
     },
     "execution_count": 28,
     "metadata": {},
     "output_type": "execute_result"
    },
    {
     "data": {
      "image/png": "[encoded data removed]",
      "text/plain": [
       "<matplotlib.figure.Figure at 0x7fba4ac87a90>"
      ]
     },
     "metadata": {},
     "output_type": "display_data"
    }
   ],
   "source": [
    "%matplotlib inline\n",
    "plt.imshow(Kselflist[:,:,0,0].real, extent=(ω_0list.min()*ℏ/eV, ω_0list.max()*ℏ/eV, ωlist.min()*ℏ/eV, ωlist.max()*ℏ/eV),\n",
    "           interpolation='nearest', #norm=LogNorm(), \n",
    "           origin='lower', cmap=cm.jet)\n",
    "plt.colorbar()\n",
    "plt.xlabel('$\\omega_0/\\mathrm{eV}$')\n",
    "plt.ylabel('$\\omega/\\mathrm{eV}$')  "
   ]
  },
  {
   "cell_type": "code",
   "execution_count": 29,
   "metadata": {
    "collapsed": false
   },
   "outputs": [
    {
     "data": {
      "text/plain": [
       "<matplotlib.text.Text at 0x7fba4baf2d68>"
      ]
     },
     "execution_count": 29,
     "metadata": {},
     "output_type": "execute_result"
    },
    {
     "data": {
      "image/png": "[encoded data removed]",
      "text/plain": [
       "<matplotlib.figure.Figure at 0x7fba4be494e0>"
      ]
     },
     "metadata": {},
     "output_type": "display_data"
    }
   ],
   "source": [
    "import matplotlib.pyplot as plt\n",
    "import matplotlib.cm as cm\n",
    "from matplotlib.colors import LogNorm\n",
    "%matplotlib inline\n",
    "plt.imshow(Slist, extent=(ω_0list.min()*ℏ/eV, ω_0list.max()*ℏ/eV, ωlist.min()*ℏ/eV, ωlist.max()*ℏ/eV),\n",
    "           interpolation='nearest', norm=LogNorm(), origin='lower', cmap=cm.jet)\n",
    "plt.colorbar()\n",
    "plt.xlabel('$\\omega_0/\\mathrm{eV}$')\n",
    "plt.ylabel('$\\omega/\\mathrm{eV}$')\n",
    "#plt.imshow(Slist, extent=(ω_0list.min()*ℏ/eV, ω_0list.max()*ℏ/eV, ωlist.min()*ℏ/eV, ωlist.max()*ℏ/eV),\n",
    "#           interpolation='nearest', norm=LogNorm(''), \n",
    "#           origin='lower', cmap=cm.jet)\n",
    "#plt.colorbar()\n",
    "#plt.xlabel('$\\omega_0/\\mathrm{eV}$')\n",
    "#plt.ylabel('$\\omega/\\mathrm{eV}$')  "
   ]
  },
  {
   "cell_type": "code",
   "execution_count": null,
   "metadata": {
    "collapsed": true
   },
   "outputs": [],
   "source": [
    "# From PRL 112, 253601 (1)\n",
    "def Grr_Delga(nmax, a, r, k, ε_m, ε_b):\n",
    "    om = k * c\n",
    "    z = (r-a)/a\n",
    "    g0 = om*cmath.sqrt(ε_b)/(6*c*π)\n",
    "    n = np.arange(1,nmax+1)\n",
    "    s = np.sum( (n+1)**2 * (ε_m-ε_b) / ((1+z)**(2*n+4) * (ε_m + ((n+1)/n)*ε_b)))\n",
    "    return (g0 + s * c**2/(4*π*om**2*ε_b*a**3))\n",
    "\n",
    "\n",
    "nmax=20\n",
    "a = 7e-9 #7e-9\n",
    "r1 = np.array([8e-9,0,0]) # atom position 8e-9\n",
    "ω_p = 9*eV/ℏ #9*eV/ℏ\n",
    "#print(ω_p)\n",
    "ε_inf = 4.6\n",
    "γ_p = 0.1*eV/ℏ\n",
    "ε_b = 2.13\n",
    "γ_QE = 0.015*eV/ℏ # Original Delga: 15 meV. Makes the peak too sharp.\n",
    "μ = np.array([0.19e-9*e,0,0])\n",
    "\n",
    "R = np.array([0,1e-6,0]) # detector position\n",
    "startω = 2.7*eV/ℏ\n",
    "stopω = 3.7*eV/ℏ\n",
    "ωlist = np.linspace(startω, stopω, 100)\n",
    "ω_0list = np.linspace(startω*1.05, stopω*0.95, 90)\n",
    "Slist = np.empty(shape=(ωlist.shape[0],ω_0list.shape[0]),dtype=float)\n",
    "Klist = np.empty(shape=(ωlist.shape[0],ω_0list.shape[0]),dtype=float)\n",
    "Kselflist = np.empty(shape=(ωlist.shape[0],ω_0list.shape[0]),dtype=float)\n",
    "for i in range(ω_0list.shape[0]):\n",
    "    ω_0 = ω_0list[i]\n",
    "    Ω = ω_0+1j*γ_QE\n",
    "    for j in range(ωlist.shape[0]):\n",
    "        ω = ωlist[j]\n",
    "        ε_m = ε_drude(ε_inf, ω_p, γ_p, ω)\n",
    "        k = ω/c\n",
    "        k_out = math.sqrt(ε_b)*k\n",
    "        k_in = cmath.sqrt(ε_m)*k\n",
    "        #print (\"ε_m\",ε_m)\n",
    "        K     = G_Mie_scat_cart(source_cart=r1, dest_cart=R,  a=a, nmax=nmax, k_i=k_in, k_e=k_out)\n",
    "        Kself = G_Mie_scat_cart(source_cart=r1, dest_cart=r1, a=a, nmax=nmax, k_i=k_in, k_e=k_out)\n",
    "        num = np.linalg.norm((ω*ω/(c*c*ε_0))*np.dot(K,μ))**2\n",
    "        den = abs(ω*ω-2j*ω*Ω.imag - abs(Ω)**2 \n",
    "           +2*(ω*ω/(c*c*ε_0*ℏ)) * Ω.real*np.dot(μ,np.dot(Kself,μ)))**2\n",
    "        Slist[j,i] = num/den*2*(ω*ω+abs(Ω)**2)\n",
    "        #Slist[k,i] = pref*postf\n",
    "        "
   ]
  },
  {
   "cell_type": "code",
   "execution_count": 51,
   "metadata": {
    "collapsed": false,
    "scrolled": true
   },
   "outputs": [],
   "source": [
    "# Draw scattering Green's function\n",
    "%matplotlib inline\n",
    "import matplotlib.pyplot as plt\n",
    "\n",
    "a = 7e-9 #7e-9\n",
    "r1 = np.array([8e-9,0,0]) # atom position 8e-9\n",
    "ω_p = 9*eV/ℏ #9*eV/ℏ\n",
    "#print(ω_p)\n",
    "ε_inf = 4.6\n",
    "γ_p = 0.1*eV/ℏ\n",
    "ε_b = 2.13\n",
    "γ_QE = 0.015*eV/ℏ # Original Delga: 15 meV. Makes the peak too sharp.\n",
    "μ = np.array([0.19e-9*e,0,0])\n",
    "\n",
    "R = np.array([0,1e-8,2e-9]) # detector position\n",
    "#R = np.array([0,15e-8,0])\n",
    "ω_0 = 3.30*eV/ℏ\n",
    "Ω = ω_0+1j*γ_QE\n",
    "startω = 2.7*eV/ℏ\n",
    "stopω = 6.0*eV/ℏ\n",
    "nmax=10\n",
    "\n",
    "ωlist = np.linspace(startω, stopω, 300)\n",
    "Glist = np.empty(shape=ωlist.shape+(3,3),dtype=np.complex_)\n",
    "Gselflist =  np.empty(shape=ωlist.shape+(3,3),dtype=np.complex_)\n",
    "for i in range(ωlist.shape[0]):\n",
    "    ω = ωlist[i]\n",
    "    ε_m = ε_drude(ε_inf, ω_p, γ_p, ω)\n",
    "    k = ω/c\n",
    "    k_out = math.sqrt(ε_b)*k\n",
    "    k_in = cmath.sqrt(ε_m)*k\n",
    "    #print (\"ε_m\",ε_m)\n",
    "    Glist[i] = G_Mie_scat_cart(source_cart=r1, dest_cart=R,  a=a, nmax=nmax, k_i=k_in, k_e=k_out)\n",
    "    Gselflist[i] = G_Mie_scat_cart(source_cart=r1, dest_cart=r1, a=a, nmax=nmax, k_i=k_in, k_e=k_out)"
   ]
  },
  {
   "cell_type": "code",
   "execution_count": 95,
   "metadata": {
    "collapsed": false
   },
   "outputs": [
    {
     "name": "stderr",
     "output_type": "stream",
     "text": [
      "/home/necadam1/.local/lib/python3.4/site-packages/numpy-1.12.0.dev0+c303c9b-py3.4-linux-x86_64.egg/numpy/core/numeric.py:482: ComplexWarning: Casting complex values to real discards the imaginary part\n",
      "  return array(a, dtype, copy=False, order=order)\n"
     ]
    },
    {
     "data": {
      "text/plain": [
       "[<matplotlib.lines.Line2D at 0x7fa749288780>]"
      ]
     },
     "execution_count": 95,
     "metadata": {},
     "output_type": "execute_result"
    },
    {
     "data": {
      "image/png": "[encoded data removed]",
      "text/plain": [
       "<matplotlib.figure.Figure at 0x7fa74939f390>"
      ]
     },
     "metadata": {},
     "output_type": "display_data"
    }
   ],
   "source": [
    "# My own gf\n",
    "plt.plot(ωlist*ℏ/eV, Glist[:,0,0])"
   ]
  },
  {
   "cell_type": "code",
   "execution_count": 96,
   "metadata": {
    "collapsed": false
   },
   "outputs": [
    {
     "name": "stderr",
     "output_type": "stream",
     "text": [
      "/home/necadam1/.local/lib/python3.4/site-packages/numpy-1.12.0.dev0+c303c9b-py3.4-linux-x86_64.egg/numpy/core/numeric.py:482: ComplexWarning: Casting complex values to real discards the imaginary part\n",
      "  return array(a, dtype, copy=False, order=order)\n"
     ]
    },
    {
     "data": {
      "text/plain": [
       "[<matplotlib.lines.Line2D at 0x7fa7492720b8>]"
      ]
     },
     "execution_count": 96,
     "metadata": {},
     "output_type": "execute_result"
    },
    {
     "data": {
      "image/png": "[encoded data removed]",
      "text/plain": [
       "<matplotlib.figure.Figure at 0x7fa7492a7b00>"
      ]
     },
     "metadata": {},
     "output_type": "display_data"
    }
   ],
   "source": [
    "plt.plot(ωlist*ℏ/eV, Gselflist[:,0,0])"
   ]
  },
  {
   "cell_type": "code",
   "execution_count": 110,
   "metadata": {
    "collapsed": true
   },
   "outputs": [],
   "source": [
    "#gf from van Vlack\n",
    "# Draw scattering Green's function\n",
    "%matplotlib inline\n",
    "import matplotlib.pyplot as plt\n",
    "\n",
    "a = 7e-9 #7e-9\n",
    "r1 = np.array([8e-9,0,0]) # atom position 8e-9\n",
    "ω_p = 9*eV/ℏ #9*eV/ℏ\n",
    "#print(ω_p)\n",
    "ε_inf = 4.6\n",
    "γ_p = 0.1*eV/ℏ\n",
    "ε_b = 2.13\n",
    "γ_QE = 0.015*eV/ℏ # Original Delga: 15 meV. Makes the peak too sharp.\n",
    "μ = np.array([0.19e-9*e,0,0])\n",
    "\n",
    "R = np.array([0,1e-8,2e-9]) # detector position\n",
    "#R = np.array([0,15e-8,0])\n",
    "ω_0 = 3.30*eV/ℏ\n",
    "Ω = ω_0+1j*γ_QE\n",
    "startω = 2.7*eV/ℏ\n",
    "stopω = 6.0*eV/ℏ\n",
    "nmax=10\n",
    "\n",
    "ωlist = np.linspace(startω, stopω, 300)\n",
    "Glist = np.empty(shape=ωlist.shape+(3,3),dtype=np.complex_)\n",
    "Gselflist =  np.empty(shape=ωlist.shape+(3,3),dtype=np.complex_)\n",
    "for i in range(ωlist.shape[0]):\n",
    "    ω = ωlist[i]\n",
    "    ε_m = ε_drude(ε_inf, ω_p, γ_p, ω)\n",
    "    k = ω/c\n",
    "    k_out = math.sqrt(ε_b)*k\n",
    "    k_in = cmath.sqrt(ε_m)*k\n",
    "    #print (\"ε_m\",ε_m)\n",
    "    Glist[i] = G_Mie_scat_cart(source_cart=r1, dest_cart=R,  a=a, nmax=nmax, k_i=k_in, k_e=k_out)\n",
    "    Gselflist[i] = G_Mie_scat_cart(source_cart=r1, dest_cart=r1, a=a, nmax=nmax, k_i=k_in, k_e=k_out)"
   ]
  },
  {
   "cell_type": "code",
   "execution_count": 111,
   "metadata": {
    "collapsed": false
   },
   "outputs": [
    {
     "name": "stderr",
     "output_type": "stream",
     "text": [
      "/home/necadam1/.local/lib/python3.4/site-packages/numpy-1.12.0.dev0+c303c9b-py3.4-linux-x86_64.egg/numpy/core/numeric.py:482: ComplexWarning: Casting complex values to real discards the imaginary part\n",
      "  return array(a, dtype, copy=False, order=order)\n"
     ]
    },
    {
     "data": {
      "text/plain": [
       "[<matplotlib.lines.Line2D at 0x7fa74905b400>]"
      ]
     },
     "execution_count": 111,
     "metadata": {},
     "output_type": "execute_result"
    },
    {
     "data": {
      "image/png": "[encoded data removed]",
      "text/plain": [
       "<matplotlib.figure.Figure at 0x7fa748b986a0>"
      ]
     },
     "metadata": {},
     "output_type": "display_data"
    }
   ],
   "source": [
    "plt.plot(ωlist*ℏ/eV, Glist[:,0,0])"
   ]
  },
  {
   "cell_type": "code",
   "execution_count": 112,
   "metadata": {
    "collapsed": false
   },
   "outputs": [
    {
     "name": "stderr",
     "output_type": "stream",
     "text": [
      "/home/necadam1/.local/lib/python3.4/site-packages/numpy-1.12.0.dev0+c303c9b-py3.4-linux-x86_64.egg/numpy/core/numeric.py:482: ComplexWarning: Casting complex values to real discards the imaginary part\n",
      "  return array(a, dtype, copy=False, order=order)\n"
     ]
    },
    {
     "data": {
      "text/plain": [
       "[<matplotlib.lines.Line2D at 0x7fa7499dcac8>]"
      ]
     },
     "execution_count": 112,
     "metadata": {},
     "output_type": "execute_result"
    },
    {
     "data": {
      "image/png": "[encoded data removed]",
      "text/plain": [
       "<matplotlib.figure.Figure at 0x7fa748c040b8>"
      ]
     },
     "metadata": {},
     "output_type": "display_data"
    }
   ],
   "source": [
    "plt.plot(ωlist*ℏ/eV, Gselflist[:,0,0])"
   ]
  },
  {
   "cell_type": "code",
   "execution_count": 16,
   "metadata": {
    "collapsed": false
   },
   "outputs": [],
   "source": [
    "def G0_dip_1(r_cart,k):\n",
    "    \"\"\"\n",
    "    Free-space dyadic Green's function in terms of the spherical vector waves.\n",
    "    FIXME\n",
    "    \"\"\"\n",
    "    sph = cart2sph(r_cart*k)\n",
    "    pfz = 0.32573500793527994772 # 1./math.sqrt(3.*π)\n",
    "    pf = 0.23032943298089031951 # 1./math.sqrt(6.*π)\n",
    "    M1_y, N1_y = vswf_yr1(sph,nmax = 1,J=3)\n",
    "    loccart_basis = sph_loccart_basis(sph, sphaxis=-1, cartaxis=None)\n",
    "    N1_cart = np.sum(N1_y[:,:,ň]*loccart_basis[ň,:,:],axis=-2)\n",
    "    coeffs_cart = np.array([[pf,-1j*pf,0.],[0.,0.,pfz],[-pf,-1j*pf,0.]]).conj()\n",
    "    return 1j*k*np.sum(coeffs_cart[:,:,ň]*N1_cart[:,ň,:],axis=0)/2.\n",
    "\n",
    "# Free-space dyadic Green's functions from RMP 70, 2, 447 =: [1]\n",
    "# (The numerical value is correct only at the regular part, i.e. r != 0)\n",
    "def _P(z):\n",
    "    return (1-1/z+1/(z*z))\n",
    "def _Q(z):\n",
    "    return (-1+3/z-3/(z*z))\n",
    "\n",
    "# [1, (9)] FIXME The sign here is most likely wrong!!!\n",
    "def G0_analytical(r #cartesian!\n",
    "                  , k):\n",
    "    I=np.identity(3)\n",
    "    rn = sph_loccart2cart(np.array([1.,0.,0.]), cart2sph(r), axis=-1)\n",
    "    rnxrn = rn[...,:,ň] * rn[...,ň,:]\n",
    "    r = np.linalg.norm(r, axis=-1)\n",
    "    #print(_P(1j*k*r).shape,_Q(1j*k*r).shape, rnxrn.shape, I.shape)\n",
    "    return ((-np.exp(1j*k*r)/(4*π*r))[...,ň,ň] *\n",
    "                   (_P(1j*k*r)[...,ň,ň]*I\n",
    "                    +_Q(1j*k*r)[...,ň,ň]*rnxrn\n",
    "                   ))\n",
    "\n",
    "# [1, (11)]\n",
    "def G0L_analytical(r, k):\n",
    "    I=np.identity(3)\n",
    "    rn = sph_loccart2cart(np.array([1.,0.,0.]), cart2sph(r), axis=-1)\n",
    "    rnxrn = rn[...,:,ň] * rn[...,ň,:]\n",
    "    r = np.linalg.norm(r, axis=-1)\n",
    "    return (I-3*rnxrn)/(4*π*k*k*r**3)[...,ň,ň]\n",
    "\n",
    "# [1,(10)]\n",
    "def G0T_analytical(r, k):\n",
    "    return G0_analytical(r,k) - G0L_analytical(r,k)\n",
    "\n",
    "\n",
    "def G0_sum_1_slow(source_cart, dest_cart, k, nmax):\n",
    "    my, ny = get_mn_y(nmax)\n",
    "    nelem = len(my) \n",
    "    RH = np.full((nelem),1)\n",
    "    RV = RH\n",
    "    return G_Mie_scat_precalc_cart(source_cart, dest_cart, RH, RV, a=0.001, nmax=nmax, k_i=1, k_e=k, μ_i=1, μ_e=1, J_ext=1, J_scat=3)"
   ]
  },
  {
   "cell_type": "code",
   "execution_count": 222,
   "metadata": {
    "collapsed": false
   },
   "outputs": [
    {
     "name": "stderr",
     "output_type": "stream",
     "text": [
      "/home/necadam1/.local/lib/python3.4/site-packages/ipykernel/__main__.py:91: ComplexWarning: Casting complex values to real discards the imaginary part\n"
     ]
    }
   ],
   "source": [
    "# Multiple scattering\n",
    "nmax=20\n",
    "a = 7e-9 #7e-9\n",
    "r1 = np.array([[8e-9,0,0]])#,[8e-9,0,1e-9],[8e-9,1e-9,1e-9]] ) # atom position 8e-9\n",
    "ω_p = 9*eV/ℏ #9*eV/ℏ\n",
    "#print(ω_p)\n",
    "ε_inf = 4.6\n",
    "γ_p = 0.1*eV/ℏ\n",
    "ε_b = 2.13\n",
    "γ_QE = 0.015*eV/ℏ # Original Delga: 15 meV. Makes the peak too sharp.\n",
    "μ = np.array([[0.19e-9*e,0,0],])#[0.19e-9*e,0,0],[0.19e-9*e,0,0],])\n",
    "\n",
    "npart = r1.shape[0]\n",
    "\n",
    "R = np.array([0,1e-6,0]) # detector position\n",
    "startω = 2.7*eV/ℏ\n",
    "stopω = 3.7*eV/ℏ\n",
    "ωlist = np.linspace(startω, stopω, 100)\n",
    "ω_0list = np.linspace(startω*1.05, stopω*0.95, 90)\n",
    "Slist = np.empty(shape=(ωlist.shape[0],ω_0list.shape[0]),dtype=float)\n",
    "Klist = np.empty(shape=(ωlist.shape[0],ω_0list.shape[0],3,3),dtype=np.complex_)\n",
    "Kselflist = np.empty(shape=(ωlist.shape[0],ω_0list.shape[0],3,3),dtype=np.complex_)\n",
    "mKmlist = np.empty(shape=(ωlist.shape[0],ω_0list.shape[0],npart,npart,), dtype=np.complex_)\n",
    "Km_destlist = np.empty(shape=(ωlist.shape[0],ω_0list.shape[0],npart,3), dtype=np.complex_)\n",
    "G_sourcelist = np.empty(shape=(ωlist.shape[0],ω_0list.shape[0],npart,3), dtype=np.complex_)\n",
    "Vlist = np.empty(shape=(ωlist.shape[0],ω_0list.shape[0]),dtype=np.complex_)\n",
    "for i in range(ω_0list.shape[0]):\n",
    "    ω_0 = ω_0list[i]\n",
    "    Ω = ω_0+1j*γ_QE\n",
    "    for j in range(ωlist.shape[0]):\n",
    "        ω = ωlist[j]\n",
    "        V = -(ω*ω/(c*c*ε_0*ℏ))*2*Ω.real/(ω*ω-2j*ω*Ω.imag - abs(Ω)**2)\n",
    "        Vlist[j,i]=V\n",
    "        \n",
    "        ε_m = ε_drude(ε_inf, ω_p, γ_p, ω)\n",
    "        k = ω/c\n",
    "        k_out = math.sqrt(ε_b)*k\n",
    "        k_in = cmath.sqrt(ε_m)*k\n",
    "        RH, RV, TH, TV = mie_coefficients(a, nmax, k_i=k_in, k_e=k_out, μ_i=1, μ_e=1, J_ext=1, J_scat=3)\n",
    "        #G_Mie_scat_precalc_cart_new(source_cart, dest_cart, RH, RV, a, nmax, k_i=k_in, k_e=k_out, μ_i=1, μ_e=1, J_ext=1, J_scat=3)\n",
    "        #print (\"ε_m\",ε_m)\n",
    "        mKm = np.empty((npart, npart),dtype=np.complex_) # source-dest order\n",
    "        Km_dest = np.empty((npart,3),dtype=np.complex_)\n",
    "        Tself = np.empty((npart,),dtype=np.complex_)\n",
    "        M = np.empty((npart, npart), dtype=np.complex_)\n",
    "        for n in range(npart): # n is source index\n",
    "            Km_dest[n] = np.dot(μ[n], G_Mie_scat_precalc_cart_new(r1[n], R, \n",
    "                                                 RH, RV, a, nmax, k_i=k_in, k_e=k_out, μ_i=1, μ_e=1, J_ext=1, J_scat=3) \n",
    "                                               + G0_dip_1(R-r1[n],k_out))\n",
    "            for m in range(npart): # m is dest index\n",
    "                if(m == n):\n",
    "                    #fixme pořadí indexů v greenových funkcích je „nepřirozené“\n",
    "                    mKm[n,m] = np.dot(μ[n], np.dot(G_Mie_scat_precalc_cart_new(r1[n], r1[m], \n",
    "                                                 RH, RV, a, nmax, k_i=k_in, k_e=k_out, μ_i=1, μ_e=1, J_ext=1, J_scat=3) \n",
    "                                               , μ[m])\n",
    "                                     )\n",
    "                else:\n",
    "                    #print(\"To ne!\")\n",
    "                    mKm[n,m] = np.dot(μ[n], np.dot(G_Mie_scat_precalc_cart_new(r1[n], r1[m], \n",
    "                                                RH, RV, a, nmax, k_i=k_in, k_e=k_out, μ_i=1, μ_e=1, J_ext=1, J_scat=3) \n",
    "                                               + G0_dip_1(r1[m]-r1[n],k_out)\n",
    "                                             , μ[m])\n",
    "                                     )\n",
    "            Tself[n] = V/(1-mKm[n,n]*V)\n",
    "            for m in range(npart):\n",
    "                if(m==n):\n",
    "                    M[n,m] = 1\n",
    "                else:\n",
    "                    #print(\"To ne!\")\n",
    "                    M[n,m] = -mKm[n,m]*Tself[n]\n",
    "        M_inv = np.linalg.inv(M)\n",
    "        # NB still source dest order. The dipole moments are already included \n",
    "        # in mKm, Km_dest, so no need to have them here:\n",
    "        T = Tself[ň,:]*M_inv[:,:] \n",
    "        # Delga supplement, eq.(23): Here we have no free radiation in the initial state.\n",
    "        # FIXME PROBLÉM TU???\n",
    "        G_source_n = Km_dest + np.dot(mKm,np.dot(T,Km_dest))\n",
    "        #print(G_source_n.shape)\n",
    "        #K     = G_Mie_scat_cart(source_cart=r1, dest_cart=R,  a=a, nmax=nmax, k_i=k_in, k_e=k_out)+G0_dip_1(R-r1,k_out)\n",
    "        #Klist[j,i]=K\n",
    "        mKmlist[j,i]=mKm\n",
    "        Km_destlist[j,i]=Km_dest\n",
    "        G_sourcelist[j,i]=G_source_n\n",
    "        #Kself = G_Mie_scat_cart(source_cart=r1, dest_cart=r1, a=a, nmax=nmax, k_i=k_in, k_e=k_out)\n",
    "        #Kselflist[j,i]=Kself\n",
    "        # Single QE contribution, eq. (29):\n",
    "        S_n0 = np.dot(((ω*ω/(c*c*ε_0))*np.linalg.norm(G_source_n, axis=-1))**2 , (\n",
    "            np.identity(npart)/abs(ω-Ω)**2 + 1/(ω+Ω)**2))\n",
    "        #den = abs(ω*ω-2j*ω*Ω.imag - abs(Ω)**2 \n",
    "        #   +2*(ω*ω/(c*c*ε_0*ℏ)) * Ω.real*np.dot(μ,np.dot(Kself,μ)))**2\n",
    "        Slist[j,i] = np.sum(S_n0)#num/den*2*(ω*ω+abs(Ω)**2)"
   ]
  },
  {
   "cell_type": "code",
   "execution_count": 223,
   "metadata": {
    "collapsed": false
   },
   "outputs": [
    {
     "data": {
      "text/plain": [
       "<matplotlib.text.Text at 0x7fba4085dcc0>"
      ]
     },
     "execution_count": 223,
     "metadata": {},
     "output_type": "execute_result"
    },
    {
     "data": {
      "image/png": "[encoded data removed]",
      "text/plain": [
       "<matplotlib.figure.Figure at 0x7fba43def4e0>"
      ]
     },
     "metadata": {},
     "output_type": "display_data"
    }
   ],
   "source": [
    "import matplotlib.pyplot as plt\n",
    "import matplotlib.cm as cm\n",
    "from matplotlib.colors import LogNorm\n",
    "%matplotlib inline\n",
    "plt.imshow(Slist, extent=(ω_0list.min()*ℏ/eV, ω_0list.max()*ℏ/eV, ωlist.min()*ℏ/eV, ωlist.max()*ℏ/eV),\n",
    "           interpolation='nearest', norm=LogNorm(), origin='lower', cmap=cm.jet)\n",
    "plt.colorbar()\n",
    "plt.xlabel('$\\omega_0/\\mathrm{eV}$')\n",
    "plt.ylabel('$\\omega/\\mathrm{eV}$')"
   ]
  },
  {
   "cell_type": "code",
   "execution_count": 224,
   "metadata": {
    "collapsed": false
   },
   "outputs": [
    {
     "name": "stdout",
     "output_type": "stream",
     "text": [
      "(1, 3) (100, 90)\n"
     ]
    },
    {
     "data": {
      "text/plain": [
       "<matplotlib.text.Text at 0x7fba4330d9e8>"
      ]
     },
     "execution_count": 224,
     "metadata": {},
     "output_type": "execute_result"
    },
    {
     "data": {
      "image/png": "[encoded data removed]",
      "text/plain": [
       "<matplotlib.figure.Figure at 0x7fba43f18128>"
      ]
     },
     "metadata": {},
     "output_type": "display_data"
    }
   ],
   "source": [
    "%matplotlib inline\n",
    "print (μ.shape, Vlist.shape)\n",
    "#print (np.tensordot(μ,np.tensordot(Km_destlist,μ, axes=([2,],[0,])),axes=([0,],[2,])).real.shape)\n",
    "plt.imshow(Vlist.real,\n",
    "           extent=(ω_0list.min()*ℏ/eV, ω_0list.max()*ℏ/eV, ωlist.min()*ℏ/eV, ωlist.max()*ℏ/eV),\n",
    "           interpolation='nearest', #norm=LogNorm(), \n",
    "           origin='lower', cmap=cm.jet)\n",
    "plt.colorbar()\n",
    "plt.xlabel('$\\omega_0/\\mathrm{eV}$')\n",
    "plt.ylabel('$\\omega/\\mathrm{eV}$')  "
   ]
  },
  {
   "cell_type": "code",
   "execution_count": 225,
   "metadata": {
    "collapsed": false
   },
   "outputs": [
    {
     "name": "stdout",
     "output_type": "stream",
     "text": [
      "(1, 3) (100, 90, 1, 3)\n"
     ]
    },
    {
     "data": {
      "text/plain": [
       "<matplotlib.text.Text at 0x7fba428949b0>"
      ]
     },
     "execution_count": 225,
     "metadata": {},
     "output_type": "execute_result"
    },
    {
     "data": {
      "image/png": "[encoded data removed]",
      "text/plain": [
       "<matplotlib.figure.Figure at 0x7fba432eba58>"
      ]
     },
     "metadata": {},
     "output_type": "display_data"
    }
   ],
   "source": [
    "%matplotlib inline\n",
    "print (μ.shape, G_sourcelist.shape)\n",
    "#print (np.tensordot(μ,np.tensordot(Km_destlist,μ, axes=([2,],[0,])),axes=([0,],[2,])).real.shape)\n",
    "plt.imshow(np.linalg.norm(G_sourcelist[:,:,0,:],axis=2),\n",
    "           extent=(ω_0list.min()*ℏ/eV, ω_0list.max()*ℏ/eV, ωlist.min()*ℏ/eV, ωlist.max()*ℏ/eV),\n",
    "           interpolation='nearest', #norm=LogNorm(), \n",
    "           origin='lower', cmap=cm.jet)\n",
    "plt.colorbar()\n",
    "plt.xlabel('$\\omega_0/\\mathrm{eV}$')\n",
    "plt.ylabel('$\\omega/\\mathrm{eV}$')  "
   ]
  },
  {
   "cell_type": "code",
   "execution_count": 226,
   "metadata": {
    "collapsed": false
   },
   "outputs": [
    {
     "name": "stdout",
     "output_type": "stream",
     "text": [
      "(1, 3) (100, 90, 1, 3)\n"
     ]
    },
    {
     "data": {
      "text/plain": [
       "<matplotlib.text.Text at 0x7fba41ae5f28>"
      ]
     },
     "execution_count": 226,
     "metadata": {},
     "output_type": "execute_result"
    },
    {
     "data": {
      "image/png": "[encoded data removed]",
      "text/plain": [
       "<matplotlib.figure.Figure at 0x7fba43494278>"
      ]
     },
     "metadata": {},
     "output_type": "display_data"
    }
   ],
   "source": [
    "%matplotlib inline\n",
    "print (μ.shape, Km_destlist.shape)\n",
    "#print (np.tensordot(μ,np.tensordot(Km_destlist,μ, axes=([2,],[0,])),axes=([0,],[2,])).real.shape)\n",
    "plt.imshow(np.linalg.norm(Km_destlist[:,:,0,:],axis=2),\n",
    "           extent=(ω_0list.min()*ℏ/eV, ω_0list.max()*ℏ/eV, ωlist.min()*ℏ/eV, ωlist.max()*ℏ/eV),\n",
    "           interpolation='nearest', #norm=LogNorm(), \n",
    "           origin='lower', cmap=cm.jet)\n",
    "plt.colorbar()\n",
    "plt.xlabel('$\\omega_0/\\mathrm{eV}$')\n",
    "plt.ylabel('$\\omega/\\mathrm{eV}$')  "
   ]
  },
  {
   "cell_type": "code",
   "execution_count": 227,
   "metadata": {
    "collapsed": false
   },
   "outputs": [
    {
     "data": {
      "text/plain": [
       "<matplotlib.text.Text at 0x7fba41b22128>"
      ]
     },
     "execution_count": 227,
     "metadata": {},
     "output_type": "execute_result"
    },
    {
     "data": {
      "image/png": "[encoded data removed]",
      "text/plain": [
       "<matplotlib.figure.Figure at 0x7fba41c3ccf8>"
      ]
     },
     "metadata": {},
     "output_type": "display_data"
    }
   ],
   "source": [
    "%matplotlib inline\n",
    "plt.imshow(abs(mKmlist[:,:,0,0]), extent=(ω_0list.min()*ℏ/eV, ω_0list.max()*ℏ/eV, ωlist.min()*ℏ/eV, ωlist.max()*ℏ/eV),\n",
    "           interpolation='nearest', norm=LogNorm(), \n",
    "           origin='lower', cmap=cm.jet)\n",
    "plt.colorbar()\n",
    "plt.xlabel('$\\omega_0/\\mathrm{eV}$')\n",
    "plt.ylabel('$\\omega/\\mathrm{eV}$')"
   ]
  },
  {
   "cell_type": "code",
   "execution_count": 165,
   "metadata": {
    "collapsed": false
   },
   "outputs": [
    {
     "data": {
      "text/plain": [
       "(-1e-45, 1e-45)"
      ]
     },
     "execution_count": 165,
     "metadata": {},
     "output_type": "execute_result"
    },
    {
     "data": {
      "image/png": "[encoded data removed]",
      "text/plain": [
       "<matplotlib.figure.Figure at 0x7fba48e748d0>"
      ]
     },
     "metadata": {},
     "output_type": "display_data"
    }
   ],
   "source": [
    "plt.plot(ωlist*ℏ/eV,(mKmlist[:,:,0,0]).imag[:,0])\n",
    "plt.xlim(2.75,3.7)\n",
    "plt.ylim(-1e-45,1e-45)"
   ]
  },
  {
   "cell_type": "code",
   "execution_count": 229,
   "metadata": {
    "collapsed": false
   },
   "outputs": [],
   "source": [
    "\n",
    "nmax=20\n",
    "a = 7e-9 #7e-9\n",
    "r1 = np.array([8e-9,0,0]) # atom position 8e-9\n",
    "ω_p = 9*eV/ℏ #9*eV/ℏ\n",
    "#print(ω_p)\n",
    "ε_inf = 4.6\n",
    "γ_p = 0.1*eV/ℏ\n",
    "ε_b = 2.13\n",
    "γ_QE = 0.015*eV/ℏ # Original Delga: 15 meV. Makes the peak too sharp.\n",
    "μ = np.array([0.19e-9*e,0,0])\n",
    "\n",
    "R = np.array([0,1e-6,0]) # detector position\n",
    "startω = 2.7*eV/ℏ\n",
    "stopω = 3.7*eV/ℏ\n",
    "ωlist = np.linspace(startω, stopω, 100)\n",
    "ω_0list = np.linspace(startω*1.05, stopω*0.95, 90)\n",
    "Slist = np.empty(shape=(ωlist.shape[0],ω_0list.shape[0]),dtype=float)\n",
    "Vlist2 = np.empty(shape=(ωlist.shape[0],ω_0list.shape[0]),dtype=np.complex_)\n",
    "Klist = np.empty(shape=(ωlist.shape[0],ω_0list.shape[0],3,3),dtype=np.complex_)\n",
    "Kselflist = np.empty(shape=(ωlist.shape[0],ω_0list.shape[0],3,3),dtype=np.complex_)\n",
    "glist = np.empty(shape=(ωlist.shape[0],ω_0list.shape[0],3,3),dtype=np.complex_)\n",
    "for i in range(ω_0list.shape[0]):\n",
    "    ω_0 = ω_0list[i]\n",
    "    Ω = ω_0+1j*γ_QE\n",
    "    for j in range(ωlist.shape[0]):\n",
    "        RH, RV, TH, TV = mie_coefficients(a, nmax, k_i=k_in, k_e=k_out, μ_i=1, μ_e=1, J_ext=1, J_scat=3)\n",
    "      \n",
    "        ω = ωlist[j]\n",
    "        V = -(ω*ω/(c*c*ε_0*ℏ))*2*Ω.real/(ω*ω-2j*ω*Ω.imag - abs(Ω)**2)\n",
    "        Vlist2[j,i]=V\n",
    "        ε_m = ε_drude(ε_inf, ω_p, γ_p, ω)\n",
    "        k = ω/c\n",
    "        k_out = math.sqrt(ε_b)*k\n",
    "        k_in = cmath.sqrt(ε_m)*k\n",
    "        # FIXME WTF why do I get different results from the two variants (the strip on the bottom of the picture)?\n",
    "        #print (\"ε_m\",ε_m)\n",
    "        #K     =  G_Mie_scat_cart(source_cart=r1, dest_cart=R,  a=a, nmax=nmax, k_i=k_in, k_e=k_out)+G0_dip_1(R-r1,k_out)\n",
    "        K =        G_Mie_scat_precalc_cart_new(r1, R, \n",
    "                                                 RH, RV, a, nmax, k_i=k_in, k_e=k_out, μ_i=1, μ_e=1, J_ext=1, J_scat=3) +G0_dip_1(R-r1,k_out)\n",
    "\n",
    "        Klist[j,i]=K\n",
    "        #Kself = G_Mie_scat_cart(source_cart=r1, dest_cart=r1, a=a, nmax=nmax, k_i=k_in, k_e=k_out)\n",
    "        Kself = G_Mie_scat_precalc_cart_new(r1, r1, \n",
    "                                                 RH, RV, a, nmax, k_i=k_in, k_e=k_out, μ_i=1, μ_e=1, J_ext=1, J_scat=3) \n",
    "\n",
    "        Kselflist[j,i]=Kself\n",
    "\n",
    "        g = K/(1-np.dot(μ,np.dot(Kself,μ))*V)\n",
    "        glist[j,i]=g\n",
    "        Slist[j,i] = np.linalg.norm(ω*ω/(c*c*ε_0)*np.dot(g,μ))**2*(1/abs(ω-Ω)**2 + 1/abs(ω+Ω)**2)\n",
    "        #num = np.linalg.norm((ω*ω/(c*c*ε_0))*np.dot(K,μ))**2\n",
    "        #den = abs(ω*ω-2j*ω*Ω.imag - abs(Ω)**2 \n",
    "        #   +2*(ω*ω/(c*c*ε_0*ℏ)) * Ω.real*np.dot(μ,np.dot(Kself,μ)))**2\n",
    "        #Slist[j,i] = num/den*2*(ω*ω+abs(Ω)**2)\n",
    "        #Slist[k,i] = pref*postf"
   ]
  },
  {
   "cell_type": "code",
   "execution_count": 230,
   "metadata": {
    "collapsed": false
   },
   "outputs": [
    {
     "data": {
      "text/plain": [
       "<matplotlib.text.Text at 0x7fba43494d68>"
      ]
     },
     "execution_count": 230,
     "metadata": {},
     "output_type": "execute_result"
    },
    {
     "data": {
      "image/png": "[encoded data removed]",
      "text/plain": [
       "<matplotlib.figure.Figure at 0x7fba428d7048>"
      ]
     },
     "metadata": {},
     "output_type": "display_data"
    }
   ],
   "source": [
    "import matplotlib.pyplot as plt\n",
    "import matplotlib.cm as cm\n",
    "from matplotlib.colors import LogNorm\n",
    "%matplotlib inline\n",
    "plt.imshow(Slist, extent=(ω_0list.min()*ℏ/eV, ω_0list.max()*ℏ/eV, ωlist.min()*ℏ/eV, ωlist.max()*ℏ/eV),\n",
    "           interpolation='nearest', norm=LogNorm(), origin='lower', cmap=cm.jet)\n",
    "plt.colorbar()\n",
    "plt.xlabel('$\\omega_0/\\mathrm{eV}$')\n",
    "plt.ylabel('$\\omega/\\mathrm{eV}$')"
   ]
  },
  {
   "cell_type": "code",
   "execution_count": 216,
   "metadata": {
    "collapsed": false
   },
   "outputs": [
    {
     "name": "stdout",
     "output_type": "stream",
     "text": [
      "(3,) (100, 90, 3, 3)\n"
     ]
    },
    {
     "data": {
      "text/plain": [
       "<matplotlib.text.Text at 0x7fba41cac278>"
      ]
     },
     "execution_count": 216,
     "metadata": {},
     "output_type": "execute_result"
    },
    {
     "data": {
      "image/png": "[encoded data removed]",
      "text/plain": [
       "<matplotlib.figure.Figure at 0x7fba453ee8d0>"
      ]
     },
     "metadata": {},
     "output_type": "display_data"
    }
   ],
   "source": [
    "%matplotlib inline\n",
    "print (μ.shape, glist.shape)\n",
    "#print (np.dot(μ,glist).shape)\n",
    "plt.imshow(np.linalg.norm(np.dot(μ,glist),axis=2),\n",
    "           extent=(ω_0list.min()*ℏ/eV, ω_0list.max()*ℏ/eV, ωlist.min()*ℏ/eV, ωlist.max()*ℏ/eV),\n",
    "           interpolation='nearest', #norm=LogNorm(), \n",
    "           origin='lower', cmap=cm.jet)\n",
    "plt.colorbar()\n",
    "plt.xlabel('$\\omega_0/\\mathrm{eV}$')\n",
    "plt.ylabel('$\\omega/\\mathrm{eV}$')  "
   ]
  },
  {
   "cell_type": "code",
   "execution_count": 196,
   "metadata": {
    "collapsed": false
   },
   "outputs": [
    {
     "name": "stdout",
     "output_type": "stream",
     "text": [
      "(3,) (100, 90, 3, 3)\n",
      "(100, 90, 3)\n"
     ]
    },
    {
     "data": {
      "text/plain": [
       "<matplotlib.text.Text at 0x7fba4391f940>"
      ]
     },
     "execution_count": 196,
     "metadata": {},
     "output_type": "execute_result"
    },
    {
     "data": {
      "image/png": "[encoded data removed]",
      "text/plain": [
       "<matplotlib.figure.Figure at 0x7fba49b53860>"
      ]
     },
     "metadata": {},
     "output_type": "display_data"
    }
   ],
   "source": [
    "%matplotlib inline\n",
    "print (μ.shape, Klist.shape)\n",
    "print (np.dot(μ,Klist).shape)\n",
    "plt.imshow(np.linalg.norm(np.dot(μ,Klist),axis=2),\n",
    "           extent=(ω_0list.min()*ℏ/eV, ω_0list.max()*ℏ/eV, ωlist.min()*ℏ/eV, ωlist.max()*ℏ/eV),\n",
    "           interpolation='nearest', #norm=LogNorm(), \n",
    "           origin='lower', cmap=cm.jet)\n",
    "plt.colorbar()\n",
    "plt.xlabel('$\\omega_0/\\mathrm{eV}$')\n",
    "plt.ylabel('$\\omega/\\mathrm{eV}$')  "
   ]
  },
  {
   "cell_type": "code",
   "execution_count": 197,
   "metadata": {
    "collapsed": false
   },
   "outputs": [
    {
     "name": "stdout",
     "output_type": "stream",
     "text": [
      "(3,) (100, 90, 3, 3)\n",
      "(100, 90)\n"
     ]
    },
    {
     "data": {
      "text/plain": [
       "<matplotlib.text.Text at 0x7fba452fce80>"
      ]
     },
     "execution_count": 197,
     "metadata": {},
     "output_type": "execute_result"
    },
    {
     "data": {
      "image/png": "[encoded data removed]",
      "text/plain": [
       "<matplotlib.figure.Figure at 0x7fba43d3c320>"
      ]
     },
     "metadata": {},
     "output_type": "display_data"
    }
   ],
   "source": [
    "%matplotlib inline\n",
    "print (μ.shape, Klist.shape)\n",
    "print (np.tensordot(μ,np.tensordot(Klist,μ, axes=([2,],[0,])),axes=([0,],[2,])).real.shape)\n",
    "plt.imshow(np.tensordot(μ,np.tensordot(Klist,μ, axes=([2,],[0,])),axes=([0,],[2,])).real,\n",
    "           extent=(ω_0list.min()*ℏ/eV, ω_0list.max()*ℏ/eV, ωlist.min()*ℏ/eV, ωlist.max()*ℏ/eV),\n",
    "           interpolation='nearest', #norm=LogNorm(), \n",
    "           origin='lower', cmap=cm.jet)\n",
    "plt.colorbar()\n",
    "plt.xlabel('$\\omega_0/\\mathrm{eV}$')\n",
    "plt.ylabel('$\\omega/\\mathrm{eV}$')  "
   ]
  },
  {
   "cell_type": "code",
   "execution_count": 206,
   "metadata": {
    "collapsed": false
   },
   "outputs": [
    {
     "name": "stdout",
     "output_type": "stream",
     "text": [
      "(3,) (100, 90, 3, 3)\n",
      "(100, 90)\n"
     ]
    },
    {
     "data": {
      "text/plain": [
       "<matplotlib.text.Text at 0x7fba42bae4a8>"
      ]
     },
     "execution_count": 206,
     "metadata": {},
     "output_type": "execute_result"
    },
    {
     "data": {
      "image/png": "[encoded data removed]",
      "text/plain": [
       "<matplotlib.figure.Figure at 0x7fba45e00d30>"
      ]
     },
     "metadata": {},
     "output_type": "display_data"
    }
   ],
   "source": [
    "%matplotlib inline\n",
    "print (μ.shape, Kselflist.shape)\n",
    "print (np.tensordot(μ,np.tensordot(Kselflist,μ, axes=([2,],[0,])),axes=([0,],[2,])).real.shape)\n",
    "plt.imshow(abs(np.tensordot(μ,np.tensordot(Kselflist,μ, axes=([2,],[0,])),axes=([0,],[2,])).real),\n",
    "           extent=(ω_0list.min()*ℏ/eV, ω_0list.max()*ℏ/eV, ωlist.min()*ℏ/eV, ωlist.max()*ℏ/eV),\n",
    "           interpolation='nearest', norm=LogNorm(), \n",
    "           origin='lower', cmap=cm.jet)\n",
    "plt.colorbar()\n",
    "plt.xlabel('$\\omega_0/\\mathrm{eV}$')\n",
    "plt.ylabel('$\\omega/\\mathrm{eV}$')  "
   ]
  },
  {
   "cell_type": "code",
   "execution_count": 217,
   "metadata": {
    "collapsed": false
   },
   "outputs": [
    {
     "data": {
      "text/plain": [
       "<matplotlib.text.Text at 0x7fba427f2390>"
      ]
     },
     "execution_count": 217,
     "metadata": {},
     "output_type": "execute_result"
    },
    {
     "data": {
      "image/png": "[encoded data removed]",
      "text/plain": [
       "<matplotlib.figure.Figure at 0x7fba41a732b0>"
      ]
     },
     "metadata": {},
     "output_type": "display_data"
    }
   ],
   "source": [
    "%matplotlib inline\n",
    "plt.imshow(abs(Vlist2*np.tensordot(μ,np.tensordot(Kselflist,μ, axes=([2,],[0,])),axes=([0,],[2,]))),\n",
    "           extent=(ω_0list.min()*ℏ/eV, ω_0list.max()*ℏ/eV, ωlist.min()*ℏ/eV, ωlist.max()*ℏ/eV),\n",
    "           interpolation='nearest', norm=LogNorm(), \n",
    "           origin='lower', cmap=cm.jet)\n",
    "plt.colorbar()\n",
    "plt.xlabel('$\\omega_0/\\mathrm{eV}$')\n",
    "plt.ylabel('$\\omega/\\mathrm{eV}$')  "
   ]
  },
  {
   "cell_type": "code",
   "execution_count": 218,
   "metadata": {
    "collapsed": false
   },
   "outputs": [
    {
     "data": {
      "text/plain": [
       "<matplotlib.text.Text at 0x7fba41cbbba8>"
      ]
     },
     "execution_count": 218,
     "metadata": {},
     "output_type": "execute_result"
    },
    {
     "data": {
      "image/png": "[encoded data removed]",
      "text/plain": [
       "<matplotlib.figure.Figure at 0x7fba416dee10>"
      ]
     },
     "metadata": {},
     "output_type": "display_data"
    }
   ],
   "source": [
    "%matplotlib inline\n",
    "plt.imshow(Vlist2.real,\n",
    "           extent=(ω_0list.min()*ℏ/eV, ω_0list.max()*ℏ/eV, ωlist.min()*ℏ/eV, ωlist.max()*ℏ/eV),\n",
    "           interpolation='nearest', #norm=LogNorm(), \n",
    "           origin='lower', cmap=cm.jet)\n",
    "plt.colorbar()\n",
    "plt.xlabel('$\\omega_0/\\mathrm{eV}$')\n",
    "plt.ylabel('$\\omega/\\mathrm{eV}$')  "
   ]
  },
  {
   "cell_type": "code",
   "execution_count": 164,
   "metadata": {
    "collapsed": false
   },
   "outputs": [
    {
     "data": {
      "text/plain": [
       "(-1e-45, 1e-45)"
      ]
     },
     "execution_count": 164,
     "metadata": {},
     "output_type": "execute_result"
    },
    {
     "data": {
      "image/png": "[encoded data removed]",
      "text/plain": [
       "<matplotlib.figure.Figure at 0x7fba47ea7208>"
      ]
     },
     "metadata": {},
     "output_type": "display_data"
    }
   ],
   "source": [
    "plt.plot(ωlist*ℏ/eV,(np.tensordot(μ,np.tensordot(Kselflist,μ, axes=([2,],[0,])),axes=([0,],[2,]))[:,0]).imag)\n",
    "plt.xlim(2.75,3.7)\n",
    "plt.ylim(-1e-45,1e-45)"
   ]
  },
  {
   "cell_type": "code",
   "execution_count": 138,
   "metadata": {
    "collapsed": false
   },
   "outputs": [
    {
     "data": {
      "text/plain": [
       "(100, 90)"
      ]
     },
     "execution_count": 138,
     "metadata": {},
     "output_type": "execute_result"
    }
   ],
   "source": [
    "np.tensordot(μ,np.tensordot(Kselflist,μ, axes=([2,],[0,])),axes=([0,],[2,])).shape"
   ]
  },
  {
   "cell_type": "code",
   "execution_count": 128,
   "metadata": {
    "collapsed": false
   },
   "outputs": [
    {
     "data": {
      "text/plain": [
       "array([[ -6.71786111e+43 -2.31959639e+41j]])"
      ]
     },
     "execution_count": 128,
     "metadata": {},
     "output_type": "execute_result"
    }
   ],
   "source": [
    "T"
   ]
  },
  {
   "cell_type": "code",
   "execution_count": null,
   "metadata": {
    "collapsed": true
   },
   "outputs": [],
   "source": []
  }
 ],
 "metadata": {
  "celltoolbar": "Slideshow",
  "kernelspec": {
   "display_name": "Python 3",
   "language": "python",
   "name": "python3"
  },
  "language_info": {
   "codemirror_mode": {
    "name": "ipython",
    "version": 3
   },
   "file_extension": ".py",
   "mimetype": "text/x-python",
   "name": "python",
   "nbconvert_exporter": "python",
   "pygments_lexer": "ipython3",
   "version": "3.4.3"
  }
 },
 "nbformat": 4,
 "nbformat_minor": 0
}
