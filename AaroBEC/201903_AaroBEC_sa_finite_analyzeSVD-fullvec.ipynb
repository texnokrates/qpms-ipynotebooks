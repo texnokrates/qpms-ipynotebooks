{
 "cells": [
  {
   "cell_type": "code",
   "execution_count": 60,
   "metadata": {},
   "outputs": [],
   "source": [
    "import glob, sys, os, re, numpy as np\n",
    "from matplotlib import pyplot as plt\n",
    "from qpms import ScatteringSystem, TMatrixInterpolator, BaseSpec, FinitePointGroup, Particle\n",
    "from qpms.symmetries import point_group_info\n",
    "import numpy as np\n",
    "nm = 1e-9"
   ]
  },
  {
   "cell_type": "code",
   "execution_count": 61,
   "metadata": {},
   "outputs": [
    {
     "data": {
      "text/plain": [
       "9"
      ]
     },
     "execution_count": 61,
     "metadata": {},
     "output_type": "execute_result"
    }
   ],
   "source": [
    "filepatterns = ['/u/46/necadam1/unix/project/AaroBECfinite_new/Nx5_Ny10_*.npz',]\n",
    "filenames = list()\n",
    "for pattern in filepatterns:\n",
    "    filenames.extend([fn for fn in glob.glob(pattern)])\n",
    "len(filenames)\n",
    "    "
   ]
  },
  {
   "cell_type": "code",
   "execution_count": 62,
   "metadata": {},
   "outputs": [
    {
     "name": "stdout",
     "output_type": "stream",
     "text": [
      "/u/46/necadam1/unix/project/AaroBECfinite_new/Nx5_Ny10_1.4eV_full.npz\n"
     ]
    }
   ],
   "source": [
    "filename = filenames[8]\n",
    "print(filename)\n",
    "with np.load(filename) as data:\n",
    "    s = data['S']\n",
    "    V = data['Vh'].conj()\n",
    "    #k = data['k']\n",
    "    omega = data['omega'][()]\n",
    "    Nx = data['Nx'][()]\n",
    "    Ny = data['Ny'][()]\n",
    "#    iri = data['iri'][()]"
   ]
  },
  {
   "cell_type": "code",
   "execution_count": 63,
   "metadata": {},
   "outputs": [],
   "source": [
    "# Now we must reconstruct the scatsystem, as it has been saved nowhere\n",
    "sym = FinitePointGroup(point_group_info['D2h'])\n",
    "bspec = BaseSpec(lMax = 2)\n",
    "tmfile = '/m/phys/project/qd/Marek/tmatrix-experiments/Cylinder/AaroBEC/cylinder_50nm_lMax4_cleaned.TMatrix'\n",
    "#outputdatadir = '/home/necadam1/wrkdir/AaroBECfinite_new'\n",
    "outputdatadir = '/u/46/necadam1/unix/project/AaroBECfinite_new'\n",
    "os.makedirs(outputdatadir, exist_ok = True)\n",
    "interp = TMatrixInterpolator(tmfile, bspec, symmetrise = sym, atol = 1e-8)\n",
    "\n",
    "px = 571*nm; py = 621*nm\n",
    "\n",
    "orig_x = (np.arange(Nx/2) + (0 if (Nx % 2) else .5)) * px\n",
    "orig_y = (np.arange(Ny/2) + (0 if (Ny % 2) else .5)) * py\n",
    "\n",
    "orig_xy = np.stack(np.meshgrid(orig_x, orig_y), axis = -1)\n",
    "\n",
    "tmatrix = interp(omega)\n",
    "particles = [Particle(orig_xy[i], tmatrix) for i in np.ndindex(orig_xy.shape[:-1])]\n",
    "\n",
    "\n",
    "ss = ScatteringSystem(particles, sym)\n",
    "\n",
    "positions = ss.positions()\n",
    "pofs = ss.fullvec_poffsets()\n",
    "ps = ss.fullvec_psizes()"
   ]
  },
  {
   "cell_type": "code",
   "execution_count": 64,
   "metadata": {},
   "outputs": [
    {
     "data": {
      "text/plain": [
       "50"
      ]
     },
     "execution_count": 64,
     "metadata": {},
     "output_type": "execute_result"
    }
   ],
   "source": [
    "# this is in order to use imshow etc. later\n",
    "gridmap_xy_uint_pi = positions[:,:2] / np.array((px,py))\n",
    "gridmap_xy_uint_pi -=  np.amin(gridmap_xy_uint_pi, axis=0)\n",
    "gridmap_xy_uint_pi = gridmap_xy_uint_pi.round().astype(int)\n",
    "len(gridmap_xy_uint_pi)"
   ]
  },
  {
   "cell_type": "code",
   "execution_count": 66,
   "metadata": {},
   "outputs": [
    {
     "name": "stdout",
     "output_type": "stream",
     "text": [
      "0.5915101895831648\n"
     ]
    },
    {
     "data": {
      "text/plain": [
       "<matplotlib.colorbar.Colorbar at 0x7f03ef72b978>"
      ]
     },
     "execution_count": 66,
     "metadata": {},
     "output_type": "execute_result"
    },
    {
     "data": {
      "image/png": "[encoded data removed]",
      "text/plain": [
       "<Figure size 432x288 with 2 Axes>"
      ]
     },
     "metadata": {
      "needs_background": "light"
     },
     "output_type": "display_data"
    }
   ],
   "source": [
    "i = -1\n",
    "print(s[i])\n",
    "Vi_full = V[i]\n",
    "#Vhi_full = ss.unpack_vector(Vh[i], iri)\n",
    "Vi_full_grid = np.empty((Nx, Ny, len(bspec)), dtype=complex)\n",
    "for pi in range (len(gridmap_xy_uint_pi)):\n",
    "    Vi_full_grid[gridmap_xy_uint_pi[pi][0],gridmap_xy_uint_pi[pi][1]] = Vi_full.reshape((Nx*Ny,len(bspec)))[pi]\n",
    "    \n",
    "toplot = Vi_full_grid\n",
    "plt.imshow((toplot[:,:,3]).real)#plt.imshow((toplot[:,:,0]+toplot[:,:,2]).imag)\n",
    "plt.colorbar()"
   ]
  },
  {
   "cell_type": "code",
   "execution_count": 5,
   "metadata": {},
   "outputs": [
    {
     "data": {
      "text/plain": [
       "0.013187198116871388"
      ]
     },
     "execution_count": 5,
     "metadata": {},
     "output_type": "execute_result"
    },
    {
     "data": {
      "image/png": "[encoded data removed]",
      "text/plain": [
       "<Figure size 432x288 with 2 Axes>"
      ]
     },
     "metadata": {
      "needs_background": "light"
     },
     "output_type": "display_data"
    }
   ],
   "source": [
    "i=916\n",
    "toplot=Vfft\n",
    "plt.imshow((abs(toplot[i,:,:,0,0])+abs(toplot[i,:,:,0,2])).T)\n",
    "plt.colorbar()\n",
    "s[i]"
   ]
  },
  {
   "cell_type": "code",
   "execution_count": 6,
   "metadata": {},
   "outputs": [
    {
     "data": {
      "text/plain": [
       "[<matplotlib.lines.Line2D at 0x7f38bbd69b38>]"
      ]
     },
     "execution_count": 6,
     "metadata": {},
     "output_type": "execute_result"
    },
    {
     "data": {
      "image/png": "[encoded data removed]",
      "text/plain": [
       "<Figure size 432x288 with 1 Axes>"
      ]
     },
     "metadata": {
      "needs_background": "light"
     },
     "output_type": "display_data"
    }
   ],
   "source": [
    "plt.plot(np.sum(abs(toplot[i,:,:,0,0])+abs(toplot[i,:,:,0,2]), axis=0))"
   ]
  },
  {
   "cell_type": "code",
   "execution_count": 138,
   "metadata": {},
   "outputs": [
    {
     "data": {
      "text/plain": [
       "22565760"
      ]
     },
     "execution_count": 138,
     "metadata": {},
     "output_type": "execute_result"
    }
   ],
   "source": [
    "Vfft.size"
   ]
  },
  {
   "cell_type": "code",
   "execution_count": 155,
   "metadata": {
    "scrolled": true
   },
   "outputs": [
    {
     "data": {
      "text/plain": [
       "array([1020, 1068,  564,  613,  643,  571,  544,  611, 1100, 1036, 1037,\n",
       "        639, 1004,  456,  466,  621, 1195, 1084, 1092, 1017,  478,  556,\n",
       "       1105,  479, 1080, 1090,  485,  497,  879,  477,  730, 1147,  519,\n",
       "        966, 1078,  851,  578, 1019,  807, 1022,  481,  435,  625,  620,\n",
       "        482,  457, 1057,  638, 1032, 1073, 1014,  802,  964,  648,  439,\n",
       "       1089,  769, 1072,  685, 1082,  426,  490, 1087,  574, 1060,  582,\n",
       "       1083,  978,  935,  529, 1016,  520,  594,  443, 1075,  503,  916,\n",
       "       1029, 1033, 1052,  467, 1031, 1101, 1071, 1010,  438,  517,  440,\n",
       "        425,  572, 1103,  434, 1027, 1028,  982, 1185,  475,    2, 1025,\n",
       "       1074])"
      ]
     },
     "execution_count": 155,
     "metadata": {},
     "output_type": "execute_result"
    }
   ],
   "source": [
    "np.argsort(np.sum(abs(U[:,:,:,0,0])+abs(U[:,:,:,0,2]), axis=(-1,-2)))[-100:]"
   ]
  },
  {
   "cell_type": "code",
   "execution_count": 160,
   "metadata": {},
   "outputs": [
    {
     "data": {
      "text/plain": [
       "array([2.61022236e-01, 8.73308428e-02, 1.64466336e-02, 2.31822293e-01,\n",
       "       1.63222844e-01, 1.03544218e-01, 2.52342759e-01, 2.42886690e-01,\n",
       "       1.61043921e-01, 1.07902078e-01, 3.08800610e-02, 2.85826833e-01,\n",
       "       1.65510757e-02, 3.11904536e-03, 2.65033317e-01, 2.74439759e-01,\n",
       "       1.42553114e-01, 1.24143354e-01, 1.82118771e-01, 1.31085645e-01,\n",
       "       1.58651573e-01, 1.44033330e-01, 1.31871981e-02, 2.66221007e-01,\n",
       "       1.08484094e-01, 2.11863367e-01, 2.38216064e-02, 1.52979438e-01,\n",
       "       1.32417079e-01, 1.64438069e-01, 2.62714840e-01, 2.53777092e-02,\n",
       "       1.89693138e-01, 1.00743197e-01, 8.50864066e-02, 3.88029069e-02,\n",
       "       1.36099555e-01, 1.17010025e-01, 1.11188431e-01, 4.42183532e-02,\n",
       "       3.49927701e-01, 5.04169994e-02, 2.48399791e-02, 1.20953558e-01,\n",
       "       1.09475534e-01, 2.76938471e-01, 1.25775641e-01, 1.12683405e-01,\n",
       "       2.05150213e-01, 2.96075321e-01, 4.10003639e-02, 1.49393322e-01,\n",
       "       2.54854559e-01, 1.06115414e-01, 2.16793732e-01, 1.29883630e-01,\n",
       "       1.34741893e-01, 1.05471675e-01, 1.85913661e-01, 1.13299151e-01,\n",
       "       1.70799162e-01, 1.37435053e-01, 1.22484116e-01, 2.59600729e-02,\n",
       "       1.21955090e-01, 1.42330971e-01, 1.30116596e-01, 1.11013304e-01,\n",
       "       2.80311494e-01, 1.28761154e-01, 2.61833214e-01, 1.55894703e-01,\n",
       "       1.28366219e-01, 1.17681030e-01, 1.26905075e-01, 1.78061076e-01,\n",
       "       1.33038559e-01, 1.72904951e-01, 1.59928926e-01, 1.45905455e-01,\n",
       "       1.44085655e-01, 1.48134506e-01, 1.48716054e-01, 1.57890541e-01,\n",
       "       1.24815601e-01, 3.19807846e-01, 3.26994298e-01, 3.93916640e-01,\n",
       "       3.42059620e-01, 2.22100119e-01, 2.34975621e-01, 2.50499089e-01,\n",
       "       1.74925507e-01, 2.53074414e-01, 2.55010294e-01, 2.36578252e-01,\n",
       "       4.19996059e+02, 4.19981309e+02, 4.20021947e+02, 4.20013689e+02])"
      ]
     },
     "execution_count": 160,
     "metadata": {},
     "output_type": "execute_result"
    }
   ],
   "source": [
    "s[np.argsort(abs(Ufft[:,0,0,0,0])+abs(Ufft[:,0,0,0,2]))[-100:]]"
   ]
  },
  {
   "cell_type": "code",
   "execution_count": 140,
   "metadata": {},
   "outputs": [
    {
     "data": {
      "text/plain": [
       "(0, 1)"
      ]
     },
     "execution_count": 140,
     "metadata": {},
     "output_type": "execute_result"
    },
    {
     "data": {
      "image/png": "[encoded data removed]",
      "text/plain": [
       "<Figure size 432x288 with 1 Axes>"
      ]
     },
     "metadata": {
      "needs_background": "light"
     },
     "output_type": "display_data"
    }
   ],
   "source": [
    "plt.plot(s)\n",
    "plt.ylim([0,1])"
   ]
  },
  {
   "cell_type": "code",
   "execution_count": 141,
   "metadata": {},
   "outputs": [
    {
     "data": {
      "text/plain": [
       "3.6187828360761144e-07"
      ]
     },
     "execution_count": 141,
     "metadata": {},
     "output_type": "execute_result"
    }
   ],
   "source": [
    "s[-1]"
   ]
  },
  {
   "cell_type": "code",
   "execution_count": 154,
   "metadata": {},
   "outputs": [
    {
     "data": {
      "text/plain": [
       "1.5750323600117863e-06"
      ]
     },
     "execution_count": 154,
     "metadata": {},
     "output_type": "execute_result"
    }
   ],
   "source": [
    "s[-5]"
   ]
  },
  {
   "cell_type": "code",
   "execution_count": 31,
   "metadata": {},
   "outputs": [
    {
     "data": {
      "text/plain": [
       "16"
      ]
     },
     "execution_count": 31,
     "metadata": {},
     "output_type": "execute_result"
    }
   ],
   "source": [
    "len(bspec)"
   ]
  },
  {
   "cell_type": "code",
   "execution_count": 10,
   "metadata": {},
   "outputs": [
    {
     "data": {
      "text/plain": [
       "(0, 100)"
      ]
     },
     "execution_count": 10,
     "metadata": {},
     "output_type": "execute_result"
    }
   ],
   "source": [
    "Vh.shape"
   ]
  },
  {
   "cell_type": "code",
   "execution_count": null,
   "metadata": {},
   "outputs": [],
   "source": []
  }
 ],
 "metadata": {
  "kernelspec": {
   "display_name": "Python [default]",
   "language": "python",
   "name": "python3"
  },
  "language_info": {
   "codemirror_mode": {
    "name": "ipython",
    "version": 3
   },
   "file_extension": ".py",
   "mimetype": "text/x-python",
   "name": "python",
   "nbconvert_exporter": "python",
   "pygments_lexer": "ipython3",
   "version": "3.5.6"
  }
 },
 "nbformat": 4,
 "nbformat_minor": 2
}
