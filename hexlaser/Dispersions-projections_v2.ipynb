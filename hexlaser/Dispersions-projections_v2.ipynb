{
 "cells": [
  {
   "cell_type": "code",
   "execution_count": null,
   "metadata": {
    "collapsed": true
   },
   "outputs": [],
   "source": [
    "note=\"k\""
   ]
  },
  {
   "cell_type": "code",
   "execution_count": null,
   "metadata": {
    "collapsed": true
   },
   "outputs": [],
   "source": [
    "# This one uses processed Ws inputs, so one does not have to input the array sizes manually\n",
    "import qpms\n",
    "from qpms.symmetries import  gen_hexlattice_Kpoint_svwf_rep, gen_hexlattice_Kpoint_svwf_rep_projectors\n",
    "import numpy as np\n",
    "from matplotlib import pyplot as plt\n",
    "import scipy\n",
    "from scipy import interpolate\n",
    "from scipy.constants import e as eV, hbar, hbar as ℏ, c\n",
    "ň = np.newaxis\n",
    "import cmath"
   ]
  },
  {
   "cell_type": "code",
   "execution_count": null,
   "metadata": {
    "collapsed": false
   },
   "outputs": [],
   "source": [
    "evfactor =  (eV/hbar) /( 3e8 / 1e-6 )\n",
    "evfactor * 1.38, evfactor * 1.5"
   ]
  },
  {
   "cell_type": "code",
   "execution_count": null,
   "metadata": {
    "collapsed": true
   },
   "outputs": [],
   "source": [
    "Wfile = '/m/phys/project/qd/Marek/superdeep2_cs/superdeep2broadlMax3_cs'\n",
    "#Wfile = '/m/phys/project/qd/Marek/gammapoint_cs/gammapoint_lMax3_rough'\n",
    "#force_lMax = 2\n",
    "#nelem = force_lMax * (force_lMax+2)"
   ]
  },
  {
   "cell_type": "code",
   "execution_count": null,
   "metadata": {
    "collapsed": false
   },
   "outputs": [],
   "source": [
    "#wdata = wdata_long\n",
    "wdata = qpms.loadWfile_processed(Wfile, lMax=3, midk_halfwidth=1)\n",
    "lMax = wdata['lMax']\n",
    "nelem = wdata['nelem']"
   ]
  },
  {
   "cell_type": "code",
   "execution_count": null,
   "metadata": {
    "collapsed": false
   },
   "outputs": [],
   "source": [
    "#wdata.keys(), wdata['nk'], wdata['ks'], wdata['Ws'].shape"
   ]
  },
  {
   "cell_type": "code",
   "execution_count": null,
   "metadata": {
    "collapsed": true
   },
   "outputs": [],
   "source": [
    "#### T-matrices from file\n",
    "# Original Ag:\n",
    "TMatrix_file = '/u/46/necadam1/unix/tmatrix-experiments/Cylinder/hexlasingPaper/cylinder_50nm_lMax3_long.TMatrix'\n",
    "# Zero loss \"Ag\":\n",
    "#TMatrix_file = '/u/46/necadam1/unix/tmatrix-experiments/Cylinder/hexlasingPaper/zeroloss/cylinder_50nm_lMax2_long.TMatrix'\n",
    "\n",
    "TMatrices_orig, freqs_orig, freqs_weirdunits_orig, lMaxTM = qpms.loadScuffTMatrices(TMatrix_file, normalisation = 2, version = 'new')\n",
    "tmtype=\"Scuff\""
   ]
  },
  {
   "cell_type": "code",
   "execution_count": null,
   "metadata": {
    "collapsed": false
   },
   "outputs": [],
   "source": [
    "# TODO synchronize the TM/W lMaxes better\n",
    "TMatrices_orig = TMatrices_orig[...,:,0:nelem,:,0:nelem]\n",
    "lMaxTM = lMax"
   ]
  },
  {
   "cell_type": "code",
   "execution_count": null,
   "metadata": {
    "collapsed": false
   },
   "outputs": [],
   "source": [
    "freqs_orig[0] / (eV/hbar), freqs_orig[-1] / (eV/hbar)"
   ]
  },
  {
   "cell_type": "code",
   "execution_count": null,
   "metadata": {
    "collapsed": false
   },
   "outputs": [],
   "source": [
    "#### Alternatively, Mie T-matrix\n",
    "#lMaxTM = force_lMax\n",
    "lMax = lMaxTM\n",
    "\n",
    "nelem = lMax * (lMax + 2)\n",
    "startω =1*eV/ℏ\n",
    "stopω = 2*eV/ℏ\n",
    "ωlist = np.linspace(startω, stopω, 200)\n",
    "\n",
    "\n",
    "ε_b = 2.13\n",
    "R = 40e-9\n",
    "\n",
    "if False: # drude model\n",
    "    ω_p = 9*eV/ℏ #9*eV/ℏ\n",
    "    ε_inf = 4.6\n",
    "    γ_p = 0#0.07*eV/ℏ\n",
    "    \n",
    "    ε_mlist = qpms.ε_drude(ε_inf, ω_p, γ_p, ωlist)\n",
    "    tmtype=\"MieDrude\"\n",
    "else: # interpolated data\n",
    "    permdata = np.loadtxt(\"/u/46/necadam1/unix/tmatrix-experiments/materialy/Au-Johnson-simple.dat\")\n",
    "    permfreqs = permdata[:,0]\n",
    "    permvals = permdata[:,1] + permdata[:,2]*1j\n",
    "    permdata_interp = interpolate.interp1d(permfreqs, permvals, axis = 0, kind='linear', fill_value='extrapolate')\n",
    "    ε_mlist = permdata_interp(ωlist)\n",
    "    tmtype=\"MieInterp\"\n",
    "    \n",
    "\n",
    "RVlist = np.empty((lMax+1,)+ωlist.shape,dtype=np.complex_)\n",
    "RHlist = np.empty((lMax+1,)+ωlist.shape,dtype=np.complex_)\n",
    "\n",
    "for i in range(len(ωlist)):\n",
    "    ω=ωlist[i]\n",
    "    k_i = cmath.sqrt(ε_mlist[i])*ω/c\n",
    "    k_e = cmath.sqrt(ε_b)*ω/c\n",
    "    RH, RV, TH, TV = qpms.mie_coefficients(a=R, nmax=lMax, k_i=k_i, k_e=k_e, J_ext=1, J_scat=3)\n",
    "    RVlist[:,i] = RV\n",
    "    RHlist[:,i] = RH\n",
    "\n",
    "y = np.arange(nelem)\n",
    "my, ny = qpms.get_mn_y(lMax)\n",
    "\n",
    "TMatrices_orig = np.zeros((RVlist.shape[1], 2, nelem, 2, nelem), dtype=complex)\n",
    "\n",
    "for l in range(1,lMax+1):\n",
    "    beg = l**2-1\n",
    "    end = l*(l+2)\n",
    "    TMatrices_orig[:,0,beg:end,0,beg:end] = -RVlist[l,:,ň,ň] * np.eye(2*l+1) # FIXME opposite sign?\n",
    "    TMatrices_orig[:,1,beg:end,1,beg:end] = -RHlist[l,:,ň,ň] * np.eye(2*l+1)\n",
    "\n",
    "freqs_orig = ωlist"
   ]
  },
  {
   "cell_type": "code",
   "execution_count": null,
   "metadata": {
    "collapsed": false
   },
   "outputs": [],
   "source": [
    "lMax = lMaxTM  # redundant\n",
    "nelem = qpms.get_nelem(lMax) #redundant\n",
    "nomega = wdata['nfreqs'] # 286\n",
    "nk = wdata['nk'] #100\n",
    "npart = wdata['npart']\n",
    "wdata['freqs'][0]/(eV/hbar), wdata['freqs'][-1] / (eV/hbar)"
   ]
  },
  {
   "cell_type": "code",
   "execution_count": null,
   "metadata": {
    "collapsed": false
   },
   "outputs": [],
   "source": [
    "#symmetrize TMatrices\n",
    "yfl = qpms.yflip_tyty(lMax)\n",
    "xfl = qpms.xflip_tyty(lMax)\n",
    "zfl = qpms.zflip_tyty(lMax)\n",
    "TMatrix=TMatrices_orig\n",
    "TMatrix_sym = (TMatrix + qpms.apply_ndmatrix_left(yfl,qpms.apply_ndmatrix_left(yfl, TMatrix, (-4,-3)),(-2,-1)))/2\n",
    "TMatrix_sym = (TMatrix_sym + qpms.apply_ndmatrix_left(xfl,qpms.apply_ndmatrix_left(xfl, TMatrix_sym, (-4,-3)),(-2,-1)))/2\n",
    "TMatrix_sym = (TMatrix_sym + qpms.apply_ndmatrix_left(zfl,qpms.apply_ndmatrix_left(zfl, TMatrix_sym, (-4,-3)),(-2,-1)))/2\n",
    "rotN = 600\n",
    "\n",
    "TMatrix_contribs = np.empty((rotN,)+TMatrix.shape, dtype=np.complex_)\n",
    "for i in range(rotN):\n",
    "    rotangle = 2*np.pi*i / rotN\n",
    "    rot =  qpms.WignerD_yy_fromvector(lMax,np.array([0,0,rotangle]))\n",
    "    rotinv = qpms.WignerD_yy_fromvector(lMax,np.array([0,0,-rotangle]))\n",
    "    TMatrix_contribs[i] = qpms.apply_matrix_left(rot,qpms.apply_matrix_left(rotinv, TMatrix_sym, -3),-1)\n",
    "TMatrix_sym = np.sum(TMatrix_contribs, axis=0) / rotN\n",
    "TMatrix_sym[np.abs(TMatrix_sym) <= 1e-16] = 0"
   ]
  },
  {
   "cell_type": "code",
   "execution_count": null,
   "metadata": {
    "collapsed": false
   },
   "outputs": [],
   "source": [
    "# TODO process (interpolate and symmetrize) T-matrix here\n",
    "TMatrices_interp = interpolate.interp1d(freqs_orig, TMatrix_sym, axis = 0, kind='linear', fill_value='extrapolate')\n"
   ]
  },
  {
   "cell_type": "code",
   "execution_count": null,
   "metadata": {
    "collapsed": false
   },
   "outputs": [],
   "source": [
    "Wmatrices = wdata['Ws'].reshape((nomega,nk,npart,2,nelem,npart,2,nelem))\n",
    "#Wmatrices = (wdata_long['Ws']+0*wdata_short['Ws']).reshape((nomega,nk,npart,2,nelem,npart,2,nelem))\n",
    "#TMatrices = TMatrix_sym.reshape((nomega,1,2,nelem,2,nelem))\n",
    "ks = np.broadcast_to(wdata['ks'][ň,:,:], (nomega, nk, 2))\n",
    "freqs = np.broadcast_to(wdata['freqs'][:,ň], (nomega,nk))\n",
    "\n",
    "Wmatrices.shape, ks.shape, freqs.shape\n"
   ]
  },
  {
   "cell_type": "code",
   "execution_count": null,
   "metadata": {
    "collapsed": false
   },
   "outputs": [],
   "source": [
    "TMatrices_orig.shape, ks.shape, freqs.shape"
   ]
  },
  {
   "cell_type": "markdown",
   "metadata": {
    "collapsed": false
   },
   "source": [
    "# Full problem\n",
    "TE_or_TM = None # just that the scripts below know...\n",
    "allU = np.full((nomega,nk,npart*2*nelem,npart*2*nelem), np.nan, dtype=complex)\n",
    "allV = np.full((nomega,nk,npart*2*nelem,npart*2*nelem), np.nan, dtype=complex)\n",
    "allS = np.full((nomega,nk,npart*2*nelem), np.nan)\n",
    "for omi in range(nomega):\n",
    "    for ki in range(nk):\n",
    "        W = Wmatrices[omi,ki]\n",
    "        T = TMatrices_interp(freqs[omi,ki]) * 1\n",
    "        TW = np.sum(\n",
    "            T[...,ň,:,:,:,:,ň,ň,ň] * W[...,:,ň,ň,:,:,:,:,:]\n",
    "        , axis = (-5,-4))\n",
    "        iden = np.eye(npart*2*nelem)\n",
    "        iden.shape = (npart,2,nelem,npart,2,nelem)\n",
    "        finalMatrix = iden-TW\n",
    "        try:\n",
    "            allU[omi,ki], allS[omi,ki], allV[omi,ki] = scipy.linalg.svd(finalMatrix.reshape((npart*2*nelem,npart*2*nelem)), \n",
    "                                                                        lapack_driver= 'gesvd')\n",
    "        except ValueError:\n",
    "            pass\n",
    "restype=\"Full\"                "
   ]
  },
  {
   "cell_type": "code",
   "execution_count": null,
   "metadata": {
    "collapsed": false
   },
   "outputs": [],
   "source": [
    "# Z-symmetric problem\n",
    "TE_or_TM = 0 # 0 is TE\n",
    "\n",
    "TE_yz = np.arange(nelem)\n",
    "TM_yz = TE_yz\n",
    "my, ny = qpms.get_mn_y(lMax)\n",
    "TE_NMz = (my + ny) % 2\n",
    "TM_NMz = (1 - TE_NMz)\n",
    "T_NMz = TE_NMz if TE_or_TM == 0 else TM_NMz\n",
    "T_yz = TE_yz if TE_or_TM == 0 else TM_yz\n",
    "y = np.arange(nelem)\n",
    "yi = y[ň,ň,ň,:]\n",
    "yj = y[ň,:,ň,ň]\n",
    "ipart = np.arange(npart)\n",
    "ti = np.arange(2)\n",
    "\n",
    "allU = np.full((nomega,nk,npart*nelem,npart*nelem), np.nan, dtype=complex)\n",
    "allV = np.full((nomega,nk,npart*nelem,npart*nelem), np.nan, dtype=complex)\n",
    "allS = np.full((nomega,nk,npart*nelem), np.nan)\n",
    "for omi in range(nomega):\n",
    "    for ki in range(nk):\n",
    "        W = Wmatrices[omi,ki][..., ipart[:,ň,ň,ň], T_NMz[ň,:,ň,ň],T_yz[ň,:,ň,ň], ipart[ň,ň,:,ň], T_NMz[ň,ň,ň,:],T_yz[ň,ň,ň,:]] # [Npart,2,nelem,Npart,2,nelem] -> [Npart,nelem,Npart,nelem]\n",
    "        W[np.isclose(W,0, atol = 1e-10)] = 0\n",
    "        T = TMatrices_interp(freqs[omi,ki])[...,T_NMz[:,ň],T_yz[:,ň],T_NMz[ň,:],T_yz[ň,:]]  #[2,nelem,2,nelem] -> [nelem,nelem]\n",
    "        TW = np.sum(\n",
    "            T[...,ň,:,:,ň,ň] * W[...,:,ň,:,:,:]\n",
    "        , axis = (-3))\n",
    "        iden = np.eye(npart*nelem)\n",
    "        iden.shape = (npart,nelem,npart,nelem)\n",
    "        finalMatrix = iden-TW\n",
    "        try:\n",
    "            allU[omi,ki], allS[omi,ki], allV[omi,ki] = scipy.linalg.svd(finalMatrix.reshape((npart*nelem,npart*nelem)), \n",
    "                                                                       # lapack_driver= 'gesvd'\n",
    "                                                                       )\n",
    "        except ValueError:\n",
    "            pass\n",
    "\n",
    "#theV = allV[:,:,sorder,:].reshape(nomega,nk,2,2,nelem)\n",
    "allV_expanded = np.zeros((nomega,nk,npart*nelem,2,2,nelem),dtype=complex)\n",
    "for t in (0,1):\n",
    "    allV_expanded[:,:,:,:,t,T_NMz == t]  = allV.reshape((nomega,nk,npart*nelem,npart,nelem))[:,:,:,:,T_NMz == t]\n",
    "\n",
    "if TE_or_TM == 0:\n",
    "    restype=\"E-inplane\"\n",
    "elif TE_or_TM == 1:\n",
    "    restype=\"M-inplane\"\n",
    "else:\n",
    "    restype=\"WTF\""
   ]
  },
  {
   "cell_type": "code",
   "execution_count": null,
   "metadata": {
    "collapsed": false
   },
   "outputs": [],
   "source": [
    "allS.shape"
   ]
  },
  {
   "cell_type": "code",
   "execution_count": null,
   "metadata": {
    "collapsed": false
   },
   "outputs": [],
   "source": [
    "%matplotlib inline\n",
    "plt.figure(figsize=(10,10))\n",
    "plt.pcolormesh(ks[:,:,1], freqs[:,:]*hbar/eV, allS[:,:,-1])\n",
    "plt.colorbar()\n",
    "plt.savefig(\"figs/lMax%d%s%s%s_disp.pdf\"%(lMax,tmtype,restype,note))"
   ]
  },
  {
   "cell_type": "code",
   "execution_count": null,
   "metadata": {
    "collapsed": false
   },
   "outputs": [],
   "source": []
  },
  {
   "cell_type": "code",
   "execution_count": null,
   "metadata": {
    "collapsed": false,
    "scrolled": false
   },
   "outputs": [],
   "source": [
    "### Zde se vybírá \"\"číslo\"\" modu\n",
    "psi = -1\n",
    "reps =  gen_hexlattice_Kpoint_svwf_rep(lMax, psi)\n",
    "projmats = gen_hexlattice_Kpoint_svwf_rep_projectors(lMax,psi)\n",
    "for sorder in (-1,):#,-2,-3,-4,-5):\n",
    "    # Change this for full / zsym solutions\n",
    "    #theV = allV[:,:,sorder,:].reshape(nomega,nk,2,2,nelem)\n",
    "    theV = allV_expanded[:,:,sorder,:,:,:]\n",
    "\n",
    "    theVprojections_v1 = dict() # non-normalised projector (probably this one is correct)\n",
    "    theVprojections_v2 = dict() # normalised projector\n",
    "    theVprojections_v3 = dict() # normalised projector squared\n",
    "\n",
    "    for repkey, rep in reps.items():\n",
    "        genvec = np.ones((2,2,nelem))\n",
    "        symproj = np.tensordot(rep, genvec, axes = ([-3,-2,-1],[0,1,2])) #[d,d,p,t,y]; old method\n",
    "        projmat = projmats[repkey]\n",
    "        #FIXME tenhle přísstup je možná taky blbě, já vlastně chci spíš možná sčítat čtverce z theV...\n",
    "        theVprojections_pre = np.abs(np.sum(theV[:,:,ň,ň,:,:,:] * symproj, axis=(-3,-2,-1))) #[nomega,nk,d,d] # raději kvadrát???\n",
    "        theVprojections_v1[repkey] = np.sum(theVprojections_pre, axis = (-2,-1))\n",
    "        theVprojections_v2[repkey] = np.sum(theVprojections_pre / np.sum(symproj*symproj.conj(),axis=(-3,-2,-1)).real,(-2,-1))\n",
    "        theV_halfproj = np.tensordot(theV.conjugate(),projmat, axes=([-3,-2,-1],[0,1,2])) \n",
    "        theVprojections_v3[repkey] = np.sum( theV_halfproj[:,:,:,:,:] * theV[:,:,:], axis = (-3,-2,-1)  ).real\n",
    "        \n",
    "        \n",
    "                                                  \n",
    "\n",
    "    if TE_or_TM is None:\n",
    "        repkeylist = ['A1p', 'A1pp', 'A2p', 'A2pp', 'E1', 'E2']# list(reps.keys())\n",
    "    elif TE_or_TM ==0:\n",
    "        repkeylist = ['A1p', 'A2p', 'E1',]# list(reps.keys())\n",
    "    elif TE_or_TM ==1:\n",
    "        repkeylist = ['A1pp', 'A2pp', 'E2']# list(reps.keys())\n",
    "    else:\n",
    "        raise ValueError('TE_or_TM has wrong value (or has not been set?)')\n",
    "\n",
    "\n",
    "    theVprojections_v1_arr = np.empty((nomega,nk,len(repkeylist)), dtype=float)\n",
    "    theVprojections_v2_arr = np.empty((nomega,nk,len(repkeylist)), dtype=float)\n",
    "    theVprojections_v3_arr = np.empty((nomega,nk,len(repkeylist)), dtype=float)\n",
    "    for i in range(len(repkeylist)):\n",
    "        theVprojections_v1_arr[:,:,i] = theVprojections_v1[repkeylist[i]]\n",
    "        theVprojections_v2_arr[:,:,i] = theVprojections_v2[repkeylist[i]]\n",
    "        theVprojections_v3_arr[:,:,i] = theVprojections_v3[repkeylist[i]]\n",
    "\n",
    "    for key in repkeylist:\n",
    "        plt.figure(figsize=(10,10))\n",
    "        plt.pcolormesh(ks[:,:,1], freqs[:,:]*hbar/eV, theVprojections_v3[key], )\n",
    "        plt.title(key)\n",
    "        plt.colorbar()\n",
    "        #plt.imshow(theVprojections_v3[key], origin = 'lower')"
   ]
  },
  {
   "cell_type": "code",
   "execution_count": null,
   "metadata": {
    "collapsed": false
   },
   "outputs": [],
   "source": [
    "theVprojections_v1_order = np.argsort(theVprojections_v1_arr, axis = -1)\n",
    "theVprojections_v2_order = np.argsort(theVprojections_v2_arr, axis = -1)\n",
    "theVprojections_v3_order = np.argsort(theVprojections_v3_arr, axis = -1)"
   ]
  },
  {
   "cell_type": "code",
   "execution_count": null,
   "metadata": {
    "collapsed": false
   },
   "outputs": [],
   "source": [
    "cmap = plt.get_cmap('jet', len(repkeylist))\n",
    "\n",
    "plt.figure(figsize=(15,15))\n",
    "plt.pcolormesh(ks[:,:,1], freqs[:,:]*hbar/eV, theVprojections_v1_order[:,:,0], cmap=cmap, vmin = -0.5, vmax = len(repkeylist)-0.5)\n",
    "plt.colorbar()\n",
    "\n",
    "#plt.imshow(theVprojections_v3_order[:,:,0], cmap=cmap, vmin = -0.5, vmax = len(repkeylist)-0.5, origin='lower')"
   ]
  },
  {
   "cell_type": "code",
   "execution_count": null,
   "metadata": {
    "collapsed": false
   },
   "outputs": [],
   "source": [
    "cmap = plt.get_cmap('jet', len(repkeylist))\n",
    "\n",
    "plt.figure(figsize=(15,15))\n",
    "plt.pcolormesh(ks[:,:,1], freqs[:,:]*hbar/eV, theVprojections_v3_order[:,:,1], cmap=cmap, vmin = -0.5, vmax = len(repkeylist)-0.5)\n",
    "plt.colorbar()\n",
    "\n",
    "#plt.imshow(theVprojections_v3_order[:,:,1], cmap=cmap, vmin = -0.5, vmax = len(repkeylist)-0.5, origin='lower')"
   ]
  },
  {
   "cell_type": "code",
   "execution_count": null,
   "metadata": {
    "collapsed": false
   },
   "outputs": [],
   "source": [
    "cmap = plt.get_cmap('jet', len(repkeylist))\n",
    "\n",
    "plt.figure(figsize=(15,15))\n",
    "plt.pcolormesh(ks[:,:,1], freqs[:,:]*hbar/eV, theVprojections_v1_order[:,:,-1], cmap=cmap, vmin = -0.5, vmax = len(repkeylist)-0.5)\n",
    "plt.colorbar()\n",
    "\n",
    "#plt.imshow(theVprojections_v3_order[:,:,-1], cmap=cmap, vmin = -0.5, vmax = len(repkeylist)-0.5, origin='lower')"
   ]
  },
  {
   "cell_type": "code",
   "execution_count": null,
   "metadata": {
    "collapsed": false
   },
   "outputs": [],
   "source": [
    "print(nk, nk//2)\n",
    "sh = 0\n",
    "plt.figure(figsize=(15,15))\n",
    "xen = freqs[:,0]*hbar/eV\n",
    "plt.plot(xen,theVprojections_v3['E1'][:,nk//2-sh],label = 'E1')\n",
    "plt.plot(xen,theVprojections_v3['A2p'][:,nk//2-sh],label = 'A2p')\n",
    "plt.plot(xen,theVprojections_v3['A1p'][:,nk//2-sh], label= 'A1p')\n",
    "plt.plot(xen,allS[:,nk//2-sh,-1])\n",
    "plt.plot(xen,allS[:,nk//2-sh,-2])\n",
    "plt.legend()\n",
    "plt.savefig(\"figs/lMax%d%s%spsi%d%s_Elines.pdf\"%(lMax,tmtype,restype,psi,note))"
   ]
  },
  {
   "cell_type": "code",
   "execution_count": null,
   "metadata": {
    "collapsed": false
   },
   "outputs": [],
   "source": [
    "\n",
    "plt.figure(figsize=(15,15))\n",
    "plt.plot(xen,theVprojections_v3['E2'][:,nk//2], label='E2')\n",
    "plt.plot(xen,theVprojections_v3['A1pp'][:,nk//2], label='A1pp')\n",
    "plt.plot(xen,theVprojections_v3['A2pp'][:,nk//2], label='A2pp')\n",
    "plt.plot(xen,allS[:,nk//2,-1], label='Singular value')\n",
    "plt.legend()\n",
    "plt.savefig(\"figs/lMax%d%s%spsi%d%s_Mlines.pdf\"%(lMax,tmtype,restype,psi,note))"
   ]
  },
  {
   "cell_type": "code",
   "execution_count": null,
   "metadata": {
    "collapsed": false
   },
   "outputs": [],
   "source": [
    "i=145\n",
    "wdata['freqs_weirdunits'][i], wdata['freqs'][i]/eV*hbar"
   ]
  },
  {
   "cell_type": "code",
   "execution_count": null,
   "metadata": {
    "collapsed": true
   },
   "outputs": [],
   "source": []
  },
  {
   "cell_type": "code",
   "execution_count": null,
   "metadata": {
    "collapsed": true
   },
   "outputs": [],
   "source": []
  },
  {
   "cell_type": "code",
   "execution_count": null,
   "metadata": {
    "collapsed": true
   },
   "outputs": [],
   "source": []
  },
  {
   "cell_type": "code",
   "execution_count": null,
   "metadata": {
    "collapsed": true
   },
   "outputs": [],
   "source": []
  },
  {
   "cell_type": "code",
   "execution_count": null,
   "metadata": {
    "collapsed": true
   },
   "outputs": [],
   "source": []
  },
  {
   "cell_type": "code",
   "execution_count": null,
   "metadata": {
    "collapsed": true
   },
   "outputs": [],
   "source": []
  },
  {
   "cell_type": "code",
   "execution_count": null,
   "metadata": {
    "collapsed": true
   },
   "outputs": [],
   "source": []
  }
 ],
 "metadata": {
  "anaconda-cloud": {},
  "kernelspec": {
   "display_name": "Python [default]",
   "language": "python",
   "name": "python3"
  },
  "language_info": {
   "codemirror_mode": {
    "name": "ipython",
    "version": 3
   },
   "file_extension": ".py",
   "mimetype": "text/x-python",
   "name": "python",
   "nbconvert_exporter": "python",
   "pygments_lexer": "ipython3",
   "version": "3.5.2"
  }
 },
 "nbformat": 4,
 "nbformat_minor": 2
}
