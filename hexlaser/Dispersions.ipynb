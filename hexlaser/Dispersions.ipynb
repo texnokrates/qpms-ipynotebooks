{
 "cells": [
  {
   "cell_type": "code",
   "execution_count": 10,
   "metadata": {
    "collapsed": true
   },
   "outputs": [],
   "source": [
    "import qpms\n",
    "import numpy as np\n",
    "from matplotlib import pyplot as plt\n",
    "import scipy\n",
    "from scipy import interpolate\n",
    "ň = np.newaxis"
   ]
  },
  {
   "cell_type": "code",
   "execution_count": 2,
   "metadata": {
    "collapsed": true
   },
   "outputs": [],
   "source": [
    "TMatrix_file = '/u/46/necadam1/unix/tmatrix-experiments/Cylinder/hexlasingPaper/cylinder_50nm_lMax2_long.TMatrix'\n",
    "Wfile = '/u/46/necadam1/unix/qpms/qpms/apps/test/3out'\n",
    "Wfile_long = '/u/46/necadam1/unix/qpms/qpms/apps/test/3long'\n",
    "Wfile_short = '/u/46/necadam1/unix/qpms/qpms/apps/test/3short'"
   ]
  },
  {
   "cell_type": "code",
   "execution_count": 43,
   "metadata": {
    "collapsed": false
   },
   "outputs": [],
   "source": [
    "#wdata = qpms.loadWfile(Wfile)\n",
    "wdata = qpms.loadWfile(Wfile_long)\n",
    "#wdata_short = qpms.loadWfile(Wfile_short)\n",
    "#wdata_long = qpms.loadWfile(Wfile_long)\n",
    "TMatrices_orig, freqs_orig, freqs_weirdunits_orig, lMaxTM = qpms.loadScuffTMatrices(TMatrix_file, normalisation = 2, version = 'new')"
   ]
  },
  {
   "cell_type": "code",
   "execution_count": 44,
   "metadata": {
    "collapsed": false
   },
   "outputs": [],
   "source": [
    "lMax = lMaxTM \n",
    "npart = 2\n",
    "nelem = qpms.get_nelem(lMax)\n",
    "nomega = 286\n",
    "nk = 100"
   ]
  },
  {
   "cell_type": "code",
   "execution_count": 45,
   "metadata": {
    "collapsed": false
   },
   "outputs": [
    {
     "data": {
      "text/plain": [
       "(28600, 2)"
      ]
     },
     "execution_count": 45,
     "metadata": {},
     "output_type": "execute_result"
    }
   ],
   "source": [
    "# TODO process (interpolate and symmetrize) T-matrix here\n",
    "wdata['ks'].shape"
   ]
  },
  {
   "cell_type": "code",
   "execution_count": 46,
   "metadata": {
    "collapsed": false
   },
   "outputs": [
    {
     "data": {
      "text/plain": [
       "((286, 100, 2, 2, 8, 2, 2, 8), (286, 1, 2, 8, 2, 8), (286, 100, 2))"
      ]
     },
     "execution_count": 46,
     "metadata": {},
     "output_type": "execute_result"
    }
   ],
   "source": [
    "Wmatrices = wdata['Ws'].reshape((nomega,nk,npart,2,nelem,npart,2,nelem))\n",
    "TMatrices = TMatrices_orig.reshape((nomega,1,2,nelem,2,nelem))\n",
    "ks = wdata['ks'].reshape((nomega,nk,2))\n",
    "Wmatrices.shape, TMatrices.shape, ks.shape"
   ]
  },
  {
   "cell_type": "code",
   "execution_count": 47,
   "metadata": {
    "collapsed": false
   },
   "outputs": [
    {
     "data": {
      "text/plain": [
       "(286, 2, 8, 2, 8)"
      ]
     },
     "execution_count": 47,
     "metadata": {},
     "output_type": "execute_result"
    }
   ],
   "source": [
    "TMatrices_orig.shape"
   ]
  },
  {
   "cell_type": "code",
   "execution_count": null,
   "metadata": {
    "collapsed": false
   },
   "outputs": [],
   "source": []
  },
  {
   "cell_type": "code",
   "execution_count": 48,
   "metadata": {
    "collapsed": false
   },
   "outputs": [],
   "source": [
    "allU = np.full((nomega,nk,npart*2*nelem,npart*2*nelem), np.nan, dtype=complex)\n",
    "allV = np.full((nomega,nk,npart*2*nelem,npart*2*nelem), np.nan, dtype=complex)\n",
    "allS = np.full((nomega,nk,npart*2*nelem), np.nan)"
   ]
  },
  {
   "cell_type": "code",
   "execution_count": 49,
   "metadata": {
    "collapsed": false
   },
   "outputs": [],
   "source": [
    "for omi in range(nomega):\n",
    "    for ki in range(nk):\n",
    "        W = Wmatrices[omi,ki]\n",
    "        T = TMatrices[omi,0]\n",
    "        TW = np.sum(\n",
    "            T[...,ň,:,:,:,:,ň,ň,ň] * W[...,:,ň,ň,:,:,:,:,:]\n",
    "        , axis = (-5,-4))\n",
    "        iden = np.eye(npart*2*nelem)\n",
    "        iden.shape = (npart,2,nelem,npart,2,nelem)\n",
    "        finalMatrix = iden-TW\n",
    "        try:\n",
    "            allU[omi,ki], allS[omi,ki], allV[omi,ki] = scipy.linalg.svd(finalMatrix.reshape((npart*2*nelem,npart*2*nelem)))\n",
    "        except ValueError:\n",
    "            pass\n",
    "                "
   ]
  },
  {
   "cell_type": "code",
   "execution_count": 33,
   "metadata": {
    "collapsed": false
   },
   "outputs": [
    {
     "data": {
      "text/plain": [
       "array([1.00818944, 1.00659084, 1.00644038, 1.00418299, 1.00410049,\n",
       "       1.00270136, 1.00069501, 1.0006423 , 1.00063935, 1.00029535,\n",
       "       1.0002782 , 1.00018558, 1.00000872, 1.00000696, 1.00000198,\n",
       "       1.00000073, 0.9999838 , 0.99998338, 0.99998123, 0.99997574,\n",
       "       0.99990113, 0.99980043, 0.99978581, 0.99964436, 0.99964137,\n",
       "       0.99950072, 0.99669586, 0.99539063, 0.99418467, 0.99354838,\n",
       "       0.99287275, 0.98487356])"
      ]
     },
     "execution_count": 33,
     "metadata": {},
     "output_type": "execute_result"
    }
   ],
   "source": [
    "allS[2,59]"
   ]
  },
  {
   "cell_type": "code",
   "execution_count": 29,
   "metadata": {
    "collapsed": false
   },
   "outputs": [],
   "source": [
    "%matplotlib inline"
   ]
  },
  {
   "cell_type": "code",
   "execution_count": 35,
   "metadata": {
    "collapsed": false
   },
   "outputs": [
    {
     "data": {
      "text/plain": [
       "<matplotlib.colorbar.Colorbar at 0x7f48f0dd04a8>"
      ]
     },
     "execution_count": 35,
     "metadata": {},
     "output_type": "execute_result"
    },
    {
     "data": {
      "image/png": "[encoded data removed]",
      "text/plain": [
       "<matplotlib.figure.Figure at 0x7f48c39adef0>"
      ]
     },
     "metadata": {},
     "output_type": "display_data"
    }
   ],
   "source": [
    "#full\n",
    "plt.imshow(allS[:,:,-1])\n",
    "plt.colorbar()"
   ]
  },
  {
   "cell_type": "code",
   "execution_count": 42,
   "metadata": {
    "collapsed": false
   },
   "outputs": [
    {
     "data": {
      "text/plain": [
       "<matplotlib.colorbar.Colorbar at 0x7f48ebb8bf28>"
      ]
     },
     "execution_count": 42,
     "metadata": {},
     "output_type": "execute_result"
    },
    {
     "data": {
      "image/png": "[encoded data removed]",
      "text/plain": [
       "<matplotlib.figure.Figure at 0x7f48f0aa9278>"
      ]
     },
     "metadata": {},
     "output_type": "display_data"
    }
   ],
   "source": [
    "#short\n",
    "plt.imshow(allS[:,:,-1])\n",
    "plt.colorbar()"
   ]
  },
  {
   "cell_type": "code",
   "execution_count": 53,
   "metadata": {
    "collapsed": false
   },
   "outputs": [
    {
     "data": {
      "text/plain": [
       "<matplotlib.colorbar.Colorbar at 0x7f48ec012c50>"
      ]
     },
     "execution_count": 53,
     "metadata": {},
     "output_type": "execute_result"
    },
    {
     "data": {
      "image/png": "[encoded data removed]",
      "text/plain": [
       "<matplotlib.figure.Figure at 0x7f48f0ac6b70>"
      ]
     },
     "metadata": {},
     "output_type": "display_data"
    }
   ],
   "source": [
    "#long\n",
    "plt.figure(figsize=(10,10))\n",
    "plt.imshow(allS[:,:,-1])\n",
    "plt.colorbar()"
   ]
  },
  {
   "cell_type": "code",
   "execution_count": null,
   "metadata": {
    "collapsed": true
   },
   "outputs": [],
   "source": []
  }
 ],
 "metadata": {
  "anaconda-cloud": {},
  "kernelspec": {
   "display_name": "Python [default]",
   "language": "python",
   "name": "python3"
  },
  "language_info": {
   "codemirror_mode": {
    "name": "ipython",
    "version": 3
   },
   "file_extension": ".py",
   "mimetype": "text/x-python",
   "name": "python",
   "nbconvert_exporter": "python",
   "pygments_lexer": "ipython3",
   "version": "3.5.2"
  }
 },
 "nbformat": 4,
 "nbformat_minor": 2
}
