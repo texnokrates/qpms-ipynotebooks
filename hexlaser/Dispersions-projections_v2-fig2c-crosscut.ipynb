{
 "cells": [
  {
   "cell_type": "code",
   "execution_count": 1,
   "metadata": {
    "collapsed": true
   },
   "outputs": [],
   "source": [
    "note=\"hexpaper_fig2\""
   ]
  },
  {
   "cell_type": "code",
   "execution_count": 2,
   "metadata": {
    "collapsed": true
   },
   "outputs": [],
   "source": [
    "# This one uses processed Ws inputs, so one does not have to input the array sizes manually\n",
    "import qpms\n",
    "from qpms.symmetries import  gen_hexlattice_Kpoint_svwf_rep, gen_hexlattice_Kpoint_svwf_rep_projectors\n",
    "import numpy as np\n",
    "from matplotlib import pyplot as plt\n",
    "import matplotlib\n",
    "import scipy\n",
    "from scipy import interpolate\n",
    "from scipy.constants import e as eV, hbar, hbar as ℏ, c\n",
    "ň = np.newaxis\n",
    "import cmath"
   ]
  },
  {
   "cell_type": "code",
   "execution_count": 3,
   "metadata": {
    "collapsed": false
   },
   "outputs": [
    {
     "data": {
      "text/plain": [
       "(6.988630318682703, 7.596337302915982)"
      ]
     },
     "execution_count": 3,
     "metadata": {},
     "output_type": "execute_result"
    }
   ],
   "source": [
    "evfactor =  (eV/hbar) /( 3e8 / 1e-6 )\n",
    "evfactor * 1.38, evfactor * 1.5"
   ]
  },
  {
   "cell_type": "code",
   "execution_count": 4,
   "metadata": {
    "collapsed": true
   },
   "outputs": [],
   "source": [
    "irrepnames_latex = {\"E'\": \"$E'$\", \"A1'\": \"$A_1'$\", \"A2'\" : \"$A_2'$\", \"E''\":\"$E''$\", \"A1''\":\"$A_1''$\", \"A2''\" : \"$A_2''$\"}"
   ]
  },
  {
   "cell_type": "code",
   "execution_count": 5,
   "metadata": {
    "collapsed": true
   },
   "outputs": [],
   "source": [
    "Wfile = '/m/phys/project/qd/Marek/deep_thin_cs/lMax3zoom2'\n",
    "#force_lMax = 2\n",
    "#nelem = force_lMax * (force_lMax+2)"
   ]
  },
  {
   "cell_type": "code",
   "execution_count": 6,
   "metadata": {
    "collapsed": false
   },
   "outputs": [],
   "source": [
    "#wdata = wdata_long\n",
    "wdata = qpms.loadWfile_processed(Wfile, lMax=3, midk_halfwidth=1, freqlimits=(1.44075*eV/ℏ,1.44125*eV/ℏ)\n",
    "                                 #freqlimits=(1.439*eV/ℏ,1.442*eV/ℏ)\n",
    "                                )\n",
    "lMax = wdata['lMax']\n",
    "nelem = wdata['nelem']"
   ]
  },
  {
   "cell_type": "code",
   "execution_count": 7,
   "metadata": {
    "collapsed": false
   },
   "outputs": [],
   "source": [
    "#wdata.keys(), wdata['nk'], wdata['ks'], wdata['Ws'].shape"
   ]
  },
  {
   "cell_type": "code",
   "execution_count": 8,
   "metadata": {
    "collapsed": true
   },
   "outputs": [],
   "source": [
    "#### T-matrices from file\n",
    "# Original Ag:\n",
    "#TMatrix_file = '/u/46/necadam1/unix/tmatrix-experiments/Cylinder/hexlasingPaper/cylinder_50nm_lMax3_longer_cleaned.TMatrix'\n",
    "\n",
    "TMatrix_file = '/u/46/necadam1/unix/tmatrix-experiments/Cylinder/hexlasingPaper_finer/cylinder_50nm_lMax3_longer_cleaned.TMatrix'\n",
    "# Zero loss \"Ag\":\n",
    "#TMatrix_file = '/u/46/necadam1/unix/tmatrix-experiments/Cylinder/hexlasingPaper/zeroloss/cylinder_50nm_lMax2_long.TMatrix'\n",
    "\n",
    "TMatrices_orig, freqs_orig, freqs_weirdunits_orig, lMaxTM = qpms.loadScuffTMatrices(TMatrix_file, normalisation = 2, version = 'new')\n",
    "tmtype=\"Scuff\""
   ]
  },
  {
   "cell_type": "code",
   "execution_count": 9,
   "metadata": {
    "collapsed": false
   },
   "outputs": [],
   "source": [
    "# TODO synchronize the TM/W lMaxes better\n",
    "TMatrices_orig = TMatrices_orig[...,:,0:nelem,:,0:nelem]\n",
    "lMaxTM = lMax"
   ]
  },
  {
   "cell_type": "code",
   "execution_count": 10,
   "metadata": {
    "collapsed": false
   },
   "outputs": [
    {
     "data": {
      "text/plain": [
       "(0.19732697880919506, 2.1705967669011454)"
      ]
     },
     "execution_count": 10,
     "metadata": {},
     "output_type": "execute_result"
    }
   ],
   "source": [
    "freqs_orig[0] / (eV/hbar), freqs_orig[-1] / (eV/hbar)"
   ]
  },
  {
   "cell_type": "markdown",
   "metadata": {
    "collapsed": false
   },
   "source": [
    "#### Alternatively, Mie T-matrix\n",
    "#lMaxTM = force_lMax\n",
    "lMax = lMaxTM\n",
    "\n",
    "nelem = lMax * (lMax + 2)\n",
    "startω =1*eV/ℏ\n",
    "stopω = 2*eV/ℏ\n",
    "ωlist = np.linspace(startω, stopω, 200)\n",
    "\n",
    "\n",
    "ε_b = 2.13\n",
    "R = 40e-9\n",
    "\n",
    "if False: # drude model\n",
    "    ω_p = 9*eV/ℏ #9*eV/ℏ\n",
    "    ε_inf = 4.6\n",
    "    γ_p = 0#0.07*eV/ℏ\n",
    "    \n",
    "    ε_mlist = qpms.ε_drude(ε_inf, ω_p, γ_p, ωlist)\n",
    "    tmtype=\"MieDrude%gnm\" % (R/1e-9)\n",
    "else: # interpolated data\n",
    "    permdata = np.loadtxt(\"/u/46/necadam1/unix/tmatrix-experiments/materialy/Au-Johnson-simple.dat\")\n",
    "    permfreqs = permdata[:,0]\n",
    "    permvals = permdata[:,1] + permdata[:,2]*1j\n",
    "    permdata_interp = interpolate.interp1d(permfreqs, permvals, axis = 0, kind='linear', fill_value='extrapolate')\n",
    "    ε_mlist = permdata_interp(ωlist)\n",
    "    tmtype=\"MieInterp%gnm\" % (R/1e-9)\n",
    "    \n",
    "\n",
    "RVlist = np.empty((lMax+1,)+ωlist.shape,dtype=np.complex_)\n",
    "RHlist = np.empty((lMax+1,)+ωlist.shape,dtype=np.complex_)\n",
    "\n",
    "for i in range(len(ωlist)):\n",
    "    ω=ωlist[i]\n",
    "    k_i = cmath.sqrt(ε_mlist[i])*ω/c\n",
    "    k_e = cmath.sqrt(ε_b)*ω/c\n",
    "    RH, RV, TH, TV = qpms.mie_coefficients(a=R, nmax=lMax, k_i=k_i, k_e=k_e, J_ext=1, J_scat=3)\n",
    "    RVlist[:,i] = RV\n",
    "    RHlist[:,i] = RH\n",
    "\n",
    "y = np.arange(nelem)\n",
    "my, ny = qpms.get_mn_y(lMax)\n",
    "\n",
    "TMatrices_orig = np.zeros((RVlist.shape[1], 2, nelem, 2, nelem), dtype=complex)\n",
    "\n",
    "for l in range(1,lMax+1):\n",
    "    beg = l**2-1\n",
    "    end = l*(l+2)\n",
    "    TMatrices_orig[:,0,beg:end,0,beg:end] = -RVlist[l,:,ň,ň] * np.eye(2*l+1) # FIXME opposite sign?\n",
    "    TMatrices_orig[:,1,beg:end,1,beg:end] = -RHlist[l,:,ň,ň] * np.eye(2*l+1)\n",
    "\n",
    "freqs_orig = ωlist"
   ]
  },
  {
   "cell_type": "code",
   "execution_count": 11,
   "metadata": {
    "collapsed": false
   },
   "outputs": [
    {
     "data": {
      "text/plain": [
       "(1.4407533367285164, 1.4412466541755393)"
      ]
     },
     "execution_count": 11,
     "metadata": {},
     "output_type": "execute_result"
    }
   ],
   "source": [
    "lMax = lMaxTM  # redundant\n",
    "nelem = qpms.get_nelem(lMax) #redundant\n",
    "nomega = wdata['nfreqs'] # 286\n",
    "nk = wdata['nk'] #100\n",
    "npart = wdata['npart']\n",
    "wdata['freqs'][0]/(eV/hbar), wdata['freqs'][-1] / (eV/hbar)"
   ]
  },
  {
   "cell_type": "code",
   "execution_count": 12,
   "metadata": {
    "collapsed": false
   },
   "outputs": [],
   "source": [
    "#symmetrize TMatrices\n",
    "yfl = qpms.yflip_tyty(lMax)\n",
    "xfl = qpms.xflip_tyty(lMax)\n",
    "zfl = qpms.zflip_tyty(lMax)\n",
    "TMatrix=TMatrices_orig\n",
    "TMatrix_sym = (TMatrix + qpms.apply_ndmatrix_left(yfl,qpms.apply_ndmatrix_left(yfl, TMatrix, (-4,-3)),(-2,-1)))/2\n",
    "TMatrix_sym = (TMatrix_sym + qpms.apply_ndmatrix_left(xfl,qpms.apply_ndmatrix_left(xfl, TMatrix_sym, (-4,-3)),(-2,-1)))/2\n",
    "TMatrix_sym = (TMatrix_sym + qpms.apply_ndmatrix_left(zfl,qpms.apply_ndmatrix_left(zfl, TMatrix_sym, (-4,-3)),(-2,-1)))/2\n",
    "rotN = 600\n",
    "\n",
    "TMatrix_contribs = np.empty((rotN,)+TMatrix.shape, dtype=np.complex_)\n",
    "for i in range(rotN):\n",
    "    rotangle = 2*np.pi*i / rotN\n",
    "    rot =  qpms.WignerD_yy_fromvector(lMax,np.array([0,0,rotangle]))\n",
    "    rotinv = qpms.WignerD_yy_fromvector(lMax,np.array([0,0,-rotangle]))\n",
    "    TMatrix_contribs[i] = qpms.apply_matrix_left(rot,qpms.apply_matrix_left(rotinv, TMatrix_sym, -3),-1)\n",
    "TMatrix_sym = np.sum(TMatrix_contribs, axis=0) / rotN\n",
    "TMatrix_sym[np.abs(TMatrix_sym) <= 1e-16] = 0"
   ]
  },
  {
   "cell_type": "code",
   "execution_count": 13,
   "metadata": {
    "collapsed": false
   },
   "outputs": [],
   "source": [
    "# TODO process (interpolate and symmetrize) T-matrix here\n",
    "TMatrices_interp = interpolate.interp1d(freqs_orig, TMatrix_sym, axis = 0, kind='linear', fill_value='extrapolate')\n"
   ]
  },
  {
   "cell_type": "code",
   "execution_count": 14,
   "metadata": {
    "collapsed": false
   },
   "outputs": [
    {
     "data": {
      "text/plain": [
       "((531, 3, 2, 2, 15, 2, 2, 15), (531, 3, 2), (531, 3))"
      ]
     },
     "execution_count": 14,
     "metadata": {},
     "output_type": "execute_result"
    }
   ],
   "source": [
    "Wmatrices = wdata['Ws']#.reshape((nomega,nk,npart,2,nelem,npart,2,nelem))\n",
    "#Wmatrices = (wdata_long['Ws']+0*wdata_short['Ws']).reshape((nomega,nk,npart,2,nelem,npart,2,nelem))\n",
    "#TMatrices = TMatrix_sym.reshape((nomega,1,2,nelem,2,nelem))\n",
    "ks = np.broadcast_to(wdata['ks'][ň,:,:], (nomega, nk, 2))\n",
    "freqs = np.broadcast_to(wdata['freqs'][:,ň], (nomega,nk))\n",
    "\n",
    "Wmatrices.shape, ks.shape, freqs.shape\n"
   ]
  },
  {
   "cell_type": "code",
   "execution_count": 15,
   "metadata": {
    "collapsed": false
   },
   "outputs": [
    {
     "data": {
      "text/plain": [
       "((157, 2, 15, 2, 15), (531, 3, 2), (531, 3))"
      ]
     },
     "execution_count": 15,
     "metadata": {},
     "output_type": "execute_result"
    }
   ],
   "source": [
    "TMatrices_orig.shape, ks.shape, freqs.shape"
   ]
  },
  {
   "cell_type": "code",
   "execution_count": 16,
   "metadata": {
    "collapsed": false
   },
   "outputs": [],
   "source": [
    "lineindex = nk//2\n",
    "linek = ks[0,lineindex]\n",
    "linefreqs = freqs[:,lineindex]\n",
    "lineWmatrices = Wmatrices[:,lineindex]\n"
   ]
  },
  {
   "cell_type": "markdown",
   "metadata": {},
   "source": [
    "# Checks"
   ]
  },
  {
   "cell_type": "code",
   "execution_count": 17,
   "metadata": {
    "collapsed": false
   },
   "outputs": [],
   "source": [
    "# \"Final\" SVD problem matrices to test projections onto irrep subspace\n",
    "finalMatrices = np.empty((nomega, npart,2,nelem, npart,2,nelem), dtype=complex)\n",
    "# Full problem\n",
    "for omi in range(nomega):\n",
    "        W = lineWmatrices[omi]\n",
    "        T = TMatrices_interp(linefreqs[omi])\n",
    "        TW = np.sum(\n",
    "            T[...,ň,:,:,:,:,ň,ň,ň] * W[...,:,ň,ň,:,:,:,:,:]\n",
    "        , axis = (-5,-4))\n",
    "        iden = np.eye(npart*2*nelem)\n",
    "        iden.shape = (npart,2,nelem,npart,2,nelem)\n",
    "        finalMatrix = iden-TW\n",
    "        finalMatrices[omi] = finalMatrix"
   ]
  },
  {
   "cell_type": "code",
   "execution_count": 18,
   "metadata": {
    "collapsed": false
   },
   "outputs": [],
   "source": [
    "### Zde se vybírá \"\"číslo\"\" modu\n",
    "psi = 1\n",
    "reps =  gen_hexlattice_Kpoint_svwf_rep(lMax, psi, vflip='y')\n",
    "projmats, bases = gen_hexlattice_Kpoint_svwf_rep_projectors(lMax,psi, vflip='y',do_bases=True)"
   ]
  },
  {
   "cell_type": "code",
   "execution_count": 19,
   "metadata": {
    "collapsed": false
   },
   "outputs": [
    {
     "data": {
      "text/plain": [
       "(20, 2, 2, 15)"
      ]
     },
     "execution_count": 19,
     "metadata": {},
     "output_type": "execute_result"
    }
   ],
   "source": [
    "bases[\"E''\"].shape"
   ]
  },
  {
   "cell_type": "code",
   "execution_count": 20,
   "metadata": {
    "collapsed": false
   },
   "outputs": [
    {
     "data": {
      "text/plain": [
       "(2, 2, 15, 2, 2, 15)"
      ]
     },
     "execution_count": 20,
     "metadata": {},
     "output_type": "execute_result"
    }
   ],
   "source": [
    "projmats[\"E''\"].shape"
   ]
  },
  {
   "cell_type": "code",
   "execution_count": 21,
   "metadata": {
    "collapsed": false
   },
   "outputs": [
    {
     "data": {
      "text/plain": [
       "(2, 2, 2, 2, 15, 2, 2, 15)"
      ]
     },
     "execution_count": 21,
     "metadata": {},
     "output_type": "execute_result"
    }
   ],
   "source": [
    "reps[\"E''\"].shape"
   ]
  },
  {
   "cell_type": "code",
   "execution_count": 22,
   "metadata": {
    "collapsed": false
   },
   "outputs": [],
   "source": [
    "# test whether the symmetry group is correct (now mainly whether the psi sign is correct)\n",
    "finalMatrices_projs = dict()\n",
    "for rep, P in projmats.items():\n",
    "    MP = np.tensordot(finalMatrices, P, axes=([-3,-2,-1],[0,1,2]))\n",
    "    PMP = np.tensordot(P,MP, axes=([-3,-2,-1],[1,2,3]))\n",
    "    PMP = np.rollaxis(PMP, 3)\n",
    "    finalMatrices_projs[rep] = PMP\n",
    "\n",
    "finalMatrices_reconstructed = np.zeros(finalMatrices.shape, dtype=complex)\n",
    "for PMP in finalMatrices_projs.values():\n",
    "    finalMatrices_reconstructed += PMP"
   ]
  },
  {
   "cell_type": "code",
   "execution_count": 23,
   "metadata": {
    "collapsed": false
   },
   "outputs": [
    {
     "data": {
      "text/plain": [
       "1.0676362453452966e-09"
      ]
     },
     "execution_count": 23,
     "metadata": {},
     "output_type": "execute_result"
    }
   ],
   "source": [
    "\n",
    "np.amax(np.abs(finalMatrices-finalMatrices_reconstructed))\n",
    "#finalMatrices[0]\n",
    "#finalMatrices_reconstructed[0]\n",
    "#finalMatrices[0]-finalMatrices_reconstructed[0]"
   ]
  },
  {
   "cell_type": "code",
   "execution_count": 24,
   "metadata": {
    "collapsed": false
   },
   "outputs": [],
   "source": [
    "TMatrices_projs = dict()\n",
    "fullTMatrices = np.zeros((nomega, npart,2,nelem,npart,2,nelem), dtype=complex)\n",
    "for omi in range(nomega):\n",
    "    fullTMatrices[omi,0,:,:,0,:,:] = TMatrices_interp(linefreqs[omi])\n",
    "    fullTMatrices[omi,1,:,:,1,:,:] = TMatrices_interp(linefreqs[omi])\n",
    "for rep, P in projmats.items():\n",
    "    TP = np.tensordot(fullTMatrices, P, axes=([-3,-2,-1],[0,1,2]))\n",
    "    PTP = np.tensordot(P,TP, axes=([-3,-2,-1],[1,2,3]))\n",
    "    PTP = np.rollaxis(PTP, 3)\n",
    "    TMatrices_projs[rep] = PTP\n",
    "\n",
    "TMatrices_reconstructed = np.zeros(fullTMatrices.shape, dtype=complex)\n",
    "for PTP in TMatrices_projs.values():\n",
    "    TMatrices_reconstructed += PTP"
   ]
  },
  {
   "cell_type": "code",
   "execution_count": 25,
   "metadata": {
    "collapsed": false
   },
   "outputs": [
    {
     "data": {
      "text/plain": [
       "8.673617379884035e-19"
      ]
     },
     "execution_count": 25,
     "metadata": {},
     "output_type": "execute_result"
    }
   ],
   "source": [
    "np.amax(np.abs(TMatrices_reconstructed-fullTMatrices))"
   ]
  },
  {
   "cell_type": "markdown",
   "metadata": {},
   "source": [
    "# Irrep SVs at K"
   ]
  },
  {
   "cell_type": "code",
   "execution_count": 26,
   "metadata": {
    "collapsed": true
   },
   "outputs": [],
   "source": [
    "WMatrices_projs = dict()\n",
    "for rep, P in projmats.items():\n",
    "    WP = np.tensordot(lineWmatrices, P, axes=([-3,-2,-1],[0,1,2]))\n",
    "    PWP = np.tensordot(P,WP, axes=([-3,-2,-1],[1,2,3]))\n",
    "    PWP = np.rollaxis(PWP, 3)\n",
    "    WMatrices_projs[rep] = PWP\n",
    "\n",
    "WMatrices_reconstructed = np.zeros(lineWmatrices.shape, dtype=complex)\n",
    "for PWP in WMatrices_projs.values():\n",
    "    WMatrices_reconstructed += PWP"
   ]
  },
  {
   "cell_type": "code",
   "execution_count": 27,
   "metadata": {
    "collapsed": false
   },
   "outputs": [
    {
     "name": "stderr",
     "output_type": "stream",
     "text": [
      "/u/46/necadam1/unix/miniconda3/lib/python3.5/site-packages/ipykernel/__main__.py:1: RuntimeWarning: invalid value encountered in true_divide\n",
      "  if __name__ == '__main__':\n"
     ]
    },
    {
     "data": {
      "text/plain": [
       "(1.0, 7.963936141273393e-08)"
      ]
     },
     "execution_count": 27,
     "metadata": {},
     "output_type": "execute_result"
    }
   ],
   "source": [
    "(np.amax(np.nan_to_num(np.abs(WMatrices_reconstructed-lineWmatrices)/(np.abs(WMatrices_reconstructed)+np.abs(lineWmatrices)))),\n",
    " np.amax(np.abs(WMatrices_reconstructed-lineWmatrices)))"
   ]
  },
  {
   "cell_type": "markdown",
   "metadata": {},
   "source": [
    "## Solve"
   ]
  },
  {
   "cell_type": "code",
   "execution_count": 28,
   "metadata": {
    "collapsed": false
   },
   "outputs": [],
   "source": [
    "lineS_irrep = dict()\n",
    "for rep, B in bases.items():\n",
    "    N = B.shape[0]\n",
    "    lineS_thisirrep = np.full((nomega,N), np.nan)\n",
    "    #B_H = np.moveaxis(B,0, -1).conj() # (N,2,2,nelem) -> (2,2,nelem,N)\n",
    "    B_H = B.conj()\n",
    "    B = np.moveaxis(B,0,-1)\n",
    "    for omi in range(nomega):\n",
    "            M = finalMatrices[omi]\n",
    "            MB = np.tensordot(M,B,axes=([-3,-2,-1],[0,1,2]))\n",
    "            finalMatrix_irrep = np.tensordot(B_H, MB, axes=([-3,-2,-1],[0,1,2]))\n",
    "            try:\n",
    "                #allU[omi,ki], allS[omi,ki], allV[omi,ki] = scipy.linalg.svd(finalMatrix.reshape((npart*nelem,npart*nelem)), \n",
    "                lineS_thisirrep[omi] = scipy.linalg.svd(finalMatrix_irrep, compute_uv = False,\n",
    "                                                                           # lapack_driver= 'gesvd'\n",
    "                                                                           )\n",
    "            except ValueError:\n",
    "                pass\n",
    "    lineS_irrep[rep] = lineS_thisirrep\n"
   ]
  },
  {
   "cell_type": "markdown",
   "metadata": {},
   "source": [
    "## Plot"
   ]
  },
  {
   "cell_type": "code",
   "execution_count": 87,
   "metadata": {
    "collapsed": false
   },
   "outputs": [
    {
     "name": "stdout",
     "output_type": "stream",
     "text": [
      "[1.44109866 1.44110931 1.44110892]\n",
      "<a list of 6 Text xtickline objects>\n",
      "Line2D()\n",
      "Line2D()\n",
      "Line2D()\n",
      "Line2D()\n",
      "Line2D()\n",
      "Line2D()\n",
      "E' 1.4410986589414323\n",
      "A1' 1.441109314598288\n",
      "A2' 1.4411089199443305\n",
      "E'' 1.4410955017097715\n",
      "A1'' 1.4411089199443305\n",
      "A2'' 1.4410552470060944\n"
     ]
    },
    {
     "data": {
      "image/png": "[encoded data removed]",
      "text/plain": [
       "<matplotlib.figure.Figure at 0x7f3e1ab29f60>"
      ]
     },
     "metadata": {},
     "output_type": "display_data"
    }
   ],
   "source": [
    "%matplotlib inline\n",
    "\n",
    "plotreps = [\"E'\",  \"A1'\",  \"A2'\",  \n",
    "            #\"E''\", \"A1''\", \"A2''\"\n",
    "           ]\n",
    "\n",
    "from matplotlib import rcParams\n",
    "#rcParams.update({'figure.autolayout': True})\n",
    "#plt.gcf().subplots_adjust(right=0.5)\n",
    "repcolors = {}\n",
    "\n",
    "s = 1\n",
    "f, ax = plt.subplots(1,1, figsize=(2.5,1.8))\n",
    "f.subplots_adjust(bottom=0.26,left=0.09,top=0.92,right=0.80)\n",
    "reppeakfreqs = dict()\n",
    "for rep in plotreps:\n",
    "    reppeakfreqs[rep] = linefreqs[np.argmin(lineSp[:,-s])]\n",
    "    lineSp = lineS_irrep[rep]\n",
    "    p = ax.plot(linefreqs/eV*hbar, lineSp[:,-s], label=irrepnames_latex[rep], ls = ':' if rep==\"A2'\" else None)\n",
    "    repcolors[rep] = p[-1].get_color()\n",
    "ax.set_ylim([0,1.05])\n",
    "ax.set_yticks([0,1])\n",
    "ax.set_ylabel(\"Smallest SV\")\n",
    "ax.yaxis.tick_right()\n",
    "ax.yaxis.set_label_position(\"right\")\n",
    "ax.set_xlim([1.441, 1.4412])\n",
    "ax.set_xticks([1.441, 1.4411, 1.4412])\n",
    "ax.xaxis.set_major_formatter(matplotlib.ticker.ScalarFormatter(useOffset=False))\n",
    "ax.set_xlabel('$E\\,(\\mathrm{eV})$')\n",
    "ax2 = ax.twiny()\n",
    "ax2.set_xlim([ax.get_xlim()[0],ax.get_xlim()[1]])\n",
    "ax2.xaxis.set_major_formatter(matplotlib.ticker.NullFormatter())\n",
    "ax2.set_xticks([linefreqs[np.argmin(lineS_irrep[rep][:,-s])]/eV*hbar for rep in plotreps])\n",
    "print(ax2.get_xticks())\n",
    "ax.legend(prop={'size': 8.5})\n",
    "print(ax2.get_xticklines())\n",
    "for  i, tick in enumerate(ax2.get_xticklines()):\n",
    "    print(tick)\n",
    "    tick.set_color(repcolors[plotreps[i//2]])\n",
    "    #if(i<2): tick.set_marker('o')\n",
    "plt.savefig(\"../../../hexlaser/figs/fig3SVs.pdf\")\n",
    "for rep in [\"E'\", \"A1'\", \"A2'\", \"E''\", \"A1''\", \"A2''\"]:\n",
    "    print(rep, linefreqs[np.argmin(lineS_irrep[rep][:,-s])]/eV*hbar)"
   ]
  },
  {
   "cell_type": "code",
   "execution_count": null,
   "metadata": {
    "collapsed": true
   },
   "outputs": [],
   "source": []
  }
 ],
 "metadata": {
  "anaconda-cloud": {},
  "kernelspec": {
   "display_name": "Python [default]",
   "language": "python",
   "name": "python3"
  },
  "language_info": {
   "codemirror_mode": {
    "name": "ipython",
    "version": 3
   },
   "file_extension": ".py",
   "mimetype": "text/x-python",
   "name": "python",
   "nbconvert_exporter": "python",
   "pygments_lexer": "ipython3",
   "version": "3.5.2"
  }
 },
 "nbformat": 4,
 "nbformat_minor": 2
}
