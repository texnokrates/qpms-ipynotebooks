{
 "cells": [
  {
   "cell_type": "code",
   "execution_count": 51,
   "metadata": {
    "collapsed": false
   },
   "outputs": [],
   "source": [
    "import numpy as np\n",
    "import cmath\n",
    "import math\n",
    "from math import lgamma,exp\n",
    "#from sklearn.preprocessing import normalize\n",
    "from scipy.constants import epsilon_0 as ε_0, c, pi as π, e, hbar as ℏ\n",
    "eV = e\n",
    "from scipy.special import lpmn, lpmv, sph_jn, sph_yn, poch\n",
    "from scipy.misc import factorial\n",
    "from numpy import newaxis as ň\n",
    "import sympy.physics.wigner as sw\n",
    "debye = 3.33564e-30\n",
    "\n",
    "I = np.identity(3)"
   ]
  },
  {
   "cell_type": "code",
   "execution_count": 2,
   "metadata": {
    "collapsed": true
   },
   "outputs": [],
   "source": []
  },
  {
   "cell_type": "code",
   "execution_count": 3,
   "metadata": {
    "collapsed": false
   },
   "outputs": [],
   "source": [
    "from py_gmm.gmm import vec_trans as vc"
   ]
  },
  {
   "cell_type": "code",
   "execution_count": 14,
   "metadata": {
    "collapsed": false
   },
   "outputs": [
    {
     "data": {
      "text/plain": [
       "(array([  2.64656585e+17,  -9.02060942e+17,   1.26120695e+18,\n",
       "         -9.08154188e+17,   3.32877338e+17,  -3.99902372e+16,\n",
       "         -9.37042460e+15,   1.93795427e+15,   4.15147444e+14,\n",
       "         -4.50334569e+13,  -1.87310470e+13,  -6.89282471e+11,\n",
       "          4.70652220e+11,   8.36238653e+10,   3.33171146e+08,\n",
       "         -1.79374160e+09,  -2.62337431e+08,  -5.94969041e+06,\n",
       "          3.03619342e+06,   4.52389705e+05,   2.13275693e+04,\n",
       "         -1.46829323e+03,  -2.69213511e+02,  -1.39717873e+01,\n",
       "          9.60086347e-03,   2.93425224e-02,   8.10789281e-04,\n",
       "         -5.91092804e-06]), 0)"
      ]
     },
     "execution_count": 14,
     "metadata": {},
     "output_type": "execute_result"
    }
   ],
   "source": [
    "vc.gaunt_xu(-15,55,-58,72,27)"
   ]
  },
  {
   "cell_type": "code",
   "execution_count": 5,
   "metadata": {
    "collapsed": false
   },
   "outputs": [
    {
     "data": {
      "text/plain": [
       "-0.0648286110541008"
      ]
     },
     "execution_count": 5,
     "metadata": {},
     "output_type": "execute_result"
    }
   ],
   "source": [
    "sw.gaunt(15,16,17,4,5,-9).evalf()"
   ]
  },
  {
   "cell_type": "code",
   "execution_count": 6,
   "metadata": {
    "collapsed": true
   },
   "outputs": [],
   "source": [
    "# NOT REALLY USING THIS NOW; JUST FOR BENCHMARKS\n",
    "# from https://raw.githubusercontent.com/michael-hartmann/gaunt/master/gaunt.py\n",
    "\n",
    "from __future__ import division\n",
    "from math import lgamma,exp\n",
    "\n",
    "def gaunt_a0(n,nu,m,mu):\n",
    "    # eq. (20)\n",
    "    return exp( lgamma(2*n+1)-lgamma(n+1)+lgamma(2*nu+1)-lgamma(1+nu)+lgamma(n+nu+1)-lgamma(2*n+2*nu+1) + lgamma(1+n+nu-m-mu)-lgamma(1+n-m)-lgamma(1+nu-mu) )\n",
    "\n",
    "\n",
    "def gaunt_hartmann(n,nu,m,mu):\n",
    "    \"\"\"\n",
    "    Determine Gaunt coefficients a(m, n, mu, nu, p) for m, n, mu and nu fixed.\n",
    "    These coefficients can be used to express the product of two associated\n",
    "    Legendre polynomials:\n",
    "\n",
    "    P_n^m(x)*P_{nu}^{mu}(x) = a0 sum_{q=0}^{qmax} aq_tilde P_{n+nu-2q}^(m+mu)(x)\n",
    "    \n",
    "    Returns: qmax, a0, aq_tilde\n",
    "    qmax is the upper bound of summation, a0 is the prefactor and aq_tilde is a\n",
    "    list of normalized Gaunt coefficients.\n",
    "\n",
    "    See [1] for more information, especially chapter 3. There is a brief\n",
    "    outline how to calculate Gaunt coefficients at the end of the chapter.\n",
    "\n",
    "    Ref.: [1] Y.-L. Xu, J. Comp. Appl. Math. 85, 53 (1997)\n",
    "    \"\"\"\n",
    "\n",
    "    # eq. (28)\n",
    "    Ap = lambda p:p*(p-1)*(m-mu)-(m+mu)*(n-nu)*(n+nu+1)\n",
    "\n",
    "    # eq. (3)\n",
    "    alpha = lambda p: ((p**2-(n+nu+1)**2)*(p**2-(n-nu)**2))/(4*p**2-1)\n",
    "\n",
    "    # eq. (24)\n",
    "    qmax = min(n,nu,(n+nu-abs(m+mu))//2)\n",
    "\n",
    "    a0 = gaunt_a0(n,nu,m,mu)\n",
    "\n",
    "    n4 = n+nu-m-mu\n",
    "    a_tilde = [0]*(qmax+1)\n",
    "\n",
    "    a_tilde[0] = 1\n",
    "    if qmax == 0:\n",
    "        return qmax,a0,a_tilde\n",
    "\n",
    "    # eq. (29)\n",
    "    a_tilde[1] = (n+nu-1.5)*(1-(2*n+2*nu-1)/(n4*(n4-1))*((m-n)*(m-n+1)/(2*n-1)+(mu-nu)*(mu-nu+1)/(2*nu-1)))\n",
    "    if qmax == 1:\n",
    "        return qmax,a0,a_tilde\n",
    "\n",
    "    # eq. (35)\n",
    "    a_tilde[2] = (2*n+2*nu-1)*(2*n+2*nu-7)/4*( (2*n+2*nu-3)/(n4*(n4-1)) * ( (2*n+2*nu-5)/(2*(n4-2)*(n4-3)) \\\n",
    "                * ( (m-n)*(m-n+1)*(m-n+2)*(m-n+3)/((2*n-1)*(2*n-3)) \\\n",
    "                + 2*(m-n)*(m-n+1)*(mu-nu)*(mu-nu+1)/((2*n-1)*(2*nu-1)) \\\n",
    "                + (mu-nu)*(mu-nu+1)*(mu-nu+2)*(mu-nu+3)/((2*nu-1)*(2*nu-3)) ) - (m-n)*(m-n+1)/(2*n-1) \\\n",
    "                - (mu-nu)*(mu-nu+1)/(2*nu-1) ) +0.5)\n",
    "\n",
    "\n",
    "    for q in range(3,qmax+1):\n",
    "        p = n+nu-2*q\n",
    "        p1 = p-m-mu\n",
    "        p2 = p+m+mu\n",
    "\n",
    "        if Ap(p+4) != 0:\n",
    "            # eqs. (26), (27)\n",
    "            c0 = (p+2)*(p+3)*(p1+1)*(p1+2)*Ap(p+4)*alpha(p+1)\n",
    "            c1 = Ap(p+2)*Ap(p+3)*Ap(p+4) \\\n",
    "               + (p+1)*(p+3)*(p1+2)*(p2+2)*Ap(p+4)*alpha(p+2) \\\n",
    "               + (p+2)*(p+4)*(p1+3)*(p2+3)*Ap(p+2)*alpha(p+3)\n",
    "            c2 = -(p+2)*(p+3)*(p2+3)*(p2+4)*Ap(p+2)*alpha(p+4)\n",
    "            a_tilde[q] = (c1*a_tilde[q-1] + c2*a_tilde[q-2])/c0\n",
    "        else:\n",
    "            if Ap(p+6) == 0:\n",
    "                # eq. (30)\n",
    "                a_tilde[q] = (p+1)*(p2+2)*alpha(p+2)*a_tilde[q-1] / ((p+2)*(p1+1)*alpha(p+1))\n",
    "            else:\n",
    "                # eq. (32), (33)\n",
    "                c0 = (p+2)*(p+3)*(p+5)*(p1+1)*(p1+2)*(p1+4)*Ap(p+6)*alpha(p+1)\n",
    "                c1 = (p+5)*(p1+4)*Ap(p+6)*(Ap(p+2)*Ap(p+3)+(p+1)*(p+3)*(p1+2)*(p2+2)*alpha(p+2))\n",
    "                c2 = (p+2)*(p2+3)*Ap(p+2)*(Ap(p+5)*Ap(p+6)+(p+4)*(p+6)*(p1+5)*(p2+5)*alpha(p+5))\n",
    "                c3 = -(p+2)*(p+4)*(p+5)*(p2+3)*(p2+5)*(p2+6)*Ap(p+2)*alpha(p+6)\n",
    "                a_tilde[q] = (c1*a_tilde[q-1] + c2*a_tilde[q-2] + c3*a_tilde[q-3])/c0\n",
    "\n",
    "    return qmax,a0,a_tilde"
   ]
  },
  {
   "cell_type": "code",
   "execution_count": 23,
   "metadata": {
    "collapsed": true
   },
   "outputs": [],
   "source": [
    "def q_max(m,n,μ,ν):\n",
    "    return min(n,ν,(n+ν-abs(m+μ))/2)\n",
    "    \n",
    "# returns array with indices corresponding to q\n",
    "# argument q does nothing for now\n",
    "def a_q(m,n,μ,ν,q = None):\n",
    "    qm=q_max(m,n,μ,ν)\n",
    "    res, err= vc.gaunt_xu(m,n,μ,ν,qm)\n",
    "    if(err):\n",
    "        raise ValueError('Something bad in the fortran subroutine gaunt_xu happened')\n",
    "    return res\n",
    "    "
   ]
  },
  {
   "cell_type": "code",
   "execution_count": 66,
   "metadata": {
    "collapsed": true
   },
   "outputs": [],
   "source": [
    "def _sph_z_1(n,z):\n",
    "    return sph_jn(n,z)[0]\n",
    "def _sph_z_2(n,z):\n",
    "    return sph_yn(n,z)[0]\n",
    "def _sph_z_3(n,z):\n",
    "    return (sph_jn(n,z)[0] + 1j*sph_yn(n,z)[0])\n",
    "def _sph_z_4(n,z):\n",
    "    return (sph_jn(n,z)[0] - 1j*sph_yn(n,z)[0])\n",
    "_sph_z = [_sph_z_1,_sph_z_2,_sph_z_3,_sph_z_4]\n",
    "\n",
    "# computes bessel/hankel functions for orders from 0 up to n; drops\n",
    "# the derivatives which are also included in scipy.special.sph_jn/yn\n",
    "def sph_zn(n, z, J=1):\n",
    "    return _sph_z[J-1](n=n,z=z)\n",
    "    "
   ]
  },
  {
   "cell_type": "code",
   "execution_count": 86,
   "metadata": {
    "collapsed": true
   },
   "outputs": [],
   "source": [
    "# All arguments are single numbers (for now)\n",
    "#\n",
    "def A(m,n,μ,ν,kdlj,θlj,φlj,r_ge_d,J):\n",
    "    presum = exp(lgamma(2*n+1)-lgamma(n+2)+lgamma(2*ν+3)-lgamma(ν+2) \n",
    "                +lgamma(n+ν+m-μ+1)-lgamma(n-m+1)-lgamma(ν+μ+1))\n",
    "    presum = presum * np.exp(1j*(μ-m)*φlj) * (-1)**m * 1j**(ν+n) / (4*n)\n",
    "    qmax = q_max(-m,n,μ,ν)\n",
    "    q = np.arange(qmax+1, dtype=int)\n",
    "    # N.B. -m !!!!!!\n",
    "    a1q = a_q(-m,n,μ,ν) # there is redundant calc. of qmax\n",
    "    ã1q = a1q / a1q[0]\n",
    "    p = n+ν-2*q\n",
    "    print(qmax,p.shape,q.shape,a1q.shape)\n",
    "    print(\"q\",q)\n",
    "    print(\"q\",p)\n",
    "    print(\"a1q\",a1q)\n",
    "    print(\"ã1q\",ã1q)\n",
    "    print(\"presum\",presum)\n",
    "    if(r_ge_d):\n",
    "        J = 1\n",
    "    zp = sph_zn(n+ν,kdlj,J)[p]\n",
    "    print(\"zp\",zp)\n",
    "    Pp = lpmv(μ-m,p,math.cos(θlj))\n",
    "    print(\"Pp\",Pp)\n",
    "    summandq = (n*(n+1) + ν*(ν+1) - p*(p+1)) * (-1)**q * ã1q * zp * Pp\n",
    "    print(\"summandq\",summandq)\n",
    "    return presum * np.sum(summandq)\n",
    "    "
   ]
  },
  {
   "cell_type": "code",
   "execution_count": 20,
   "metadata": {
    "collapsed": false
   },
   "outputs": [],
   "source": [
    "qmax, a0, aq_tilde = gaunt_hartmann(55,72,-15,-58)"
   ]
  },
  {
   "cell_type": "code",
   "execution_count": 27,
   "metadata": {
    "collapsed": false
   },
   "outputs": [
    {
     "data": {
      "text/plain": [
       "array([  2.64656585e+17,  -9.02060942e+17,   1.26120695e+18,\n",
       "        -9.08154188e+17,   3.32877338e+17,  -3.99902372e+16,\n",
       "        -9.37042460e+15,   1.93795427e+15,   4.15147444e+14,\n",
       "        -4.50334569e+13,  -1.87310470e+13,  -6.89282471e+11,\n",
       "         4.70652220e+11,   8.36238653e+10,   3.33171146e+08,\n",
       "        -1.79374160e+09,  -2.62337431e+08,  -5.94969041e+06,\n",
       "         3.03619342e+06,   4.52389705e+05,   2.13275693e+04,\n",
       "        -1.46829323e+03,  -2.69213511e+02,  -1.39717873e+01,\n",
       "         9.60086347e-03,   2.93425224e-02,   8.10789281e-04,\n",
       "        -5.91092804e-06])"
      ]
     },
     "execution_count": 27,
     "metadata": {},
     "output_type": "execute_result"
    }
   ],
   "source": [
    "a0*np.array(aq_tilde)"
   ]
  },
  {
   "cell_type": "code",
   "execution_count": 88,
   "metadata": {
    "collapsed": false
   },
   "outputs": [
    {
     "ename": "OverflowError",
     "evalue": "math range error",
     "output_type": "error",
     "traceback": [
      "\u001b[1;31m---------------------------------------------------------------------------\u001b[0m",
      "\u001b[1;31mOverflowError\u001b[0m                             Traceback (most recent call last)",
      "\u001b[1;32m<ipython-input-88-9f44a80384ea>\u001b[0m in \u001b[0;36m<module>\u001b[1;34m()\u001b[0m\n\u001b[1;32m----> 1\u001b[1;33m \u001b[0mA\u001b[0m\u001b[1;33m(\u001b[0m\u001b[1;33m-\u001b[0m\u001b[1;36m15\u001b[0m\u001b[1;33m,\u001b[0m\u001b[1;36m55\u001b[0m\u001b[1;33m,\u001b[0m\u001b[1;33m-\u001b[0m\u001b[1;36m58\u001b[0m\u001b[1;33m,\u001b[0m\u001b[1;36m72\u001b[0m\u001b[1;33m,\u001b[0m\u001b[1;36m2.0\u001b[0m\u001b[1;33m,\u001b[0m\u001b[1;36m0.5\u001b[0m\u001b[1;33m,\u001b[0m\u001b[1;36m0.5\u001b[0m\u001b[1;33m,\u001b[0m\u001b[1;32mTrue\u001b[0m\u001b[1;33m,\u001b[0m\u001b[1;36m1\u001b[0m\u001b[1;33m)\u001b[0m\u001b[1;33m\u001b[0m\u001b[0m\n\u001b[0m",
      "\u001b[1;32m<ipython-input-86-d62c5c63e412>\u001b[0m in \u001b[0;36mA\u001b[1;34m(m, n, μ, ν, kdlj, θlj, φlj, r_ge_d, J)\u001b[0m\n\u001b[0;32m      3\u001b[0m \u001b[1;32mdef\u001b[0m \u001b[0mA\u001b[0m\u001b[1;33m(\u001b[0m\u001b[0mm\u001b[0m\u001b[1;33m,\u001b[0m\u001b[0mn\u001b[0m\u001b[1;33m,\u001b[0m\u001b[0mμ\u001b[0m\u001b[1;33m,\u001b[0m\u001b[0mν\u001b[0m\u001b[1;33m,\u001b[0m\u001b[0mkdlj\u001b[0m\u001b[1;33m,\u001b[0m\u001b[0mθlj\u001b[0m\u001b[1;33m,\u001b[0m\u001b[0mφlj\u001b[0m\u001b[1;33m,\u001b[0m\u001b[0mr_ge_d\u001b[0m\u001b[1;33m,\u001b[0m\u001b[0mJ\u001b[0m\u001b[1;33m)\u001b[0m\u001b[1;33m:\u001b[0m\u001b[1;33m\u001b[0m\u001b[0m\n\u001b[0;32m      4\u001b[0m     presum = exp(lgamma(2*n+1)-lgamma(n+2)+lgamma(2*ν+3)-lgamma(ν+2) \n\u001b[1;32m----> 5\u001b[1;33m                 +lgamma(n+ν+m-μ+1)-lgamma(n-m+1)-lgamma(ν+μ+1))\n\u001b[0m\u001b[0;32m      6\u001b[0m     \u001b[0mpresum\u001b[0m \u001b[1;33m=\u001b[0m \u001b[0mpresum\u001b[0m \u001b[1;33m*\u001b[0m \u001b[0mnp\u001b[0m\u001b[1;33m.\u001b[0m\u001b[0mexp\u001b[0m\u001b[1;33m(\u001b[0m\u001b[1;36m1j\u001b[0m\u001b[1;33m*\u001b[0m\u001b[1;33m(\u001b[0m\u001b[0mμ\u001b[0m\u001b[1;33m-\u001b[0m\u001b[0mm\u001b[0m\u001b[1;33m)\u001b[0m\u001b[1;33m*\u001b[0m\u001b[0mφlj\u001b[0m\u001b[1;33m)\u001b[0m \u001b[1;33m*\u001b[0m \u001b[1;33m(\u001b[0m\u001b[1;33m-\u001b[0m\u001b[1;36m1\u001b[0m\u001b[1;33m)\u001b[0m\u001b[1;33m**\u001b[0m\u001b[0mm\u001b[0m \u001b[1;33m*\u001b[0m \u001b[1;36m1j\u001b[0m\u001b[1;33m**\u001b[0m\u001b[1;33m(\u001b[0m\u001b[0mν\u001b[0m\u001b[1;33m+\u001b[0m\u001b[0mn\u001b[0m\u001b[1;33m)\u001b[0m \u001b[1;33m/\u001b[0m \u001b[1;33m(\u001b[0m\u001b[1;36m4\u001b[0m\u001b[1;33m*\u001b[0m\u001b[0mn\u001b[0m\u001b[1;33m)\u001b[0m\u001b[1;33m\u001b[0m\u001b[0m\n\u001b[0;32m      7\u001b[0m     \u001b[0mqmax\u001b[0m \u001b[1;33m=\u001b[0m \u001b[0mq_max\u001b[0m\u001b[1;33m(\u001b[0m\u001b[1;33m-\u001b[0m\u001b[0mm\u001b[0m\u001b[1;33m,\u001b[0m\u001b[0mn\u001b[0m\u001b[1;33m,\u001b[0m\u001b[0mμ\u001b[0m\u001b[1;33m,\u001b[0m\u001b[0mν\u001b[0m\u001b[1;33m)\u001b[0m\u001b[1;33m\u001b[0m\u001b[0m\n",
      "\u001b[1;31mOverflowError\u001b[0m: math range error"
     ]
    }
   ],
   "source": [
    "A(-15,55,-58,72,2.0,0.5,0.5,True,1)"
   ]
  },
  {
   "cell_type": "code",
   "execution_count": 31,
   "metadata": {
    "collapsed": false
   },
   "outputs": [
    {
     "data": {
      "text/plain": [
       "(array([-0.04656925, -0.16778992, -0.03732571,  0.13668516,  0.19679174]),\n",
       " array([ 0.16778992,  0.00936072, -0.14912707, -0.12844915, -0.02730795]))"
      ]
     },
     "execution_count": 31,
     "metadata": {},
     "output_type": "execute_result"
    }
   ],
   "source": [
    "sph_jn(4,6)"
   ]
  },
  {
   "cell_type": "code",
   "execution_count": 36,
   "metadata": {
    "collapsed": false
   },
   "outputs": [
    {
     "data": {
      "text/plain": [
       "array([-0.04656925+0.16002838j, -0.16778992-0.01989785j,\n",
       "       -0.03732571-0.16997731j,  0.13668516-0.1217499j ,\n",
       "        0.19679174+0.02793575j])"
      ]
     },
     "execution_count": 36,
     "metadata": {},
     "output_type": "execute_result"
    }
   ],
   "source": [
    "sph_z(4,6,4)"
   ]
  },
  {
   "cell_type": "code",
   "execution_count": 37,
   "metadata": {
    "collapsed": false
   },
   "outputs": [
    {
     "data": {
      "text/plain": [
       "2.652528598121911e+32"
      ]
     },
     "execution_count": 37,
     "metadata": {},
     "output_type": "execute_result"
    }
   ],
   "source": []
  },
  {
   "cell_type": "code",
   "execution_count": 38,
   "metadata": {
    "collapsed": false
   },
   "outputs": [
    {
     "data": {
      "text/plain": [
       "array(2.652528598121911e+32)"
      ]
     },
     "execution_count": 38,
     "metadata": {},
     "output_type": "execute_result"
    }
   ],
   "source": [
    "factorial(30)"
   ]
  },
  {
   "cell_type": "code",
   "execution_count": 61,
   "metadata": {
    "collapsed": false
   },
   "outputs": [
    {
     "data": {
      "text/plain": [
       "array([  7.56959726,  13.87749947,  20.24449652])"
      ]
     },
     "execution_count": 61,
     "metadata": {},
     "output_type": "execute_result"
    }
   ],
   "source": [
    "lpmv(2,np.array([4,5,6]),math.cos(0.5))"
   ]
  },
  {
   "cell_type": "code",
   "execution_count": 56,
   "metadata": {
    "collapsed": false
   },
   "outputs": [
    {
     "data": {
      "text/plain": [
       "(array([[  1.        ,   0.87758256,   0.65522673,   0.37330421,\n",
       "           0.08188917,  -0.16928726],\n",
       "        [  0.        ,  -0.47942554,  -1.26220648,  -2.05008768,\n",
       "          -2.51500749,  -2.40342551],\n",
       "        [  0.        ,   0.        ,   0.68954654,   3.0256701 ,\n",
       "           7.56959726,  13.87749947]]),\n",
       " array([[  0.        ,   1.        ,   2.63274769,   4.27613365,\n",
       "           5.24587717,   5.01313617],\n",
       "        [  0.        ,   1.83048772,   3.3809357 ,   1.51637775,\n",
       "          -6.18637661, -19.76961556],\n",
       "        [  0.        ,   0.        ,  -5.26549537, -19.65680188,\n",
       "         -36.62304916, -34.39685236]]))"
      ]
     },
     "execution_count": 56,
     "metadata": {},
     "output_type": "execute_result"
    }
   ],
   "source": [
    "lpmn(2,5,math.cos(0.5))"
   ]
  },
  {
   "cell_type": "code",
   "execution_count": null,
   "metadata": {
    "collapsed": true
   },
   "outputs": [],
   "source": []
  }
 ],
 "metadata": {
  "kernelspec": {
   "display_name": "Python 3",
   "language": "python",
   "name": "python3"
  },
  "language_info": {
   "codemirror_mode": {
    "name": "ipython",
    "version": 3
   },
   "file_extension": ".py",
   "mimetype": "text/x-python",
   "name": "python",
   "nbconvert_exporter": "python",
   "pygments_lexer": "ipython3",
   "version": "3.4.3"
  }
 },
 "nbformat": 4,
 "nbformat_minor": 0
}
